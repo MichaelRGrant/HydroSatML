{
 "cells": [
  {
   "cell_type": "markdown",
   "metadata": {},
   "source": [
    "### Checking Linear Assumptions\n",
    "\n",
    "This is an R notebook created to assess linear assumptions in our merged dataset, which is comprised of extracted NDRE data, soil properties, weather and soil moisture (the latter being our response variable).  \n",
    "\n",
    "The output of the scrip is residual error plots (Residuals vs Fitted, Residuals vs Leverage, QQ Plot, Cooks) to a local folder in the repository (for easier viewing)."
   ]
  },
  {
   "cell_type": "markdown",
   "metadata": {},
   "source": [
    " "
   ]
  },
  {
   "cell_type": "markdown",
   "metadata": {},
   "source": [
    "#### Importing Merged Dataset"
   ]
  },
  {
   "cell_type": "code",
   "execution_count": null,
   "metadata": {},
   "outputs": [],
   "source": [
    "# Set path to the main repository folder\n",
    "setwd('C:/Users/Samir Patel/desktop/Data 590 - Capstone I/HydroSatML/')"
   ]
  },
  {
   "cell_type": "code",
   "execution_count": null,
   "metadata": {},
   "outputs": [],
   "source": [
    "# Opening merged data set\n",
    "\n",
    "ndre_data <- read.csv(\"./data/final_join_subbed_bare_soil_with_lag_40_EXACT_NDRE.csv\")"
   ]
  },
  {
   "cell_type": "code",
   "execution_count": null,
   "metadata": {},
   "outputs": [],
   "source": [
    "# Retrieving list of columns in dataset\n",
    "\n",
    "col_list <- names(ndre_data)        "
   ]
  },
  {
   "cell_type": "code",
   "execution_count": null,
   "metadata": {},
   "outputs": [],
   "source": [
    "col_list"
   ]
  },
  {
   "cell_type": "markdown",
   "metadata": {},
   "source": [
    "#### Full LM model with all variables"
   ]
  },
  {
   "cell_type": "code",
   "execution_count": null,
   "metadata": {},
   "outputs": [],
   "source": [
    "model_1 <- lm(avg_soilM ~ ., data = ndre_data)"
   ]
  },
  {
   "cell_type": "markdown",
   "metadata": {},
   "source": [
    " "
   ]
  },
  {
   "cell_type": "markdown",
   "metadata": {},
   "source": [
    "#### List of various bivariate linear regression models (soil moisture vs...)"
   ]
  },
  {
   "cell_type": "code",
   "execution_count": null,
   "metadata": {},
   "outputs": [],
   "source": [
    "lm_list <- list()\n",
    "t <- 1\n",
    "\n",
    "for (i in 1:(length(col_list) - 1)){\n",
    "\n",
    "  Formula <- formula(paste(\"avg_soilM ~ \", col_list[i]))\n",
    "  lm_list[[t]] <- lm(Formula, data = ndre_data)\n",
    "  t <- t  + 1\n",
    "\n",
    "}"
   ]
  },
  {
   "cell_type": "code",
   "execution_count": null,
   "metadata": {},
   "outputs": [],
   "source": [
    "lm_list"
   ]
  },
  {
   "cell_type": "markdown",
   "metadata": {},
   "source": [
    "#### Looping through LM models and Output Graphs Locally"
   ]
  },
  {
   "cell_type": "code",
   "execution_count": null,
   "metadata": {},
   "outputs": [],
   "source": [
    "dir.create(\"R Plots\")"
   ]
  },
  {
   "cell_type": "code",
   "execution_count": null,
   "metadata": {},
   "outputs": [],
   "source": [
    "for (i in 1:length(lm_list)){\n",
    "  print(i)\n",
    "  mypath <- file.path(\"R Plots\", paste(\"myplot_\",\n",
    "                                       col_list[i], \".jpg\", sep = \"\"))\n",
    "\n",
    "  jpeg(file = mypath)\n",
    "  mytitle <- paste(\"Variable\", col_list[i])\n",
    "  par(mfrow = c(2, 2))\n",
    "\n",
    "  lm_list[[i]]\n",
    "  plot(lm_list[[i]], main = mytitle)\n",
    "  dev.off()\n",
    "\n",
    "}"
   ]
  }
 ],
 "metadata": {
  "kernelspec": {
   "display_name": "R",
   "language": "R",
   "name": "ir"
  },
  "language_info": {
   "codemirror_mode": "r",
   "file_extension": ".r",
   "mimetype": "text/x-r-source",
   "name": "R",
   "pygments_lexer": "r",
   "version": "3.4.2"
  }
 },
 "nbformat": 4,
 "nbformat_minor": 2
}
