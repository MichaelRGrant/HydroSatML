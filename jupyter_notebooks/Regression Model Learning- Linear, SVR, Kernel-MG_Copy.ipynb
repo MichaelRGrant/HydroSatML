{
 "cells": [
  {
   "cell_type": "markdown",
   "metadata": {},
   "source": [
    "This notebook tests linear regression models on the merged data set to predict soil moisture.  \n",
    "\n",
    "Ridge, Lasso, SVR (RBF/Linear Kernels) and Kernel Ridge Regression (RBF/Linear) are test."
   ]
  },
  {
   "cell_type": "code",
   "execution_count": 1,
   "metadata": {},
   "outputs": [],
   "source": [
    "import numpy as np\n",
    "%matplotlib inline  \n",
    "import matplotlib.pyplot as plt  \n",
    "import pandas as pd\n",
    "import sklearn.linear_model\n",
    "import sklearn.preprocessing"
   ]
  },
  {
   "cell_type": "code",
   "execution_count": 2,
   "metadata": {},
   "outputs": [],
   "source": [
    "from sklearn.model_selection import train_test_split\n",
    "from sklearn.metrics import mean_absolute_error\n",
    "import time"
   ]
  },
  {
   "cell_type": "code",
   "execution_count": 3,
   "metadata": {},
   "outputs": [],
   "source": [
    "# Tell the notebook to display all of the results.\n",
    "from IPython.core.interactiveshell import InteractiveShell\n",
    "InteractiveShell.ast_node_interactivity = \"all\""
   ]
  },
  {
   "cell_type": "markdown",
   "metadata": {},
   "source": [
    "Data Import"
   ]
  },
  {
   "cell_type": "code",
   "execution_count": 4,
   "metadata": {},
   "outputs": [],
   "source": [
    "# ndre_data = pd.read_csv('../data/final_join_subbed_missing_soilM.csv')\n",
    "# ndre_data_sub = pd.read_csv('../data/final_join_subbed_bare_soil_40.csv')\n",
    "# ndre_data_lag_40 = pd.read_csv('../data/final_join_subbed_bare_soil_with_lag_40.csv')\n",
    "ndre_data_lag_40_EXACT = pd.read_csv('../data/final_join_subbed_bare_soil_with_lag_40_EXACT_NDRE.csv')"
   ]
  },
  {
   "cell_type": "code",
   "execution_count": 8,
   "metadata": {},
   "outputs": [],
   "source": [
    "# ndre_data.columns"
   ]
  },
  {
   "cell_type": "code",
   "execution_count": 6,
   "metadata": {},
   "outputs": [
    {
     "data": {
      "text/plain": [
       "Index(['ndre_val', 'sensor', 'field', 'date', 'data', 'sensor_full_name',\n",
       "       'depth_1', 'depth_2', 'depth_3', 'year', 'precip.cm', 'tair.C',\n",
       "       'rh.pct', 'wind_sp.m_per_s', 'irradiance.w_per_m.2', 'sand_1', 'sand_2',\n",
       "       'sand_3', 'silt_1', 'silt_2', 'silt_3', 'clay_1', 'clay_2', 'clay_3',\n",
       "       'l3_depth_1', 'l3_depth_2', 'l3_depth_3', 'l5_depth_1', 'l5_depth_2',\n",
       "       'l5_depth_3', 'l7_depth_1', 'l7_depth_2', 'l7_depth_3', 'avg_soilM',\n",
       "       'avg_soilM_l3', 'avg_soilM_l5', 'avg_soilM_l7', 'avg_clay', 'avg_sand',\n",
       "       'avg_silt'],\n",
       "      dtype='object')"
      ]
     },
     "execution_count": 6,
     "metadata": {},
     "output_type": "execute_result"
    }
   ],
   "source": [
    "ndre_data_lag_40_EXACT.columns"
   ]
  },
  {
   "cell_type": "code",
   "execution_count": 7,
   "metadata": {},
   "outputs": [],
   "source": [
    "# keep_cols = ['avg_soilM', 'average_adjacent', 'precip.cm', 'tair.C', 'rh.pct', 'wind_sp.m_per_s', \n",
    "#              'irradiance.w_per_m.2', 'sand_1', 'sand_2', 'sand_3', 'silt_1', 'silt_2', 'silt_3', 'clay_1', \n",
    "#              'clay_2', 'clay_3']\n",
    "keep_cols = ['avg_soilM', 'ndre_val', 'precip.cm', 'tair.C', 'rh.pct', 'wind_sp.m_per_s', \n",
    "             'irradiance.w_per_m.2', 'avg_clay', 'avg_sand', 'avg_silt']"
   ]
  },
  {
   "cell_type": "code",
   "execution_count": 9,
   "metadata": {},
   "outputs": [],
   "source": [
    "dataset = ndre_data_lag_40_EXACT[keep_cols]"
   ]
  },
  {
   "cell_type": "code",
   "execution_count": 10,
   "metadata": {},
   "outputs": [
    {
     "data": {
      "text/plain": [
       "Index(['avg_soilM', 'ndre_val', 'precip.cm', 'tair.C', 'rh.pct',\n",
       "       'wind_sp.m_per_s', 'irradiance.w_per_m.2', 'avg_clay', 'avg_sand',\n",
       "       'avg_silt'],\n",
       "      dtype='object')"
      ]
     },
     "execution_count": 10,
     "metadata": {},
     "output_type": "execute_result"
    }
   ],
   "source": [
    "dataset.columns"
   ]
  },
  {
   "cell_type": "code",
   "execution_count": 11,
   "metadata": {},
   "outputs": [],
   "source": [
    "X = dataset.iloc[:,1:]\n",
    "X = X.values\n",
    "\n",
    "y = dataset.iloc[:,0]\n",
    "y = y.values"
   ]
  },
  {
   "cell_type": "code",
   "execution_count": 149,
   "metadata": {},
   "outputs": [],
   "source": [
    "# split data into train and test sets\n",
    "seed = 7\n",
    "test_size = 0.20\n",
    "X_train, X_test, y_train, y_test = train_test_split(X, y, test_size=test_size, random_state=seed)"
   ]
  },
  {
   "cell_type": "markdown",
   "metadata": {},
   "source": [
    "Normalization"
   ]
  },
  {
   "cell_type": "code",
   "execution_count": 150,
   "metadata": {},
   "outputs": [],
   "source": [
    "mean_X = X_train.mean(axis=0)\n",
    "std_X = X_train.std(axis=0)\n",
    "\n",
    "X_train = (X_train - mean_X) / std_X\n",
    "X_test = (X_test - mean_X) / std_X\n",
    "\n",
    "X_train = X_train.astype('float32')\n",
    "X_test = X_test.astype('float32')\n",
    "\n",
    "mean_y = y_train.mean(axis=0)\n",
    "std_y = y_train.std(axis=0)\n",
    "\n",
    "y_train = (y_train - mean_y) / std_y\n",
    "y_test = (y_test - mean_y) / std_y\n",
    "\n",
    "y_train = y_train.astype('float32')\n",
    "y_test = y_test.astype('float32')"
   ]
  },
  {
   "cell_type": "code",
   "execution_count": 151,
   "metadata": {},
   "outputs": [
    {
     "name": "stdout",
     "output_type": "stream",
     "text": [
      "(299, 7)\n",
      "(75, 7)\n",
      "\n",
      "(299,)\n",
      "(75,)\n"
     ]
    }
   ],
   "source": [
    "print(X_train.shape)\n",
    "print(X_test.shape)\n",
    "print('')\n",
    "print(y_train.shape)\n",
    "print(y_test.shape)"
   ]
  },
  {
   "cell_type": "markdown",
   "metadata": {},
   "source": [
    "Ridge model"
   ]
  },
  {
   "cell_type": "code",
   "execution_count": 28,
   "metadata": {},
   "outputs": [
    {
     "data": {
      "text/plain": [
       "RidgeCV(alphas=(0.0001, 0.001, 0.01, 0.1, 1.0, 10.0, 100.0, 1000.0), cv=3,\n",
       "    fit_intercept=False, gcv_mode=None, normalize=False, scoring=None,\n",
       "    store_cv_values=False)"
      ]
     },
     "execution_count": 28,
     "metadata": {},
     "output_type": "execute_result"
    },
    {
     "data": {
      "text/plain": [
       "10.0"
      ]
     },
     "execution_count": 28,
     "metadata": {},
     "output_type": "execute_result"
    },
    {
     "data": {
      "text/plain": [
       "array([-0.25743039, -0.05579542, -0.20618273,  0.28996193,  0.16795333,\n",
       "        0.01071864, -0.05943961,  0.13982845, -0.01182083])"
      ]
     },
     "execution_count": 28,
     "metadata": {},
     "output_type": "execute_result"
    }
   ],
   "source": [
    "from sklearn.linear_model import RidgeCV\n",
    "\n",
    "rcv = RidgeCV(alphas=(0.0001, 0.001, 0.01,0.1, 1.0, 10.0, 100.0, 1000.0), \n",
    "              fit_intercept = False, cv=3)\n",
    "rcv.fit(X_train, y_train)\n",
    "beta_star = rcv.coef_\n",
    "rcv.alpha_\n",
    "beta_star"
   ]
  },
  {
   "cell_type": "code",
   "execution_count": 27,
   "metadata": {},
   "outputs": [],
   "source": [
    "from sklearn import metrics"
   ]
  },
  {
   "cell_type": "code",
   "execution_count": 23,
   "metadata": {},
   "outputs": [],
   "source": [
    "y_pred_rcv = rcv.predict(X_test)"
   ]
  },
  {
   "cell_type": "markdown",
   "metadata": {},
   "source": [
    "MAE Ridge"
   ]
  },
  {
   "cell_type": "code",
   "execution_count": 24,
   "metadata": {},
   "outputs": [],
   "source": [
    "y_pred_inv = (y_pred_rcv * std_y) + mean_y\n",
    "y_test_inv = (y_test * std_y) + mean_y"
   ]
  },
  {
   "cell_type": "code",
   "execution_count": 25,
   "metadata": {
    "scrolled": true
   },
   "outputs": [
    {
     "data": {
      "text/plain": [
       "0.03458532650672973"
      ]
     },
     "execution_count": 25,
     "metadata": {},
     "output_type": "execute_result"
    }
   ],
   "source": [
    "mean_absolute_error(y_pred=y_pred_inv, y_true=y_test_inv)"
   ]
  },
  {
   "cell_type": "code",
   "execution_count": 54,
   "metadata": {
    "scrolled": true
   },
   "outputs": [
    {
     "data": {
      "text/plain": [
       "RidgeCV(alphas=(0.0001, 0.001, 0.01, 0.1, 1.0, 10.0, 100.0, 1000.0), cv=3,\n",
       "    fit_intercept=False, gcv_mode=None, normalize=False, scoring=None,\n",
       "    store_cv_values=False)"
      ]
     },
     "execution_count": 54,
     "metadata": {},
     "output_type": "execute_result"
    },
    {
     "name": "stdout",
     "output_type": "stream",
     "text": [
      "Best Param 10.0\n"
     ]
    },
    {
     "data": {
      "text/plain": [
       "RidgeCV(alphas=(0.0001, 0.001, 0.01, 0.1, 1.0, 10.0, 100.0, 1000.0), cv=3,\n",
       "    fit_intercept=False, gcv_mode=None, normalize=False, scoring=None,\n",
       "    store_cv_values=False)"
      ]
     },
     "execution_count": 54,
     "metadata": {},
     "output_type": "execute_result"
    },
    {
     "name": "stdout",
     "output_type": "stream",
     "text": [
      "Best Param 10.0\n"
     ]
    },
    {
     "data": {
      "text/plain": [
       "RidgeCV(alphas=(0.0001, 0.001, 0.01, 0.1, 1.0, 10.0, 100.0, 1000.0), cv=3,\n",
       "    fit_intercept=False, gcv_mode=None, normalize=False, scoring=None,\n",
       "    store_cv_values=False)"
      ]
     },
     "execution_count": 54,
     "metadata": {},
     "output_type": "execute_result"
    },
    {
     "name": "stdout",
     "output_type": "stream",
     "text": [
      "Best Param 10.0\n"
     ]
    },
    {
     "data": {
      "text/plain": [
       "RidgeCV(alphas=(0.0001, 0.001, 0.01, 0.1, 1.0, 10.0, 100.0, 1000.0), cv=3,\n",
       "    fit_intercept=False, gcv_mode=None, normalize=False, scoring=None,\n",
       "    store_cv_values=False)"
      ]
     },
     "execution_count": 54,
     "metadata": {},
     "output_type": "execute_result"
    },
    {
     "name": "stdout",
     "output_type": "stream",
     "text": [
      "Best Param 10.0\n"
     ]
    },
    {
     "data": {
      "text/plain": [
       "RidgeCV(alphas=(0.0001, 0.001, 0.01, 0.1, 1.0, 10.0, 100.0, 1000.0), cv=3,\n",
       "    fit_intercept=False, gcv_mode=None, normalize=False, scoring=None,\n",
       "    store_cv_values=False)"
      ]
     },
     "execution_count": 54,
     "metadata": {},
     "output_type": "execute_result"
    },
    {
     "name": "stdout",
     "output_type": "stream",
     "text": [
      "Best Param 10.0\n"
     ]
    },
    {
     "data": {
      "text/plain": [
       "RidgeCV(alphas=(0.0001, 0.001, 0.01, 0.1, 1.0, 10.0, 100.0, 1000.0), cv=3,\n",
       "    fit_intercept=False, gcv_mode=None, normalize=False, scoring=None,\n",
       "    store_cv_values=False)"
      ]
     },
     "execution_count": 54,
     "metadata": {},
     "output_type": "execute_result"
    },
    {
     "name": "stdout",
     "output_type": "stream",
     "text": [
      "Best Param 10.0\n"
     ]
    },
    {
     "data": {
      "text/plain": [
       "RidgeCV(alphas=(0.0001, 0.001, 0.01, 0.1, 1.0, 10.0, 100.0, 1000.0), cv=3,\n",
       "    fit_intercept=False, gcv_mode=None, normalize=False, scoring=None,\n",
       "    store_cv_values=False)"
      ]
     },
     "execution_count": 54,
     "metadata": {},
     "output_type": "execute_result"
    },
    {
     "name": "stdout",
     "output_type": "stream",
     "text": [
      "Best Param 10.0\n"
     ]
    },
    {
     "data": {
      "text/plain": [
       "RidgeCV(alphas=(0.0001, 0.001, 0.01, 0.1, 1.0, 10.0, 100.0, 1000.0), cv=3,\n",
       "    fit_intercept=False, gcv_mode=None, normalize=False, scoring=None,\n",
       "    store_cv_values=False)"
      ]
     },
     "execution_count": 54,
     "metadata": {},
     "output_type": "execute_result"
    },
    {
     "name": "stdout",
     "output_type": "stream",
     "text": [
      "Best Param 10.0\n"
     ]
    },
    {
     "data": {
      "text/plain": [
       "RidgeCV(alphas=(0.0001, 0.001, 0.01, 0.1, 1.0, 10.0, 100.0, 1000.0), cv=3,\n",
       "    fit_intercept=False, gcv_mode=None, normalize=False, scoring=None,\n",
       "    store_cv_values=False)"
      ]
     },
     "execution_count": 54,
     "metadata": {},
     "output_type": "execute_result"
    },
    {
     "name": "stdout",
     "output_type": "stream",
     "text": [
      "Best Param 10.0\n"
     ]
    },
    {
     "data": {
      "text/plain": [
       "RidgeCV(alphas=(0.0001, 0.001, 0.01, 0.1, 1.0, 10.0, 100.0, 1000.0), cv=3,\n",
       "    fit_intercept=False, gcv_mode=None, normalize=False, scoring=None,\n",
       "    store_cv_values=False)"
      ]
     },
     "execution_count": 54,
     "metadata": {},
     "output_type": "execute_result"
    },
    {
     "name": "stdout",
     "output_type": "stream",
     "text": [
      "Best Param 10.0\n"
     ]
    },
    {
     "data": {
      "text/plain": [
       "RidgeCV(alphas=(0.0001, 0.001, 0.01, 0.1, 1.0, 10.0, 100.0, 1000.0), cv=3,\n",
       "    fit_intercept=False, gcv_mode=None, normalize=False, scoring=None,\n",
       "    store_cv_values=False)"
      ]
     },
     "execution_count": 54,
     "metadata": {},
     "output_type": "execute_result"
    },
    {
     "name": "stdout",
     "output_type": "stream",
     "text": [
      "Best Param 10.0\n"
     ]
    },
    {
     "data": {
      "text/plain": [
       "RidgeCV(alphas=(0.0001, 0.001, 0.01, 0.1, 1.0, 10.0, 100.0, 1000.0), cv=3,\n",
       "    fit_intercept=False, gcv_mode=None, normalize=False, scoring=None,\n",
       "    store_cv_values=False)"
      ]
     },
     "execution_count": 54,
     "metadata": {},
     "output_type": "execute_result"
    },
    {
     "name": "stdout",
     "output_type": "stream",
     "text": [
      "Best Param 10.0\n"
     ]
    },
    {
     "data": {
      "text/plain": [
       "RidgeCV(alphas=(0.0001, 0.001, 0.01, 0.1, 1.0, 10.0, 100.0, 1000.0), cv=3,\n",
       "    fit_intercept=False, gcv_mode=None, normalize=False, scoring=None,\n",
       "    store_cv_values=False)"
      ]
     },
     "execution_count": 54,
     "metadata": {},
     "output_type": "execute_result"
    },
    {
     "name": "stdout",
     "output_type": "stream",
     "text": [
      "Best Param 10.0\n"
     ]
    },
    {
     "data": {
      "text/plain": [
       "RidgeCV(alphas=(0.0001, 0.001, 0.01, 0.1, 1.0, 10.0, 100.0, 1000.0), cv=3,\n",
       "    fit_intercept=False, gcv_mode=None, normalize=False, scoring=None,\n",
       "    store_cv_values=False)"
      ]
     },
     "execution_count": 54,
     "metadata": {},
     "output_type": "execute_result"
    },
    {
     "name": "stdout",
     "output_type": "stream",
     "text": [
      "Best Param 10.0\n"
     ]
    },
    {
     "data": {
      "text/plain": [
       "RidgeCV(alphas=(0.0001, 0.001, 0.01, 0.1, 1.0, 10.0, 100.0, 1000.0), cv=3,\n",
       "    fit_intercept=False, gcv_mode=None, normalize=False, scoring=None,\n",
       "    store_cv_values=False)"
      ]
     },
     "execution_count": 54,
     "metadata": {},
     "output_type": "execute_result"
    },
    {
     "name": "stdout",
     "output_type": "stream",
     "text": [
      "Best Param 100.0\n"
     ]
    },
    {
     "data": {
      "text/plain": [
       "RidgeCV(alphas=(0.0001, 0.001, 0.01, 0.1, 1.0, 10.0, 100.0, 1000.0), cv=3,\n",
       "    fit_intercept=False, gcv_mode=None, normalize=False, scoring=None,\n",
       "    store_cv_values=False)"
      ]
     },
     "execution_count": 54,
     "metadata": {},
     "output_type": "execute_result"
    },
    {
     "name": "stdout",
     "output_type": "stream",
     "text": [
      "Best Param 10.0\n"
     ]
    },
    {
     "data": {
      "text/plain": [
       "RidgeCV(alphas=(0.0001, 0.001, 0.01, 0.1, 1.0, 10.0, 100.0, 1000.0), cv=3,\n",
       "    fit_intercept=False, gcv_mode=None, normalize=False, scoring=None,\n",
       "    store_cv_values=False)"
      ]
     },
     "execution_count": 54,
     "metadata": {},
     "output_type": "execute_result"
    },
    {
     "name": "stdout",
     "output_type": "stream",
     "text": [
      "Best Param 10.0\n"
     ]
    },
    {
     "data": {
      "text/plain": [
       "RidgeCV(alphas=(0.0001, 0.001, 0.01, 0.1, 1.0, 10.0, 100.0, 1000.0), cv=3,\n",
       "    fit_intercept=False, gcv_mode=None, normalize=False, scoring=None,\n",
       "    store_cv_values=False)"
      ]
     },
     "execution_count": 54,
     "metadata": {},
     "output_type": "execute_result"
    },
    {
     "name": "stdout",
     "output_type": "stream",
     "text": [
      "Best Param 10.0\n"
     ]
    },
    {
     "data": {
      "text/plain": [
       "RidgeCV(alphas=(0.0001, 0.001, 0.01, 0.1, 1.0, 10.0, 100.0, 1000.0), cv=3,\n",
       "    fit_intercept=False, gcv_mode=None, normalize=False, scoring=None,\n",
       "    store_cv_values=False)"
      ]
     },
     "execution_count": 54,
     "metadata": {},
     "output_type": "execute_result"
    },
    {
     "name": "stdout",
     "output_type": "stream",
     "text": [
      "Best Param 10.0\n"
     ]
    },
    {
     "data": {
      "text/plain": [
       "RidgeCV(alphas=(0.0001, 0.001, 0.01, 0.1, 1.0, 10.0, 100.0, 1000.0), cv=3,\n",
       "    fit_intercept=False, gcv_mode=None, normalize=False, scoring=None,\n",
       "    store_cv_values=False)"
      ]
     },
     "execution_count": 54,
     "metadata": {},
     "output_type": "execute_result"
    },
    {
     "name": "stdout",
     "output_type": "stream",
     "text": [
      "Best Param 1.0\n"
     ]
    },
    {
     "data": {
      "text/plain": [
       "RidgeCV(alphas=(0.0001, 0.001, 0.01, 0.1, 1.0, 10.0, 100.0, 1000.0), cv=3,\n",
       "    fit_intercept=False, gcv_mode=None, normalize=False, scoring=None,\n",
       "    store_cv_values=False)"
      ]
     },
     "execution_count": 54,
     "metadata": {},
     "output_type": "execute_result"
    },
    {
     "name": "stdout",
     "output_type": "stream",
     "text": [
      "Best Param 10.0\n"
     ]
    },
    {
     "data": {
      "text/plain": [
       "RidgeCV(alphas=(0.0001, 0.001, 0.01, 0.1, 1.0, 10.0, 100.0, 1000.0), cv=3,\n",
       "    fit_intercept=False, gcv_mode=None, normalize=False, scoring=None,\n",
       "    store_cv_values=False)"
      ]
     },
     "execution_count": 54,
     "metadata": {},
     "output_type": "execute_result"
    },
    {
     "name": "stdout",
     "output_type": "stream",
     "text": [
      "Best Param 10.0\n"
     ]
    },
    {
     "data": {
      "text/plain": [
       "RidgeCV(alphas=(0.0001, 0.001, 0.01, 0.1, 1.0, 10.0, 100.0, 1000.0), cv=3,\n",
       "    fit_intercept=False, gcv_mode=None, normalize=False, scoring=None,\n",
       "    store_cv_values=False)"
      ]
     },
     "execution_count": 54,
     "metadata": {},
     "output_type": "execute_result"
    },
    {
     "name": "stdout",
     "output_type": "stream",
     "text": [
      "Best Param 10.0\n"
     ]
    },
    {
     "data": {
      "text/plain": [
       "RidgeCV(alphas=(0.0001, 0.001, 0.01, 0.1, 1.0, 10.0, 100.0, 1000.0), cv=3,\n",
       "    fit_intercept=False, gcv_mode=None, normalize=False, scoring=None,\n",
       "    store_cv_values=False)"
      ]
     },
     "execution_count": 54,
     "metadata": {},
     "output_type": "execute_result"
    },
    {
     "name": "stdout",
     "output_type": "stream",
     "text": [
      "Best Param 1.0\n"
     ]
    },
    {
     "data": {
      "text/plain": [
       "RidgeCV(alphas=(0.0001, 0.001, 0.01, 0.1, 1.0, 10.0, 100.0, 1000.0), cv=3,\n",
       "    fit_intercept=False, gcv_mode=None, normalize=False, scoring=None,\n",
       "    store_cv_values=False)"
      ]
     },
     "execution_count": 54,
     "metadata": {},
     "output_type": "execute_result"
    },
    {
     "name": "stdout",
     "output_type": "stream",
     "text": [
      "Best Param 10.0\n"
     ]
    },
    {
     "data": {
      "text/plain": [
       "RidgeCV(alphas=(0.0001, 0.001, 0.01, 0.1, 1.0, 10.0, 100.0, 1000.0), cv=3,\n",
       "    fit_intercept=False, gcv_mode=None, normalize=False, scoring=None,\n",
       "    store_cv_values=False)"
      ]
     },
     "execution_count": 54,
     "metadata": {},
     "output_type": "execute_result"
    },
    {
     "name": "stdout",
     "output_type": "stream",
     "text": [
      "Best Param 10.0\n"
     ]
    },
    {
     "data": {
      "text/plain": [
       "RidgeCV(alphas=(0.0001, 0.001, 0.01, 0.1, 1.0, 10.0, 100.0, 1000.0), cv=3,\n",
       "    fit_intercept=False, gcv_mode=None, normalize=False, scoring=None,\n",
       "    store_cv_values=False)"
      ]
     },
     "execution_count": 54,
     "metadata": {},
     "output_type": "execute_result"
    },
    {
     "name": "stdout",
     "output_type": "stream",
     "text": [
      "Best Param 10.0\n"
     ]
    },
    {
     "data": {
      "text/plain": [
       "RidgeCV(alphas=(0.0001, 0.001, 0.01, 0.1, 1.0, 10.0, 100.0, 1000.0), cv=3,\n",
       "    fit_intercept=False, gcv_mode=None, normalize=False, scoring=None,\n",
       "    store_cv_values=False)"
      ]
     },
     "execution_count": 54,
     "metadata": {},
     "output_type": "execute_result"
    },
    {
     "name": "stdout",
     "output_type": "stream",
     "text": [
      "Best Param 10.0\n"
     ]
    },
    {
     "data": {
      "text/plain": [
       "RidgeCV(alphas=(0.0001, 0.001, 0.01, 0.1, 1.0, 10.0, 100.0, 1000.0), cv=3,\n",
       "    fit_intercept=False, gcv_mode=None, normalize=False, scoring=None,\n",
       "    store_cv_values=False)"
      ]
     },
     "execution_count": 54,
     "metadata": {},
     "output_type": "execute_result"
    },
    {
     "name": "stdout",
     "output_type": "stream",
     "text": [
      "Best Param 10.0\n"
     ]
    },
    {
     "data": {
      "text/plain": [
       "RidgeCV(alphas=(0.0001, 0.001, 0.01, 0.1, 1.0, 10.0, 100.0, 1000.0), cv=3,\n",
       "    fit_intercept=False, gcv_mode=None, normalize=False, scoring=None,\n",
       "    store_cv_values=False)"
      ]
     },
     "execution_count": 54,
     "metadata": {},
     "output_type": "execute_result"
    },
    {
     "name": "stdout",
     "output_type": "stream",
     "text": [
      "Best Param 10.0\n"
     ]
    },
    {
     "data": {
      "text/plain": [
       "RidgeCV(alphas=(0.0001, 0.001, 0.01, 0.1, 1.0, 10.0, 100.0, 1000.0), cv=3,\n",
       "    fit_intercept=False, gcv_mode=None, normalize=False, scoring=None,\n",
       "    store_cv_values=False)"
      ]
     },
     "execution_count": 54,
     "metadata": {},
     "output_type": "execute_result"
    },
    {
     "name": "stdout",
     "output_type": "stream",
     "text": [
      "Best Param 1.0\n"
     ]
    },
    {
     "data": {
      "text/plain": [
       "RidgeCV(alphas=(0.0001, 0.001, 0.01, 0.1, 1.0, 10.0, 100.0, 1000.0), cv=3,\n",
       "    fit_intercept=False, gcv_mode=None, normalize=False, scoring=None,\n",
       "    store_cv_values=False)"
      ]
     },
     "execution_count": 54,
     "metadata": {},
     "output_type": "execute_result"
    },
    {
     "name": "stdout",
     "output_type": "stream",
     "text": [
      "Best Param 10.0\n"
     ]
    },
    {
     "data": {
      "text/plain": [
       "RidgeCV(alphas=(0.0001, 0.001, 0.01, 0.1, 1.0, 10.0, 100.0, 1000.0), cv=3,\n",
       "    fit_intercept=False, gcv_mode=None, normalize=False, scoring=None,\n",
       "    store_cv_values=False)"
      ]
     },
     "execution_count": 54,
     "metadata": {},
     "output_type": "execute_result"
    },
    {
     "name": "stdout",
     "output_type": "stream",
     "text": [
      "Best Param 10.0\n"
     ]
    },
    {
     "data": {
      "text/plain": [
       "RidgeCV(alphas=(0.0001, 0.001, 0.01, 0.1, 1.0, 10.0, 100.0, 1000.0), cv=3,\n",
       "    fit_intercept=False, gcv_mode=None, normalize=False, scoring=None,\n",
       "    store_cv_values=False)"
      ]
     },
     "execution_count": 54,
     "metadata": {},
     "output_type": "execute_result"
    },
    {
     "name": "stdout",
     "output_type": "stream",
     "text": [
      "Best Param 10.0\n"
     ]
    },
    {
     "data": {
      "text/plain": [
       "RidgeCV(alphas=(0.0001, 0.001, 0.01, 0.1, 1.0, 10.0, 100.0, 1000.0), cv=3,\n",
       "    fit_intercept=False, gcv_mode=None, normalize=False, scoring=None,\n",
       "    store_cv_values=False)"
      ]
     },
     "execution_count": 54,
     "metadata": {},
     "output_type": "execute_result"
    },
    {
     "name": "stdout",
     "output_type": "stream",
     "text": [
      "Best Param 10.0\n"
     ]
    },
    {
     "data": {
      "text/plain": [
       "RidgeCV(alphas=(0.0001, 0.001, 0.01, 0.1, 1.0, 10.0, 100.0, 1000.0), cv=3,\n",
       "    fit_intercept=False, gcv_mode=None, normalize=False, scoring=None,\n",
       "    store_cv_values=False)"
      ]
     },
     "execution_count": 54,
     "metadata": {},
     "output_type": "execute_result"
    },
    {
     "name": "stdout",
     "output_type": "stream",
     "text": [
      "Best Param 10.0\n"
     ]
    },
    {
     "data": {
      "text/plain": [
       "RidgeCV(alphas=(0.0001, 0.001, 0.01, 0.1, 1.0, 10.0, 100.0, 1000.0), cv=3,\n",
       "    fit_intercept=False, gcv_mode=None, normalize=False, scoring=None,\n",
       "    store_cv_values=False)"
      ]
     },
     "execution_count": 54,
     "metadata": {},
     "output_type": "execute_result"
    },
    {
     "name": "stdout",
     "output_type": "stream",
     "text": [
      "Best Param 10.0\n"
     ]
    },
    {
     "data": {
      "text/plain": [
       "RidgeCV(alphas=(0.0001, 0.001, 0.01, 0.1, 1.0, 10.0, 100.0, 1000.0), cv=3,\n",
       "    fit_intercept=False, gcv_mode=None, normalize=False, scoring=None,\n",
       "    store_cv_values=False)"
      ]
     },
     "execution_count": 54,
     "metadata": {},
     "output_type": "execute_result"
    },
    {
     "name": "stdout",
     "output_type": "stream",
     "text": [
      "Best Param 10.0\n"
     ]
    },
    {
     "data": {
      "text/plain": [
       "RidgeCV(alphas=(0.0001, 0.001, 0.01, 0.1, 1.0, 10.0, 100.0, 1000.0), cv=3,\n",
       "    fit_intercept=False, gcv_mode=None, normalize=False, scoring=None,\n",
       "    store_cv_values=False)"
      ]
     },
     "execution_count": 54,
     "metadata": {},
     "output_type": "execute_result"
    },
    {
     "name": "stdout",
     "output_type": "stream",
     "text": [
      "Best Param 10.0\n"
     ]
    },
    {
     "data": {
      "text/plain": [
       "RidgeCV(alphas=(0.0001, 0.001, 0.01, 0.1, 1.0, 10.0, 100.0, 1000.0), cv=3,\n",
       "    fit_intercept=False, gcv_mode=None, normalize=False, scoring=None,\n",
       "    store_cv_values=False)"
      ]
     },
     "execution_count": 54,
     "metadata": {},
     "output_type": "execute_result"
    },
    {
     "name": "stdout",
     "output_type": "stream",
     "text": [
      "Best Param 10.0\n"
     ]
    },
    {
     "data": {
      "text/plain": [
       "RidgeCV(alphas=(0.0001, 0.001, 0.01, 0.1, 1.0, 10.0, 100.0, 1000.0), cv=3,\n",
       "    fit_intercept=False, gcv_mode=None, normalize=False, scoring=None,\n",
       "    store_cv_values=False)"
      ]
     },
     "execution_count": 54,
     "metadata": {},
     "output_type": "execute_result"
    },
    {
     "name": "stdout",
     "output_type": "stream",
     "text": [
      "Best Param 10.0\n"
     ]
    },
    {
     "data": {
      "text/plain": [
       "RidgeCV(alphas=(0.0001, 0.001, 0.01, 0.1, 1.0, 10.0, 100.0, 1000.0), cv=3,\n",
       "    fit_intercept=False, gcv_mode=None, normalize=False, scoring=None,\n",
       "    store_cv_values=False)"
      ]
     },
     "execution_count": 54,
     "metadata": {},
     "output_type": "execute_result"
    },
    {
     "name": "stdout",
     "output_type": "stream",
     "text": [
      "Best Param 10.0\n"
     ]
    },
    {
     "data": {
      "text/plain": [
       "RidgeCV(alphas=(0.0001, 0.001, 0.01, 0.1, 1.0, 10.0, 100.0, 1000.0), cv=3,\n",
       "    fit_intercept=False, gcv_mode=None, normalize=False, scoring=None,\n",
       "    store_cv_values=False)"
      ]
     },
     "execution_count": 54,
     "metadata": {},
     "output_type": "execute_result"
    },
    {
     "name": "stdout",
     "output_type": "stream",
     "text": [
      "Best Param 10.0\n"
     ]
    },
    {
     "data": {
      "text/plain": [
       "RidgeCV(alphas=(0.0001, 0.001, 0.01, 0.1, 1.0, 10.0, 100.0, 1000.0), cv=3,\n",
       "    fit_intercept=False, gcv_mode=None, normalize=False, scoring=None,\n",
       "    store_cv_values=False)"
      ]
     },
     "execution_count": 54,
     "metadata": {},
     "output_type": "execute_result"
    },
    {
     "name": "stdout",
     "output_type": "stream",
     "text": [
      "Best Param 10.0\n"
     ]
    },
    {
     "data": {
      "text/plain": [
       "RidgeCV(alphas=(0.0001, 0.001, 0.01, 0.1, 1.0, 10.0, 100.0, 1000.0), cv=3,\n",
       "    fit_intercept=False, gcv_mode=None, normalize=False, scoring=None,\n",
       "    store_cv_values=False)"
      ]
     },
     "execution_count": 54,
     "metadata": {},
     "output_type": "execute_result"
    },
    {
     "name": "stdout",
     "output_type": "stream",
     "text": [
      "Best Param 10.0\n"
     ]
    },
    {
     "data": {
      "text/plain": [
       "RidgeCV(alphas=(0.0001, 0.001, 0.01, 0.1, 1.0, 10.0, 100.0, 1000.0), cv=3,\n",
       "    fit_intercept=False, gcv_mode=None, normalize=False, scoring=None,\n",
       "    store_cv_values=False)"
      ]
     },
     "execution_count": 54,
     "metadata": {},
     "output_type": "execute_result"
    },
    {
     "name": "stdout",
     "output_type": "stream",
     "text": [
      "Best Param 10.0\n"
     ]
    },
    {
     "data": {
      "text/plain": [
       "RidgeCV(alphas=(0.0001, 0.001, 0.01, 0.1, 1.0, 10.0, 100.0, 1000.0), cv=3,\n",
       "    fit_intercept=False, gcv_mode=None, normalize=False, scoring=None,\n",
       "    store_cv_values=False)"
      ]
     },
     "execution_count": 54,
     "metadata": {},
     "output_type": "execute_result"
    },
    {
     "name": "stdout",
     "output_type": "stream",
     "text": [
      "Best Param 10.0\n"
     ]
    },
    {
     "data": {
      "text/plain": [
       "RidgeCV(alphas=(0.0001, 0.001, 0.01, 0.1, 1.0, 10.0, 100.0, 1000.0), cv=3,\n",
       "    fit_intercept=False, gcv_mode=None, normalize=False, scoring=None,\n",
       "    store_cv_values=False)"
      ]
     },
     "execution_count": 54,
     "metadata": {},
     "output_type": "execute_result"
    },
    {
     "name": "stdout",
     "output_type": "stream",
     "text": [
      "Best Param 10.0\n"
     ]
    },
    {
     "data": {
      "text/plain": [
       "RidgeCV(alphas=(0.0001, 0.001, 0.01, 0.1, 1.0, 10.0, 100.0, 1000.0), cv=3,\n",
       "    fit_intercept=False, gcv_mode=None, normalize=False, scoring=None,\n",
       "    store_cv_values=False)"
      ]
     },
     "execution_count": 54,
     "metadata": {},
     "output_type": "execute_result"
    },
    {
     "name": "stdout",
     "output_type": "stream",
     "text": [
      "Best Param 10.0\n"
     ]
    },
    {
     "data": {
      "text/plain": [
       "RidgeCV(alphas=(0.0001, 0.001, 0.01, 0.1, 1.0, 10.0, 100.0, 1000.0), cv=3,\n",
       "    fit_intercept=False, gcv_mode=None, normalize=False, scoring=None,\n",
       "    store_cv_values=False)"
      ]
     },
     "execution_count": 54,
     "metadata": {},
     "output_type": "execute_result"
    },
    {
     "name": "stdout",
     "output_type": "stream",
     "text": [
      "Best Param 10.0\n"
     ]
    },
    {
     "data": {
      "text/plain": [
       "RidgeCV(alphas=(0.0001, 0.001, 0.01, 0.1, 1.0, 10.0, 100.0, 1000.0), cv=3,\n",
       "    fit_intercept=False, gcv_mode=None, normalize=False, scoring=None,\n",
       "    store_cv_values=False)"
      ]
     },
     "execution_count": 54,
     "metadata": {},
     "output_type": "execute_result"
    },
    {
     "name": "stdout",
     "output_type": "stream",
     "text": [
      "Best Param 10.0\n"
     ]
    },
    {
     "data": {
      "text/plain": [
       "RidgeCV(alphas=(0.0001, 0.001, 0.01, 0.1, 1.0, 10.0, 100.0, 1000.0), cv=3,\n",
       "    fit_intercept=False, gcv_mode=None, normalize=False, scoring=None,\n",
       "    store_cv_values=False)"
      ]
     },
     "execution_count": 54,
     "metadata": {},
     "output_type": "execute_result"
    },
    {
     "name": "stdout",
     "output_type": "stream",
     "text": [
      "Best Param 10.0\n"
     ]
    },
    {
     "data": {
      "text/plain": [
       "RidgeCV(alphas=(0.0001, 0.001, 0.01, 0.1, 1.0, 10.0, 100.0, 1000.0), cv=3,\n",
       "    fit_intercept=False, gcv_mode=None, normalize=False, scoring=None,\n",
       "    store_cv_values=False)"
      ]
     },
     "execution_count": 54,
     "metadata": {},
     "output_type": "execute_result"
    },
    {
     "name": "stdout",
     "output_type": "stream",
     "text": [
      "Best Param 10.0\n"
     ]
    },
    {
     "data": {
      "text/plain": [
       "RidgeCV(alphas=(0.0001, 0.001, 0.01, 0.1, 1.0, 10.0, 100.0, 1000.0), cv=3,\n",
       "    fit_intercept=False, gcv_mode=None, normalize=False, scoring=None,\n",
       "    store_cv_values=False)"
      ]
     },
     "execution_count": 54,
     "metadata": {},
     "output_type": "execute_result"
    },
    {
     "name": "stdout",
     "output_type": "stream",
     "text": [
      "Best Param 10.0\n"
     ]
    },
    {
     "data": {
      "text/plain": [
       "RidgeCV(alphas=(0.0001, 0.001, 0.01, 0.1, 1.0, 10.0, 100.0, 1000.0), cv=3,\n",
       "    fit_intercept=False, gcv_mode=None, normalize=False, scoring=None,\n",
       "    store_cv_values=False)"
      ]
     },
     "execution_count": 54,
     "metadata": {},
     "output_type": "execute_result"
    },
    {
     "name": "stdout",
     "output_type": "stream",
     "text": [
      "Best Param 10.0\n"
     ]
    },
    {
     "data": {
      "text/plain": [
       "RidgeCV(alphas=(0.0001, 0.001, 0.01, 0.1, 1.0, 10.0, 100.0, 1000.0), cv=3,\n",
       "    fit_intercept=False, gcv_mode=None, normalize=False, scoring=None,\n",
       "    store_cv_values=False)"
      ]
     },
     "execution_count": 54,
     "metadata": {},
     "output_type": "execute_result"
    },
    {
     "name": "stdout",
     "output_type": "stream",
     "text": [
      "Best Param 10.0\n"
     ]
    },
    {
     "data": {
      "text/plain": [
       "RidgeCV(alphas=(0.0001, 0.001, 0.01, 0.1, 1.0, 10.0, 100.0, 1000.0), cv=3,\n",
       "    fit_intercept=False, gcv_mode=None, normalize=False, scoring=None,\n",
       "    store_cv_values=False)"
      ]
     },
     "execution_count": 54,
     "metadata": {},
     "output_type": "execute_result"
    },
    {
     "name": "stdout",
     "output_type": "stream",
     "text": [
      "Best Param 10.0\n"
     ]
    },
    {
     "data": {
      "text/plain": [
       "RidgeCV(alphas=(0.0001, 0.001, 0.01, 0.1, 1.0, 10.0, 100.0, 1000.0), cv=3,\n",
       "    fit_intercept=False, gcv_mode=None, normalize=False, scoring=None,\n",
       "    store_cv_values=False)"
      ]
     },
     "execution_count": 54,
     "metadata": {},
     "output_type": "execute_result"
    },
    {
     "name": "stdout",
     "output_type": "stream",
     "text": [
      "Best Param 10.0\n"
     ]
    },
    {
     "data": {
      "text/plain": [
       "RidgeCV(alphas=(0.0001, 0.001, 0.01, 0.1, 1.0, 10.0, 100.0, 1000.0), cv=3,\n",
       "    fit_intercept=False, gcv_mode=None, normalize=False, scoring=None,\n",
       "    store_cv_values=False)"
      ]
     },
     "execution_count": 54,
     "metadata": {},
     "output_type": "execute_result"
    },
    {
     "name": "stdout",
     "output_type": "stream",
     "text": [
      "Best Param 100.0\n"
     ]
    },
    {
     "data": {
      "text/plain": [
       "RidgeCV(alphas=(0.0001, 0.001, 0.01, 0.1, 1.0, 10.0, 100.0, 1000.0), cv=3,\n",
       "    fit_intercept=False, gcv_mode=None, normalize=False, scoring=None,\n",
       "    store_cv_values=False)"
      ]
     },
     "execution_count": 54,
     "metadata": {},
     "output_type": "execute_result"
    },
    {
     "name": "stdout",
     "output_type": "stream",
     "text": [
      "Best Param 10.0\n"
     ]
    },
    {
     "data": {
      "text/plain": [
       "RidgeCV(alphas=(0.0001, 0.001, 0.01, 0.1, 1.0, 10.0, 100.0, 1000.0), cv=3,\n",
       "    fit_intercept=False, gcv_mode=None, normalize=False, scoring=None,\n",
       "    store_cv_values=False)"
      ]
     },
     "execution_count": 54,
     "metadata": {},
     "output_type": "execute_result"
    },
    {
     "name": "stdout",
     "output_type": "stream",
     "text": [
      "Best Param 0.0001\n"
     ]
    },
    {
     "data": {
      "text/plain": [
       "RidgeCV(alphas=(0.0001, 0.001, 0.01, 0.1, 1.0, 10.0, 100.0, 1000.0), cv=3,\n",
       "    fit_intercept=False, gcv_mode=None, normalize=False, scoring=None,\n",
       "    store_cv_values=False)"
      ]
     },
     "execution_count": 54,
     "metadata": {},
     "output_type": "execute_result"
    },
    {
     "name": "stdout",
     "output_type": "stream",
     "text": [
      "Best Param 10.0\n"
     ]
    },
    {
     "data": {
      "text/plain": [
       "RidgeCV(alphas=(0.0001, 0.001, 0.01, 0.1, 1.0, 10.0, 100.0, 1000.0), cv=3,\n",
       "    fit_intercept=False, gcv_mode=None, normalize=False, scoring=None,\n",
       "    store_cv_values=False)"
      ]
     },
     "execution_count": 54,
     "metadata": {},
     "output_type": "execute_result"
    },
    {
     "name": "stdout",
     "output_type": "stream",
     "text": [
      "Best Param 10.0\n"
     ]
    },
    {
     "data": {
      "text/plain": [
       "RidgeCV(alphas=(0.0001, 0.001, 0.01, 0.1, 1.0, 10.0, 100.0, 1000.0), cv=3,\n",
       "    fit_intercept=False, gcv_mode=None, normalize=False, scoring=None,\n",
       "    store_cv_values=False)"
      ]
     },
     "execution_count": 54,
     "metadata": {},
     "output_type": "execute_result"
    },
    {
     "name": "stdout",
     "output_type": "stream",
     "text": [
      "Best Param 10.0\n"
     ]
    },
    {
     "data": {
      "text/plain": [
       "RidgeCV(alphas=(0.0001, 0.001, 0.01, 0.1, 1.0, 10.0, 100.0, 1000.0), cv=3,\n",
       "    fit_intercept=False, gcv_mode=None, normalize=False, scoring=None,\n",
       "    store_cv_values=False)"
      ]
     },
     "execution_count": 54,
     "metadata": {},
     "output_type": "execute_result"
    },
    {
     "name": "stdout",
     "output_type": "stream",
     "text": [
      "Best Param 10.0\n"
     ]
    },
    {
     "data": {
      "text/plain": [
       "RidgeCV(alphas=(0.0001, 0.001, 0.01, 0.1, 1.0, 10.0, 100.0, 1000.0), cv=3,\n",
       "    fit_intercept=False, gcv_mode=None, normalize=False, scoring=None,\n",
       "    store_cv_values=False)"
      ]
     },
     "execution_count": 54,
     "metadata": {},
     "output_type": "execute_result"
    },
    {
     "name": "stdout",
     "output_type": "stream",
     "text": [
      "Best Param 10.0\n"
     ]
    },
    {
     "data": {
      "text/plain": [
       "RidgeCV(alphas=(0.0001, 0.001, 0.01, 0.1, 1.0, 10.0, 100.0, 1000.0), cv=3,\n",
       "    fit_intercept=False, gcv_mode=None, normalize=False, scoring=None,\n",
       "    store_cv_values=False)"
      ]
     },
     "execution_count": 54,
     "metadata": {},
     "output_type": "execute_result"
    },
    {
     "name": "stdout",
     "output_type": "stream",
     "text": [
      "Best Param 10.0\n"
     ]
    },
    {
     "data": {
      "text/plain": [
       "RidgeCV(alphas=(0.0001, 0.001, 0.01, 0.1, 1.0, 10.0, 100.0, 1000.0), cv=3,\n",
       "    fit_intercept=False, gcv_mode=None, normalize=False, scoring=None,\n",
       "    store_cv_values=False)"
      ]
     },
     "execution_count": 54,
     "metadata": {},
     "output_type": "execute_result"
    },
    {
     "name": "stdout",
     "output_type": "stream",
     "text": [
      "Best Param 10.0\n"
     ]
    },
    {
     "data": {
      "text/plain": [
       "RidgeCV(alphas=(0.0001, 0.001, 0.01, 0.1, 1.0, 10.0, 100.0, 1000.0), cv=3,\n",
       "    fit_intercept=False, gcv_mode=None, normalize=False, scoring=None,\n",
       "    store_cv_values=False)"
      ]
     },
     "execution_count": 54,
     "metadata": {},
     "output_type": "execute_result"
    },
    {
     "name": "stdout",
     "output_type": "stream",
     "text": [
      "Best Param 10.0\n"
     ]
    },
    {
     "data": {
      "text/plain": [
       "RidgeCV(alphas=(0.0001, 0.001, 0.01, 0.1, 1.0, 10.0, 100.0, 1000.0), cv=3,\n",
       "    fit_intercept=False, gcv_mode=None, normalize=False, scoring=None,\n",
       "    store_cv_values=False)"
      ]
     },
     "execution_count": 54,
     "metadata": {},
     "output_type": "execute_result"
    },
    {
     "name": "stdout",
     "output_type": "stream",
     "text": [
      "Best Param 10.0\n"
     ]
    },
    {
     "data": {
      "text/plain": [
       "RidgeCV(alphas=(0.0001, 0.001, 0.01, 0.1, 1.0, 10.0, 100.0, 1000.0), cv=3,\n",
       "    fit_intercept=False, gcv_mode=None, normalize=False, scoring=None,\n",
       "    store_cv_values=False)"
      ]
     },
     "execution_count": 54,
     "metadata": {},
     "output_type": "execute_result"
    },
    {
     "name": "stdout",
     "output_type": "stream",
     "text": [
      "Best Param 10.0\n"
     ]
    },
    {
     "data": {
      "text/plain": [
       "RidgeCV(alphas=(0.0001, 0.001, 0.01, 0.1, 1.0, 10.0, 100.0, 1000.0), cv=3,\n",
       "    fit_intercept=False, gcv_mode=None, normalize=False, scoring=None,\n",
       "    store_cv_values=False)"
      ]
     },
     "execution_count": 54,
     "metadata": {},
     "output_type": "execute_result"
    },
    {
     "name": "stdout",
     "output_type": "stream",
     "text": [
      "Best Param 10.0\n"
     ]
    },
    {
     "data": {
      "text/plain": [
       "RidgeCV(alphas=(0.0001, 0.001, 0.01, 0.1, 1.0, 10.0, 100.0, 1000.0), cv=3,\n",
       "    fit_intercept=False, gcv_mode=None, normalize=False, scoring=None,\n",
       "    store_cv_values=False)"
      ]
     },
     "execution_count": 54,
     "metadata": {},
     "output_type": "execute_result"
    },
    {
     "name": "stdout",
     "output_type": "stream",
     "text": [
      "Best Param 10.0\n"
     ]
    },
    {
     "data": {
      "text/plain": [
       "RidgeCV(alphas=(0.0001, 0.001, 0.01, 0.1, 1.0, 10.0, 100.0, 1000.0), cv=3,\n",
       "    fit_intercept=False, gcv_mode=None, normalize=False, scoring=None,\n",
       "    store_cv_values=False)"
      ]
     },
     "execution_count": 54,
     "metadata": {},
     "output_type": "execute_result"
    },
    {
     "name": "stdout",
     "output_type": "stream",
     "text": [
      "Best Param 100.0\n"
     ]
    },
    {
     "data": {
      "text/plain": [
       "RidgeCV(alphas=(0.0001, 0.001, 0.01, 0.1, 1.0, 10.0, 100.0, 1000.0), cv=3,\n",
       "    fit_intercept=False, gcv_mode=None, normalize=False, scoring=None,\n",
       "    store_cv_values=False)"
      ]
     },
     "execution_count": 54,
     "metadata": {},
     "output_type": "execute_result"
    },
    {
     "name": "stdout",
     "output_type": "stream",
     "text": [
      "Best Param 10.0\n"
     ]
    },
    {
     "data": {
      "text/plain": [
       "RidgeCV(alphas=(0.0001, 0.001, 0.01, 0.1, 1.0, 10.0, 100.0, 1000.0), cv=3,\n",
       "    fit_intercept=False, gcv_mode=None, normalize=False, scoring=None,\n",
       "    store_cv_values=False)"
      ]
     },
     "execution_count": 54,
     "metadata": {},
     "output_type": "execute_result"
    },
    {
     "name": "stdout",
     "output_type": "stream",
     "text": [
      "Best Param 10.0\n"
     ]
    },
    {
     "data": {
      "text/plain": [
       "RidgeCV(alphas=(0.0001, 0.001, 0.01, 0.1, 1.0, 10.0, 100.0, 1000.0), cv=3,\n",
       "    fit_intercept=False, gcv_mode=None, normalize=False, scoring=None,\n",
       "    store_cv_values=False)"
      ]
     },
     "execution_count": 54,
     "metadata": {},
     "output_type": "execute_result"
    },
    {
     "name": "stdout",
     "output_type": "stream",
     "text": [
      "Best Param 10.0\n"
     ]
    },
    {
     "data": {
      "text/plain": [
       "RidgeCV(alphas=(0.0001, 0.001, 0.01, 0.1, 1.0, 10.0, 100.0, 1000.0), cv=3,\n",
       "    fit_intercept=False, gcv_mode=None, normalize=False, scoring=None,\n",
       "    store_cv_values=False)"
      ]
     },
     "execution_count": 54,
     "metadata": {},
     "output_type": "execute_result"
    },
    {
     "name": "stdout",
     "output_type": "stream",
     "text": [
      "Best Param 10.0\n"
     ]
    },
    {
     "data": {
      "text/plain": [
       "RidgeCV(alphas=(0.0001, 0.001, 0.01, 0.1, 1.0, 10.0, 100.0, 1000.0), cv=3,\n",
       "    fit_intercept=False, gcv_mode=None, normalize=False, scoring=None,\n",
       "    store_cv_values=False)"
      ]
     },
     "execution_count": 54,
     "metadata": {},
     "output_type": "execute_result"
    },
    {
     "name": "stdout",
     "output_type": "stream",
     "text": [
      "Best Param 10.0\n"
     ]
    },
    {
     "data": {
      "text/plain": [
       "RidgeCV(alphas=(0.0001, 0.001, 0.01, 0.1, 1.0, 10.0, 100.0, 1000.0), cv=3,\n",
       "    fit_intercept=False, gcv_mode=None, normalize=False, scoring=None,\n",
       "    store_cv_values=False)"
      ]
     },
     "execution_count": 54,
     "metadata": {},
     "output_type": "execute_result"
    },
    {
     "name": "stdout",
     "output_type": "stream",
     "text": [
      "Best Param 100.0\n"
     ]
    },
    {
     "data": {
      "text/plain": [
       "RidgeCV(alphas=(0.0001, 0.001, 0.01, 0.1, 1.0, 10.0, 100.0, 1000.0), cv=3,\n",
       "    fit_intercept=False, gcv_mode=None, normalize=False, scoring=None,\n",
       "    store_cv_values=False)"
      ]
     },
     "execution_count": 54,
     "metadata": {},
     "output_type": "execute_result"
    },
    {
     "name": "stdout",
     "output_type": "stream",
     "text": [
      "Best Param 1.0\n"
     ]
    },
    {
     "data": {
      "text/plain": [
       "RidgeCV(alphas=(0.0001, 0.001, 0.01, 0.1, 1.0, 10.0, 100.0, 1000.0), cv=3,\n",
       "    fit_intercept=False, gcv_mode=None, normalize=False, scoring=None,\n",
       "    store_cv_values=False)"
      ]
     },
     "execution_count": 54,
     "metadata": {},
     "output_type": "execute_result"
    },
    {
     "name": "stdout",
     "output_type": "stream",
     "text": [
      "Best Param 10.0\n"
     ]
    },
    {
     "data": {
      "text/plain": [
       "RidgeCV(alphas=(0.0001, 0.001, 0.01, 0.1, 1.0, 10.0, 100.0, 1000.0), cv=3,\n",
       "    fit_intercept=False, gcv_mode=None, normalize=False, scoring=None,\n",
       "    store_cv_values=False)"
      ]
     },
     "execution_count": 54,
     "metadata": {},
     "output_type": "execute_result"
    },
    {
     "name": "stdout",
     "output_type": "stream",
     "text": [
      "Best Param 10.0\n"
     ]
    },
    {
     "data": {
      "text/plain": [
       "RidgeCV(alphas=(0.0001, 0.001, 0.01, 0.1, 1.0, 10.0, 100.0, 1000.0), cv=3,\n",
       "    fit_intercept=False, gcv_mode=None, normalize=False, scoring=None,\n",
       "    store_cv_values=False)"
      ]
     },
     "execution_count": 54,
     "metadata": {},
     "output_type": "execute_result"
    },
    {
     "name": "stdout",
     "output_type": "stream",
     "text": [
      "Best Param 10.0\n"
     ]
    },
    {
     "data": {
      "text/plain": [
       "RidgeCV(alphas=(0.0001, 0.001, 0.01, 0.1, 1.0, 10.0, 100.0, 1000.0), cv=3,\n",
       "    fit_intercept=False, gcv_mode=None, normalize=False, scoring=None,\n",
       "    store_cv_values=False)"
      ]
     },
     "execution_count": 54,
     "metadata": {},
     "output_type": "execute_result"
    },
    {
     "name": "stdout",
     "output_type": "stream",
     "text": [
      "Best Param 100.0\n"
     ]
    },
    {
     "data": {
      "text/plain": [
       "RidgeCV(alphas=(0.0001, 0.001, 0.01, 0.1, 1.0, 10.0, 100.0, 1000.0), cv=3,\n",
       "    fit_intercept=False, gcv_mode=None, normalize=False, scoring=None,\n",
       "    store_cv_values=False)"
      ]
     },
     "execution_count": 54,
     "metadata": {},
     "output_type": "execute_result"
    },
    {
     "name": "stdout",
     "output_type": "stream",
     "text": [
      "Best Param 10.0\n"
     ]
    },
    {
     "data": {
      "text/plain": [
       "RidgeCV(alphas=(0.0001, 0.001, 0.01, 0.1, 1.0, 10.0, 100.0, 1000.0), cv=3,\n",
       "    fit_intercept=False, gcv_mode=None, normalize=False, scoring=None,\n",
       "    store_cv_values=False)"
      ]
     },
     "execution_count": 54,
     "metadata": {},
     "output_type": "execute_result"
    },
    {
     "name": "stdout",
     "output_type": "stream",
     "text": [
      "Best Param 10.0\n"
     ]
    },
    {
     "data": {
      "text/plain": [
       "RidgeCV(alphas=(0.0001, 0.001, 0.01, 0.1, 1.0, 10.0, 100.0, 1000.0), cv=3,\n",
       "    fit_intercept=False, gcv_mode=None, normalize=False, scoring=None,\n",
       "    store_cv_values=False)"
      ]
     },
     "execution_count": 54,
     "metadata": {},
     "output_type": "execute_result"
    },
    {
     "name": "stdout",
     "output_type": "stream",
     "text": [
      "Best Param 100.0\n"
     ]
    },
    {
     "data": {
      "text/plain": [
       "RidgeCV(alphas=(0.0001, 0.001, 0.01, 0.1, 1.0, 10.0, 100.0, 1000.0), cv=3,\n",
       "    fit_intercept=False, gcv_mode=None, normalize=False, scoring=None,\n",
       "    store_cv_values=False)"
      ]
     },
     "execution_count": 54,
     "metadata": {},
     "output_type": "execute_result"
    },
    {
     "name": "stdout",
     "output_type": "stream",
     "text": [
      "Best Param 100.0\n"
     ]
    },
    {
     "data": {
      "text/plain": [
       "RidgeCV(alphas=(0.0001, 0.001, 0.01, 0.1, 1.0, 10.0, 100.0, 1000.0), cv=3,\n",
       "    fit_intercept=False, gcv_mode=None, normalize=False, scoring=None,\n",
       "    store_cv_values=False)"
      ]
     },
     "execution_count": 54,
     "metadata": {},
     "output_type": "execute_result"
    },
    {
     "name": "stdout",
     "output_type": "stream",
     "text": [
      "Best Param 10.0\n"
     ]
    },
    {
     "data": {
      "text/plain": [
       "RidgeCV(alphas=(0.0001, 0.001, 0.01, 0.1, 1.0, 10.0, 100.0, 1000.0), cv=3,\n",
       "    fit_intercept=False, gcv_mode=None, normalize=False, scoring=None,\n",
       "    store_cv_values=False)"
      ]
     },
     "execution_count": 54,
     "metadata": {},
     "output_type": "execute_result"
    },
    {
     "name": "stdout",
     "output_type": "stream",
     "text": [
      "Best Param 10.0\n"
     ]
    },
    {
     "data": {
      "text/plain": [
       "RidgeCV(alphas=(0.0001, 0.001, 0.01, 0.1, 1.0, 10.0, 100.0, 1000.0), cv=3,\n",
       "    fit_intercept=False, gcv_mode=None, normalize=False, scoring=None,\n",
       "    store_cv_values=False)"
      ]
     },
     "execution_count": 54,
     "metadata": {},
     "output_type": "execute_result"
    },
    {
     "name": "stdout",
     "output_type": "stream",
     "text": [
      "Best Param 10.0\n"
     ]
    },
    {
     "data": {
      "text/plain": [
       "RidgeCV(alphas=(0.0001, 0.001, 0.01, 0.1, 1.0, 10.0, 100.0, 1000.0), cv=3,\n",
       "    fit_intercept=False, gcv_mode=None, normalize=False, scoring=None,\n",
       "    store_cv_values=False)"
      ]
     },
     "execution_count": 54,
     "metadata": {},
     "output_type": "execute_result"
    },
    {
     "name": "stdout",
     "output_type": "stream",
     "text": [
      "Best Param 10.0\n"
     ]
    },
    {
     "data": {
      "text/plain": [
       "RidgeCV(alphas=(0.0001, 0.001, 0.01, 0.1, 1.0, 10.0, 100.0, 1000.0), cv=3,\n",
       "    fit_intercept=False, gcv_mode=None, normalize=False, scoring=None,\n",
       "    store_cv_values=False)"
      ]
     },
     "execution_count": 54,
     "metadata": {},
     "output_type": "execute_result"
    },
    {
     "name": "stdout",
     "output_type": "stream",
     "text": [
      "Best Param 10.0\n"
     ]
    },
    {
     "data": {
      "text/plain": [
       "RidgeCV(alphas=(0.0001, 0.001, 0.01, 0.1, 1.0, 10.0, 100.0, 1000.0), cv=3,\n",
       "    fit_intercept=False, gcv_mode=None, normalize=False, scoring=None,\n",
       "    store_cv_values=False)"
      ]
     },
     "execution_count": 54,
     "metadata": {},
     "output_type": "execute_result"
    },
    {
     "name": "stdout",
     "output_type": "stream",
     "text": [
      "Best Param 10.0\n"
     ]
    },
    {
     "data": {
      "text/plain": [
       "RidgeCV(alphas=(0.0001, 0.001, 0.01, 0.1, 1.0, 10.0, 100.0, 1000.0), cv=3,\n",
       "    fit_intercept=False, gcv_mode=None, normalize=False, scoring=None,\n",
       "    store_cv_values=False)"
      ]
     },
     "execution_count": 54,
     "metadata": {},
     "output_type": "execute_result"
    },
    {
     "name": "stdout",
     "output_type": "stream",
     "text": [
      "Best Param 10.0\n"
     ]
    },
    {
     "data": {
      "text/plain": [
       "RidgeCV(alphas=(0.0001, 0.001, 0.01, 0.1, 1.0, 10.0, 100.0, 1000.0), cv=3,\n",
       "    fit_intercept=False, gcv_mode=None, normalize=False, scoring=None,\n",
       "    store_cv_values=False)"
      ]
     },
     "execution_count": 54,
     "metadata": {},
     "output_type": "execute_result"
    },
    {
     "name": "stdout",
     "output_type": "stream",
     "text": [
      "Best Param 10.0\n"
     ]
    },
    {
     "data": {
      "text/plain": [
       "RidgeCV(alphas=(0.0001, 0.001, 0.01, 0.1, 1.0, 10.0, 100.0, 1000.0), cv=3,\n",
       "    fit_intercept=False, gcv_mode=None, normalize=False, scoring=None,\n",
       "    store_cv_values=False)"
      ]
     },
     "execution_count": 54,
     "metadata": {},
     "output_type": "execute_result"
    },
    {
     "name": "stdout",
     "output_type": "stream",
     "text": [
      "Best Param 10.0\n"
     ]
    },
    {
     "data": {
      "text/plain": [
       "RidgeCV(alphas=(0.0001, 0.001, 0.01, 0.1, 1.0, 10.0, 100.0, 1000.0), cv=3,\n",
       "    fit_intercept=False, gcv_mode=None, normalize=False, scoring=None,\n",
       "    store_cv_values=False)"
      ]
     },
     "execution_count": 54,
     "metadata": {},
     "output_type": "execute_result"
    },
    {
     "name": "stdout",
     "output_type": "stream",
     "text": [
      "Best Param 10.0\n"
     ]
    },
    {
     "data": {
      "text/plain": [
       "RidgeCV(alphas=(0.0001, 0.001, 0.01, 0.1, 1.0, 10.0, 100.0, 1000.0), cv=3,\n",
       "    fit_intercept=False, gcv_mode=None, normalize=False, scoring=None,\n",
       "    store_cv_values=False)"
      ]
     },
     "execution_count": 54,
     "metadata": {},
     "output_type": "execute_result"
    },
    {
     "name": "stdout",
     "output_type": "stream",
     "text": [
      "Best Param 10.0\n"
     ]
    }
   ],
   "source": [
    "mae_list_rr = []\n",
    "\n",
    "for i in range(100):\n",
    "    dataset = ndre_data_lag_40_EXACT[keep_cols]\n",
    "\n",
    "    X = dataset.iloc[:,1:]\n",
    "    X = X.values\n",
    "\n",
    "    y = dataset.iloc[:,0]\n",
    "    y = y.values\n",
    "\n",
    "    # split data into train and test sets\n",
    "    test_size = 0.20\n",
    "    X_train, X_test, y_train, y_test = train_test_split(X, y, test_size=test_size)\n",
    "\n",
    "    mean_X = X_train.mean(axis=0)\n",
    "    std_X = X_train.std(axis=0)\n",
    "\n",
    "    X_train = (X_train - mean_X) / std_X\n",
    "    X_test = (X_test - mean_X) / std_X\n",
    "\n",
    "    X_train = X_train.astype('float32')\n",
    "    X_test = X_test.astype('float32')\n",
    "\n",
    "    mean_y = y_train.mean(axis=0)\n",
    "    std_y = y_train.std(axis=0)\n",
    "\n",
    "    y_train = (y_train - mean_y) / std_y\n",
    "    y_test = (y_test - mean_y) / std_y\n",
    "\n",
    "    y_train = y_train.astype('float32')\n",
    "    y_test = y_test.astype('float32')\n",
    "\n",
    "    \n",
    "    rcv = RidgeCV(alphas=(0.0001, 0.001, 0.01,0.1, 1.0, 10.0, 100.0, 1000.0), \n",
    "                  fit_intercept = False, \n",
    "                  cv=3);\n",
    "   \n",
    "    rcv.fit(X_train, y_train)\n",
    "    print('Best Param {0}'.format(rcv.alpha_))\n",
    "    yhat = rcv.predict(X_test)\n",
    "    y_pred_inv = (yhat * std_y) + mean_y\n",
    "    y_test_inv = (y_test * std_y) + mean_y\n",
    "    mae_list_rr.append(mean_absolute_error(y_pred=y_pred_inv, y_true=y_test_inv))"
   ]
  },
  {
   "cell_type": "code",
   "execution_count": 55,
   "metadata": {},
   "outputs": [
    {
     "data": {
      "text/plain": [
       "0.03968124521231422"
      ]
     },
     "execution_count": 55,
     "metadata": {},
     "output_type": "execute_result"
    },
    {
     "data": {
      "text/plain": [
       "0.003538487781132812"
      ]
     },
     "execution_count": 55,
     "metadata": {},
     "output_type": "execute_result"
    }
   ],
   "source": [
    "np.asarray(mae_list_rr).mean()\n",
    "np.asarray(mae_list_rr).std()"
   ]
  },
  {
   "cell_type": "code",
   "execution_count": 57,
   "metadata": {},
   "outputs": [],
   "source": [
    "mae_df_rr = pd.DataFrame({'mae_rr': mae_list_rr})\n",
    "mae_df_rr.to_csv('../data/results_data/results_df_lin_RR.csv')"
   ]
  },
  {
   "cell_type": "markdown",
   "metadata": {},
   "source": [
    "Support Vector Machine for Regression"
   ]
  },
  {
   "cell_type": "code",
   "execution_count": 15,
   "metadata": {},
   "outputs": [],
   "source": [
    "from sklearn.svm import SVR\n",
    "from sklearn.model_selection import GridSearchCV"
   ]
  },
  {
   "cell_type": "markdown",
   "metadata": {},
   "source": [
    "Linear Kernel"
   ]
  },
  {
   "cell_type": "markdown",
   "metadata": {},
   "source": [
    "Method 1"
   ]
  },
  {
   "cell_type": "markdown",
   "metadata": {},
   "source": [
    "Linear SVR"
   ]
  },
  {
   "cell_type": "code",
   "execution_count": 62,
   "metadata": {},
   "outputs": [],
   "source": [
    "svrl = GridSearchCV(SVR(kernel='linear', gamma=0.1), cv=3,\n",
    "                   param_grid={\"C\": [1e-4,1e-3,1e-2,1e-1,1e0, 1e1, 1e2, 1e3],\n",
    "                               \"gamma\": np.logspace(-5, 1, 10)})"
   ]
  },
  {
   "cell_type": "code",
   "execution_count": 63,
   "metadata": {},
   "outputs": [
    {
     "data": {
      "text/plain": [
       "GridSearchCV(cv=3, error_score='raise',\n",
       "       estimator=SVR(C=1.0, cache_size=200, coef0=0.0, degree=3, epsilon=0.1, gamma=0.1,\n",
       "  kernel='linear', max_iter=-1, shrinking=True, tol=0.001, verbose=False),\n",
       "       fit_params={}, iid=True, n_jobs=1,\n",
       "       param_grid={'C': [0.0001, 0.001, 0.01, 0.1, 1.0, 10.0, 100.0, 1000.0], 'gamma': array([1.00000e-05, 4.64159e-05, 2.15443e-04, 1.00000e-03, 4.64159e-03,\n",
       "       2.15443e-02, 1.00000e-01, 4.64159e-01, 2.15443e+00, 1.00000e+01])},\n",
       "       pre_dispatch='2*n_jobs', refit=True, return_train_score=True,\n",
       "       scoring=None, verbose=0)"
      ]
     },
     "execution_count": 63,
     "metadata": {},
     "output_type": "execute_result"
    },
    {
     "name": "stdout",
     "output_type": "stream",
     "text": [
      "SVR complexity and bandwidth selected and model fitted in 80.654 s\n"
     ]
    }
   ],
   "source": [
    "t0 = time.time()\n",
    "svrl.fit(X_train, y_train)\n",
    "svrl_fit = time.time() - t0\n",
    "print(\"SVR complexity and bandwidth selected and model fitted in %.3f s\"\n",
    "      % svrl_fit)"
   ]
  },
  {
   "cell_type": "code",
   "execution_count": 64,
   "metadata": {},
   "outputs": [
    {
     "data": {
      "text/plain": [
       "{'C': 0.1, 'gamma': 1e-05}"
      ]
     },
     "execution_count": 64,
     "metadata": {},
     "output_type": "execute_result"
    }
   ],
   "source": [
    "svrl.best_params_"
   ]
  },
  {
   "cell_type": "code",
   "execution_count": 163,
   "metadata": {},
   "outputs": [
    {
     "data": {
      "text/plain": [
       "SVR(C=0.1, cache_size=200, coef0=0.0, degree=3, epsilon=0.1, gamma=1e-05,\n",
       "  kernel='linear', max_iter=-1, shrinking=True, tol=0.001, verbose=0)"
      ]
     },
     "execution_count": 163,
     "metadata": {},
     "output_type": "execute_result"
    },
    {
     "data": {
      "text/plain": [
       "SVR(C=0.1, cache_size=200, coef0=0.0, degree=3, epsilon=0.1, gamma=1e-05,\n",
       "  kernel='linear', max_iter=-1, shrinking=True, tol=0.001, verbose=0)"
      ]
     },
     "execution_count": 163,
     "metadata": {},
     "output_type": "execute_result"
    },
    {
     "data": {
      "text/plain": [
       "SVR(C=0.1, cache_size=200, coef0=0.0, degree=3, epsilon=0.1, gamma=1e-05,\n",
       "  kernel='linear', max_iter=-1, shrinking=True, tol=0.001, verbose=0)"
      ]
     },
     "execution_count": 163,
     "metadata": {},
     "output_type": "execute_result"
    },
    {
     "data": {
      "text/plain": [
       "SVR(C=0.1, cache_size=200, coef0=0.0, degree=3, epsilon=0.1, gamma=1e-05,\n",
       "  kernel='linear', max_iter=-1, shrinking=True, tol=0.001, verbose=0)"
      ]
     },
     "execution_count": 163,
     "metadata": {},
     "output_type": "execute_result"
    },
    {
     "data": {
      "text/plain": [
       "SVR(C=0.1, cache_size=200, coef0=0.0, degree=3, epsilon=0.1, gamma=1e-05,\n",
       "  kernel='linear', max_iter=-1, shrinking=True, tol=0.001, verbose=0)"
      ]
     },
     "execution_count": 163,
     "metadata": {},
     "output_type": "execute_result"
    },
    {
     "data": {
      "text/plain": [
       "SVR(C=0.1, cache_size=200, coef0=0.0, degree=3, epsilon=0.1, gamma=1e-05,\n",
       "  kernel='linear', max_iter=-1, shrinking=True, tol=0.001, verbose=0)"
      ]
     },
     "execution_count": 163,
     "metadata": {},
     "output_type": "execute_result"
    },
    {
     "data": {
      "text/plain": [
       "SVR(C=0.1, cache_size=200, coef0=0.0, degree=3, epsilon=0.1, gamma=1e-05,\n",
       "  kernel='linear', max_iter=-1, shrinking=True, tol=0.001, verbose=0)"
      ]
     },
     "execution_count": 163,
     "metadata": {},
     "output_type": "execute_result"
    },
    {
     "data": {
      "text/plain": [
       "SVR(C=0.1, cache_size=200, coef0=0.0, degree=3, epsilon=0.1, gamma=1e-05,\n",
       "  kernel='linear', max_iter=-1, shrinking=True, tol=0.001, verbose=0)"
      ]
     },
     "execution_count": 163,
     "metadata": {},
     "output_type": "execute_result"
    },
    {
     "data": {
      "text/plain": [
       "SVR(C=0.1, cache_size=200, coef0=0.0, degree=3, epsilon=0.1, gamma=1e-05,\n",
       "  kernel='linear', max_iter=-1, shrinking=True, tol=0.001, verbose=0)"
      ]
     },
     "execution_count": 163,
     "metadata": {},
     "output_type": "execute_result"
    },
    {
     "data": {
      "text/plain": [
       "SVR(C=0.1, cache_size=200, coef0=0.0, degree=3, epsilon=0.1, gamma=1e-05,\n",
       "  kernel='linear', max_iter=-1, shrinking=True, tol=0.001, verbose=0)"
      ]
     },
     "execution_count": 163,
     "metadata": {},
     "output_type": "execute_result"
    },
    {
     "data": {
      "text/plain": [
       "SVR(C=0.1, cache_size=200, coef0=0.0, degree=3, epsilon=0.1, gamma=1e-05,\n",
       "  kernel='linear', max_iter=-1, shrinking=True, tol=0.001, verbose=0)"
      ]
     },
     "execution_count": 163,
     "metadata": {},
     "output_type": "execute_result"
    },
    {
     "data": {
      "text/plain": [
       "SVR(C=0.1, cache_size=200, coef0=0.0, degree=3, epsilon=0.1, gamma=1e-05,\n",
       "  kernel='linear', max_iter=-1, shrinking=True, tol=0.001, verbose=0)"
      ]
     },
     "execution_count": 163,
     "metadata": {},
     "output_type": "execute_result"
    },
    {
     "data": {
      "text/plain": [
       "SVR(C=0.1, cache_size=200, coef0=0.0, degree=3, epsilon=0.1, gamma=1e-05,\n",
       "  kernel='linear', max_iter=-1, shrinking=True, tol=0.001, verbose=0)"
      ]
     },
     "execution_count": 163,
     "metadata": {},
     "output_type": "execute_result"
    },
    {
     "data": {
      "text/plain": [
       "SVR(C=0.1, cache_size=200, coef0=0.0, degree=3, epsilon=0.1, gamma=1e-05,\n",
       "  kernel='linear', max_iter=-1, shrinking=True, tol=0.001, verbose=0)"
      ]
     },
     "execution_count": 163,
     "metadata": {},
     "output_type": "execute_result"
    },
    {
     "data": {
      "text/plain": [
       "SVR(C=0.1, cache_size=200, coef0=0.0, degree=3, epsilon=0.1, gamma=1e-05,\n",
       "  kernel='linear', max_iter=-1, shrinking=True, tol=0.001, verbose=0)"
      ]
     },
     "execution_count": 163,
     "metadata": {},
     "output_type": "execute_result"
    },
    {
     "data": {
      "text/plain": [
       "SVR(C=0.1, cache_size=200, coef0=0.0, degree=3, epsilon=0.1, gamma=1e-05,\n",
       "  kernel='linear', max_iter=-1, shrinking=True, tol=0.001, verbose=0)"
      ]
     },
     "execution_count": 163,
     "metadata": {},
     "output_type": "execute_result"
    },
    {
     "data": {
      "text/plain": [
       "SVR(C=0.1, cache_size=200, coef0=0.0, degree=3, epsilon=0.1, gamma=1e-05,\n",
       "  kernel='linear', max_iter=-1, shrinking=True, tol=0.001, verbose=0)"
      ]
     },
     "execution_count": 163,
     "metadata": {},
     "output_type": "execute_result"
    },
    {
     "data": {
      "text/plain": [
       "SVR(C=0.1, cache_size=200, coef0=0.0, degree=3, epsilon=0.1, gamma=1e-05,\n",
       "  kernel='linear', max_iter=-1, shrinking=True, tol=0.001, verbose=0)"
      ]
     },
     "execution_count": 163,
     "metadata": {},
     "output_type": "execute_result"
    },
    {
     "data": {
      "text/plain": [
       "SVR(C=0.1, cache_size=200, coef0=0.0, degree=3, epsilon=0.1, gamma=1e-05,\n",
       "  kernel='linear', max_iter=-1, shrinking=True, tol=0.001, verbose=0)"
      ]
     },
     "execution_count": 163,
     "metadata": {},
     "output_type": "execute_result"
    },
    {
     "data": {
      "text/plain": [
       "SVR(C=0.1, cache_size=200, coef0=0.0, degree=3, epsilon=0.1, gamma=1e-05,\n",
       "  kernel='linear', max_iter=-1, shrinking=True, tol=0.001, verbose=0)"
      ]
     },
     "execution_count": 163,
     "metadata": {},
     "output_type": "execute_result"
    },
    {
     "data": {
      "text/plain": [
       "SVR(C=0.1, cache_size=200, coef0=0.0, degree=3, epsilon=0.1, gamma=1e-05,\n",
       "  kernel='linear', max_iter=-1, shrinking=True, tol=0.001, verbose=0)"
      ]
     },
     "execution_count": 163,
     "metadata": {},
     "output_type": "execute_result"
    },
    {
     "data": {
      "text/plain": [
       "SVR(C=0.1, cache_size=200, coef0=0.0, degree=3, epsilon=0.1, gamma=1e-05,\n",
       "  kernel='linear', max_iter=-1, shrinking=True, tol=0.001, verbose=0)"
      ]
     },
     "execution_count": 163,
     "metadata": {},
     "output_type": "execute_result"
    },
    {
     "data": {
      "text/plain": [
       "SVR(C=0.1, cache_size=200, coef0=0.0, degree=3, epsilon=0.1, gamma=1e-05,\n",
       "  kernel='linear', max_iter=-1, shrinking=True, tol=0.001, verbose=0)"
      ]
     },
     "execution_count": 163,
     "metadata": {},
     "output_type": "execute_result"
    },
    {
     "data": {
      "text/plain": [
       "SVR(C=0.1, cache_size=200, coef0=0.0, degree=3, epsilon=0.1, gamma=1e-05,\n",
       "  kernel='linear', max_iter=-1, shrinking=True, tol=0.001, verbose=0)"
      ]
     },
     "execution_count": 163,
     "metadata": {},
     "output_type": "execute_result"
    },
    {
     "data": {
      "text/plain": [
       "SVR(C=0.1, cache_size=200, coef0=0.0, degree=3, epsilon=0.1, gamma=1e-05,\n",
       "  kernel='linear', max_iter=-1, shrinking=True, tol=0.001, verbose=0)"
      ]
     },
     "execution_count": 163,
     "metadata": {},
     "output_type": "execute_result"
    },
    {
     "data": {
      "text/plain": [
       "SVR(C=0.1, cache_size=200, coef0=0.0, degree=3, epsilon=0.1, gamma=1e-05,\n",
       "  kernel='linear', max_iter=-1, shrinking=True, tol=0.001, verbose=0)"
      ]
     },
     "execution_count": 163,
     "metadata": {},
     "output_type": "execute_result"
    },
    {
     "data": {
      "text/plain": [
       "SVR(C=0.1, cache_size=200, coef0=0.0, degree=3, epsilon=0.1, gamma=1e-05,\n",
       "  kernel='linear', max_iter=-1, shrinking=True, tol=0.001, verbose=0)"
      ]
     },
     "execution_count": 163,
     "metadata": {},
     "output_type": "execute_result"
    },
    {
     "data": {
      "text/plain": [
       "SVR(C=0.1, cache_size=200, coef0=0.0, degree=3, epsilon=0.1, gamma=1e-05,\n",
       "  kernel='linear', max_iter=-1, shrinking=True, tol=0.001, verbose=0)"
      ]
     },
     "execution_count": 163,
     "metadata": {},
     "output_type": "execute_result"
    },
    {
     "data": {
      "text/plain": [
       "SVR(C=0.1, cache_size=200, coef0=0.0, degree=3, epsilon=0.1, gamma=1e-05,\n",
       "  kernel='linear', max_iter=-1, shrinking=True, tol=0.001, verbose=0)"
      ]
     },
     "execution_count": 163,
     "metadata": {},
     "output_type": "execute_result"
    },
    {
     "data": {
      "text/plain": [
       "SVR(C=0.1, cache_size=200, coef0=0.0, degree=3, epsilon=0.1, gamma=1e-05,\n",
       "  kernel='linear', max_iter=-1, shrinking=True, tol=0.001, verbose=0)"
      ]
     },
     "execution_count": 163,
     "metadata": {},
     "output_type": "execute_result"
    },
    {
     "data": {
      "text/plain": [
       "SVR(C=0.1, cache_size=200, coef0=0.0, degree=3, epsilon=0.1, gamma=1e-05,\n",
       "  kernel='linear', max_iter=-1, shrinking=True, tol=0.001, verbose=0)"
      ]
     },
     "execution_count": 163,
     "metadata": {},
     "output_type": "execute_result"
    },
    {
     "data": {
      "text/plain": [
       "SVR(C=0.1, cache_size=200, coef0=0.0, degree=3, epsilon=0.1, gamma=1e-05,\n",
       "  kernel='linear', max_iter=-1, shrinking=True, tol=0.001, verbose=0)"
      ]
     },
     "execution_count": 163,
     "metadata": {},
     "output_type": "execute_result"
    },
    {
     "data": {
      "text/plain": [
       "SVR(C=0.1, cache_size=200, coef0=0.0, degree=3, epsilon=0.1, gamma=1e-05,\n",
       "  kernel='linear', max_iter=-1, shrinking=True, tol=0.001, verbose=0)"
      ]
     },
     "execution_count": 163,
     "metadata": {},
     "output_type": "execute_result"
    },
    {
     "data": {
      "text/plain": [
       "SVR(C=0.1, cache_size=200, coef0=0.0, degree=3, epsilon=0.1, gamma=1e-05,\n",
       "  kernel='linear', max_iter=-1, shrinking=True, tol=0.001, verbose=0)"
      ]
     },
     "execution_count": 163,
     "metadata": {},
     "output_type": "execute_result"
    },
    {
     "data": {
      "text/plain": [
       "SVR(C=0.1, cache_size=200, coef0=0.0, degree=3, epsilon=0.1, gamma=1e-05,\n",
       "  kernel='linear', max_iter=-1, shrinking=True, tol=0.001, verbose=0)"
      ]
     },
     "execution_count": 163,
     "metadata": {},
     "output_type": "execute_result"
    },
    {
     "data": {
      "text/plain": [
       "SVR(C=0.1, cache_size=200, coef0=0.0, degree=3, epsilon=0.1, gamma=1e-05,\n",
       "  kernel='linear', max_iter=-1, shrinking=True, tol=0.001, verbose=0)"
      ]
     },
     "execution_count": 163,
     "metadata": {},
     "output_type": "execute_result"
    },
    {
     "data": {
      "text/plain": [
       "SVR(C=0.1, cache_size=200, coef0=0.0, degree=3, epsilon=0.1, gamma=1e-05,\n",
       "  kernel='linear', max_iter=-1, shrinking=True, tol=0.001, verbose=0)"
      ]
     },
     "execution_count": 163,
     "metadata": {},
     "output_type": "execute_result"
    },
    {
     "data": {
      "text/plain": [
       "SVR(C=0.1, cache_size=200, coef0=0.0, degree=3, epsilon=0.1, gamma=1e-05,\n",
       "  kernel='linear', max_iter=-1, shrinking=True, tol=0.001, verbose=0)"
      ]
     },
     "execution_count": 163,
     "metadata": {},
     "output_type": "execute_result"
    },
    {
     "data": {
      "text/plain": [
       "SVR(C=0.1, cache_size=200, coef0=0.0, degree=3, epsilon=0.1, gamma=1e-05,\n",
       "  kernel='linear', max_iter=-1, shrinking=True, tol=0.001, verbose=0)"
      ]
     },
     "execution_count": 163,
     "metadata": {},
     "output_type": "execute_result"
    },
    {
     "data": {
      "text/plain": [
       "SVR(C=0.1, cache_size=200, coef0=0.0, degree=3, epsilon=0.1, gamma=1e-05,\n",
       "  kernel='linear', max_iter=-1, shrinking=True, tol=0.001, verbose=0)"
      ]
     },
     "execution_count": 163,
     "metadata": {},
     "output_type": "execute_result"
    },
    {
     "data": {
      "text/plain": [
       "SVR(C=0.1, cache_size=200, coef0=0.0, degree=3, epsilon=0.1, gamma=1e-05,\n",
       "  kernel='linear', max_iter=-1, shrinking=True, tol=0.001, verbose=0)"
      ]
     },
     "execution_count": 163,
     "metadata": {},
     "output_type": "execute_result"
    },
    {
     "data": {
      "text/plain": [
       "SVR(C=0.1, cache_size=200, coef0=0.0, degree=3, epsilon=0.1, gamma=1e-05,\n",
       "  kernel='linear', max_iter=-1, shrinking=True, tol=0.001, verbose=0)"
      ]
     },
     "execution_count": 163,
     "metadata": {},
     "output_type": "execute_result"
    },
    {
     "data": {
      "text/plain": [
       "SVR(C=0.1, cache_size=200, coef0=0.0, degree=3, epsilon=0.1, gamma=1e-05,\n",
       "  kernel='linear', max_iter=-1, shrinking=True, tol=0.001, verbose=0)"
      ]
     },
     "execution_count": 163,
     "metadata": {},
     "output_type": "execute_result"
    },
    {
     "data": {
      "text/plain": [
       "SVR(C=0.1, cache_size=200, coef0=0.0, degree=3, epsilon=0.1, gamma=1e-05,\n",
       "  kernel='linear', max_iter=-1, shrinking=True, tol=0.001, verbose=0)"
      ]
     },
     "execution_count": 163,
     "metadata": {},
     "output_type": "execute_result"
    },
    {
     "data": {
      "text/plain": [
       "SVR(C=0.1, cache_size=200, coef0=0.0, degree=3, epsilon=0.1, gamma=1e-05,\n",
       "  kernel='linear', max_iter=-1, shrinking=True, tol=0.001, verbose=0)"
      ]
     },
     "execution_count": 163,
     "metadata": {},
     "output_type": "execute_result"
    },
    {
     "data": {
      "text/plain": [
       "SVR(C=0.1, cache_size=200, coef0=0.0, degree=3, epsilon=0.1, gamma=1e-05,\n",
       "  kernel='linear', max_iter=-1, shrinking=True, tol=0.001, verbose=0)"
      ]
     },
     "execution_count": 163,
     "metadata": {},
     "output_type": "execute_result"
    },
    {
     "data": {
      "text/plain": [
       "SVR(C=0.1, cache_size=200, coef0=0.0, degree=3, epsilon=0.1, gamma=1e-05,\n",
       "  kernel='linear', max_iter=-1, shrinking=True, tol=0.001, verbose=0)"
      ]
     },
     "execution_count": 163,
     "metadata": {},
     "output_type": "execute_result"
    },
    {
     "data": {
      "text/plain": [
       "SVR(C=0.1, cache_size=200, coef0=0.0, degree=3, epsilon=0.1, gamma=1e-05,\n",
       "  kernel='linear', max_iter=-1, shrinking=True, tol=0.001, verbose=0)"
      ]
     },
     "execution_count": 163,
     "metadata": {},
     "output_type": "execute_result"
    },
    {
     "data": {
      "text/plain": [
       "SVR(C=0.1, cache_size=200, coef0=0.0, degree=3, epsilon=0.1, gamma=1e-05,\n",
       "  kernel='linear', max_iter=-1, shrinking=True, tol=0.001, verbose=0)"
      ]
     },
     "execution_count": 163,
     "metadata": {},
     "output_type": "execute_result"
    },
    {
     "data": {
      "text/plain": [
       "SVR(C=0.1, cache_size=200, coef0=0.0, degree=3, epsilon=0.1, gamma=1e-05,\n",
       "  kernel='linear', max_iter=-1, shrinking=True, tol=0.001, verbose=0)"
      ]
     },
     "execution_count": 163,
     "metadata": {},
     "output_type": "execute_result"
    },
    {
     "data": {
      "text/plain": [
       "SVR(C=0.1, cache_size=200, coef0=0.0, degree=3, epsilon=0.1, gamma=1e-05,\n",
       "  kernel='linear', max_iter=-1, shrinking=True, tol=0.001, verbose=0)"
      ]
     },
     "execution_count": 163,
     "metadata": {},
     "output_type": "execute_result"
    },
    {
     "data": {
      "text/plain": [
       "SVR(C=0.1, cache_size=200, coef0=0.0, degree=3, epsilon=0.1, gamma=1e-05,\n",
       "  kernel='linear', max_iter=-1, shrinking=True, tol=0.001, verbose=0)"
      ]
     },
     "execution_count": 163,
     "metadata": {},
     "output_type": "execute_result"
    },
    {
     "data": {
      "text/plain": [
       "SVR(C=0.1, cache_size=200, coef0=0.0, degree=3, epsilon=0.1, gamma=1e-05,\n",
       "  kernel='linear', max_iter=-1, shrinking=True, tol=0.001, verbose=0)"
      ]
     },
     "execution_count": 163,
     "metadata": {},
     "output_type": "execute_result"
    },
    {
     "data": {
      "text/plain": [
       "SVR(C=0.1, cache_size=200, coef0=0.0, degree=3, epsilon=0.1, gamma=1e-05,\n",
       "  kernel='linear', max_iter=-1, shrinking=True, tol=0.001, verbose=0)"
      ]
     },
     "execution_count": 163,
     "metadata": {},
     "output_type": "execute_result"
    },
    {
     "data": {
      "text/plain": [
       "SVR(C=0.1, cache_size=200, coef0=0.0, degree=3, epsilon=0.1, gamma=1e-05,\n",
       "  kernel='linear', max_iter=-1, shrinking=True, tol=0.001, verbose=0)"
      ]
     },
     "execution_count": 163,
     "metadata": {},
     "output_type": "execute_result"
    },
    {
     "data": {
      "text/plain": [
       "SVR(C=0.1, cache_size=200, coef0=0.0, degree=3, epsilon=0.1, gamma=1e-05,\n",
       "  kernel='linear', max_iter=-1, shrinking=True, tol=0.001, verbose=0)"
      ]
     },
     "execution_count": 163,
     "metadata": {},
     "output_type": "execute_result"
    },
    {
     "data": {
      "text/plain": [
       "SVR(C=0.1, cache_size=200, coef0=0.0, degree=3, epsilon=0.1, gamma=1e-05,\n",
       "  kernel='linear', max_iter=-1, shrinking=True, tol=0.001, verbose=0)"
      ]
     },
     "execution_count": 163,
     "metadata": {},
     "output_type": "execute_result"
    },
    {
     "data": {
      "text/plain": [
       "SVR(C=0.1, cache_size=200, coef0=0.0, degree=3, epsilon=0.1, gamma=1e-05,\n",
       "  kernel='linear', max_iter=-1, shrinking=True, tol=0.001, verbose=0)"
      ]
     },
     "execution_count": 163,
     "metadata": {},
     "output_type": "execute_result"
    },
    {
     "data": {
      "text/plain": [
       "SVR(C=0.1, cache_size=200, coef0=0.0, degree=3, epsilon=0.1, gamma=1e-05,\n",
       "  kernel='linear', max_iter=-1, shrinking=True, tol=0.001, verbose=0)"
      ]
     },
     "execution_count": 163,
     "metadata": {},
     "output_type": "execute_result"
    },
    {
     "data": {
      "text/plain": [
       "SVR(C=0.1, cache_size=200, coef0=0.0, degree=3, epsilon=0.1, gamma=1e-05,\n",
       "  kernel='linear', max_iter=-1, shrinking=True, tol=0.001, verbose=0)"
      ]
     },
     "execution_count": 163,
     "metadata": {},
     "output_type": "execute_result"
    },
    {
     "data": {
      "text/plain": [
       "SVR(C=0.1, cache_size=200, coef0=0.0, degree=3, epsilon=0.1, gamma=1e-05,\n",
       "  kernel='linear', max_iter=-1, shrinking=True, tol=0.001, verbose=0)"
      ]
     },
     "execution_count": 163,
     "metadata": {},
     "output_type": "execute_result"
    },
    {
     "data": {
      "text/plain": [
       "SVR(C=0.1, cache_size=200, coef0=0.0, degree=3, epsilon=0.1, gamma=1e-05,\n",
       "  kernel='linear', max_iter=-1, shrinking=True, tol=0.001, verbose=0)"
      ]
     },
     "execution_count": 163,
     "metadata": {},
     "output_type": "execute_result"
    },
    {
     "data": {
      "text/plain": [
       "SVR(C=0.1, cache_size=200, coef0=0.0, degree=3, epsilon=0.1, gamma=1e-05,\n",
       "  kernel='linear', max_iter=-1, shrinking=True, tol=0.001, verbose=0)"
      ]
     },
     "execution_count": 163,
     "metadata": {},
     "output_type": "execute_result"
    },
    {
     "data": {
      "text/plain": [
       "SVR(C=0.1, cache_size=200, coef0=0.0, degree=3, epsilon=0.1, gamma=1e-05,\n",
       "  kernel='linear', max_iter=-1, shrinking=True, tol=0.001, verbose=0)"
      ]
     },
     "execution_count": 163,
     "metadata": {},
     "output_type": "execute_result"
    },
    {
     "data": {
      "text/plain": [
       "SVR(C=0.1, cache_size=200, coef0=0.0, degree=3, epsilon=0.1, gamma=1e-05,\n",
       "  kernel='linear', max_iter=-1, shrinking=True, tol=0.001, verbose=0)"
      ]
     },
     "execution_count": 163,
     "metadata": {},
     "output_type": "execute_result"
    },
    {
     "data": {
      "text/plain": [
       "SVR(C=0.1, cache_size=200, coef0=0.0, degree=3, epsilon=0.1, gamma=1e-05,\n",
       "  kernel='linear', max_iter=-1, shrinking=True, tol=0.001, verbose=0)"
      ]
     },
     "execution_count": 163,
     "metadata": {},
     "output_type": "execute_result"
    },
    {
     "data": {
      "text/plain": [
       "SVR(C=0.1, cache_size=200, coef0=0.0, degree=3, epsilon=0.1, gamma=1e-05,\n",
       "  kernel='linear', max_iter=-1, shrinking=True, tol=0.001, verbose=0)"
      ]
     },
     "execution_count": 163,
     "metadata": {},
     "output_type": "execute_result"
    },
    {
     "data": {
      "text/plain": [
       "SVR(C=0.1, cache_size=200, coef0=0.0, degree=3, epsilon=0.1, gamma=1e-05,\n",
       "  kernel='linear', max_iter=-1, shrinking=True, tol=0.001, verbose=0)"
      ]
     },
     "execution_count": 163,
     "metadata": {},
     "output_type": "execute_result"
    },
    {
     "data": {
      "text/plain": [
       "SVR(C=0.1, cache_size=200, coef0=0.0, degree=3, epsilon=0.1, gamma=1e-05,\n",
       "  kernel='linear', max_iter=-1, shrinking=True, tol=0.001, verbose=0)"
      ]
     },
     "execution_count": 163,
     "metadata": {},
     "output_type": "execute_result"
    },
    {
     "data": {
      "text/plain": [
       "SVR(C=0.1, cache_size=200, coef0=0.0, degree=3, epsilon=0.1, gamma=1e-05,\n",
       "  kernel='linear', max_iter=-1, shrinking=True, tol=0.001, verbose=0)"
      ]
     },
     "execution_count": 163,
     "metadata": {},
     "output_type": "execute_result"
    },
    {
     "data": {
      "text/plain": [
       "SVR(C=0.1, cache_size=200, coef0=0.0, degree=3, epsilon=0.1, gamma=1e-05,\n",
       "  kernel='linear', max_iter=-1, shrinking=True, tol=0.001, verbose=0)"
      ]
     },
     "execution_count": 163,
     "metadata": {},
     "output_type": "execute_result"
    },
    {
     "data": {
      "text/plain": [
       "SVR(C=0.1, cache_size=200, coef0=0.0, degree=3, epsilon=0.1, gamma=1e-05,\n",
       "  kernel='linear', max_iter=-1, shrinking=True, tol=0.001, verbose=0)"
      ]
     },
     "execution_count": 163,
     "metadata": {},
     "output_type": "execute_result"
    },
    {
     "data": {
      "text/plain": [
       "SVR(C=0.1, cache_size=200, coef0=0.0, degree=3, epsilon=0.1, gamma=1e-05,\n",
       "  kernel='linear', max_iter=-1, shrinking=True, tol=0.001, verbose=0)"
      ]
     },
     "execution_count": 163,
     "metadata": {},
     "output_type": "execute_result"
    },
    {
     "data": {
      "text/plain": [
       "SVR(C=0.1, cache_size=200, coef0=0.0, degree=3, epsilon=0.1, gamma=1e-05,\n",
       "  kernel='linear', max_iter=-1, shrinking=True, tol=0.001, verbose=0)"
      ]
     },
     "execution_count": 163,
     "metadata": {},
     "output_type": "execute_result"
    },
    {
     "data": {
      "text/plain": [
       "SVR(C=0.1, cache_size=200, coef0=0.0, degree=3, epsilon=0.1, gamma=1e-05,\n",
       "  kernel='linear', max_iter=-1, shrinking=True, tol=0.001, verbose=0)"
      ]
     },
     "execution_count": 163,
     "metadata": {},
     "output_type": "execute_result"
    },
    {
     "data": {
      "text/plain": [
       "SVR(C=0.1, cache_size=200, coef0=0.0, degree=3, epsilon=0.1, gamma=1e-05,\n",
       "  kernel='linear', max_iter=-1, shrinking=True, tol=0.001, verbose=0)"
      ]
     },
     "execution_count": 163,
     "metadata": {},
     "output_type": "execute_result"
    },
    {
     "data": {
      "text/plain": [
       "SVR(C=0.1, cache_size=200, coef0=0.0, degree=3, epsilon=0.1, gamma=1e-05,\n",
       "  kernel='linear', max_iter=-1, shrinking=True, tol=0.001, verbose=0)"
      ]
     },
     "execution_count": 163,
     "metadata": {},
     "output_type": "execute_result"
    },
    {
     "data": {
      "text/plain": [
       "SVR(C=0.1, cache_size=200, coef0=0.0, degree=3, epsilon=0.1, gamma=1e-05,\n",
       "  kernel='linear', max_iter=-1, shrinking=True, tol=0.001, verbose=0)"
      ]
     },
     "execution_count": 163,
     "metadata": {},
     "output_type": "execute_result"
    },
    {
     "data": {
      "text/plain": [
       "SVR(C=0.1, cache_size=200, coef0=0.0, degree=3, epsilon=0.1, gamma=1e-05,\n",
       "  kernel='linear', max_iter=-1, shrinking=True, tol=0.001, verbose=0)"
      ]
     },
     "execution_count": 163,
     "metadata": {},
     "output_type": "execute_result"
    },
    {
     "data": {
      "text/plain": [
       "SVR(C=0.1, cache_size=200, coef0=0.0, degree=3, epsilon=0.1, gamma=1e-05,\n",
       "  kernel='linear', max_iter=-1, shrinking=True, tol=0.001, verbose=0)"
      ]
     },
     "execution_count": 163,
     "metadata": {},
     "output_type": "execute_result"
    },
    {
     "data": {
      "text/plain": [
       "SVR(C=0.1, cache_size=200, coef0=0.0, degree=3, epsilon=0.1, gamma=1e-05,\n",
       "  kernel='linear', max_iter=-1, shrinking=True, tol=0.001, verbose=0)"
      ]
     },
     "execution_count": 163,
     "metadata": {},
     "output_type": "execute_result"
    },
    {
     "data": {
      "text/plain": [
       "SVR(C=0.1, cache_size=200, coef0=0.0, degree=3, epsilon=0.1, gamma=1e-05,\n",
       "  kernel='linear', max_iter=-1, shrinking=True, tol=0.001, verbose=0)"
      ]
     },
     "execution_count": 163,
     "metadata": {},
     "output_type": "execute_result"
    },
    {
     "data": {
      "text/plain": [
       "SVR(C=0.1, cache_size=200, coef0=0.0, degree=3, epsilon=0.1, gamma=1e-05,\n",
       "  kernel='linear', max_iter=-1, shrinking=True, tol=0.001, verbose=0)"
      ]
     },
     "execution_count": 163,
     "metadata": {},
     "output_type": "execute_result"
    },
    {
     "data": {
      "text/plain": [
       "SVR(C=0.1, cache_size=200, coef0=0.0, degree=3, epsilon=0.1, gamma=1e-05,\n",
       "  kernel='linear', max_iter=-1, shrinking=True, tol=0.001, verbose=0)"
      ]
     },
     "execution_count": 163,
     "metadata": {},
     "output_type": "execute_result"
    },
    {
     "data": {
      "text/plain": [
       "SVR(C=0.1, cache_size=200, coef0=0.0, degree=3, epsilon=0.1, gamma=1e-05,\n",
       "  kernel='linear', max_iter=-1, shrinking=True, tol=0.001, verbose=0)"
      ]
     },
     "execution_count": 163,
     "metadata": {},
     "output_type": "execute_result"
    },
    {
     "data": {
      "text/plain": [
       "SVR(C=0.1, cache_size=200, coef0=0.0, degree=3, epsilon=0.1, gamma=1e-05,\n",
       "  kernel='linear', max_iter=-1, shrinking=True, tol=0.001, verbose=0)"
      ]
     },
     "execution_count": 163,
     "metadata": {},
     "output_type": "execute_result"
    },
    {
     "data": {
      "text/plain": [
       "SVR(C=0.1, cache_size=200, coef0=0.0, degree=3, epsilon=0.1, gamma=1e-05,\n",
       "  kernel='linear', max_iter=-1, shrinking=True, tol=0.001, verbose=0)"
      ]
     },
     "execution_count": 163,
     "metadata": {},
     "output_type": "execute_result"
    },
    {
     "data": {
      "text/plain": [
       "SVR(C=0.1, cache_size=200, coef0=0.0, degree=3, epsilon=0.1, gamma=1e-05,\n",
       "  kernel='linear', max_iter=-1, shrinking=True, tol=0.001, verbose=0)"
      ]
     },
     "execution_count": 163,
     "metadata": {},
     "output_type": "execute_result"
    },
    {
     "data": {
      "text/plain": [
       "SVR(C=0.1, cache_size=200, coef0=0.0, degree=3, epsilon=0.1, gamma=1e-05,\n",
       "  kernel='linear', max_iter=-1, shrinking=True, tol=0.001, verbose=0)"
      ]
     },
     "execution_count": 163,
     "metadata": {},
     "output_type": "execute_result"
    },
    {
     "data": {
      "text/plain": [
       "SVR(C=0.1, cache_size=200, coef0=0.0, degree=3, epsilon=0.1, gamma=1e-05,\n",
       "  kernel='linear', max_iter=-1, shrinking=True, tol=0.001, verbose=0)"
      ]
     },
     "execution_count": 163,
     "metadata": {},
     "output_type": "execute_result"
    },
    {
     "data": {
      "text/plain": [
       "SVR(C=0.1, cache_size=200, coef0=0.0, degree=3, epsilon=0.1, gamma=1e-05,\n",
       "  kernel='linear', max_iter=-1, shrinking=True, tol=0.001, verbose=0)"
      ]
     },
     "execution_count": 163,
     "metadata": {},
     "output_type": "execute_result"
    },
    {
     "data": {
      "text/plain": [
       "SVR(C=0.1, cache_size=200, coef0=0.0, degree=3, epsilon=0.1, gamma=1e-05,\n",
       "  kernel='linear', max_iter=-1, shrinking=True, tol=0.001, verbose=0)"
      ]
     },
     "execution_count": 163,
     "metadata": {},
     "output_type": "execute_result"
    },
    {
     "data": {
      "text/plain": [
       "SVR(C=0.1, cache_size=200, coef0=0.0, degree=3, epsilon=0.1, gamma=1e-05,\n",
       "  kernel='linear', max_iter=-1, shrinking=True, tol=0.001, verbose=0)"
      ]
     },
     "execution_count": 163,
     "metadata": {},
     "output_type": "execute_result"
    },
    {
     "data": {
      "text/plain": [
       "SVR(C=0.1, cache_size=200, coef0=0.0, degree=3, epsilon=0.1, gamma=1e-05,\n",
       "  kernel='linear', max_iter=-1, shrinking=True, tol=0.001, verbose=0)"
      ]
     },
     "execution_count": 163,
     "metadata": {},
     "output_type": "execute_result"
    },
    {
     "data": {
      "text/plain": [
       "SVR(C=0.1, cache_size=200, coef0=0.0, degree=3, epsilon=0.1, gamma=1e-05,\n",
       "  kernel='linear', max_iter=-1, shrinking=True, tol=0.001, verbose=0)"
      ]
     },
     "execution_count": 163,
     "metadata": {},
     "output_type": "execute_result"
    },
    {
     "data": {
      "text/plain": [
       "SVR(C=0.1, cache_size=200, coef0=0.0, degree=3, epsilon=0.1, gamma=1e-05,\n",
       "  kernel='linear', max_iter=-1, shrinking=True, tol=0.001, verbose=0)"
      ]
     },
     "execution_count": 163,
     "metadata": {},
     "output_type": "execute_result"
    },
    {
     "data": {
      "text/plain": [
       "SVR(C=0.1, cache_size=200, coef0=0.0, degree=3, epsilon=0.1, gamma=1e-05,\n",
       "  kernel='linear', max_iter=-1, shrinking=True, tol=0.001, verbose=0)"
      ]
     },
     "execution_count": 163,
     "metadata": {},
     "output_type": "execute_result"
    },
    {
     "data": {
      "text/plain": [
       "SVR(C=0.1, cache_size=200, coef0=0.0, degree=3, epsilon=0.1, gamma=1e-05,\n",
       "  kernel='linear', max_iter=-1, shrinking=True, tol=0.001, verbose=0)"
      ]
     },
     "execution_count": 163,
     "metadata": {},
     "output_type": "execute_result"
    },
    {
     "data": {
      "text/plain": [
       "SVR(C=0.1, cache_size=200, coef0=0.0, degree=3, epsilon=0.1, gamma=1e-05,\n",
       "  kernel='linear', max_iter=-1, shrinking=True, tol=0.001, verbose=0)"
      ]
     },
     "execution_count": 163,
     "metadata": {},
     "output_type": "execute_result"
    },
    {
     "data": {
      "text/plain": [
       "SVR(C=0.1, cache_size=200, coef0=0.0, degree=3, epsilon=0.1, gamma=1e-05,\n",
       "  kernel='linear', max_iter=-1, shrinking=True, tol=0.001, verbose=0)"
      ]
     },
     "execution_count": 163,
     "metadata": {},
     "output_type": "execute_result"
    },
    {
     "data": {
      "text/plain": [
       "SVR(C=0.1, cache_size=200, coef0=0.0, degree=3, epsilon=0.1, gamma=1e-05,\n",
       "  kernel='linear', max_iter=-1, shrinking=True, tol=0.001, verbose=0)"
      ]
     },
     "execution_count": 163,
     "metadata": {},
     "output_type": "execute_result"
    },
    {
     "data": {
      "text/plain": [
       "SVR(C=0.1, cache_size=200, coef0=0.0, degree=3, epsilon=0.1, gamma=1e-05,\n",
       "  kernel='linear', max_iter=-1, shrinking=True, tol=0.001, verbose=0)"
      ]
     },
     "execution_count": 163,
     "metadata": {},
     "output_type": "execute_result"
    },
    {
     "data": {
      "text/plain": [
       "SVR(C=0.1, cache_size=200, coef0=0.0, degree=3, epsilon=0.1, gamma=1e-05,\n",
       "  kernel='linear', max_iter=-1, shrinking=True, tol=0.001, verbose=0)"
      ]
     },
     "execution_count": 163,
     "metadata": {},
     "output_type": "execute_result"
    },
    {
     "data": {
      "text/plain": [
       "SVR(C=0.1, cache_size=200, coef0=0.0, degree=3, epsilon=0.1, gamma=1e-05,\n",
       "  kernel='linear', max_iter=-1, shrinking=True, tol=0.001, verbose=0)"
      ]
     },
     "execution_count": 163,
     "metadata": {},
     "output_type": "execute_result"
    },
    {
     "data": {
      "text/plain": [
       "SVR(C=0.1, cache_size=200, coef0=0.0, degree=3, epsilon=0.1, gamma=1e-05,\n",
       "  kernel='linear', max_iter=-1, shrinking=True, tol=0.001, verbose=0)"
      ]
     },
     "execution_count": 163,
     "metadata": {},
     "output_type": "execute_result"
    },
    {
     "data": {
      "text/plain": [
       "SVR(C=0.1, cache_size=200, coef0=0.0, degree=3, epsilon=0.1, gamma=1e-05,\n",
       "  kernel='linear', max_iter=-1, shrinking=True, tol=0.001, verbose=0)"
      ]
     },
     "execution_count": 163,
     "metadata": {},
     "output_type": "execute_result"
    },
    {
     "data": {
      "text/plain": [
       "SVR(C=0.1, cache_size=200, coef0=0.0, degree=3, epsilon=0.1, gamma=1e-05,\n",
       "  kernel='linear', max_iter=-1, shrinking=True, tol=0.001, verbose=0)"
      ]
     },
     "execution_count": 163,
     "metadata": {},
     "output_type": "execute_result"
    },
    {
     "data": {
      "text/plain": [
       "SVR(C=0.1, cache_size=200, coef0=0.0, degree=3, epsilon=0.1, gamma=1e-05,\n",
       "  kernel='linear', max_iter=-1, shrinking=True, tol=0.001, verbose=0)"
      ]
     },
     "execution_count": 163,
     "metadata": {},
     "output_type": "execute_result"
    },
    {
     "data": {
      "text/plain": [
       "SVR(C=0.1, cache_size=200, coef0=0.0, degree=3, epsilon=0.1, gamma=1e-05,\n",
       "  kernel='linear', max_iter=-1, shrinking=True, tol=0.001, verbose=0)"
      ]
     },
     "execution_count": 163,
     "metadata": {},
     "output_type": "execute_result"
    },
    {
     "data": {
      "text/plain": [
       "SVR(C=0.1, cache_size=200, coef0=0.0, degree=3, epsilon=0.1, gamma=1e-05,\n",
       "  kernel='linear', max_iter=-1, shrinking=True, tol=0.001, verbose=0)"
      ]
     },
     "execution_count": 163,
     "metadata": {},
     "output_type": "execute_result"
    },
    {
     "data": {
      "text/plain": [
       "SVR(C=0.1, cache_size=200, coef0=0.0, degree=3, epsilon=0.1, gamma=1e-05,\n",
       "  kernel='linear', max_iter=-1, shrinking=True, tol=0.001, verbose=0)"
      ]
     },
     "execution_count": 163,
     "metadata": {},
     "output_type": "execute_result"
    },
    {
     "data": {
      "text/plain": [
       "SVR(C=0.1, cache_size=200, coef0=0.0, degree=3, epsilon=0.1, gamma=1e-05,\n",
       "  kernel='linear', max_iter=-1, shrinking=True, tol=0.001, verbose=0)"
      ]
     },
     "execution_count": 163,
     "metadata": {},
     "output_type": "execute_result"
    },
    {
     "data": {
      "text/plain": [
       "SVR(C=0.1, cache_size=200, coef0=0.0, degree=3, epsilon=0.1, gamma=1e-05,\n",
       "  kernel='linear', max_iter=-1, shrinking=True, tol=0.001, verbose=0)"
      ]
     },
     "execution_count": 163,
     "metadata": {},
     "output_type": "execute_result"
    },
    {
     "data": {
      "text/plain": [
       "SVR(C=0.1, cache_size=200, coef0=0.0, degree=3, epsilon=0.1, gamma=1e-05,\n",
       "  kernel='linear', max_iter=-1, shrinking=True, tol=0.001, verbose=0)"
      ]
     },
     "execution_count": 163,
     "metadata": {},
     "output_type": "execute_result"
    },
    {
     "data": {
      "text/plain": [
       "SVR(C=0.1, cache_size=200, coef0=0.0, degree=3, epsilon=0.1, gamma=1e-05,\n",
       "  kernel='linear', max_iter=-1, shrinking=True, tol=0.001, verbose=0)"
      ]
     },
     "execution_count": 163,
     "metadata": {},
     "output_type": "execute_result"
    },
    {
     "data": {
      "text/plain": [
       "SVR(C=0.1, cache_size=200, coef0=0.0, degree=3, epsilon=0.1, gamma=1e-05,\n",
       "  kernel='linear', max_iter=-1, shrinking=True, tol=0.001, verbose=0)"
      ]
     },
     "execution_count": 163,
     "metadata": {},
     "output_type": "execute_result"
    },
    {
     "data": {
      "text/plain": [
       "SVR(C=0.1, cache_size=200, coef0=0.0, degree=3, epsilon=0.1, gamma=1e-05,\n",
       "  kernel='linear', max_iter=-1, shrinking=True, tol=0.001, verbose=0)"
      ]
     },
     "execution_count": 163,
     "metadata": {},
     "output_type": "execute_result"
    },
    {
     "data": {
      "text/plain": [
       "SVR(C=0.1, cache_size=200, coef0=0.0, degree=3, epsilon=0.1, gamma=1e-05,\n",
       "  kernel='linear', max_iter=-1, shrinking=True, tol=0.001, verbose=0)"
      ]
     },
     "execution_count": 163,
     "metadata": {},
     "output_type": "execute_result"
    },
    {
     "data": {
      "text/plain": [
       "SVR(C=0.1, cache_size=200, coef0=0.0, degree=3, epsilon=0.1, gamma=1e-05,\n",
       "  kernel='linear', max_iter=-1, shrinking=True, tol=0.001, verbose=0)"
      ]
     },
     "execution_count": 163,
     "metadata": {},
     "output_type": "execute_result"
    },
    {
     "data": {
      "text/plain": [
       "SVR(C=0.1, cache_size=200, coef0=0.0, degree=3, epsilon=0.1, gamma=1e-05,\n",
       "  kernel='linear', max_iter=-1, shrinking=True, tol=0.001, verbose=0)"
      ]
     },
     "execution_count": 163,
     "metadata": {},
     "output_type": "execute_result"
    },
    {
     "data": {
      "text/plain": [
       "SVR(C=0.1, cache_size=200, coef0=0.0, degree=3, epsilon=0.1, gamma=1e-05,\n",
       "  kernel='linear', max_iter=-1, shrinking=True, tol=0.001, verbose=0)"
      ]
     },
     "execution_count": 163,
     "metadata": {},
     "output_type": "execute_result"
    },
    {
     "data": {
      "text/plain": [
       "SVR(C=0.1, cache_size=200, coef0=0.0, degree=3, epsilon=0.1, gamma=1e-05,\n",
       "  kernel='linear', max_iter=-1, shrinking=True, tol=0.001, verbose=0)"
      ]
     },
     "execution_count": 163,
     "metadata": {},
     "output_type": "execute_result"
    },
    {
     "data": {
      "text/plain": [
       "SVR(C=0.1, cache_size=200, coef0=0.0, degree=3, epsilon=0.1, gamma=1e-05,\n",
       "  kernel='linear', max_iter=-1, shrinking=True, tol=0.001, verbose=0)"
      ]
     },
     "execution_count": 163,
     "metadata": {},
     "output_type": "execute_result"
    },
    {
     "data": {
      "text/plain": [
       "SVR(C=0.1, cache_size=200, coef0=0.0, degree=3, epsilon=0.1, gamma=1e-05,\n",
       "  kernel='linear', max_iter=-1, shrinking=True, tol=0.001, verbose=0)"
      ]
     },
     "execution_count": 163,
     "metadata": {},
     "output_type": "execute_result"
    },
    {
     "data": {
      "text/plain": [
       "SVR(C=0.1, cache_size=200, coef0=0.0, degree=3, epsilon=0.1, gamma=1e-05,\n",
       "  kernel='linear', max_iter=-1, shrinking=True, tol=0.001, verbose=0)"
      ]
     },
     "execution_count": 163,
     "metadata": {},
     "output_type": "execute_result"
    },
    {
     "data": {
      "text/plain": [
       "SVR(C=0.1, cache_size=200, coef0=0.0, degree=3, epsilon=0.1, gamma=1e-05,\n",
       "  kernel='linear', max_iter=-1, shrinking=True, tol=0.001, verbose=0)"
      ]
     },
     "execution_count": 163,
     "metadata": {},
     "output_type": "execute_result"
    },
    {
     "data": {
      "text/plain": [
       "SVR(C=0.1, cache_size=200, coef0=0.0, degree=3, epsilon=0.1, gamma=1e-05,\n",
       "  kernel='linear', max_iter=-1, shrinking=True, tol=0.001, verbose=0)"
      ]
     },
     "execution_count": 163,
     "metadata": {},
     "output_type": "execute_result"
    },
    {
     "data": {
      "text/plain": [
       "SVR(C=0.1, cache_size=200, coef0=0.0, degree=3, epsilon=0.1, gamma=1e-05,\n",
       "  kernel='linear', max_iter=-1, shrinking=True, tol=0.001, verbose=0)"
      ]
     },
     "execution_count": 163,
     "metadata": {},
     "output_type": "execute_result"
    },
    {
     "data": {
      "text/plain": [
       "SVR(C=0.1, cache_size=200, coef0=0.0, degree=3, epsilon=0.1, gamma=1e-05,\n",
       "  kernel='linear', max_iter=-1, shrinking=True, tol=0.001, verbose=0)"
      ]
     },
     "execution_count": 163,
     "metadata": {},
     "output_type": "execute_result"
    },
    {
     "data": {
      "text/plain": [
       "SVR(C=0.1, cache_size=200, coef0=0.0, degree=3, epsilon=0.1, gamma=1e-05,\n",
       "  kernel='linear', max_iter=-1, shrinking=True, tol=0.001, verbose=0)"
      ]
     },
     "execution_count": 163,
     "metadata": {},
     "output_type": "execute_result"
    },
    {
     "data": {
      "text/plain": [
       "SVR(C=0.1, cache_size=200, coef0=0.0, degree=3, epsilon=0.1, gamma=1e-05,\n",
       "  kernel='linear', max_iter=-1, shrinking=True, tol=0.001, verbose=0)"
      ]
     },
     "execution_count": 163,
     "metadata": {},
     "output_type": "execute_result"
    },
    {
     "data": {
      "text/plain": [
       "SVR(C=0.1, cache_size=200, coef0=0.0, degree=3, epsilon=0.1, gamma=1e-05,\n",
       "  kernel='linear', max_iter=-1, shrinking=True, tol=0.001, verbose=0)"
      ]
     },
     "execution_count": 163,
     "metadata": {},
     "output_type": "execute_result"
    },
    {
     "data": {
      "text/plain": [
       "SVR(C=0.1, cache_size=200, coef0=0.0, degree=3, epsilon=0.1, gamma=1e-05,\n",
       "  kernel='linear', max_iter=-1, shrinking=True, tol=0.001, verbose=0)"
      ]
     },
     "execution_count": 163,
     "metadata": {},
     "output_type": "execute_result"
    },
    {
     "data": {
      "text/plain": [
       "SVR(C=0.1, cache_size=200, coef0=0.0, degree=3, epsilon=0.1, gamma=1e-05,\n",
       "  kernel='linear', max_iter=-1, shrinking=True, tol=0.001, verbose=0)"
      ]
     },
     "execution_count": 163,
     "metadata": {},
     "output_type": "execute_result"
    },
    {
     "data": {
      "text/plain": [
       "SVR(C=0.1, cache_size=200, coef0=0.0, degree=3, epsilon=0.1, gamma=1e-05,\n",
       "  kernel='linear', max_iter=-1, shrinking=True, tol=0.001, verbose=0)"
      ]
     },
     "execution_count": 163,
     "metadata": {},
     "output_type": "execute_result"
    },
    {
     "data": {
      "text/plain": [
       "SVR(C=0.1, cache_size=200, coef0=0.0, degree=3, epsilon=0.1, gamma=1e-05,\n",
       "  kernel='linear', max_iter=-1, shrinking=True, tol=0.001, verbose=0)"
      ]
     },
     "execution_count": 163,
     "metadata": {},
     "output_type": "execute_result"
    },
    {
     "data": {
      "text/plain": [
       "SVR(C=0.1, cache_size=200, coef0=0.0, degree=3, epsilon=0.1, gamma=1e-05,\n",
       "  kernel='linear', max_iter=-1, shrinking=True, tol=0.001, verbose=0)"
      ]
     },
     "execution_count": 163,
     "metadata": {},
     "output_type": "execute_result"
    },
    {
     "data": {
      "text/plain": [
       "SVR(C=0.1, cache_size=200, coef0=0.0, degree=3, epsilon=0.1, gamma=1e-05,\n",
       "  kernel='linear', max_iter=-1, shrinking=True, tol=0.001, verbose=0)"
      ]
     },
     "execution_count": 163,
     "metadata": {},
     "output_type": "execute_result"
    },
    {
     "data": {
      "text/plain": [
       "SVR(C=0.1, cache_size=200, coef0=0.0, degree=3, epsilon=0.1, gamma=1e-05,\n",
       "  kernel='linear', max_iter=-1, shrinking=True, tol=0.001, verbose=0)"
      ]
     },
     "execution_count": 163,
     "metadata": {},
     "output_type": "execute_result"
    },
    {
     "data": {
      "text/plain": [
       "SVR(C=0.1, cache_size=200, coef0=0.0, degree=3, epsilon=0.1, gamma=1e-05,\n",
       "  kernel='linear', max_iter=-1, shrinking=True, tol=0.001, verbose=0)"
      ]
     },
     "execution_count": 163,
     "metadata": {},
     "output_type": "execute_result"
    },
    {
     "data": {
      "text/plain": [
       "SVR(C=0.1, cache_size=200, coef0=0.0, degree=3, epsilon=0.1, gamma=1e-05,\n",
       "  kernel='linear', max_iter=-1, shrinking=True, tol=0.001, verbose=0)"
      ]
     },
     "execution_count": 163,
     "metadata": {},
     "output_type": "execute_result"
    },
    {
     "data": {
      "text/plain": [
       "SVR(C=0.1, cache_size=200, coef0=0.0, degree=3, epsilon=0.1, gamma=1e-05,\n",
       "  kernel='linear', max_iter=-1, shrinking=True, tol=0.001, verbose=0)"
      ]
     },
     "execution_count": 163,
     "metadata": {},
     "output_type": "execute_result"
    },
    {
     "data": {
      "text/plain": [
       "SVR(C=0.1, cache_size=200, coef0=0.0, degree=3, epsilon=0.1, gamma=1e-05,\n",
       "  kernel='linear', max_iter=-1, shrinking=True, tol=0.001, verbose=0)"
      ]
     },
     "execution_count": 163,
     "metadata": {},
     "output_type": "execute_result"
    },
    {
     "data": {
      "text/plain": [
       "SVR(C=0.1, cache_size=200, coef0=0.0, degree=3, epsilon=0.1, gamma=1e-05,\n",
       "  kernel='linear', max_iter=-1, shrinking=True, tol=0.001, verbose=0)"
      ]
     },
     "execution_count": 163,
     "metadata": {},
     "output_type": "execute_result"
    },
    {
     "data": {
      "text/plain": [
       "SVR(C=0.1, cache_size=200, coef0=0.0, degree=3, epsilon=0.1, gamma=1e-05,\n",
       "  kernel='linear', max_iter=-1, shrinking=True, tol=0.001, verbose=0)"
      ]
     },
     "execution_count": 163,
     "metadata": {},
     "output_type": "execute_result"
    },
    {
     "data": {
      "text/plain": [
       "SVR(C=0.1, cache_size=200, coef0=0.0, degree=3, epsilon=0.1, gamma=1e-05,\n",
       "  kernel='linear', max_iter=-1, shrinking=True, tol=0.001, verbose=0)"
      ]
     },
     "execution_count": 163,
     "metadata": {},
     "output_type": "execute_result"
    },
    {
     "data": {
      "text/plain": [
       "SVR(C=0.1, cache_size=200, coef0=0.0, degree=3, epsilon=0.1, gamma=1e-05,\n",
       "  kernel='linear', max_iter=-1, shrinking=True, tol=0.001, verbose=0)"
      ]
     },
     "execution_count": 163,
     "metadata": {},
     "output_type": "execute_result"
    },
    {
     "data": {
      "text/plain": [
       "SVR(C=0.1, cache_size=200, coef0=0.0, degree=3, epsilon=0.1, gamma=1e-05,\n",
       "  kernel='linear', max_iter=-1, shrinking=True, tol=0.001, verbose=0)"
      ]
     },
     "execution_count": 163,
     "metadata": {},
     "output_type": "execute_result"
    },
    {
     "data": {
      "text/plain": [
       "SVR(C=0.1, cache_size=200, coef0=0.0, degree=3, epsilon=0.1, gamma=1e-05,\n",
       "  kernel='linear', max_iter=-1, shrinking=True, tol=0.001, verbose=0)"
      ]
     },
     "execution_count": 163,
     "metadata": {},
     "output_type": "execute_result"
    },
    {
     "data": {
      "text/plain": [
       "SVR(C=0.1, cache_size=200, coef0=0.0, degree=3, epsilon=0.1, gamma=1e-05,\n",
       "  kernel='linear', max_iter=-1, shrinking=True, tol=0.001, verbose=0)"
      ]
     },
     "execution_count": 163,
     "metadata": {},
     "output_type": "execute_result"
    },
    {
     "data": {
      "text/plain": [
       "SVR(C=0.1, cache_size=200, coef0=0.0, degree=3, epsilon=0.1, gamma=1e-05,\n",
       "  kernel='linear', max_iter=-1, shrinking=True, tol=0.001, verbose=0)"
      ]
     },
     "execution_count": 163,
     "metadata": {},
     "output_type": "execute_result"
    },
    {
     "data": {
      "text/plain": [
       "SVR(C=0.1, cache_size=200, coef0=0.0, degree=3, epsilon=0.1, gamma=1e-05,\n",
       "  kernel='linear', max_iter=-1, shrinking=True, tol=0.001, verbose=0)"
      ]
     },
     "execution_count": 163,
     "metadata": {},
     "output_type": "execute_result"
    },
    {
     "data": {
      "text/plain": [
       "SVR(C=0.1, cache_size=200, coef0=0.0, degree=3, epsilon=0.1, gamma=1e-05,\n",
       "  kernel='linear', max_iter=-1, shrinking=True, tol=0.001, verbose=0)"
      ]
     },
     "execution_count": 163,
     "metadata": {},
     "output_type": "execute_result"
    },
    {
     "data": {
      "text/plain": [
       "SVR(C=0.1, cache_size=200, coef0=0.0, degree=3, epsilon=0.1, gamma=1e-05,\n",
       "  kernel='linear', max_iter=-1, shrinking=True, tol=0.001, verbose=0)"
      ]
     },
     "execution_count": 163,
     "metadata": {},
     "output_type": "execute_result"
    },
    {
     "data": {
      "text/plain": [
       "SVR(C=0.1, cache_size=200, coef0=0.0, degree=3, epsilon=0.1, gamma=1e-05,\n",
       "  kernel='linear', max_iter=-1, shrinking=True, tol=0.001, verbose=0)"
      ]
     },
     "execution_count": 163,
     "metadata": {},
     "output_type": "execute_result"
    },
    {
     "data": {
      "text/plain": [
       "SVR(C=0.1, cache_size=200, coef0=0.0, degree=3, epsilon=0.1, gamma=1e-05,\n",
       "  kernel='linear', max_iter=-1, shrinking=True, tol=0.001, verbose=0)"
      ]
     },
     "execution_count": 163,
     "metadata": {},
     "output_type": "execute_result"
    },
    {
     "data": {
      "text/plain": [
       "SVR(C=0.1, cache_size=200, coef0=0.0, degree=3, epsilon=0.1, gamma=1e-05,\n",
       "  kernel='linear', max_iter=-1, shrinking=True, tol=0.001, verbose=0)"
      ]
     },
     "execution_count": 163,
     "metadata": {},
     "output_type": "execute_result"
    },
    {
     "data": {
      "text/plain": [
       "SVR(C=0.1, cache_size=200, coef0=0.0, degree=3, epsilon=0.1, gamma=1e-05,\n",
       "  kernel='linear', max_iter=-1, shrinking=True, tol=0.001, verbose=0)"
      ]
     },
     "execution_count": 163,
     "metadata": {},
     "output_type": "execute_result"
    },
    {
     "data": {
      "text/plain": [
       "SVR(C=0.1, cache_size=200, coef0=0.0, degree=3, epsilon=0.1, gamma=1e-05,\n",
       "  kernel='linear', max_iter=-1, shrinking=True, tol=0.001, verbose=0)"
      ]
     },
     "execution_count": 163,
     "metadata": {},
     "output_type": "execute_result"
    },
    {
     "data": {
      "text/plain": [
       "SVR(C=0.1, cache_size=200, coef0=0.0, degree=3, epsilon=0.1, gamma=1e-05,\n",
       "  kernel='linear', max_iter=-1, shrinking=True, tol=0.001, verbose=0)"
      ]
     },
     "execution_count": 163,
     "metadata": {},
     "output_type": "execute_result"
    },
    {
     "data": {
      "text/plain": [
       "SVR(C=0.1, cache_size=200, coef0=0.0, degree=3, epsilon=0.1, gamma=1e-05,\n",
       "  kernel='linear', max_iter=-1, shrinking=True, tol=0.001, verbose=0)"
      ]
     },
     "execution_count": 163,
     "metadata": {},
     "output_type": "execute_result"
    },
    {
     "data": {
      "text/plain": [
       "SVR(C=0.1, cache_size=200, coef0=0.0, degree=3, epsilon=0.1, gamma=1e-05,\n",
       "  kernel='linear', max_iter=-1, shrinking=True, tol=0.001, verbose=0)"
      ]
     },
     "execution_count": 163,
     "metadata": {},
     "output_type": "execute_result"
    },
    {
     "data": {
      "text/plain": [
       "SVR(C=0.1, cache_size=200, coef0=0.0, degree=3, epsilon=0.1, gamma=1e-05,\n",
       "  kernel='linear', max_iter=-1, shrinking=True, tol=0.001, verbose=0)"
      ]
     },
     "execution_count": 163,
     "metadata": {},
     "output_type": "execute_result"
    },
    {
     "data": {
      "text/plain": [
       "SVR(C=0.1, cache_size=200, coef0=0.0, degree=3, epsilon=0.1, gamma=1e-05,\n",
       "  kernel='linear', max_iter=-1, shrinking=True, tol=0.001, verbose=0)"
      ]
     },
     "execution_count": 163,
     "metadata": {},
     "output_type": "execute_result"
    },
    {
     "data": {
      "text/plain": [
       "SVR(C=0.1, cache_size=200, coef0=0.0, degree=3, epsilon=0.1, gamma=1e-05,\n",
       "  kernel='linear', max_iter=-1, shrinking=True, tol=0.001, verbose=0)"
      ]
     },
     "execution_count": 163,
     "metadata": {},
     "output_type": "execute_result"
    },
    {
     "data": {
      "text/plain": [
       "SVR(C=0.1, cache_size=200, coef0=0.0, degree=3, epsilon=0.1, gamma=1e-05,\n",
       "  kernel='linear', max_iter=-1, shrinking=True, tol=0.001, verbose=0)"
      ]
     },
     "execution_count": 163,
     "metadata": {},
     "output_type": "execute_result"
    },
    {
     "data": {
      "text/plain": [
       "SVR(C=0.1, cache_size=200, coef0=0.0, degree=3, epsilon=0.1, gamma=1e-05,\n",
       "  kernel='linear', max_iter=-1, shrinking=True, tol=0.001, verbose=0)"
      ]
     },
     "execution_count": 163,
     "metadata": {},
     "output_type": "execute_result"
    },
    {
     "data": {
      "text/plain": [
       "SVR(C=0.1, cache_size=200, coef0=0.0, degree=3, epsilon=0.1, gamma=1e-05,\n",
       "  kernel='linear', max_iter=-1, shrinking=True, tol=0.001, verbose=0)"
      ]
     },
     "execution_count": 163,
     "metadata": {},
     "output_type": "execute_result"
    },
    {
     "data": {
      "text/plain": [
       "SVR(C=0.1, cache_size=200, coef0=0.0, degree=3, epsilon=0.1, gamma=1e-05,\n",
       "  kernel='linear', max_iter=-1, shrinking=True, tol=0.001, verbose=0)"
      ]
     },
     "execution_count": 163,
     "metadata": {},
     "output_type": "execute_result"
    },
    {
     "data": {
      "text/plain": [
       "SVR(C=0.1, cache_size=200, coef0=0.0, degree=3, epsilon=0.1, gamma=1e-05,\n",
       "  kernel='linear', max_iter=-1, shrinking=True, tol=0.001, verbose=0)"
      ]
     },
     "execution_count": 163,
     "metadata": {},
     "output_type": "execute_result"
    },
    {
     "data": {
      "text/plain": [
       "SVR(C=0.1, cache_size=200, coef0=0.0, degree=3, epsilon=0.1, gamma=1e-05,\n",
       "  kernel='linear', max_iter=-1, shrinking=True, tol=0.001, verbose=0)"
      ]
     },
     "execution_count": 163,
     "metadata": {},
     "output_type": "execute_result"
    },
    {
     "data": {
      "text/plain": [
       "SVR(C=0.1, cache_size=200, coef0=0.0, degree=3, epsilon=0.1, gamma=1e-05,\n",
       "  kernel='linear', max_iter=-1, shrinking=True, tol=0.001, verbose=0)"
      ]
     },
     "execution_count": 163,
     "metadata": {},
     "output_type": "execute_result"
    },
    {
     "data": {
      "text/plain": [
       "SVR(C=0.1, cache_size=200, coef0=0.0, degree=3, epsilon=0.1, gamma=1e-05,\n",
       "  kernel='linear', max_iter=-1, shrinking=True, tol=0.001, verbose=0)"
      ]
     },
     "execution_count": 163,
     "metadata": {},
     "output_type": "execute_result"
    },
    {
     "data": {
      "text/plain": [
       "SVR(C=0.1, cache_size=200, coef0=0.0, degree=3, epsilon=0.1, gamma=1e-05,\n",
       "  kernel='linear', max_iter=-1, shrinking=True, tol=0.001, verbose=0)"
      ]
     },
     "execution_count": 163,
     "metadata": {},
     "output_type": "execute_result"
    },
    {
     "data": {
      "text/plain": [
       "SVR(C=0.1, cache_size=200, coef0=0.0, degree=3, epsilon=0.1, gamma=1e-05,\n",
       "  kernel='linear', max_iter=-1, shrinking=True, tol=0.001, verbose=0)"
      ]
     },
     "execution_count": 163,
     "metadata": {},
     "output_type": "execute_result"
    },
    {
     "data": {
      "text/plain": [
       "SVR(C=0.1, cache_size=200, coef0=0.0, degree=3, epsilon=0.1, gamma=1e-05,\n",
       "  kernel='linear', max_iter=-1, shrinking=True, tol=0.001, verbose=0)"
      ]
     },
     "execution_count": 163,
     "metadata": {},
     "output_type": "execute_result"
    },
    {
     "data": {
      "text/plain": [
       "SVR(C=0.1, cache_size=200, coef0=0.0, degree=3, epsilon=0.1, gamma=1e-05,\n",
       "  kernel='linear', max_iter=-1, shrinking=True, tol=0.001, verbose=0)"
      ]
     },
     "execution_count": 163,
     "metadata": {},
     "output_type": "execute_result"
    },
    {
     "data": {
      "text/plain": [
       "SVR(C=0.1, cache_size=200, coef0=0.0, degree=3, epsilon=0.1, gamma=1e-05,\n",
       "  kernel='linear', max_iter=-1, shrinking=True, tol=0.001, verbose=0)"
      ]
     },
     "execution_count": 163,
     "metadata": {},
     "output_type": "execute_result"
    },
    {
     "data": {
      "text/plain": [
       "SVR(C=0.1, cache_size=200, coef0=0.0, degree=3, epsilon=0.1, gamma=1e-05,\n",
       "  kernel='linear', max_iter=-1, shrinking=True, tol=0.001, verbose=0)"
      ]
     },
     "execution_count": 163,
     "metadata": {},
     "output_type": "execute_result"
    },
    {
     "data": {
      "text/plain": [
       "SVR(C=0.1, cache_size=200, coef0=0.0, degree=3, epsilon=0.1, gamma=1e-05,\n",
       "  kernel='linear', max_iter=-1, shrinking=True, tol=0.001, verbose=0)"
      ]
     },
     "execution_count": 163,
     "metadata": {},
     "output_type": "execute_result"
    },
    {
     "data": {
      "text/plain": [
       "SVR(C=0.1, cache_size=200, coef0=0.0, degree=3, epsilon=0.1, gamma=1e-05,\n",
       "  kernel='linear', max_iter=-1, shrinking=True, tol=0.001, verbose=0)"
      ]
     },
     "execution_count": 163,
     "metadata": {},
     "output_type": "execute_result"
    },
    {
     "data": {
      "text/plain": [
       "SVR(C=0.1, cache_size=200, coef0=0.0, degree=3, epsilon=0.1, gamma=1e-05,\n",
       "  kernel='linear', max_iter=-1, shrinking=True, tol=0.001, verbose=0)"
      ]
     },
     "execution_count": 163,
     "metadata": {},
     "output_type": "execute_result"
    },
    {
     "data": {
      "text/plain": [
       "SVR(C=0.1, cache_size=200, coef0=0.0, degree=3, epsilon=0.1, gamma=1e-05,\n",
       "  kernel='linear', max_iter=-1, shrinking=True, tol=0.001, verbose=0)"
      ]
     },
     "execution_count": 163,
     "metadata": {},
     "output_type": "execute_result"
    },
    {
     "data": {
      "text/plain": [
       "SVR(C=0.1, cache_size=200, coef0=0.0, degree=3, epsilon=0.1, gamma=1e-05,\n",
       "  kernel='linear', max_iter=-1, shrinking=True, tol=0.001, verbose=0)"
      ]
     },
     "execution_count": 163,
     "metadata": {},
     "output_type": "execute_result"
    },
    {
     "data": {
      "text/plain": [
       "SVR(C=0.1, cache_size=200, coef0=0.0, degree=3, epsilon=0.1, gamma=1e-05,\n",
       "  kernel='linear', max_iter=-1, shrinking=True, tol=0.001, verbose=0)"
      ]
     },
     "execution_count": 163,
     "metadata": {},
     "output_type": "execute_result"
    },
    {
     "data": {
      "text/plain": [
       "SVR(C=0.1, cache_size=200, coef0=0.0, degree=3, epsilon=0.1, gamma=1e-05,\n",
       "  kernel='linear', max_iter=-1, shrinking=True, tol=0.001, verbose=0)"
      ]
     },
     "execution_count": 163,
     "metadata": {},
     "output_type": "execute_result"
    },
    {
     "data": {
      "text/plain": [
       "SVR(C=0.1, cache_size=200, coef0=0.0, degree=3, epsilon=0.1, gamma=1e-05,\n",
       "  kernel='linear', max_iter=-1, shrinking=True, tol=0.001, verbose=0)"
      ]
     },
     "execution_count": 163,
     "metadata": {},
     "output_type": "execute_result"
    },
    {
     "data": {
      "text/plain": [
       "SVR(C=0.1, cache_size=200, coef0=0.0, degree=3, epsilon=0.1, gamma=1e-05,\n",
       "  kernel='linear', max_iter=-1, shrinking=True, tol=0.001, verbose=0)"
      ]
     },
     "execution_count": 163,
     "metadata": {},
     "output_type": "execute_result"
    },
    {
     "data": {
      "text/plain": [
       "SVR(C=0.1, cache_size=200, coef0=0.0, degree=3, epsilon=0.1, gamma=1e-05,\n",
       "  kernel='linear', max_iter=-1, shrinking=True, tol=0.001, verbose=0)"
      ]
     },
     "execution_count": 163,
     "metadata": {},
     "output_type": "execute_result"
    },
    {
     "data": {
      "text/plain": [
       "SVR(C=0.1, cache_size=200, coef0=0.0, degree=3, epsilon=0.1, gamma=1e-05,\n",
       "  kernel='linear', max_iter=-1, shrinking=True, tol=0.001, verbose=0)"
      ]
     },
     "execution_count": 163,
     "metadata": {},
     "output_type": "execute_result"
    },
    {
     "data": {
      "text/plain": [
       "SVR(C=0.1, cache_size=200, coef0=0.0, degree=3, epsilon=0.1, gamma=1e-05,\n",
       "  kernel='linear', max_iter=-1, shrinking=True, tol=0.001, verbose=0)"
      ]
     },
     "execution_count": 163,
     "metadata": {},
     "output_type": "execute_result"
    },
    {
     "data": {
      "text/plain": [
       "SVR(C=0.1, cache_size=200, coef0=0.0, degree=3, epsilon=0.1, gamma=1e-05,\n",
       "  kernel='linear', max_iter=-1, shrinking=True, tol=0.001, verbose=0)"
      ]
     },
     "execution_count": 163,
     "metadata": {},
     "output_type": "execute_result"
    },
    {
     "data": {
      "text/plain": [
       "SVR(C=0.1, cache_size=200, coef0=0.0, degree=3, epsilon=0.1, gamma=1e-05,\n",
       "  kernel='linear', max_iter=-1, shrinking=True, tol=0.001, verbose=0)"
      ]
     },
     "execution_count": 163,
     "metadata": {},
     "output_type": "execute_result"
    },
    {
     "data": {
      "text/plain": [
       "SVR(C=0.1, cache_size=200, coef0=0.0, degree=3, epsilon=0.1, gamma=1e-05,\n",
       "  kernel='linear', max_iter=-1, shrinking=True, tol=0.001, verbose=0)"
      ]
     },
     "execution_count": 163,
     "metadata": {},
     "output_type": "execute_result"
    },
    {
     "data": {
      "text/plain": [
       "SVR(C=0.1, cache_size=200, coef0=0.0, degree=3, epsilon=0.1, gamma=1e-05,\n",
       "  kernel='linear', max_iter=-1, shrinking=True, tol=0.001, verbose=0)"
      ]
     },
     "execution_count": 163,
     "metadata": {},
     "output_type": "execute_result"
    },
    {
     "data": {
      "text/plain": [
       "SVR(C=0.1, cache_size=200, coef0=0.0, degree=3, epsilon=0.1, gamma=1e-05,\n",
       "  kernel='linear', max_iter=-1, shrinking=True, tol=0.001, verbose=0)"
      ]
     },
     "execution_count": 163,
     "metadata": {},
     "output_type": "execute_result"
    },
    {
     "data": {
      "text/plain": [
       "SVR(C=0.1, cache_size=200, coef0=0.0, degree=3, epsilon=0.1, gamma=1e-05,\n",
       "  kernel='linear', max_iter=-1, shrinking=True, tol=0.001, verbose=0)"
      ]
     },
     "execution_count": 163,
     "metadata": {},
     "output_type": "execute_result"
    },
    {
     "data": {
      "text/plain": [
       "SVR(C=0.1, cache_size=200, coef0=0.0, degree=3, epsilon=0.1, gamma=1e-05,\n",
       "  kernel='linear', max_iter=-1, shrinking=True, tol=0.001, verbose=0)"
      ]
     },
     "execution_count": 163,
     "metadata": {},
     "output_type": "execute_result"
    },
    {
     "data": {
      "text/plain": [
       "SVR(C=0.1, cache_size=200, coef0=0.0, degree=3, epsilon=0.1, gamma=1e-05,\n",
       "  kernel='linear', max_iter=-1, shrinking=True, tol=0.001, verbose=0)"
      ]
     },
     "execution_count": 163,
     "metadata": {},
     "output_type": "execute_result"
    },
    {
     "data": {
      "text/plain": [
       "SVR(C=0.1, cache_size=200, coef0=0.0, degree=3, epsilon=0.1, gamma=1e-05,\n",
       "  kernel='linear', max_iter=-1, shrinking=True, tol=0.001, verbose=0)"
      ]
     },
     "execution_count": 163,
     "metadata": {},
     "output_type": "execute_result"
    },
    {
     "data": {
      "text/plain": [
       "SVR(C=0.1, cache_size=200, coef0=0.0, degree=3, epsilon=0.1, gamma=1e-05,\n",
       "  kernel='linear', max_iter=-1, shrinking=True, tol=0.001, verbose=0)"
      ]
     },
     "execution_count": 163,
     "metadata": {},
     "output_type": "execute_result"
    },
    {
     "data": {
      "text/plain": [
       "SVR(C=0.1, cache_size=200, coef0=0.0, degree=3, epsilon=0.1, gamma=1e-05,\n",
       "  kernel='linear', max_iter=-1, shrinking=True, tol=0.001, verbose=0)"
      ]
     },
     "execution_count": 163,
     "metadata": {},
     "output_type": "execute_result"
    },
    {
     "data": {
      "text/plain": [
       "SVR(C=0.1, cache_size=200, coef0=0.0, degree=3, epsilon=0.1, gamma=1e-05,\n",
       "  kernel='linear', max_iter=-1, shrinking=True, tol=0.001, verbose=0)"
      ]
     },
     "execution_count": 163,
     "metadata": {},
     "output_type": "execute_result"
    },
    {
     "data": {
      "text/plain": [
       "SVR(C=0.1, cache_size=200, coef0=0.0, degree=3, epsilon=0.1, gamma=1e-05,\n",
       "  kernel='linear', max_iter=-1, shrinking=True, tol=0.001, verbose=0)"
      ]
     },
     "execution_count": 163,
     "metadata": {},
     "output_type": "execute_result"
    },
    {
     "data": {
      "text/plain": [
       "SVR(C=0.1, cache_size=200, coef0=0.0, degree=3, epsilon=0.1, gamma=1e-05,\n",
       "  kernel='linear', max_iter=-1, shrinking=True, tol=0.001, verbose=0)"
      ]
     },
     "execution_count": 163,
     "metadata": {},
     "output_type": "execute_result"
    },
    {
     "data": {
      "text/plain": [
       "SVR(C=0.1, cache_size=200, coef0=0.0, degree=3, epsilon=0.1, gamma=1e-05,\n",
       "  kernel='linear', max_iter=-1, shrinking=True, tol=0.001, verbose=0)"
      ]
     },
     "execution_count": 163,
     "metadata": {},
     "output_type": "execute_result"
    },
    {
     "data": {
      "text/plain": [
       "SVR(C=0.1, cache_size=200, coef0=0.0, degree=3, epsilon=0.1, gamma=1e-05,\n",
       "  kernel='linear', max_iter=-1, shrinking=True, tol=0.001, verbose=0)"
      ]
     },
     "execution_count": 163,
     "metadata": {},
     "output_type": "execute_result"
    },
    {
     "data": {
      "text/plain": [
       "SVR(C=0.1, cache_size=200, coef0=0.0, degree=3, epsilon=0.1, gamma=1e-05,\n",
       "  kernel='linear', max_iter=-1, shrinking=True, tol=0.001, verbose=0)"
      ]
     },
     "execution_count": 163,
     "metadata": {},
     "output_type": "execute_result"
    },
    {
     "data": {
      "text/plain": [
       "SVR(C=0.1, cache_size=200, coef0=0.0, degree=3, epsilon=0.1, gamma=1e-05,\n",
       "  kernel='linear', max_iter=-1, shrinking=True, tol=0.001, verbose=0)"
      ]
     },
     "execution_count": 163,
     "metadata": {},
     "output_type": "execute_result"
    },
    {
     "data": {
      "text/plain": [
       "SVR(C=0.1, cache_size=200, coef0=0.0, degree=3, epsilon=0.1, gamma=1e-05,\n",
       "  kernel='linear', max_iter=-1, shrinking=True, tol=0.001, verbose=0)"
      ]
     },
     "execution_count": 163,
     "metadata": {},
     "output_type": "execute_result"
    },
    {
     "data": {
      "text/plain": [
       "SVR(C=0.1, cache_size=200, coef0=0.0, degree=3, epsilon=0.1, gamma=1e-05,\n",
       "  kernel='linear', max_iter=-1, shrinking=True, tol=0.001, verbose=0)"
      ]
     },
     "execution_count": 163,
     "metadata": {},
     "output_type": "execute_result"
    },
    {
     "data": {
      "text/plain": [
       "SVR(C=0.1, cache_size=200, coef0=0.0, degree=3, epsilon=0.1, gamma=1e-05,\n",
       "  kernel='linear', max_iter=-1, shrinking=True, tol=0.001, verbose=0)"
      ]
     },
     "execution_count": 163,
     "metadata": {},
     "output_type": "execute_result"
    },
    {
     "data": {
      "text/plain": [
       "SVR(C=0.1, cache_size=200, coef0=0.0, degree=3, epsilon=0.1, gamma=1e-05,\n",
       "  kernel='linear', max_iter=-1, shrinking=True, tol=0.001, verbose=0)"
      ]
     },
     "execution_count": 163,
     "metadata": {},
     "output_type": "execute_result"
    },
    {
     "data": {
      "text/plain": [
       "SVR(C=0.1, cache_size=200, coef0=0.0, degree=3, epsilon=0.1, gamma=1e-05,\n",
       "  kernel='linear', max_iter=-1, shrinking=True, tol=0.001, verbose=0)"
      ]
     },
     "execution_count": 163,
     "metadata": {},
     "output_type": "execute_result"
    },
    {
     "data": {
      "text/plain": [
       "SVR(C=0.1, cache_size=200, coef0=0.0, degree=3, epsilon=0.1, gamma=1e-05,\n",
       "  kernel='linear', max_iter=-1, shrinking=True, tol=0.001, verbose=0)"
      ]
     },
     "execution_count": 163,
     "metadata": {},
     "output_type": "execute_result"
    },
    {
     "data": {
      "text/plain": [
       "SVR(C=0.1, cache_size=200, coef0=0.0, degree=3, epsilon=0.1, gamma=1e-05,\n",
       "  kernel='linear', max_iter=-1, shrinking=True, tol=0.001, verbose=0)"
      ]
     },
     "execution_count": 163,
     "metadata": {},
     "output_type": "execute_result"
    },
    {
     "data": {
      "text/plain": [
       "SVR(C=0.1, cache_size=200, coef0=0.0, degree=3, epsilon=0.1, gamma=1e-05,\n",
       "  kernel='linear', max_iter=-1, shrinking=True, tol=0.001, verbose=0)"
      ]
     },
     "execution_count": 163,
     "metadata": {},
     "output_type": "execute_result"
    },
    {
     "data": {
      "text/plain": [
       "SVR(C=0.1, cache_size=200, coef0=0.0, degree=3, epsilon=0.1, gamma=1e-05,\n",
       "  kernel='linear', max_iter=-1, shrinking=True, tol=0.001, verbose=0)"
      ]
     },
     "execution_count": 163,
     "metadata": {},
     "output_type": "execute_result"
    },
    {
     "data": {
      "text/plain": [
       "SVR(C=0.1, cache_size=200, coef0=0.0, degree=3, epsilon=0.1, gamma=1e-05,\n",
       "  kernel='linear', max_iter=-1, shrinking=True, tol=0.001, verbose=0)"
      ]
     },
     "execution_count": 163,
     "metadata": {},
     "output_type": "execute_result"
    },
    {
     "data": {
      "text/plain": [
       "SVR(C=0.1, cache_size=200, coef0=0.0, degree=3, epsilon=0.1, gamma=1e-05,\n",
       "  kernel='linear', max_iter=-1, shrinking=True, tol=0.001, verbose=0)"
      ]
     },
     "execution_count": 163,
     "metadata": {},
     "output_type": "execute_result"
    },
    {
     "data": {
      "text/plain": [
       "SVR(C=0.1, cache_size=200, coef0=0.0, degree=3, epsilon=0.1, gamma=1e-05,\n",
       "  kernel='linear', max_iter=-1, shrinking=True, tol=0.001, verbose=0)"
      ]
     },
     "execution_count": 163,
     "metadata": {},
     "output_type": "execute_result"
    },
    {
     "data": {
      "text/plain": [
       "SVR(C=0.1, cache_size=200, coef0=0.0, degree=3, epsilon=0.1, gamma=1e-05,\n",
       "  kernel='linear', max_iter=-1, shrinking=True, tol=0.001, verbose=0)"
      ]
     },
     "execution_count": 163,
     "metadata": {},
     "output_type": "execute_result"
    },
    {
     "data": {
      "text/plain": [
       "SVR(C=0.1, cache_size=200, coef0=0.0, degree=3, epsilon=0.1, gamma=1e-05,\n",
       "  kernel='linear', max_iter=-1, shrinking=True, tol=0.001, verbose=0)"
      ]
     },
     "execution_count": 163,
     "metadata": {},
     "output_type": "execute_result"
    },
    {
     "data": {
      "text/plain": [
       "SVR(C=0.1, cache_size=200, coef0=0.0, degree=3, epsilon=0.1, gamma=1e-05,\n",
       "  kernel='linear', max_iter=-1, shrinking=True, tol=0.001, verbose=0)"
      ]
     },
     "execution_count": 163,
     "metadata": {},
     "output_type": "execute_result"
    },
    {
     "data": {
      "text/plain": [
       "SVR(C=0.1, cache_size=200, coef0=0.0, degree=3, epsilon=0.1, gamma=1e-05,\n",
       "  kernel='linear', max_iter=-1, shrinking=True, tol=0.001, verbose=0)"
      ]
     },
     "execution_count": 163,
     "metadata": {},
     "output_type": "execute_result"
    },
    {
     "data": {
      "text/plain": [
       "SVR(C=0.1, cache_size=200, coef0=0.0, degree=3, epsilon=0.1, gamma=1e-05,\n",
       "  kernel='linear', max_iter=-1, shrinking=True, tol=0.001, verbose=0)"
      ]
     },
     "execution_count": 163,
     "metadata": {},
     "output_type": "execute_result"
    },
    {
     "data": {
      "text/plain": [
       "SVR(C=0.1, cache_size=200, coef0=0.0, degree=3, epsilon=0.1, gamma=1e-05,\n",
       "  kernel='linear', max_iter=-1, shrinking=True, tol=0.001, verbose=0)"
      ]
     },
     "execution_count": 163,
     "metadata": {},
     "output_type": "execute_result"
    },
    {
     "data": {
      "text/plain": [
       "SVR(C=0.1, cache_size=200, coef0=0.0, degree=3, epsilon=0.1, gamma=1e-05,\n",
       "  kernel='linear', max_iter=-1, shrinking=True, tol=0.001, verbose=0)"
      ]
     },
     "execution_count": 163,
     "metadata": {},
     "output_type": "execute_result"
    },
    {
     "data": {
      "text/plain": [
       "SVR(C=0.1, cache_size=200, coef0=0.0, degree=3, epsilon=0.1, gamma=1e-05,\n",
       "  kernel='linear', max_iter=-1, shrinking=True, tol=0.001, verbose=0)"
      ]
     },
     "execution_count": 163,
     "metadata": {},
     "output_type": "execute_result"
    },
    {
     "data": {
      "text/plain": [
       "SVR(C=0.1, cache_size=200, coef0=0.0, degree=3, epsilon=0.1, gamma=1e-05,\n",
       "  kernel='linear', max_iter=-1, shrinking=True, tol=0.001, verbose=0)"
      ]
     },
     "execution_count": 163,
     "metadata": {},
     "output_type": "execute_result"
    },
    {
     "data": {
      "text/plain": [
       "SVR(C=0.1, cache_size=200, coef0=0.0, degree=3, epsilon=0.1, gamma=1e-05,\n",
       "  kernel='linear', max_iter=-1, shrinking=True, tol=0.001, verbose=0)"
      ]
     },
     "execution_count": 163,
     "metadata": {},
     "output_type": "execute_result"
    },
    {
     "data": {
      "text/plain": [
       "SVR(C=0.1, cache_size=200, coef0=0.0, degree=3, epsilon=0.1, gamma=1e-05,\n",
       "  kernel='linear', max_iter=-1, shrinking=True, tol=0.001, verbose=0)"
      ]
     },
     "execution_count": 163,
     "metadata": {},
     "output_type": "execute_result"
    },
    {
     "data": {
      "text/plain": [
       "SVR(C=0.1, cache_size=200, coef0=0.0, degree=3, epsilon=0.1, gamma=1e-05,\n",
       "  kernel='linear', max_iter=-1, shrinking=True, tol=0.001, verbose=0)"
      ]
     },
     "execution_count": 163,
     "metadata": {},
     "output_type": "execute_result"
    },
    {
     "data": {
      "text/plain": [
       "SVR(C=0.1, cache_size=200, coef0=0.0, degree=3, epsilon=0.1, gamma=1e-05,\n",
       "  kernel='linear', max_iter=-1, shrinking=True, tol=0.001, verbose=0)"
      ]
     },
     "execution_count": 163,
     "metadata": {},
     "output_type": "execute_result"
    },
    {
     "data": {
      "text/plain": [
       "SVR(C=0.1, cache_size=200, coef0=0.0, degree=3, epsilon=0.1, gamma=1e-05,\n",
       "  kernel='linear', max_iter=-1, shrinking=True, tol=0.001, verbose=0)"
      ]
     },
     "execution_count": 163,
     "metadata": {},
     "output_type": "execute_result"
    },
    {
     "data": {
      "text/plain": [
       "SVR(C=0.1, cache_size=200, coef0=0.0, degree=3, epsilon=0.1, gamma=1e-05,\n",
       "  kernel='linear', max_iter=-1, shrinking=True, tol=0.001, verbose=0)"
      ]
     },
     "execution_count": 163,
     "metadata": {},
     "output_type": "execute_result"
    },
    {
     "data": {
      "text/plain": [
       "SVR(C=0.1, cache_size=200, coef0=0.0, degree=3, epsilon=0.1, gamma=1e-05,\n",
       "  kernel='linear', max_iter=-1, shrinking=True, tol=0.001, verbose=0)"
      ]
     },
     "execution_count": 163,
     "metadata": {},
     "output_type": "execute_result"
    },
    {
     "data": {
      "text/plain": [
       "SVR(C=0.1, cache_size=200, coef0=0.0, degree=3, epsilon=0.1, gamma=1e-05,\n",
       "  kernel='linear', max_iter=-1, shrinking=True, tol=0.001, verbose=0)"
      ]
     },
     "execution_count": 163,
     "metadata": {},
     "output_type": "execute_result"
    },
    {
     "data": {
      "text/plain": [
       "SVR(C=0.1, cache_size=200, coef0=0.0, degree=3, epsilon=0.1, gamma=1e-05,\n",
       "  kernel='linear', max_iter=-1, shrinking=True, tol=0.001, verbose=0)"
      ]
     },
     "execution_count": 163,
     "metadata": {},
     "output_type": "execute_result"
    },
    {
     "data": {
      "text/plain": [
       "SVR(C=0.1, cache_size=200, coef0=0.0, degree=3, epsilon=0.1, gamma=1e-05,\n",
       "  kernel='linear', max_iter=-1, shrinking=True, tol=0.001, verbose=0)"
      ]
     },
     "execution_count": 163,
     "metadata": {},
     "output_type": "execute_result"
    },
    {
     "data": {
      "text/plain": [
       "SVR(C=0.1, cache_size=200, coef0=0.0, degree=3, epsilon=0.1, gamma=1e-05,\n",
       "  kernel='linear', max_iter=-1, shrinking=True, tol=0.001, verbose=0)"
      ]
     },
     "execution_count": 163,
     "metadata": {},
     "output_type": "execute_result"
    },
    {
     "data": {
      "text/plain": [
       "SVR(C=0.1, cache_size=200, coef0=0.0, degree=3, epsilon=0.1, gamma=1e-05,\n",
       "  kernel='linear', max_iter=-1, shrinking=True, tol=0.001, verbose=0)"
      ]
     },
     "execution_count": 163,
     "metadata": {},
     "output_type": "execute_result"
    },
    {
     "data": {
      "text/plain": [
       "SVR(C=0.1, cache_size=200, coef0=0.0, degree=3, epsilon=0.1, gamma=1e-05,\n",
       "  kernel='linear', max_iter=-1, shrinking=True, tol=0.001, verbose=0)"
      ]
     },
     "execution_count": 163,
     "metadata": {},
     "output_type": "execute_result"
    },
    {
     "data": {
      "text/plain": [
       "SVR(C=0.1, cache_size=200, coef0=0.0, degree=3, epsilon=0.1, gamma=1e-05,\n",
       "  kernel='linear', max_iter=-1, shrinking=True, tol=0.001, verbose=0)"
      ]
     },
     "execution_count": 163,
     "metadata": {},
     "output_type": "execute_result"
    },
    {
     "data": {
      "text/plain": [
       "SVR(C=0.1, cache_size=200, coef0=0.0, degree=3, epsilon=0.1, gamma=1e-05,\n",
       "  kernel='linear', max_iter=-1, shrinking=True, tol=0.001, verbose=0)"
      ]
     },
     "execution_count": 163,
     "metadata": {},
     "output_type": "execute_result"
    },
    {
     "data": {
      "text/plain": [
       "SVR(C=0.1, cache_size=200, coef0=0.0, degree=3, epsilon=0.1, gamma=1e-05,\n",
       "  kernel='linear', max_iter=-1, shrinking=True, tol=0.001, verbose=0)"
      ]
     },
     "execution_count": 163,
     "metadata": {},
     "output_type": "execute_result"
    },
    {
     "data": {
      "text/plain": [
       "SVR(C=0.1, cache_size=200, coef0=0.0, degree=3, epsilon=0.1, gamma=1e-05,\n",
       "  kernel='linear', max_iter=-1, shrinking=True, tol=0.001, verbose=0)"
      ]
     },
     "execution_count": 163,
     "metadata": {},
     "output_type": "execute_result"
    },
    {
     "data": {
      "text/plain": [
       "SVR(C=0.1, cache_size=200, coef0=0.0, degree=3, epsilon=0.1, gamma=1e-05,\n",
       "  kernel='linear', max_iter=-1, shrinking=True, tol=0.001, verbose=0)"
      ]
     },
     "execution_count": 163,
     "metadata": {},
     "output_type": "execute_result"
    },
    {
     "data": {
      "text/plain": [
       "SVR(C=0.1, cache_size=200, coef0=0.0, degree=3, epsilon=0.1, gamma=1e-05,\n",
       "  kernel='linear', max_iter=-1, shrinking=True, tol=0.001, verbose=0)"
      ]
     },
     "execution_count": 163,
     "metadata": {},
     "output_type": "execute_result"
    },
    {
     "data": {
      "text/plain": [
       "SVR(C=0.1, cache_size=200, coef0=0.0, degree=3, epsilon=0.1, gamma=1e-05,\n",
       "  kernel='linear', max_iter=-1, shrinking=True, tol=0.001, verbose=0)"
      ]
     },
     "execution_count": 163,
     "metadata": {},
     "output_type": "execute_result"
    },
    {
     "data": {
      "text/plain": [
       "SVR(C=0.1, cache_size=200, coef0=0.0, degree=3, epsilon=0.1, gamma=1e-05,\n",
       "  kernel='linear', max_iter=-1, shrinking=True, tol=0.001, verbose=0)"
      ]
     },
     "execution_count": 163,
     "metadata": {},
     "output_type": "execute_result"
    },
    {
     "data": {
      "text/plain": [
       "SVR(C=0.1, cache_size=200, coef0=0.0, degree=3, epsilon=0.1, gamma=1e-05,\n",
       "  kernel='linear', max_iter=-1, shrinking=True, tol=0.001, verbose=0)"
      ]
     },
     "execution_count": 163,
     "metadata": {},
     "output_type": "execute_result"
    },
    {
     "data": {
      "text/plain": [
       "SVR(C=0.1, cache_size=200, coef0=0.0, degree=3, epsilon=0.1, gamma=1e-05,\n",
       "  kernel='linear', max_iter=-1, shrinking=True, tol=0.001, verbose=0)"
      ]
     },
     "execution_count": 163,
     "metadata": {},
     "output_type": "execute_result"
    },
    {
     "data": {
      "text/plain": [
       "SVR(C=0.1, cache_size=200, coef0=0.0, degree=3, epsilon=0.1, gamma=1e-05,\n",
       "  kernel='linear', max_iter=-1, shrinking=True, tol=0.001, verbose=0)"
      ]
     },
     "execution_count": 163,
     "metadata": {},
     "output_type": "execute_result"
    },
    {
     "data": {
      "text/plain": [
       "SVR(C=0.1, cache_size=200, coef0=0.0, degree=3, epsilon=0.1, gamma=1e-05,\n",
       "  kernel='linear', max_iter=-1, shrinking=True, tol=0.001, verbose=0)"
      ]
     },
     "execution_count": 163,
     "metadata": {},
     "output_type": "execute_result"
    },
    {
     "data": {
      "text/plain": [
       "SVR(C=0.1, cache_size=200, coef0=0.0, degree=3, epsilon=0.1, gamma=1e-05,\n",
       "  kernel='linear', max_iter=-1, shrinking=True, tol=0.001, verbose=0)"
      ]
     },
     "execution_count": 163,
     "metadata": {},
     "output_type": "execute_result"
    },
    {
     "data": {
      "text/plain": [
       "SVR(C=0.1, cache_size=200, coef0=0.0, degree=3, epsilon=0.1, gamma=1e-05,\n",
       "  kernel='linear', max_iter=-1, shrinking=True, tol=0.001, verbose=0)"
      ]
     },
     "execution_count": 163,
     "metadata": {},
     "output_type": "execute_result"
    },
    {
     "data": {
      "text/plain": [
       "SVR(C=0.1, cache_size=200, coef0=0.0, degree=3, epsilon=0.1, gamma=1e-05,\n",
       "  kernel='linear', max_iter=-1, shrinking=True, tol=0.001, verbose=0)"
      ]
     },
     "execution_count": 163,
     "metadata": {},
     "output_type": "execute_result"
    },
    {
     "data": {
      "text/plain": [
       "SVR(C=0.1, cache_size=200, coef0=0.0, degree=3, epsilon=0.1, gamma=1e-05,\n",
       "  kernel='linear', max_iter=-1, shrinking=True, tol=0.001, verbose=0)"
      ]
     },
     "execution_count": 163,
     "metadata": {},
     "output_type": "execute_result"
    },
    {
     "data": {
      "text/plain": [
       "SVR(C=0.1, cache_size=200, coef0=0.0, degree=3, epsilon=0.1, gamma=1e-05,\n",
       "  kernel='linear', max_iter=-1, shrinking=True, tol=0.001, verbose=0)"
      ]
     },
     "execution_count": 163,
     "metadata": {},
     "output_type": "execute_result"
    },
    {
     "data": {
      "text/plain": [
       "SVR(C=0.1, cache_size=200, coef0=0.0, degree=3, epsilon=0.1, gamma=1e-05,\n",
       "  kernel='linear', max_iter=-1, shrinking=True, tol=0.001, verbose=0)"
      ]
     },
     "execution_count": 163,
     "metadata": {},
     "output_type": "execute_result"
    },
    {
     "data": {
      "text/plain": [
       "SVR(C=0.1, cache_size=200, coef0=0.0, degree=3, epsilon=0.1, gamma=1e-05,\n",
       "  kernel='linear', max_iter=-1, shrinking=True, tol=0.001, verbose=0)"
      ]
     },
     "execution_count": 163,
     "metadata": {},
     "output_type": "execute_result"
    },
    {
     "data": {
      "text/plain": [
       "SVR(C=0.1, cache_size=200, coef0=0.0, degree=3, epsilon=0.1, gamma=1e-05,\n",
       "  kernel='linear', max_iter=-1, shrinking=True, tol=0.001, verbose=0)"
      ]
     },
     "execution_count": 163,
     "metadata": {},
     "output_type": "execute_result"
    },
    {
     "data": {
      "text/plain": [
       "SVR(C=0.1, cache_size=200, coef0=0.0, degree=3, epsilon=0.1, gamma=1e-05,\n",
       "  kernel='linear', max_iter=-1, shrinking=True, tol=0.001, verbose=0)"
      ]
     },
     "execution_count": 163,
     "metadata": {},
     "output_type": "execute_result"
    },
    {
     "data": {
      "text/plain": [
       "SVR(C=0.1, cache_size=200, coef0=0.0, degree=3, epsilon=0.1, gamma=1e-05,\n",
       "  kernel='linear', max_iter=-1, shrinking=True, tol=0.001, verbose=0)"
      ]
     },
     "execution_count": 163,
     "metadata": {},
     "output_type": "execute_result"
    },
    {
     "data": {
      "text/plain": [
       "SVR(C=0.1, cache_size=200, coef0=0.0, degree=3, epsilon=0.1, gamma=1e-05,\n",
       "  kernel='linear', max_iter=-1, shrinking=True, tol=0.001, verbose=0)"
      ]
     },
     "execution_count": 163,
     "metadata": {},
     "output_type": "execute_result"
    },
    {
     "data": {
      "text/plain": [
       "SVR(C=0.1, cache_size=200, coef0=0.0, degree=3, epsilon=0.1, gamma=1e-05,\n",
       "  kernel='linear', max_iter=-1, shrinking=True, tol=0.001, verbose=0)"
      ]
     },
     "execution_count": 163,
     "metadata": {},
     "output_type": "execute_result"
    },
    {
     "data": {
      "text/plain": [
       "SVR(C=0.1, cache_size=200, coef0=0.0, degree=3, epsilon=0.1, gamma=1e-05,\n",
       "  kernel='linear', max_iter=-1, shrinking=True, tol=0.001, verbose=0)"
      ]
     },
     "execution_count": 163,
     "metadata": {},
     "output_type": "execute_result"
    },
    {
     "data": {
      "text/plain": [
       "SVR(C=0.1, cache_size=200, coef0=0.0, degree=3, epsilon=0.1, gamma=1e-05,\n",
       "  kernel='linear', max_iter=-1, shrinking=True, tol=0.001, verbose=0)"
      ]
     },
     "execution_count": 163,
     "metadata": {},
     "output_type": "execute_result"
    },
    {
     "data": {
      "text/plain": [
       "SVR(C=0.1, cache_size=200, coef0=0.0, degree=3, epsilon=0.1, gamma=1e-05,\n",
       "  kernel='linear', max_iter=-1, shrinking=True, tol=0.001, verbose=0)"
      ]
     },
     "execution_count": 163,
     "metadata": {},
     "output_type": "execute_result"
    },
    {
     "data": {
      "text/plain": [
       "SVR(C=0.1, cache_size=200, coef0=0.0, degree=3, epsilon=0.1, gamma=1e-05,\n",
       "  kernel='linear', max_iter=-1, shrinking=True, tol=0.001, verbose=0)"
      ]
     },
     "execution_count": 163,
     "metadata": {},
     "output_type": "execute_result"
    },
    {
     "data": {
      "text/plain": [
       "SVR(C=0.1, cache_size=200, coef0=0.0, degree=3, epsilon=0.1, gamma=1e-05,\n",
       "  kernel='linear', max_iter=-1, shrinking=True, tol=0.001, verbose=0)"
      ]
     },
     "execution_count": 163,
     "metadata": {},
     "output_type": "execute_result"
    },
    {
     "data": {
      "text/plain": [
       "SVR(C=0.1, cache_size=200, coef0=0.0, degree=3, epsilon=0.1, gamma=1e-05,\n",
       "  kernel='linear', max_iter=-1, shrinking=True, tol=0.001, verbose=0)"
      ]
     },
     "execution_count": 163,
     "metadata": {},
     "output_type": "execute_result"
    },
    {
     "data": {
      "text/plain": [
       "SVR(C=0.1, cache_size=200, coef0=0.0, degree=3, epsilon=0.1, gamma=1e-05,\n",
       "  kernel='linear', max_iter=-1, shrinking=True, tol=0.001, verbose=0)"
      ]
     },
     "execution_count": 163,
     "metadata": {},
     "output_type": "execute_result"
    },
    {
     "data": {
      "text/plain": [
       "SVR(C=0.1, cache_size=200, coef0=0.0, degree=3, epsilon=0.1, gamma=1e-05,\n",
       "  kernel='linear', max_iter=-1, shrinking=True, tol=0.001, verbose=0)"
      ]
     },
     "execution_count": 163,
     "metadata": {},
     "output_type": "execute_result"
    },
    {
     "data": {
      "text/plain": [
       "SVR(C=0.1, cache_size=200, coef0=0.0, degree=3, epsilon=0.1, gamma=1e-05,\n",
       "  kernel='linear', max_iter=-1, shrinking=True, tol=0.001, verbose=0)"
      ]
     },
     "execution_count": 163,
     "metadata": {},
     "output_type": "execute_result"
    },
    {
     "data": {
      "text/plain": [
       "SVR(C=0.1, cache_size=200, coef0=0.0, degree=3, epsilon=0.1, gamma=1e-05,\n",
       "  kernel='linear', max_iter=-1, shrinking=True, tol=0.001, verbose=0)"
      ]
     },
     "execution_count": 163,
     "metadata": {},
     "output_type": "execute_result"
    },
    {
     "data": {
      "text/plain": [
       "SVR(C=0.1, cache_size=200, coef0=0.0, degree=3, epsilon=0.1, gamma=1e-05,\n",
       "  kernel='linear', max_iter=-1, shrinking=True, tol=0.001, verbose=0)"
      ]
     },
     "execution_count": 163,
     "metadata": {},
     "output_type": "execute_result"
    },
    {
     "data": {
      "text/plain": [
       "SVR(C=0.1, cache_size=200, coef0=0.0, degree=3, epsilon=0.1, gamma=1e-05,\n",
       "  kernel='linear', max_iter=-1, shrinking=True, tol=0.001, verbose=0)"
      ]
     },
     "execution_count": 163,
     "metadata": {},
     "output_type": "execute_result"
    },
    {
     "data": {
      "text/plain": [
       "SVR(C=0.1, cache_size=200, coef0=0.0, degree=3, epsilon=0.1, gamma=1e-05,\n",
       "  kernel='linear', max_iter=-1, shrinking=True, tol=0.001, verbose=0)"
      ]
     },
     "execution_count": 163,
     "metadata": {},
     "output_type": "execute_result"
    },
    {
     "data": {
      "text/plain": [
       "SVR(C=0.1, cache_size=200, coef0=0.0, degree=3, epsilon=0.1, gamma=1e-05,\n",
       "  kernel='linear', max_iter=-1, shrinking=True, tol=0.001, verbose=0)"
      ]
     },
     "execution_count": 163,
     "metadata": {},
     "output_type": "execute_result"
    },
    {
     "data": {
      "text/plain": [
       "SVR(C=0.1, cache_size=200, coef0=0.0, degree=3, epsilon=0.1, gamma=1e-05,\n",
       "  kernel='linear', max_iter=-1, shrinking=True, tol=0.001, verbose=0)"
      ]
     },
     "execution_count": 163,
     "metadata": {},
     "output_type": "execute_result"
    },
    {
     "data": {
      "text/plain": [
       "SVR(C=0.1, cache_size=200, coef0=0.0, degree=3, epsilon=0.1, gamma=1e-05,\n",
       "  kernel='linear', max_iter=-1, shrinking=True, tol=0.001, verbose=0)"
      ]
     },
     "execution_count": 163,
     "metadata": {},
     "output_type": "execute_result"
    },
    {
     "data": {
      "text/plain": [
       "SVR(C=0.1, cache_size=200, coef0=0.0, degree=3, epsilon=0.1, gamma=1e-05,\n",
       "  kernel='linear', max_iter=-1, shrinking=True, tol=0.001, verbose=0)"
      ]
     },
     "execution_count": 163,
     "metadata": {},
     "output_type": "execute_result"
    },
    {
     "data": {
      "text/plain": [
       "SVR(C=0.1, cache_size=200, coef0=0.0, degree=3, epsilon=0.1, gamma=1e-05,\n",
       "  kernel='linear', max_iter=-1, shrinking=True, tol=0.001, verbose=0)"
      ]
     },
     "execution_count": 163,
     "metadata": {},
     "output_type": "execute_result"
    },
    {
     "data": {
      "text/plain": [
       "SVR(C=0.1, cache_size=200, coef0=0.0, degree=3, epsilon=0.1, gamma=1e-05,\n",
       "  kernel='linear', max_iter=-1, shrinking=True, tol=0.001, verbose=0)"
      ]
     },
     "execution_count": 163,
     "metadata": {},
     "output_type": "execute_result"
    },
    {
     "data": {
      "text/plain": [
       "SVR(C=0.1, cache_size=200, coef0=0.0, degree=3, epsilon=0.1, gamma=1e-05,\n",
       "  kernel='linear', max_iter=-1, shrinking=True, tol=0.001, verbose=0)"
      ]
     },
     "execution_count": 163,
     "metadata": {},
     "output_type": "execute_result"
    },
    {
     "data": {
      "text/plain": [
       "SVR(C=0.1, cache_size=200, coef0=0.0, degree=3, epsilon=0.1, gamma=1e-05,\n",
       "  kernel='linear', max_iter=-1, shrinking=True, tol=0.001, verbose=0)"
      ]
     },
     "execution_count": 163,
     "metadata": {},
     "output_type": "execute_result"
    },
    {
     "data": {
      "text/plain": [
       "SVR(C=0.1, cache_size=200, coef0=0.0, degree=3, epsilon=0.1, gamma=1e-05,\n",
       "  kernel='linear', max_iter=-1, shrinking=True, tol=0.001, verbose=0)"
      ]
     },
     "execution_count": 163,
     "metadata": {},
     "output_type": "execute_result"
    },
    {
     "data": {
      "text/plain": [
       "SVR(C=0.1, cache_size=200, coef0=0.0, degree=3, epsilon=0.1, gamma=1e-05,\n",
       "  kernel='linear', max_iter=-1, shrinking=True, tol=0.001, verbose=0)"
      ]
     },
     "execution_count": 163,
     "metadata": {},
     "output_type": "execute_result"
    },
    {
     "data": {
      "text/plain": [
       "SVR(C=0.1, cache_size=200, coef0=0.0, degree=3, epsilon=0.1, gamma=1e-05,\n",
       "  kernel='linear', max_iter=-1, shrinking=True, tol=0.001, verbose=0)"
      ]
     },
     "execution_count": 163,
     "metadata": {},
     "output_type": "execute_result"
    },
    {
     "data": {
      "text/plain": [
       "SVR(C=0.1, cache_size=200, coef0=0.0, degree=3, epsilon=0.1, gamma=1e-05,\n",
       "  kernel='linear', max_iter=-1, shrinking=True, tol=0.001, verbose=0)"
      ]
     },
     "execution_count": 163,
     "metadata": {},
     "output_type": "execute_result"
    },
    {
     "data": {
      "text/plain": [
       "SVR(C=0.1, cache_size=200, coef0=0.0, degree=3, epsilon=0.1, gamma=1e-05,\n",
       "  kernel='linear', max_iter=-1, shrinking=True, tol=0.001, verbose=0)"
      ]
     },
     "execution_count": 163,
     "metadata": {},
     "output_type": "execute_result"
    },
    {
     "data": {
      "text/plain": [
       "SVR(C=0.1, cache_size=200, coef0=0.0, degree=3, epsilon=0.1, gamma=1e-05,\n",
       "  kernel='linear', max_iter=-1, shrinking=True, tol=0.001, verbose=0)"
      ]
     },
     "execution_count": 163,
     "metadata": {},
     "output_type": "execute_result"
    },
    {
     "data": {
      "text/plain": [
       "SVR(C=0.1, cache_size=200, coef0=0.0, degree=3, epsilon=0.1, gamma=1e-05,\n",
       "  kernel='linear', max_iter=-1, shrinking=True, tol=0.001, verbose=0)"
      ]
     },
     "execution_count": 163,
     "metadata": {},
     "output_type": "execute_result"
    },
    {
     "data": {
      "text/plain": [
       "SVR(C=0.1, cache_size=200, coef0=0.0, degree=3, epsilon=0.1, gamma=1e-05,\n",
       "  kernel='linear', max_iter=-1, shrinking=True, tol=0.001, verbose=0)"
      ]
     },
     "execution_count": 163,
     "metadata": {},
     "output_type": "execute_result"
    },
    {
     "data": {
      "text/plain": [
       "SVR(C=0.1, cache_size=200, coef0=0.0, degree=3, epsilon=0.1, gamma=1e-05,\n",
       "  kernel='linear', max_iter=-1, shrinking=True, tol=0.001, verbose=0)"
      ]
     },
     "execution_count": 163,
     "metadata": {},
     "output_type": "execute_result"
    },
    {
     "data": {
      "text/plain": [
       "SVR(C=0.1, cache_size=200, coef0=0.0, degree=3, epsilon=0.1, gamma=1e-05,\n",
       "  kernel='linear', max_iter=-1, shrinking=True, tol=0.001, verbose=0)"
      ]
     },
     "execution_count": 163,
     "metadata": {},
     "output_type": "execute_result"
    },
    {
     "data": {
      "text/plain": [
       "SVR(C=0.1, cache_size=200, coef0=0.0, degree=3, epsilon=0.1, gamma=1e-05,\n",
       "  kernel='linear', max_iter=-1, shrinking=True, tol=0.001, verbose=0)"
      ]
     },
     "execution_count": 163,
     "metadata": {},
     "output_type": "execute_result"
    },
    {
     "data": {
      "text/plain": [
       "SVR(C=0.1, cache_size=200, coef0=0.0, degree=3, epsilon=0.1, gamma=1e-05,\n",
       "  kernel='linear', max_iter=-1, shrinking=True, tol=0.001, verbose=0)"
      ]
     },
     "execution_count": 163,
     "metadata": {},
     "output_type": "execute_result"
    },
    {
     "data": {
      "text/plain": [
       "SVR(C=0.1, cache_size=200, coef0=0.0, degree=3, epsilon=0.1, gamma=1e-05,\n",
       "  kernel='linear', max_iter=-1, shrinking=True, tol=0.001, verbose=0)"
      ]
     },
     "execution_count": 163,
     "metadata": {},
     "output_type": "execute_result"
    },
    {
     "data": {
      "text/plain": [
       "SVR(C=0.1, cache_size=200, coef0=0.0, degree=3, epsilon=0.1, gamma=1e-05,\n",
       "  kernel='linear', max_iter=-1, shrinking=True, tol=0.001, verbose=0)"
      ]
     },
     "execution_count": 163,
     "metadata": {},
     "output_type": "execute_result"
    },
    {
     "data": {
      "text/plain": [
       "SVR(C=0.1, cache_size=200, coef0=0.0, degree=3, epsilon=0.1, gamma=1e-05,\n",
       "  kernel='linear', max_iter=-1, shrinking=True, tol=0.001, verbose=0)"
      ]
     },
     "execution_count": 163,
     "metadata": {},
     "output_type": "execute_result"
    },
    {
     "data": {
      "text/plain": [
       "SVR(C=0.1, cache_size=200, coef0=0.0, degree=3, epsilon=0.1, gamma=1e-05,\n",
       "  kernel='linear', max_iter=-1, shrinking=True, tol=0.001, verbose=0)"
      ]
     },
     "execution_count": 163,
     "metadata": {},
     "output_type": "execute_result"
    },
    {
     "data": {
      "text/plain": [
       "SVR(C=0.1, cache_size=200, coef0=0.0, degree=3, epsilon=0.1, gamma=1e-05,\n",
       "  kernel='linear', max_iter=-1, shrinking=True, tol=0.001, verbose=0)"
      ]
     },
     "execution_count": 163,
     "metadata": {},
     "output_type": "execute_result"
    },
    {
     "data": {
      "text/plain": [
       "SVR(C=0.1, cache_size=200, coef0=0.0, degree=3, epsilon=0.1, gamma=1e-05,\n",
       "  kernel='linear', max_iter=-1, shrinking=True, tol=0.001, verbose=0)"
      ]
     },
     "execution_count": 163,
     "metadata": {},
     "output_type": "execute_result"
    },
    {
     "data": {
      "text/plain": [
       "SVR(C=0.1, cache_size=200, coef0=0.0, degree=3, epsilon=0.1, gamma=1e-05,\n",
       "  kernel='linear', max_iter=-1, shrinking=True, tol=0.001, verbose=0)"
      ]
     },
     "execution_count": 163,
     "metadata": {},
     "output_type": "execute_result"
    },
    {
     "data": {
      "text/plain": [
       "SVR(C=0.1, cache_size=200, coef0=0.0, degree=3, epsilon=0.1, gamma=1e-05,\n",
       "  kernel='linear', max_iter=-1, shrinking=True, tol=0.001, verbose=0)"
      ]
     },
     "execution_count": 163,
     "metadata": {},
     "output_type": "execute_result"
    },
    {
     "data": {
      "text/plain": [
       "SVR(C=0.1, cache_size=200, coef0=0.0, degree=3, epsilon=0.1, gamma=1e-05,\n",
       "  kernel='linear', max_iter=-1, shrinking=True, tol=0.001, verbose=0)"
      ]
     },
     "execution_count": 163,
     "metadata": {},
     "output_type": "execute_result"
    },
    {
     "data": {
      "text/plain": [
       "SVR(C=0.1, cache_size=200, coef0=0.0, degree=3, epsilon=0.1, gamma=1e-05,\n",
       "  kernel='linear', max_iter=-1, shrinking=True, tol=0.001, verbose=0)"
      ]
     },
     "execution_count": 163,
     "metadata": {},
     "output_type": "execute_result"
    },
    {
     "data": {
      "text/plain": [
       "SVR(C=0.1, cache_size=200, coef0=0.0, degree=3, epsilon=0.1, gamma=1e-05,\n",
       "  kernel='linear', max_iter=-1, shrinking=True, tol=0.001, verbose=0)"
      ]
     },
     "execution_count": 163,
     "metadata": {},
     "output_type": "execute_result"
    },
    {
     "data": {
      "text/plain": [
       "SVR(C=0.1, cache_size=200, coef0=0.0, degree=3, epsilon=0.1, gamma=1e-05,\n",
       "  kernel='linear', max_iter=-1, shrinking=True, tol=0.001, verbose=0)"
      ]
     },
     "execution_count": 163,
     "metadata": {},
     "output_type": "execute_result"
    },
    {
     "data": {
      "text/plain": [
       "SVR(C=0.1, cache_size=200, coef0=0.0, degree=3, epsilon=0.1, gamma=1e-05,\n",
       "  kernel='linear', max_iter=-1, shrinking=True, tol=0.001, verbose=0)"
      ]
     },
     "execution_count": 163,
     "metadata": {},
     "output_type": "execute_result"
    },
    {
     "data": {
      "text/plain": [
       "SVR(C=0.1, cache_size=200, coef0=0.0, degree=3, epsilon=0.1, gamma=1e-05,\n",
       "  kernel='linear', max_iter=-1, shrinking=True, tol=0.001, verbose=0)"
      ]
     },
     "execution_count": 163,
     "metadata": {},
     "output_type": "execute_result"
    },
    {
     "data": {
      "text/plain": [
       "SVR(C=0.1, cache_size=200, coef0=0.0, degree=3, epsilon=0.1, gamma=1e-05,\n",
       "  kernel='linear', max_iter=-1, shrinking=True, tol=0.001, verbose=0)"
      ]
     },
     "execution_count": 163,
     "metadata": {},
     "output_type": "execute_result"
    },
    {
     "data": {
      "text/plain": [
       "SVR(C=0.1, cache_size=200, coef0=0.0, degree=3, epsilon=0.1, gamma=1e-05,\n",
       "  kernel='linear', max_iter=-1, shrinking=True, tol=0.001, verbose=0)"
      ]
     },
     "execution_count": 163,
     "metadata": {},
     "output_type": "execute_result"
    },
    {
     "data": {
      "text/plain": [
       "SVR(C=0.1, cache_size=200, coef0=0.0, degree=3, epsilon=0.1, gamma=1e-05,\n",
       "  kernel='linear', max_iter=-1, shrinking=True, tol=0.001, verbose=0)"
      ]
     },
     "execution_count": 163,
     "metadata": {},
     "output_type": "execute_result"
    },
    {
     "data": {
      "text/plain": [
       "SVR(C=0.1, cache_size=200, coef0=0.0, degree=3, epsilon=0.1, gamma=1e-05,\n",
       "  kernel='linear', max_iter=-1, shrinking=True, tol=0.001, verbose=0)"
      ]
     },
     "execution_count": 163,
     "metadata": {},
     "output_type": "execute_result"
    },
    {
     "data": {
      "text/plain": [
       "SVR(C=0.1, cache_size=200, coef0=0.0, degree=3, epsilon=0.1, gamma=1e-05,\n",
       "  kernel='linear', max_iter=-1, shrinking=True, tol=0.001, verbose=0)"
      ]
     },
     "execution_count": 163,
     "metadata": {},
     "output_type": "execute_result"
    },
    {
     "data": {
      "text/plain": [
       "SVR(C=0.1, cache_size=200, coef0=0.0, degree=3, epsilon=0.1, gamma=1e-05,\n",
       "  kernel='linear', max_iter=-1, shrinking=True, tol=0.001, verbose=0)"
      ]
     },
     "execution_count": 163,
     "metadata": {},
     "output_type": "execute_result"
    },
    {
     "data": {
      "text/plain": [
       "SVR(C=0.1, cache_size=200, coef0=0.0, degree=3, epsilon=0.1, gamma=1e-05,\n",
       "  kernel='linear', max_iter=-1, shrinking=True, tol=0.001, verbose=0)"
      ]
     },
     "execution_count": 163,
     "metadata": {},
     "output_type": "execute_result"
    },
    {
     "data": {
      "text/plain": [
       "SVR(C=0.1, cache_size=200, coef0=0.0, degree=3, epsilon=0.1, gamma=1e-05,\n",
       "  kernel='linear', max_iter=-1, shrinking=True, tol=0.001, verbose=0)"
      ]
     },
     "execution_count": 163,
     "metadata": {},
     "output_type": "execute_result"
    },
    {
     "data": {
      "text/plain": [
       "SVR(C=0.1, cache_size=200, coef0=0.0, degree=3, epsilon=0.1, gamma=1e-05,\n",
       "  kernel='linear', max_iter=-1, shrinking=True, tol=0.001, verbose=0)"
      ]
     },
     "execution_count": 163,
     "metadata": {},
     "output_type": "execute_result"
    },
    {
     "data": {
      "text/plain": [
       "SVR(C=0.1, cache_size=200, coef0=0.0, degree=3, epsilon=0.1, gamma=1e-05,\n",
       "  kernel='linear', max_iter=-1, shrinking=True, tol=0.001, verbose=0)"
      ]
     },
     "execution_count": 163,
     "metadata": {},
     "output_type": "execute_result"
    },
    {
     "data": {
      "text/plain": [
       "SVR(C=0.1, cache_size=200, coef0=0.0, degree=3, epsilon=0.1, gamma=1e-05,\n",
       "  kernel='linear', max_iter=-1, shrinking=True, tol=0.001, verbose=0)"
      ]
     },
     "execution_count": 163,
     "metadata": {},
     "output_type": "execute_result"
    },
    {
     "data": {
      "text/plain": [
       "SVR(C=0.1, cache_size=200, coef0=0.0, degree=3, epsilon=0.1, gamma=1e-05,\n",
       "  kernel='linear', max_iter=-1, shrinking=True, tol=0.001, verbose=0)"
      ]
     },
     "execution_count": 163,
     "metadata": {},
     "output_type": "execute_result"
    },
    {
     "data": {
      "text/plain": [
       "SVR(C=0.1, cache_size=200, coef0=0.0, degree=3, epsilon=0.1, gamma=1e-05,\n",
       "  kernel='linear', max_iter=-1, shrinking=True, tol=0.001, verbose=0)"
      ]
     },
     "execution_count": 163,
     "metadata": {},
     "output_type": "execute_result"
    },
    {
     "data": {
      "text/plain": [
       "SVR(C=0.1, cache_size=200, coef0=0.0, degree=3, epsilon=0.1, gamma=1e-05,\n",
       "  kernel='linear', max_iter=-1, shrinking=True, tol=0.001, verbose=0)"
      ]
     },
     "execution_count": 163,
     "metadata": {},
     "output_type": "execute_result"
    },
    {
     "data": {
      "text/plain": [
       "SVR(C=0.1, cache_size=200, coef0=0.0, degree=3, epsilon=0.1, gamma=1e-05,\n",
       "  kernel='linear', max_iter=-1, shrinking=True, tol=0.001, verbose=0)"
      ]
     },
     "execution_count": 163,
     "metadata": {},
     "output_type": "execute_result"
    },
    {
     "data": {
      "text/plain": [
       "SVR(C=0.1, cache_size=200, coef0=0.0, degree=3, epsilon=0.1, gamma=1e-05,\n",
       "  kernel='linear', max_iter=-1, shrinking=True, tol=0.001, verbose=0)"
      ]
     },
     "execution_count": 163,
     "metadata": {},
     "output_type": "execute_result"
    },
    {
     "data": {
      "text/plain": [
       "SVR(C=0.1, cache_size=200, coef0=0.0, degree=3, epsilon=0.1, gamma=1e-05,\n",
       "  kernel='linear', max_iter=-1, shrinking=True, tol=0.001, verbose=0)"
      ]
     },
     "execution_count": 163,
     "metadata": {},
     "output_type": "execute_result"
    },
    {
     "data": {
      "text/plain": [
       "SVR(C=0.1, cache_size=200, coef0=0.0, degree=3, epsilon=0.1, gamma=1e-05,\n",
       "  kernel='linear', max_iter=-1, shrinking=True, tol=0.001, verbose=0)"
      ]
     },
     "execution_count": 163,
     "metadata": {},
     "output_type": "execute_result"
    },
    {
     "data": {
      "text/plain": [
       "SVR(C=0.1, cache_size=200, coef0=0.0, degree=3, epsilon=0.1, gamma=1e-05,\n",
       "  kernel='linear', max_iter=-1, shrinking=True, tol=0.001, verbose=0)"
      ]
     },
     "execution_count": 163,
     "metadata": {},
     "output_type": "execute_result"
    },
    {
     "data": {
      "text/plain": [
       "SVR(C=0.1, cache_size=200, coef0=0.0, degree=3, epsilon=0.1, gamma=1e-05,\n",
       "  kernel='linear', max_iter=-1, shrinking=True, tol=0.001, verbose=0)"
      ]
     },
     "execution_count": 163,
     "metadata": {},
     "output_type": "execute_result"
    },
    {
     "data": {
      "text/plain": [
       "SVR(C=0.1, cache_size=200, coef0=0.0, degree=3, epsilon=0.1, gamma=1e-05,\n",
       "  kernel='linear', max_iter=-1, shrinking=True, tol=0.001, verbose=0)"
      ]
     },
     "execution_count": 163,
     "metadata": {},
     "output_type": "execute_result"
    },
    {
     "data": {
      "text/plain": [
       "SVR(C=0.1, cache_size=200, coef0=0.0, degree=3, epsilon=0.1, gamma=1e-05,\n",
       "  kernel='linear', max_iter=-1, shrinking=True, tol=0.001, verbose=0)"
      ]
     },
     "execution_count": 163,
     "metadata": {},
     "output_type": "execute_result"
    },
    {
     "data": {
      "text/plain": [
       "SVR(C=0.1, cache_size=200, coef0=0.0, degree=3, epsilon=0.1, gamma=1e-05,\n",
       "  kernel='linear', max_iter=-1, shrinking=True, tol=0.001, verbose=0)"
      ]
     },
     "execution_count": 163,
     "metadata": {},
     "output_type": "execute_result"
    },
    {
     "data": {
      "text/plain": [
       "SVR(C=0.1, cache_size=200, coef0=0.0, degree=3, epsilon=0.1, gamma=1e-05,\n",
       "  kernel='linear', max_iter=-1, shrinking=True, tol=0.001, verbose=0)"
      ]
     },
     "execution_count": 163,
     "metadata": {},
     "output_type": "execute_result"
    },
    {
     "data": {
      "text/plain": [
       "SVR(C=0.1, cache_size=200, coef0=0.0, degree=3, epsilon=0.1, gamma=1e-05,\n",
       "  kernel='linear', max_iter=-1, shrinking=True, tol=0.001, verbose=0)"
      ]
     },
     "execution_count": 163,
     "metadata": {},
     "output_type": "execute_result"
    },
    {
     "data": {
      "text/plain": [
       "SVR(C=0.1, cache_size=200, coef0=0.0, degree=3, epsilon=0.1, gamma=1e-05,\n",
       "  kernel='linear', max_iter=-1, shrinking=True, tol=0.001, verbose=0)"
      ]
     },
     "execution_count": 163,
     "metadata": {},
     "output_type": "execute_result"
    },
    {
     "data": {
      "text/plain": [
       "SVR(C=0.1, cache_size=200, coef0=0.0, degree=3, epsilon=0.1, gamma=1e-05,\n",
       "  kernel='linear', max_iter=-1, shrinking=True, tol=0.001, verbose=0)"
      ]
     },
     "execution_count": 163,
     "metadata": {},
     "output_type": "execute_result"
    },
    {
     "data": {
      "text/plain": [
       "SVR(C=0.1, cache_size=200, coef0=0.0, degree=3, epsilon=0.1, gamma=1e-05,\n",
       "  kernel='linear', max_iter=-1, shrinking=True, tol=0.001, verbose=0)"
      ]
     },
     "execution_count": 163,
     "metadata": {},
     "output_type": "execute_result"
    },
    {
     "data": {
      "text/plain": [
       "SVR(C=0.1, cache_size=200, coef0=0.0, degree=3, epsilon=0.1, gamma=1e-05,\n",
       "  kernel='linear', max_iter=-1, shrinking=True, tol=0.001, verbose=0)"
      ]
     },
     "execution_count": 163,
     "metadata": {},
     "output_type": "execute_result"
    },
    {
     "data": {
      "text/plain": [
       "SVR(C=0.1, cache_size=200, coef0=0.0, degree=3, epsilon=0.1, gamma=1e-05,\n",
       "  kernel='linear', max_iter=-1, shrinking=True, tol=0.001, verbose=0)"
      ]
     },
     "execution_count": 163,
     "metadata": {},
     "output_type": "execute_result"
    },
    {
     "data": {
      "text/plain": [
       "SVR(C=0.1, cache_size=200, coef0=0.0, degree=3, epsilon=0.1, gamma=1e-05,\n",
       "  kernel='linear', max_iter=-1, shrinking=True, tol=0.001, verbose=0)"
      ]
     },
     "execution_count": 163,
     "metadata": {},
     "output_type": "execute_result"
    },
    {
     "data": {
      "text/plain": [
       "SVR(C=0.1, cache_size=200, coef0=0.0, degree=3, epsilon=0.1, gamma=1e-05,\n",
       "  kernel='linear', max_iter=-1, shrinking=True, tol=0.001, verbose=0)"
      ]
     },
     "execution_count": 163,
     "metadata": {},
     "output_type": "execute_result"
    },
    {
     "data": {
      "text/plain": [
       "SVR(C=0.1, cache_size=200, coef0=0.0, degree=3, epsilon=0.1, gamma=1e-05,\n",
       "  kernel='linear', max_iter=-1, shrinking=True, tol=0.001, verbose=0)"
      ]
     },
     "execution_count": 163,
     "metadata": {},
     "output_type": "execute_result"
    },
    {
     "data": {
      "text/plain": [
       "SVR(C=0.1, cache_size=200, coef0=0.0, degree=3, epsilon=0.1, gamma=1e-05,\n",
       "  kernel='linear', max_iter=-1, shrinking=True, tol=0.001, verbose=0)"
      ]
     },
     "execution_count": 163,
     "metadata": {},
     "output_type": "execute_result"
    },
    {
     "data": {
      "text/plain": [
       "SVR(C=0.1, cache_size=200, coef0=0.0, degree=3, epsilon=0.1, gamma=1e-05,\n",
       "  kernel='linear', max_iter=-1, shrinking=True, tol=0.001, verbose=0)"
      ]
     },
     "execution_count": 163,
     "metadata": {},
     "output_type": "execute_result"
    },
    {
     "data": {
      "text/plain": [
       "SVR(C=0.1, cache_size=200, coef0=0.0, degree=3, epsilon=0.1, gamma=1e-05,\n",
       "  kernel='linear', max_iter=-1, shrinking=True, tol=0.001, verbose=0)"
      ]
     },
     "execution_count": 163,
     "metadata": {},
     "output_type": "execute_result"
    },
    {
     "data": {
      "text/plain": [
       "SVR(C=0.1, cache_size=200, coef0=0.0, degree=3, epsilon=0.1, gamma=1e-05,\n",
       "  kernel='linear', max_iter=-1, shrinking=True, tol=0.001, verbose=0)"
      ]
     },
     "execution_count": 163,
     "metadata": {},
     "output_type": "execute_result"
    },
    {
     "data": {
      "text/plain": [
       "SVR(C=0.1, cache_size=200, coef0=0.0, degree=3, epsilon=0.1, gamma=1e-05,\n",
       "  kernel='linear', max_iter=-1, shrinking=True, tol=0.001, verbose=0)"
      ]
     },
     "execution_count": 163,
     "metadata": {},
     "output_type": "execute_result"
    },
    {
     "data": {
      "text/plain": [
       "SVR(C=0.1, cache_size=200, coef0=0.0, degree=3, epsilon=0.1, gamma=1e-05,\n",
       "  kernel='linear', max_iter=-1, shrinking=True, tol=0.001, verbose=0)"
      ]
     },
     "execution_count": 163,
     "metadata": {},
     "output_type": "execute_result"
    },
    {
     "data": {
      "text/plain": [
       "SVR(C=0.1, cache_size=200, coef0=0.0, degree=3, epsilon=0.1, gamma=1e-05,\n",
       "  kernel='linear', max_iter=-1, shrinking=True, tol=0.001, verbose=0)"
      ]
     },
     "execution_count": 163,
     "metadata": {},
     "output_type": "execute_result"
    },
    {
     "data": {
      "text/plain": [
       "SVR(C=0.1, cache_size=200, coef0=0.0, degree=3, epsilon=0.1, gamma=1e-05,\n",
       "  kernel='linear', max_iter=-1, shrinking=True, tol=0.001, verbose=0)"
      ]
     },
     "execution_count": 163,
     "metadata": {},
     "output_type": "execute_result"
    },
    {
     "data": {
      "text/plain": [
       "SVR(C=0.1, cache_size=200, coef0=0.0, degree=3, epsilon=0.1, gamma=1e-05,\n",
       "  kernel='linear', max_iter=-1, shrinking=True, tol=0.001, verbose=0)"
      ]
     },
     "execution_count": 163,
     "metadata": {},
     "output_type": "execute_result"
    },
    {
     "data": {
      "text/plain": [
       "SVR(C=0.1, cache_size=200, coef0=0.0, degree=3, epsilon=0.1, gamma=1e-05,\n",
       "  kernel='linear', max_iter=-1, shrinking=True, tol=0.001, verbose=0)"
      ]
     },
     "execution_count": 163,
     "metadata": {},
     "output_type": "execute_result"
    },
    {
     "data": {
      "text/plain": [
       "SVR(C=0.1, cache_size=200, coef0=0.0, degree=3, epsilon=0.1, gamma=1e-05,\n",
       "  kernel='linear', max_iter=-1, shrinking=True, tol=0.001, verbose=0)"
      ]
     },
     "execution_count": 163,
     "metadata": {},
     "output_type": "execute_result"
    },
    {
     "data": {
      "text/plain": [
       "SVR(C=0.1, cache_size=200, coef0=0.0, degree=3, epsilon=0.1, gamma=1e-05,\n",
       "  kernel='linear', max_iter=-1, shrinking=True, tol=0.001, verbose=0)"
      ]
     },
     "execution_count": 163,
     "metadata": {},
     "output_type": "execute_result"
    },
    {
     "data": {
      "text/plain": [
       "SVR(C=0.1, cache_size=200, coef0=0.0, degree=3, epsilon=0.1, gamma=1e-05,\n",
       "  kernel='linear', max_iter=-1, shrinking=True, tol=0.001, verbose=0)"
      ]
     },
     "execution_count": 163,
     "metadata": {},
     "output_type": "execute_result"
    },
    {
     "data": {
      "text/plain": [
       "SVR(C=0.1, cache_size=200, coef0=0.0, degree=3, epsilon=0.1, gamma=1e-05,\n",
       "  kernel='linear', max_iter=-1, shrinking=True, tol=0.001, verbose=0)"
      ]
     },
     "execution_count": 163,
     "metadata": {},
     "output_type": "execute_result"
    },
    {
     "data": {
      "text/plain": [
       "SVR(C=0.1, cache_size=200, coef0=0.0, degree=3, epsilon=0.1, gamma=1e-05,\n",
       "  kernel='linear', max_iter=-1, shrinking=True, tol=0.001, verbose=0)"
      ]
     },
     "execution_count": 163,
     "metadata": {},
     "output_type": "execute_result"
    },
    {
     "data": {
      "text/plain": [
       "SVR(C=0.1, cache_size=200, coef0=0.0, degree=3, epsilon=0.1, gamma=1e-05,\n",
       "  kernel='linear', max_iter=-1, shrinking=True, tol=0.001, verbose=0)"
      ]
     },
     "execution_count": 163,
     "metadata": {},
     "output_type": "execute_result"
    },
    {
     "data": {
      "text/plain": [
       "SVR(C=0.1, cache_size=200, coef0=0.0, degree=3, epsilon=0.1, gamma=1e-05,\n",
       "  kernel='linear', max_iter=-1, shrinking=True, tol=0.001, verbose=0)"
      ]
     },
     "execution_count": 163,
     "metadata": {},
     "output_type": "execute_result"
    },
    {
     "data": {
      "text/plain": [
       "SVR(C=0.1, cache_size=200, coef0=0.0, degree=3, epsilon=0.1, gamma=1e-05,\n",
       "  kernel='linear', max_iter=-1, shrinking=True, tol=0.001, verbose=0)"
      ]
     },
     "execution_count": 163,
     "metadata": {},
     "output_type": "execute_result"
    },
    {
     "data": {
      "text/plain": [
       "SVR(C=0.1, cache_size=200, coef0=0.0, degree=3, epsilon=0.1, gamma=1e-05,\n",
       "  kernel='linear', max_iter=-1, shrinking=True, tol=0.001, verbose=0)"
      ]
     },
     "execution_count": 163,
     "metadata": {},
     "output_type": "execute_result"
    },
    {
     "data": {
      "text/plain": [
       "SVR(C=0.1, cache_size=200, coef0=0.0, degree=3, epsilon=0.1, gamma=1e-05,\n",
       "  kernel='linear', max_iter=-1, shrinking=True, tol=0.001, verbose=0)"
      ]
     },
     "execution_count": 163,
     "metadata": {},
     "output_type": "execute_result"
    },
    {
     "data": {
      "text/plain": [
       "SVR(C=0.1, cache_size=200, coef0=0.0, degree=3, epsilon=0.1, gamma=1e-05,\n",
       "  kernel='linear', max_iter=-1, shrinking=True, tol=0.001, verbose=0)"
      ]
     },
     "execution_count": 163,
     "metadata": {},
     "output_type": "execute_result"
    },
    {
     "data": {
      "text/plain": [
       "SVR(C=0.1, cache_size=200, coef0=0.0, degree=3, epsilon=0.1, gamma=1e-05,\n",
       "  kernel='linear', max_iter=-1, shrinking=True, tol=0.001, verbose=0)"
      ]
     },
     "execution_count": 163,
     "metadata": {},
     "output_type": "execute_result"
    },
    {
     "data": {
      "text/plain": [
       "SVR(C=0.1, cache_size=200, coef0=0.0, degree=3, epsilon=0.1, gamma=1e-05,\n",
       "  kernel='linear', max_iter=-1, shrinking=True, tol=0.001, verbose=0)"
      ]
     },
     "execution_count": 163,
     "metadata": {},
     "output_type": "execute_result"
    },
    {
     "data": {
      "text/plain": [
       "SVR(C=0.1, cache_size=200, coef0=0.0, degree=3, epsilon=0.1, gamma=1e-05,\n",
       "  kernel='linear', max_iter=-1, shrinking=True, tol=0.001, verbose=0)"
      ]
     },
     "execution_count": 163,
     "metadata": {},
     "output_type": "execute_result"
    },
    {
     "data": {
      "text/plain": [
       "SVR(C=0.1, cache_size=200, coef0=0.0, degree=3, epsilon=0.1, gamma=1e-05,\n",
       "  kernel='linear', max_iter=-1, shrinking=True, tol=0.001, verbose=0)"
      ]
     },
     "execution_count": 163,
     "metadata": {},
     "output_type": "execute_result"
    },
    {
     "data": {
      "text/plain": [
       "SVR(C=0.1, cache_size=200, coef0=0.0, degree=3, epsilon=0.1, gamma=1e-05,\n",
       "  kernel='linear', max_iter=-1, shrinking=True, tol=0.001, verbose=0)"
      ]
     },
     "execution_count": 163,
     "metadata": {},
     "output_type": "execute_result"
    },
    {
     "data": {
      "text/plain": [
       "SVR(C=0.1, cache_size=200, coef0=0.0, degree=3, epsilon=0.1, gamma=1e-05,\n",
       "  kernel='linear', max_iter=-1, shrinking=True, tol=0.001, verbose=0)"
      ]
     },
     "execution_count": 163,
     "metadata": {},
     "output_type": "execute_result"
    },
    {
     "data": {
      "text/plain": [
       "SVR(C=0.1, cache_size=200, coef0=0.0, degree=3, epsilon=0.1, gamma=1e-05,\n",
       "  kernel='linear', max_iter=-1, shrinking=True, tol=0.001, verbose=0)"
      ]
     },
     "execution_count": 163,
     "metadata": {},
     "output_type": "execute_result"
    },
    {
     "data": {
      "text/plain": [
       "SVR(C=0.1, cache_size=200, coef0=0.0, degree=3, epsilon=0.1, gamma=1e-05,\n",
       "  kernel='linear', max_iter=-1, shrinking=True, tol=0.001, verbose=0)"
      ]
     },
     "execution_count": 163,
     "metadata": {},
     "output_type": "execute_result"
    },
    {
     "data": {
      "text/plain": [
       "SVR(C=0.1, cache_size=200, coef0=0.0, degree=3, epsilon=0.1, gamma=1e-05,\n",
       "  kernel='linear', max_iter=-1, shrinking=True, tol=0.001, verbose=0)"
      ]
     },
     "execution_count": 163,
     "metadata": {},
     "output_type": "execute_result"
    },
    {
     "data": {
      "text/plain": [
       "SVR(C=0.1, cache_size=200, coef0=0.0, degree=3, epsilon=0.1, gamma=1e-05,\n",
       "  kernel='linear', max_iter=-1, shrinking=True, tol=0.001, verbose=0)"
      ]
     },
     "execution_count": 163,
     "metadata": {},
     "output_type": "execute_result"
    },
    {
     "data": {
      "text/plain": [
       "SVR(C=0.1, cache_size=200, coef0=0.0, degree=3, epsilon=0.1, gamma=1e-05,\n",
       "  kernel='linear', max_iter=-1, shrinking=True, tol=0.001, verbose=0)"
      ]
     },
     "execution_count": 163,
     "metadata": {},
     "output_type": "execute_result"
    },
    {
     "data": {
      "text/plain": [
       "SVR(C=0.1, cache_size=200, coef0=0.0, degree=3, epsilon=0.1, gamma=1e-05,\n",
       "  kernel='linear', max_iter=-1, shrinking=True, tol=0.001, verbose=0)"
      ]
     },
     "execution_count": 163,
     "metadata": {},
     "output_type": "execute_result"
    },
    {
     "data": {
      "text/plain": [
       "SVR(C=0.1, cache_size=200, coef0=0.0, degree=3, epsilon=0.1, gamma=1e-05,\n",
       "  kernel='linear', max_iter=-1, shrinking=True, tol=0.001, verbose=0)"
      ]
     },
     "execution_count": 163,
     "metadata": {},
     "output_type": "execute_result"
    },
    {
     "data": {
      "text/plain": [
       "SVR(C=0.1, cache_size=200, coef0=0.0, degree=3, epsilon=0.1, gamma=1e-05,\n",
       "  kernel='linear', max_iter=-1, shrinking=True, tol=0.001, verbose=0)"
      ]
     },
     "execution_count": 163,
     "metadata": {},
     "output_type": "execute_result"
    },
    {
     "data": {
      "text/plain": [
       "SVR(C=0.1, cache_size=200, coef0=0.0, degree=3, epsilon=0.1, gamma=1e-05,\n",
       "  kernel='linear', max_iter=-1, shrinking=True, tol=0.001, verbose=0)"
      ]
     },
     "execution_count": 163,
     "metadata": {},
     "output_type": "execute_result"
    },
    {
     "data": {
      "text/plain": [
       "SVR(C=0.1, cache_size=200, coef0=0.0, degree=3, epsilon=0.1, gamma=1e-05,\n",
       "  kernel='linear', max_iter=-1, shrinking=True, tol=0.001, verbose=0)"
      ]
     },
     "execution_count": 163,
     "metadata": {},
     "output_type": "execute_result"
    },
    {
     "data": {
      "text/plain": [
       "SVR(C=0.1, cache_size=200, coef0=0.0, degree=3, epsilon=0.1, gamma=1e-05,\n",
       "  kernel='linear', max_iter=-1, shrinking=True, tol=0.001, verbose=0)"
      ]
     },
     "execution_count": 163,
     "metadata": {},
     "output_type": "execute_result"
    },
    {
     "data": {
      "text/plain": [
       "SVR(C=0.1, cache_size=200, coef0=0.0, degree=3, epsilon=0.1, gamma=1e-05,\n",
       "  kernel='linear', max_iter=-1, shrinking=True, tol=0.001, verbose=0)"
      ]
     },
     "execution_count": 163,
     "metadata": {},
     "output_type": "execute_result"
    },
    {
     "data": {
      "text/plain": [
       "SVR(C=0.1, cache_size=200, coef0=0.0, degree=3, epsilon=0.1, gamma=1e-05,\n",
       "  kernel='linear', max_iter=-1, shrinking=True, tol=0.001, verbose=0)"
      ]
     },
     "execution_count": 163,
     "metadata": {},
     "output_type": "execute_result"
    },
    {
     "data": {
      "text/plain": [
       "SVR(C=0.1, cache_size=200, coef0=0.0, degree=3, epsilon=0.1, gamma=1e-05,\n",
       "  kernel='linear', max_iter=-1, shrinking=True, tol=0.001, verbose=0)"
      ]
     },
     "execution_count": 163,
     "metadata": {},
     "output_type": "execute_result"
    },
    {
     "data": {
      "text/plain": [
       "SVR(C=0.1, cache_size=200, coef0=0.0, degree=3, epsilon=0.1, gamma=1e-05,\n",
       "  kernel='linear', max_iter=-1, shrinking=True, tol=0.001, verbose=0)"
      ]
     },
     "execution_count": 163,
     "metadata": {},
     "output_type": "execute_result"
    },
    {
     "data": {
      "text/plain": [
       "SVR(C=0.1, cache_size=200, coef0=0.0, degree=3, epsilon=0.1, gamma=1e-05,\n",
       "  kernel='linear', max_iter=-1, shrinking=True, tol=0.001, verbose=0)"
      ]
     },
     "execution_count": 163,
     "metadata": {},
     "output_type": "execute_result"
    },
    {
     "data": {
      "text/plain": [
       "SVR(C=0.1, cache_size=200, coef0=0.0, degree=3, epsilon=0.1, gamma=1e-05,\n",
       "  kernel='linear', max_iter=-1, shrinking=True, tol=0.001, verbose=0)"
      ]
     },
     "execution_count": 163,
     "metadata": {},
     "output_type": "execute_result"
    },
    {
     "data": {
      "text/plain": [
       "SVR(C=0.1, cache_size=200, coef0=0.0, degree=3, epsilon=0.1, gamma=1e-05,\n",
       "  kernel='linear', max_iter=-1, shrinking=True, tol=0.001, verbose=0)"
      ]
     },
     "execution_count": 163,
     "metadata": {},
     "output_type": "execute_result"
    },
    {
     "data": {
      "text/plain": [
       "SVR(C=0.1, cache_size=200, coef0=0.0, degree=3, epsilon=0.1, gamma=1e-05,\n",
       "  kernel='linear', max_iter=-1, shrinking=True, tol=0.001, verbose=0)"
      ]
     },
     "execution_count": 163,
     "metadata": {},
     "output_type": "execute_result"
    },
    {
     "data": {
      "text/plain": [
       "SVR(C=0.1, cache_size=200, coef0=0.0, degree=3, epsilon=0.1, gamma=1e-05,\n",
       "  kernel='linear', max_iter=-1, shrinking=True, tol=0.001, verbose=0)"
      ]
     },
     "execution_count": 163,
     "metadata": {},
     "output_type": "execute_result"
    },
    {
     "data": {
      "text/plain": [
       "SVR(C=0.1, cache_size=200, coef0=0.0, degree=3, epsilon=0.1, gamma=1e-05,\n",
       "  kernel='linear', max_iter=-1, shrinking=True, tol=0.001, verbose=0)"
      ]
     },
     "execution_count": 163,
     "metadata": {},
     "output_type": "execute_result"
    },
    {
     "data": {
      "text/plain": [
       "SVR(C=0.1, cache_size=200, coef0=0.0, degree=3, epsilon=0.1, gamma=1e-05,\n",
       "  kernel='linear', max_iter=-1, shrinking=True, tol=0.001, verbose=0)"
      ]
     },
     "execution_count": 163,
     "metadata": {},
     "output_type": "execute_result"
    },
    {
     "data": {
      "text/plain": [
       "SVR(C=0.1, cache_size=200, coef0=0.0, degree=3, epsilon=0.1, gamma=1e-05,\n",
       "  kernel='linear', max_iter=-1, shrinking=True, tol=0.001, verbose=0)"
      ]
     },
     "execution_count": 163,
     "metadata": {},
     "output_type": "execute_result"
    },
    {
     "data": {
      "text/plain": [
       "SVR(C=0.1, cache_size=200, coef0=0.0, degree=3, epsilon=0.1, gamma=1e-05,\n",
       "  kernel='linear', max_iter=-1, shrinking=True, tol=0.001, verbose=0)"
      ]
     },
     "execution_count": 163,
     "metadata": {},
     "output_type": "execute_result"
    },
    {
     "data": {
      "text/plain": [
       "SVR(C=0.1, cache_size=200, coef0=0.0, degree=3, epsilon=0.1, gamma=1e-05,\n",
       "  kernel='linear', max_iter=-1, shrinking=True, tol=0.001, verbose=0)"
      ]
     },
     "execution_count": 163,
     "metadata": {},
     "output_type": "execute_result"
    },
    {
     "data": {
      "text/plain": [
       "SVR(C=0.1, cache_size=200, coef0=0.0, degree=3, epsilon=0.1, gamma=1e-05,\n",
       "  kernel='linear', max_iter=-1, shrinking=True, tol=0.001, verbose=0)"
      ]
     },
     "execution_count": 163,
     "metadata": {},
     "output_type": "execute_result"
    },
    {
     "data": {
      "text/plain": [
       "SVR(C=0.1, cache_size=200, coef0=0.0, degree=3, epsilon=0.1, gamma=1e-05,\n",
       "  kernel='linear', max_iter=-1, shrinking=True, tol=0.001, verbose=0)"
      ]
     },
     "execution_count": 163,
     "metadata": {},
     "output_type": "execute_result"
    },
    {
     "data": {
      "text/plain": [
       "SVR(C=0.1, cache_size=200, coef0=0.0, degree=3, epsilon=0.1, gamma=1e-05,\n",
       "  kernel='linear', max_iter=-1, shrinking=True, tol=0.001, verbose=0)"
      ]
     },
     "execution_count": 163,
     "metadata": {},
     "output_type": "execute_result"
    },
    {
     "data": {
      "text/plain": [
       "SVR(C=0.1, cache_size=200, coef0=0.0, degree=3, epsilon=0.1, gamma=1e-05,\n",
       "  kernel='linear', max_iter=-1, shrinking=True, tol=0.001, verbose=0)"
      ]
     },
     "execution_count": 163,
     "metadata": {},
     "output_type": "execute_result"
    },
    {
     "data": {
      "text/plain": [
       "SVR(C=0.1, cache_size=200, coef0=0.0, degree=3, epsilon=0.1, gamma=1e-05,\n",
       "  kernel='linear', max_iter=-1, shrinking=True, tol=0.001, verbose=0)"
      ]
     },
     "execution_count": 163,
     "metadata": {},
     "output_type": "execute_result"
    },
    {
     "data": {
      "text/plain": [
       "SVR(C=0.1, cache_size=200, coef0=0.0, degree=3, epsilon=0.1, gamma=1e-05,\n",
       "  kernel='linear', max_iter=-1, shrinking=True, tol=0.001, verbose=0)"
      ]
     },
     "execution_count": 163,
     "metadata": {},
     "output_type": "execute_result"
    },
    {
     "data": {
      "text/plain": [
       "SVR(C=0.1, cache_size=200, coef0=0.0, degree=3, epsilon=0.1, gamma=1e-05,\n",
       "  kernel='linear', max_iter=-1, shrinking=True, tol=0.001, verbose=0)"
      ]
     },
     "execution_count": 163,
     "metadata": {},
     "output_type": "execute_result"
    },
    {
     "data": {
      "text/plain": [
       "SVR(C=0.1, cache_size=200, coef0=0.0, degree=3, epsilon=0.1, gamma=1e-05,\n",
       "  kernel='linear', max_iter=-1, shrinking=True, tol=0.001, verbose=0)"
      ]
     },
     "execution_count": 163,
     "metadata": {},
     "output_type": "execute_result"
    },
    {
     "data": {
      "text/plain": [
       "SVR(C=0.1, cache_size=200, coef0=0.0, degree=3, epsilon=0.1, gamma=1e-05,\n",
       "  kernel='linear', max_iter=-1, shrinking=True, tol=0.001, verbose=0)"
      ]
     },
     "execution_count": 163,
     "metadata": {},
     "output_type": "execute_result"
    },
    {
     "data": {
      "text/plain": [
       "SVR(C=0.1, cache_size=200, coef0=0.0, degree=3, epsilon=0.1, gamma=1e-05,\n",
       "  kernel='linear', max_iter=-1, shrinking=True, tol=0.001, verbose=0)"
      ]
     },
     "execution_count": 163,
     "metadata": {},
     "output_type": "execute_result"
    },
    {
     "data": {
      "text/plain": [
       "SVR(C=0.1, cache_size=200, coef0=0.0, degree=3, epsilon=0.1, gamma=1e-05,\n",
       "  kernel='linear', max_iter=-1, shrinking=True, tol=0.001, verbose=0)"
      ]
     },
     "execution_count": 163,
     "metadata": {},
     "output_type": "execute_result"
    },
    {
     "data": {
      "text/plain": [
       "SVR(C=0.1, cache_size=200, coef0=0.0, degree=3, epsilon=0.1, gamma=1e-05,\n",
       "  kernel='linear', max_iter=-1, shrinking=True, tol=0.001, verbose=0)"
      ]
     },
     "execution_count": 163,
     "metadata": {},
     "output_type": "execute_result"
    },
    {
     "data": {
      "text/plain": [
       "SVR(C=0.1, cache_size=200, coef0=0.0, degree=3, epsilon=0.1, gamma=1e-05,\n",
       "  kernel='linear', max_iter=-1, shrinking=True, tol=0.001, verbose=0)"
      ]
     },
     "execution_count": 163,
     "metadata": {},
     "output_type": "execute_result"
    },
    {
     "data": {
      "text/plain": [
       "SVR(C=0.1, cache_size=200, coef0=0.0, degree=3, epsilon=0.1, gamma=1e-05,\n",
       "  kernel='linear', max_iter=-1, shrinking=True, tol=0.001, verbose=0)"
      ]
     },
     "execution_count": 163,
     "metadata": {},
     "output_type": "execute_result"
    },
    {
     "data": {
      "text/plain": [
       "SVR(C=0.1, cache_size=200, coef0=0.0, degree=3, epsilon=0.1, gamma=1e-05,\n",
       "  kernel='linear', max_iter=-1, shrinking=True, tol=0.001, verbose=0)"
      ]
     },
     "execution_count": 163,
     "metadata": {},
     "output_type": "execute_result"
    },
    {
     "data": {
      "text/plain": [
       "SVR(C=0.1, cache_size=200, coef0=0.0, degree=3, epsilon=0.1, gamma=1e-05,\n",
       "  kernel='linear', max_iter=-1, shrinking=True, tol=0.001, verbose=0)"
      ]
     },
     "execution_count": 163,
     "metadata": {},
     "output_type": "execute_result"
    },
    {
     "data": {
      "text/plain": [
       "SVR(C=0.1, cache_size=200, coef0=0.0, degree=3, epsilon=0.1, gamma=1e-05,\n",
       "  kernel='linear', max_iter=-1, shrinking=True, tol=0.001, verbose=0)"
      ]
     },
     "execution_count": 163,
     "metadata": {},
     "output_type": "execute_result"
    },
    {
     "data": {
      "text/plain": [
       "SVR(C=0.1, cache_size=200, coef0=0.0, degree=3, epsilon=0.1, gamma=1e-05,\n",
       "  kernel='linear', max_iter=-1, shrinking=True, tol=0.001, verbose=0)"
      ]
     },
     "execution_count": 163,
     "metadata": {},
     "output_type": "execute_result"
    },
    {
     "data": {
      "text/plain": [
       "SVR(C=0.1, cache_size=200, coef0=0.0, degree=3, epsilon=0.1, gamma=1e-05,\n",
       "  kernel='linear', max_iter=-1, shrinking=True, tol=0.001, verbose=0)"
      ]
     },
     "execution_count": 163,
     "metadata": {},
     "output_type": "execute_result"
    },
    {
     "data": {
      "text/plain": [
       "SVR(C=0.1, cache_size=200, coef0=0.0, degree=3, epsilon=0.1, gamma=1e-05,\n",
       "  kernel='linear', max_iter=-1, shrinking=True, tol=0.001, verbose=0)"
      ]
     },
     "execution_count": 163,
     "metadata": {},
     "output_type": "execute_result"
    },
    {
     "data": {
      "text/plain": [
       "SVR(C=0.1, cache_size=200, coef0=0.0, degree=3, epsilon=0.1, gamma=1e-05,\n",
       "  kernel='linear', max_iter=-1, shrinking=True, tol=0.001, verbose=0)"
      ]
     },
     "execution_count": 163,
     "metadata": {},
     "output_type": "execute_result"
    },
    {
     "data": {
      "text/plain": [
       "SVR(C=0.1, cache_size=200, coef0=0.0, degree=3, epsilon=0.1, gamma=1e-05,\n",
       "  kernel='linear', max_iter=-1, shrinking=True, tol=0.001, verbose=0)"
      ]
     },
     "execution_count": 163,
     "metadata": {},
     "output_type": "execute_result"
    },
    {
     "data": {
      "text/plain": [
       "SVR(C=0.1, cache_size=200, coef0=0.0, degree=3, epsilon=0.1, gamma=1e-05,\n",
       "  kernel='linear', max_iter=-1, shrinking=True, tol=0.001, verbose=0)"
      ]
     },
     "execution_count": 163,
     "metadata": {},
     "output_type": "execute_result"
    },
    {
     "data": {
      "text/plain": [
       "SVR(C=0.1, cache_size=200, coef0=0.0, degree=3, epsilon=0.1, gamma=1e-05,\n",
       "  kernel='linear', max_iter=-1, shrinking=True, tol=0.001, verbose=0)"
      ]
     },
     "execution_count": 163,
     "metadata": {},
     "output_type": "execute_result"
    },
    {
     "data": {
      "text/plain": [
       "SVR(C=0.1, cache_size=200, coef0=0.0, degree=3, epsilon=0.1, gamma=1e-05,\n",
       "  kernel='linear', max_iter=-1, shrinking=True, tol=0.001, verbose=0)"
      ]
     },
     "execution_count": 163,
     "metadata": {},
     "output_type": "execute_result"
    },
    {
     "data": {
      "text/plain": [
       "SVR(C=0.1, cache_size=200, coef0=0.0, degree=3, epsilon=0.1, gamma=1e-05,\n",
       "  kernel='linear', max_iter=-1, shrinking=True, tol=0.001, verbose=0)"
      ]
     },
     "execution_count": 163,
     "metadata": {},
     "output_type": "execute_result"
    },
    {
     "data": {
      "text/plain": [
       "SVR(C=0.1, cache_size=200, coef0=0.0, degree=3, epsilon=0.1, gamma=1e-05,\n",
       "  kernel='linear', max_iter=-1, shrinking=True, tol=0.001, verbose=0)"
      ]
     },
     "execution_count": 163,
     "metadata": {},
     "output_type": "execute_result"
    },
    {
     "data": {
      "text/plain": [
       "SVR(C=0.1, cache_size=200, coef0=0.0, degree=3, epsilon=0.1, gamma=1e-05,\n",
       "  kernel='linear', max_iter=-1, shrinking=True, tol=0.001, verbose=0)"
      ]
     },
     "execution_count": 163,
     "metadata": {},
     "output_type": "execute_result"
    },
    {
     "data": {
      "text/plain": [
       "SVR(C=0.1, cache_size=200, coef0=0.0, degree=3, epsilon=0.1, gamma=1e-05,\n",
       "  kernel='linear', max_iter=-1, shrinking=True, tol=0.001, verbose=0)"
      ]
     },
     "execution_count": 163,
     "metadata": {},
     "output_type": "execute_result"
    },
    {
     "data": {
      "text/plain": [
       "SVR(C=0.1, cache_size=200, coef0=0.0, degree=3, epsilon=0.1, gamma=1e-05,\n",
       "  kernel='linear', max_iter=-1, shrinking=True, tol=0.001, verbose=0)"
      ]
     },
     "execution_count": 163,
     "metadata": {},
     "output_type": "execute_result"
    },
    {
     "data": {
      "text/plain": [
       "SVR(C=0.1, cache_size=200, coef0=0.0, degree=3, epsilon=0.1, gamma=1e-05,\n",
       "  kernel='linear', max_iter=-1, shrinking=True, tol=0.001, verbose=0)"
      ]
     },
     "execution_count": 163,
     "metadata": {},
     "output_type": "execute_result"
    },
    {
     "data": {
      "text/plain": [
       "SVR(C=0.1, cache_size=200, coef0=0.0, degree=3, epsilon=0.1, gamma=1e-05,\n",
       "  kernel='linear', max_iter=-1, shrinking=True, tol=0.001, verbose=0)"
      ]
     },
     "execution_count": 163,
     "metadata": {},
     "output_type": "execute_result"
    },
    {
     "data": {
      "text/plain": [
       "SVR(C=0.1, cache_size=200, coef0=0.0, degree=3, epsilon=0.1, gamma=1e-05,\n",
       "  kernel='linear', max_iter=-1, shrinking=True, tol=0.001, verbose=0)"
      ]
     },
     "execution_count": 163,
     "metadata": {},
     "output_type": "execute_result"
    },
    {
     "data": {
      "text/plain": [
       "SVR(C=0.1, cache_size=200, coef0=0.0, degree=3, epsilon=0.1, gamma=1e-05,\n",
       "  kernel='linear', max_iter=-1, shrinking=True, tol=0.001, verbose=0)"
      ]
     },
     "execution_count": 163,
     "metadata": {},
     "output_type": "execute_result"
    },
    {
     "data": {
      "text/plain": [
       "SVR(C=0.1, cache_size=200, coef0=0.0, degree=3, epsilon=0.1, gamma=1e-05,\n",
       "  kernel='linear', max_iter=-1, shrinking=True, tol=0.001, verbose=0)"
      ]
     },
     "execution_count": 163,
     "metadata": {},
     "output_type": "execute_result"
    },
    {
     "data": {
      "text/plain": [
       "SVR(C=0.1, cache_size=200, coef0=0.0, degree=3, epsilon=0.1, gamma=1e-05,\n",
       "  kernel='linear', max_iter=-1, shrinking=True, tol=0.001, verbose=0)"
      ]
     },
     "execution_count": 163,
     "metadata": {},
     "output_type": "execute_result"
    },
    {
     "data": {
      "text/plain": [
       "SVR(C=0.1, cache_size=200, coef0=0.0, degree=3, epsilon=0.1, gamma=1e-05,\n",
       "  kernel='linear', max_iter=-1, shrinking=True, tol=0.001, verbose=0)"
      ]
     },
     "execution_count": 163,
     "metadata": {},
     "output_type": "execute_result"
    },
    {
     "data": {
      "text/plain": [
       "SVR(C=0.1, cache_size=200, coef0=0.0, degree=3, epsilon=0.1, gamma=1e-05,\n",
       "  kernel='linear', max_iter=-1, shrinking=True, tol=0.001, verbose=0)"
      ]
     },
     "execution_count": 163,
     "metadata": {},
     "output_type": "execute_result"
    },
    {
     "data": {
      "text/plain": [
       "SVR(C=0.1, cache_size=200, coef0=0.0, degree=3, epsilon=0.1, gamma=1e-05,\n",
       "  kernel='linear', max_iter=-1, shrinking=True, tol=0.001, verbose=0)"
      ]
     },
     "execution_count": 163,
     "metadata": {},
     "output_type": "execute_result"
    },
    {
     "data": {
      "text/plain": [
       "SVR(C=0.1, cache_size=200, coef0=0.0, degree=3, epsilon=0.1, gamma=1e-05,\n",
       "  kernel='linear', max_iter=-1, shrinking=True, tol=0.001, verbose=0)"
      ]
     },
     "execution_count": 163,
     "metadata": {},
     "output_type": "execute_result"
    },
    {
     "data": {
      "text/plain": [
       "SVR(C=0.1, cache_size=200, coef0=0.0, degree=3, epsilon=0.1, gamma=1e-05,\n",
       "  kernel='linear', max_iter=-1, shrinking=True, tol=0.001, verbose=0)"
      ]
     },
     "execution_count": 163,
     "metadata": {},
     "output_type": "execute_result"
    },
    {
     "data": {
      "text/plain": [
       "SVR(C=0.1, cache_size=200, coef0=0.0, degree=3, epsilon=0.1, gamma=1e-05,\n",
       "  kernel='linear', max_iter=-1, shrinking=True, tol=0.001, verbose=0)"
      ]
     },
     "execution_count": 163,
     "metadata": {},
     "output_type": "execute_result"
    },
    {
     "data": {
      "text/plain": [
       "SVR(C=0.1, cache_size=200, coef0=0.0, degree=3, epsilon=0.1, gamma=1e-05,\n",
       "  kernel='linear', max_iter=-1, shrinking=True, tol=0.001, verbose=0)"
      ]
     },
     "execution_count": 163,
     "metadata": {},
     "output_type": "execute_result"
    },
    {
     "data": {
      "text/plain": [
       "SVR(C=0.1, cache_size=200, coef0=0.0, degree=3, epsilon=0.1, gamma=1e-05,\n",
       "  kernel='linear', max_iter=-1, shrinking=True, tol=0.001, verbose=0)"
      ]
     },
     "execution_count": 163,
     "metadata": {},
     "output_type": "execute_result"
    },
    {
     "data": {
      "text/plain": [
       "SVR(C=0.1, cache_size=200, coef0=0.0, degree=3, epsilon=0.1, gamma=1e-05,\n",
       "  kernel='linear', max_iter=-1, shrinking=True, tol=0.001, verbose=0)"
      ]
     },
     "execution_count": 163,
     "metadata": {},
     "output_type": "execute_result"
    },
    {
     "data": {
      "text/plain": [
       "SVR(C=0.1, cache_size=200, coef0=0.0, degree=3, epsilon=0.1, gamma=1e-05,\n",
       "  kernel='linear', max_iter=-1, shrinking=True, tol=0.001, verbose=0)"
      ]
     },
     "execution_count": 163,
     "metadata": {},
     "output_type": "execute_result"
    },
    {
     "data": {
      "text/plain": [
       "SVR(C=0.1, cache_size=200, coef0=0.0, degree=3, epsilon=0.1, gamma=1e-05,\n",
       "  kernel='linear', max_iter=-1, shrinking=True, tol=0.001, verbose=0)"
      ]
     },
     "execution_count": 163,
     "metadata": {},
     "output_type": "execute_result"
    },
    {
     "data": {
      "text/plain": [
       "SVR(C=0.1, cache_size=200, coef0=0.0, degree=3, epsilon=0.1, gamma=1e-05,\n",
       "  kernel='linear', max_iter=-1, shrinking=True, tol=0.001, verbose=0)"
      ]
     },
     "execution_count": 163,
     "metadata": {},
     "output_type": "execute_result"
    },
    {
     "data": {
      "text/plain": [
       "SVR(C=0.1, cache_size=200, coef0=0.0, degree=3, epsilon=0.1, gamma=1e-05,\n",
       "  kernel='linear', max_iter=-1, shrinking=True, tol=0.001, verbose=0)"
      ]
     },
     "execution_count": 163,
     "metadata": {},
     "output_type": "execute_result"
    },
    {
     "data": {
      "text/plain": [
       "SVR(C=0.1, cache_size=200, coef0=0.0, degree=3, epsilon=0.1, gamma=1e-05,\n",
       "  kernel='linear', max_iter=-1, shrinking=True, tol=0.001, verbose=0)"
      ]
     },
     "execution_count": 163,
     "metadata": {},
     "output_type": "execute_result"
    },
    {
     "data": {
      "text/plain": [
       "SVR(C=0.1, cache_size=200, coef0=0.0, degree=3, epsilon=0.1, gamma=1e-05,\n",
       "  kernel='linear', max_iter=-1, shrinking=True, tol=0.001, verbose=0)"
      ]
     },
     "execution_count": 163,
     "metadata": {},
     "output_type": "execute_result"
    },
    {
     "data": {
      "text/plain": [
       "SVR(C=0.1, cache_size=200, coef0=0.0, degree=3, epsilon=0.1, gamma=1e-05,\n",
       "  kernel='linear', max_iter=-1, shrinking=True, tol=0.001, verbose=0)"
      ]
     },
     "execution_count": 163,
     "metadata": {},
     "output_type": "execute_result"
    },
    {
     "data": {
      "text/plain": [
       "SVR(C=0.1, cache_size=200, coef0=0.0, degree=3, epsilon=0.1, gamma=1e-05,\n",
       "  kernel='linear', max_iter=-1, shrinking=True, tol=0.001, verbose=0)"
      ]
     },
     "execution_count": 163,
     "metadata": {},
     "output_type": "execute_result"
    },
    {
     "data": {
      "text/plain": [
       "SVR(C=0.1, cache_size=200, coef0=0.0, degree=3, epsilon=0.1, gamma=1e-05,\n",
       "  kernel='linear', max_iter=-1, shrinking=True, tol=0.001, verbose=0)"
      ]
     },
     "execution_count": 163,
     "metadata": {},
     "output_type": "execute_result"
    },
    {
     "data": {
      "text/plain": [
       "SVR(C=0.1, cache_size=200, coef0=0.0, degree=3, epsilon=0.1, gamma=1e-05,\n",
       "  kernel='linear', max_iter=-1, shrinking=True, tol=0.001, verbose=0)"
      ]
     },
     "execution_count": 163,
     "metadata": {},
     "output_type": "execute_result"
    },
    {
     "data": {
      "text/plain": [
       "SVR(C=0.1, cache_size=200, coef0=0.0, degree=3, epsilon=0.1, gamma=1e-05,\n",
       "  kernel='linear', max_iter=-1, shrinking=True, tol=0.001, verbose=0)"
      ]
     },
     "execution_count": 163,
     "metadata": {},
     "output_type": "execute_result"
    },
    {
     "data": {
      "text/plain": [
       "SVR(C=0.1, cache_size=200, coef0=0.0, degree=3, epsilon=0.1, gamma=1e-05,\n",
       "  kernel='linear', max_iter=-1, shrinking=True, tol=0.001, verbose=0)"
      ]
     },
     "execution_count": 163,
     "metadata": {},
     "output_type": "execute_result"
    },
    {
     "data": {
      "text/plain": [
       "SVR(C=0.1, cache_size=200, coef0=0.0, degree=3, epsilon=0.1, gamma=1e-05,\n",
       "  kernel='linear', max_iter=-1, shrinking=True, tol=0.001, verbose=0)"
      ]
     },
     "execution_count": 163,
     "metadata": {},
     "output_type": "execute_result"
    },
    {
     "data": {
      "text/plain": [
       "SVR(C=0.1, cache_size=200, coef0=0.0, degree=3, epsilon=0.1, gamma=1e-05,\n",
       "  kernel='linear', max_iter=-1, shrinking=True, tol=0.001, verbose=0)"
      ]
     },
     "execution_count": 163,
     "metadata": {},
     "output_type": "execute_result"
    },
    {
     "data": {
      "text/plain": [
       "SVR(C=0.1, cache_size=200, coef0=0.0, degree=3, epsilon=0.1, gamma=1e-05,\n",
       "  kernel='linear', max_iter=-1, shrinking=True, tol=0.001, verbose=0)"
      ]
     },
     "execution_count": 163,
     "metadata": {},
     "output_type": "execute_result"
    },
    {
     "data": {
      "text/plain": [
       "SVR(C=0.1, cache_size=200, coef0=0.0, degree=3, epsilon=0.1, gamma=1e-05,\n",
       "  kernel='linear', max_iter=-1, shrinking=True, tol=0.001, verbose=0)"
      ]
     },
     "execution_count": 163,
     "metadata": {},
     "output_type": "execute_result"
    },
    {
     "data": {
      "text/plain": [
       "SVR(C=0.1, cache_size=200, coef0=0.0, degree=3, epsilon=0.1, gamma=1e-05,\n",
       "  kernel='linear', max_iter=-1, shrinking=True, tol=0.001, verbose=0)"
      ]
     },
     "execution_count": 163,
     "metadata": {},
     "output_type": "execute_result"
    },
    {
     "data": {
      "text/plain": [
       "SVR(C=0.1, cache_size=200, coef0=0.0, degree=3, epsilon=0.1, gamma=1e-05,\n",
       "  kernel='linear', max_iter=-1, shrinking=True, tol=0.001, verbose=0)"
      ]
     },
     "execution_count": 163,
     "metadata": {},
     "output_type": "execute_result"
    },
    {
     "data": {
      "text/plain": [
       "SVR(C=0.1, cache_size=200, coef0=0.0, degree=3, epsilon=0.1, gamma=1e-05,\n",
       "  kernel='linear', max_iter=-1, shrinking=True, tol=0.001, verbose=0)"
      ]
     },
     "execution_count": 163,
     "metadata": {},
     "output_type": "execute_result"
    },
    {
     "data": {
      "text/plain": [
       "SVR(C=0.1, cache_size=200, coef0=0.0, degree=3, epsilon=0.1, gamma=1e-05,\n",
       "  kernel='linear', max_iter=-1, shrinking=True, tol=0.001, verbose=0)"
      ]
     },
     "execution_count": 163,
     "metadata": {},
     "output_type": "execute_result"
    },
    {
     "data": {
      "text/plain": [
       "SVR(C=0.1, cache_size=200, coef0=0.0, degree=3, epsilon=0.1, gamma=1e-05,\n",
       "  kernel='linear', max_iter=-1, shrinking=True, tol=0.001, verbose=0)"
      ]
     },
     "execution_count": 163,
     "metadata": {},
     "output_type": "execute_result"
    },
    {
     "data": {
      "text/plain": [
       "SVR(C=0.1, cache_size=200, coef0=0.0, degree=3, epsilon=0.1, gamma=1e-05,\n",
       "  kernel='linear', max_iter=-1, shrinking=True, tol=0.001, verbose=0)"
      ]
     },
     "execution_count": 163,
     "metadata": {},
     "output_type": "execute_result"
    },
    {
     "data": {
      "text/plain": [
       "SVR(C=0.1, cache_size=200, coef0=0.0, degree=3, epsilon=0.1, gamma=1e-05,\n",
       "  kernel='linear', max_iter=-1, shrinking=True, tol=0.001, verbose=0)"
      ]
     },
     "execution_count": 163,
     "metadata": {},
     "output_type": "execute_result"
    },
    {
     "data": {
      "text/plain": [
       "SVR(C=0.1, cache_size=200, coef0=0.0, degree=3, epsilon=0.1, gamma=1e-05,\n",
       "  kernel='linear', max_iter=-1, shrinking=True, tol=0.001, verbose=0)"
      ]
     },
     "execution_count": 163,
     "metadata": {},
     "output_type": "execute_result"
    },
    {
     "data": {
      "text/plain": [
       "SVR(C=0.1, cache_size=200, coef0=0.0, degree=3, epsilon=0.1, gamma=1e-05,\n",
       "  kernel='linear', max_iter=-1, shrinking=True, tol=0.001, verbose=0)"
      ]
     },
     "execution_count": 163,
     "metadata": {},
     "output_type": "execute_result"
    },
    {
     "data": {
      "text/plain": [
       "SVR(C=0.1, cache_size=200, coef0=0.0, degree=3, epsilon=0.1, gamma=1e-05,\n",
       "  kernel='linear', max_iter=-1, shrinking=True, tol=0.001, verbose=0)"
      ]
     },
     "execution_count": 163,
     "metadata": {},
     "output_type": "execute_result"
    },
    {
     "data": {
      "text/plain": [
       "SVR(C=0.1, cache_size=200, coef0=0.0, degree=3, epsilon=0.1, gamma=1e-05,\n",
       "  kernel='linear', max_iter=-1, shrinking=True, tol=0.001, verbose=0)"
      ]
     },
     "execution_count": 163,
     "metadata": {},
     "output_type": "execute_result"
    },
    {
     "data": {
      "text/plain": [
       "SVR(C=0.1, cache_size=200, coef0=0.0, degree=3, epsilon=0.1, gamma=1e-05,\n",
       "  kernel='linear', max_iter=-1, shrinking=True, tol=0.001, verbose=0)"
      ]
     },
     "execution_count": 163,
     "metadata": {},
     "output_type": "execute_result"
    },
    {
     "data": {
      "text/plain": [
       "SVR(C=0.1, cache_size=200, coef0=0.0, degree=3, epsilon=0.1, gamma=1e-05,\n",
       "  kernel='linear', max_iter=-1, shrinking=True, tol=0.001, verbose=0)"
      ]
     },
     "execution_count": 163,
     "metadata": {},
     "output_type": "execute_result"
    },
    {
     "data": {
      "text/plain": [
       "SVR(C=0.1, cache_size=200, coef0=0.0, degree=3, epsilon=0.1, gamma=1e-05,\n",
       "  kernel='linear', max_iter=-1, shrinking=True, tol=0.001, verbose=0)"
      ]
     },
     "execution_count": 163,
     "metadata": {},
     "output_type": "execute_result"
    },
    {
     "data": {
      "text/plain": [
       "SVR(C=0.1, cache_size=200, coef0=0.0, degree=3, epsilon=0.1, gamma=1e-05,\n",
       "  kernel='linear', max_iter=-1, shrinking=True, tol=0.001, verbose=0)"
      ]
     },
     "execution_count": 163,
     "metadata": {},
     "output_type": "execute_result"
    },
    {
     "data": {
      "text/plain": [
       "SVR(C=0.1, cache_size=200, coef0=0.0, degree=3, epsilon=0.1, gamma=1e-05,\n",
       "  kernel='linear', max_iter=-1, shrinking=True, tol=0.001, verbose=0)"
      ]
     },
     "execution_count": 163,
     "metadata": {},
     "output_type": "execute_result"
    },
    {
     "data": {
      "text/plain": [
       "SVR(C=0.1, cache_size=200, coef0=0.0, degree=3, epsilon=0.1, gamma=1e-05,\n",
       "  kernel='linear', max_iter=-1, shrinking=True, tol=0.001, verbose=0)"
      ]
     },
     "execution_count": 163,
     "metadata": {},
     "output_type": "execute_result"
    },
    {
     "data": {
      "text/plain": [
       "SVR(C=0.1, cache_size=200, coef0=0.0, degree=3, epsilon=0.1, gamma=1e-05,\n",
       "  kernel='linear', max_iter=-1, shrinking=True, tol=0.001, verbose=0)"
      ]
     },
     "execution_count": 163,
     "metadata": {},
     "output_type": "execute_result"
    },
    {
     "data": {
      "text/plain": [
       "SVR(C=0.1, cache_size=200, coef0=0.0, degree=3, epsilon=0.1, gamma=1e-05,\n",
       "  kernel='linear', max_iter=-1, shrinking=True, tol=0.001, verbose=0)"
      ]
     },
     "execution_count": 163,
     "metadata": {},
     "output_type": "execute_result"
    },
    {
     "data": {
      "text/plain": [
       "SVR(C=0.1, cache_size=200, coef0=0.0, degree=3, epsilon=0.1, gamma=1e-05,\n",
       "  kernel='linear', max_iter=-1, shrinking=True, tol=0.001, verbose=0)"
      ]
     },
     "execution_count": 163,
     "metadata": {},
     "output_type": "execute_result"
    },
    {
     "data": {
      "text/plain": [
       "SVR(C=0.1, cache_size=200, coef0=0.0, degree=3, epsilon=0.1, gamma=1e-05,\n",
       "  kernel='linear', max_iter=-1, shrinking=True, tol=0.001, verbose=0)"
      ]
     },
     "execution_count": 163,
     "metadata": {},
     "output_type": "execute_result"
    },
    {
     "data": {
      "text/plain": [
       "SVR(C=0.1, cache_size=200, coef0=0.0, degree=3, epsilon=0.1, gamma=1e-05,\n",
       "  kernel='linear', max_iter=-1, shrinking=True, tol=0.001, verbose=0)"
      ]
     },
     "execution_count": 163,
     "metadata": {},
     "output_type": "execute_result"
    },
    {
     "data": {
      "text/plain": [
       "SVR(C=0.1, cache_size=200, coef0=0.0, degree=3, epsilon=0.1, gamma=1e-05,\n",
       "  kernel='linear', max_iter=-1, shrinking=True, tol=0.001, verbose=0)"
      ]
     },
     "execution_count": 163,
     "metadata": {},
     "output_type": "execute_result"
    },
    {
     "data": {
      "text/plain": [
       "SVR(C=0.1, cache_size=200, coef0=0.0, degree=3, epsilon=0.1, gamma=1e-05,\n",
       "  kernel='linear', max_iter=-1, shrinking=True, tol=0.001, verbose=0)"
      ]
     },
     "execution_count": 163,
     "metadata": {},
     "output_type": "execute_result"
    },
    {
     "data": {
      "text/plain": [
       "SVR(C=0.1, cache_size=200, coef0=0.0, degree=3, epsilon=0.1, gamma=1e-05,\n",
       "  kernel='linear', max_iter=-1, shrinking=True, tol=0.001, verbose=0)"
      ]
     },
     "execution_count": 163,
     "metadata": {},
     "output_type": "execute_result"
    },
    {
     "data": {
      "text/plain": [
       "SVR(C=0.1, cache_size=200, coef0=0.0, degree=3, epsilon=0.1, gamma=1e-05,\n",
       "  kernel='linear', max_iter=-1, shrinking=True, tol=0.001, verbose=0)"
      ]
     },
     "execution_count": 163,
     "metadata": {},
     "output_type": "execute_result"
    },
    {
     "data": {
      "text/plain": [
       "SVR(C=0.1, cache_size=200, coef0=0.0, degree=3, epsilon=0.1, gamma=1e-05,\n",
       "  kernel='linear', max_iter=-1, shrinking=True, tol=0.001, verbose=0)"
      ]
     },
     "execution_count": 163,
     "metadata": {},
     "output_type": "execute_result"
    },
    {
     "data": {
      "text/plain": [
       "SVR(C=0.1, cache_size=200, coef0=0.0, degree=3, epsilon=0.1, gamma=1e-05,\n",
       "  kernel='linear', max_iter=-1, shrinking=True, tol=0.001, verbose=0)"
      ]
     },
     "execution_count": 163,
     "metadata": {},
     "output_type": "execute_result"
    },
    {
     "data": {
      "text/plain": [
       "SVR(C=0.1, cache_size=200, coef0=0.0, degree=3, epsilon=0.1, gamma=1e-05,\n",
       "  kernel='linear', max_iter=-1, shrinking=True, tol=0.001, verbose=0)"
      ]
     },
     "execution_count": 163,
     "metadata": {},
     "output_type": "execute_result"
    },
    {
     "data": {
      "text/plain": [
       "SVR(C=0.1, cache_size=200, coef0=0.0, degree=3, epsilon=0.1, gamma=1e-05,\n",
       "  kernel='linear', max_iter=-1, shrinking=True, tol=0.001, verbose=0)"
      ]
     },
     "execution_count": 163,
     "metadata": {},
     "output_type": "execute_result"
    },
    {
     "data": {
      "text/plain": [
       "SVR(C=0.1, cache_size=200, coef0=0.0, degree=3, epsilon=0.1, gamma=1e-05,\n",
       "  kernel='linear', max_iter=-1, shrinking=True, tol=0.001, verbose=0)"
      ]
     },
     "execution_count": 163,
     "metadata": {},
     "output_type": "execute_result"
    },
    {
     "data": {
      "text/plain": [
       "SVR(C=0.1, cache_size=200, coef0=0.0, degree=3, epsilon=0.1, gamma=1e-05,\n",
       "  kernel='linear', max_iter=-1, shrinking=True, tol=0.001, verbose=0)"
      ]
     },
     "execution_count": 163,
     "metadata": {},
     "output_type": "execute_result"
    },
    {
     "data": {
      "text/plain": [
       "SVR(C=0.1, cache_size=200, coef0=0.0, degree=3, epsilon=0.1, gamma=1e-05,\n",
       "  kernel='linear', max_iter=-1, shrinking=True, tol=0.001, verbose=0)"
      ]
     },
     "execution_count": 163,
     "metadata": {},
     "output_type": "execute_result"
    },
    {
     "data": {
      "text/plain": [
       "SVR(C=0.1, cache_size=200, coef0=0.0, degree=3, epsilon=0.1, gamma=1e-05,\n",
       "  kernel='linear', max_iter=-1, shrinking=True, tol=0.001, verbose=0)"
      ]
     },
     "execution_count": 163,
     "metadata": {},
     "output_type": "execute_result"
    },
    {
     "data": {
      "text/plain": [
       "SVR(C=0.1, cache_size=200, coef0=0.0, degree=3, epsilon=0.1, gamma=1e-05,\n",
       "  kernel='linear', max_iter=-1, shrinking=True, tol=0.001, verbose=0)"
      ]
     },
     "execution_count": 163,
     "metadata": {},
     "output_type": "execute_result"
    },
    {
     "data": {
      "text/plain": [
       "SVR(C=0.1, cache_size=200, coef0=0.0, degree=3, epsilon=0.1, gamma=1e-05,\n",
       "  kernel='linear', max_iter=-1, shrinking=True, tol=0.001, verbose=0)"
      ]
     },
     "execution_count": 163,
     "metadata": {},
     "output_type": "execute_result"
    },
    {
     "data": {
      "text/plain": [
       "SVR(C=0.1, cache_size=200, coef0=0.0, degree=3, epsilon=0.1, gamma=1e-05,\n",
       "  kernel='linear', max_iter=-1, shrinking=True, tol=0.001, verbose=0)"
      ]
     },
     "execution_count": 163,
     "metadata": {},
     "output_type": "execute_result"
    },
    {
     "data": {
      "text/plain": [
       "SVR(C=0.1, cache_size=200, coef0=0.0, degree=3, epsilon=0.1, gamma=1e-05,\n",
       "  kernel='linear', max_iter=-1, shrinking=True, tol=0.001, verbose=0)"
      ]
     },
     "execution_count": 163,
     "metadata": {},
     "output_type": "execute_result"
    },
    {
     "data": {
      "text/plain": [
       "SVR(C=0.1, cache_size=200, coef0=0.0, degree=3, epsilon=0.1, gamma=1e-05,\n",
       "  kernel='linear', max_iter=-1, shrinking=True, tol=0.001, verbose=0)"
      ]
     },
     "execution_count": 163,
     "metadata": {},
     "output_type": "execute_result"
    },
    {
     "data": {
      "text/plain": [
       "SVR(C=0.1, cache_size=200, coef0=0.0, degree=3, epsilon=0.1, gamma=1e-05,\n",
       "  kernel='linear', max_iter=-1, shrinking=True, tol=0.001, verbose=0)"
      ]
     },
     "execution_count": 163,
     "metadata": {},
     "output_type": "execute_result"
    }
   ],
   "source": [
    "mae_list_rr = []\n",
    "\n",
    "for i in range(100):\n",
    "    dataset = ndre_data_lag_40[keep_cols]\n",
    "\n",
    "    X = dataset.iloc[:,1:]\n",
    "    X = X.values\n",
    "\n",
    "    y = dataset.iloc[:,0]\n",
    "    y = y.values\n",
    "\n",
    "    # split data into train and test sets\n",
    "    test_size = 0.20\n",
    "    X_train, X_test, y_train, y_test = train_test_split(X, y, test_size=test_size)\n",
    "\n",
    "    mean_X = X_train.mean(axis=0)\n",
    "    std_X = X_train.std(axis=0)\n",
    "\n",
    "    X_train = (X_train - mean_X) / std_X\n",
    "    X_test = (X_test - mean_X) / std_X\n",
    "\n",
    "    X_train = X_train.astype('float32')\n",
    "    X_test = X_test.astype('float32')\n",
    "\n",
    "    mean_y = y_train.mean(axis=0)\n",
    "    std_y = y_train.std(axis=0)\n",
    "\n",
    "    y_train = (y_train - mean_y) / std_y\n",
    "    y_test = (y_test - mean_y) / std_y\n",
    "\n",
    "    y_train = y_train.astype('float32')\n",
    "    y_test = y_test.astype('float32')\n",
    "    \n",
    "    svrl = SVR(kernel='linear', gamma=1e-5, C=0.1, verbose=0)\n",
    "    svrl.fit(X_train, y_train)\n",
    "\n",
    "    y_svrl = svrl.predict(X_test)\n",
    "    y_pred_inv = (y_svrl * std_y) + mean_y\n",
    "    y_test_inv = (y_test * std_y) + mean_y\n",
    "    mae_list_rr.append(mean_absolute_error(y_pred=y_pred_inv, y_true=y_test_inv))"
   ]
  },
  {
   "cell_type": "code",
   "execution_count": 164,
   "metadata": {},
   "outputs": [
    {
     "data": {
      "text/plain": [
       "[0.03679715618063663,\n",
       " 0.036857363777694024,\n",
       " 0.03524190317098836,\n",
       " 0.03323400030095179,\n",
       " 0.032934777072607474,\n",
       " 0.0315043624308765,\n",
       " 0.0334744954654319,\n",
       " 0.0345079026676735,\n",
       " 0.030465640739038933,\n",
       " 0.03609975759515218,\n",
       " 0.03541976302395663,\n",
       " 0.03662232649571337,\n",
       " 0.03535127370501805,\n",
       " 0.032620929662273535,\n",
       " 0.03543619492042765,\n",
       " 0.029023517994413984,\n",
       " 0.03225169223033918,\n",
       " 0.03685106641167217,\n",
       " 0.030630938285628666,\n",
       " 0.03481684930783279,\n",
       " 0.035744757447343324,\n",
       " 0.03599628925928842,\n",
       " 0.03424445550116367,\n",
       " 0.035625015745883774,\n",
       " 0.032356482444956015,\n",
       " 0.030840955641766598,\n",
       " 0.03271281762303323,\n",
       " 0.032082423577174043,\n",
       " 0.030963764852447215,\n",
       " 0.03151473051299424,\n",
       " 0.030990736499905604,\n",
       " 0.03397435134734251,\n",
       " 0.033234272465068514,\n",
       " 0.030074312326635173,\n",
       " 0.031778828230716843,\n",
       " 0.04136352532475826,\n",
       " 0.03446790525593537,\n",
       " 0.037418207513417095,\n",
       " 0.03184221138843802,\n",
       " 0.03973598312884572,\n",
       " 0.03210410628715523,\n",
       " 0.037234645351350314,\n",
       " 0.032626683365953056,\n",
       " 0.035758765629593514,\n",
       " 0.03563041576708029,\n",
       " 0.035047543216907104,\n",
       " 0.0366910989720525,\n",
       " 0.0345198844539534,\n",
       " 0.03339093865684863,\n",
       " 0.03261157871039499,\n",
       " 0.032129379278810086,\n",
       " 0.03501172522796508,\n",
       " 0.029865594634834854,\n",
       " 0.03470230984527904,\n",
       " 0.03219442634579858,\n",
       " 0.03940321280338112,\n",
       " 0.03301018312227323,\n",
       " 0.029501013036164304,\n",
       " 0.03248179690394425,\n",
       " 0.03373539091116607,\n",
       " 0.04096458076448738,\n",
       " 0.03360393013392633,\n",
       " 0.03646918145188308,\n",
       " 0.03377724750904341,\n",
       " 0.0343759445131958,\n",
       " 0.03214692020337191,\n",
       " 0.03510536626896972,\n",
       " 0.033730016180692386,\n",
       " 0.036657022517227876,\n",
       " 0.03321567460017385,\n",
       " 0.03273160483198523,\n",
       " 0.033172847085700716,\n",
       " 0.03583081827106483,\n",
       " 0.03367492702459632,\n",
       " 0.036133413886934494,\n",
       " 0.03604789462446163,\n",
       " 0.035658275031627384,\n",
       " 0.032562670403157905,\n",
       " 0.034747642104967176,\n",
       " 0.03536750030993955,\n",
       " 0.03173568998473093,\n",
       " 0.0377299127422031,\n",
       " 0.03181650995994983,\n",
       " 0.03674294761406386,\n",
       " 0.037421357431446055,\n",
       " 0.030549357587138518,\n",
       " 0.030985787704107082,\n",
       " 0.03741942930067034,\n",
       " 0.0351630042056216,\n",
       " 0.033397280725963305,\n",
       " 0.029820549131643812,\n",
       " 0.03593539718792074,\n",
       " 0.03239741863785936,\n",
       " 0.03399580781947918,\n",
       " 0.03509032235087762,\n",
       " 0.03839737103988808,\n",
       " 0.03509127470697677,\n",
       " 0.034623893838640854,\n",
       " 0.032398232312986094,\n",
       " 0.02982964991384918,\n",
       " 0.03650480553142256,\n",
       " 0.03547113532106618,\n",
       " 0.034428320394221244,\n",
       " 0.03436948965901545,\n",
       " 0.03747146197421897,\n",
       " 0.0356693399598862,\n",
       " 0.030722844761709882,\n",
       " 0.03621496162906815,\n",
       " 0.029469088632164506,\n",
       " 0.034533002165609804,\n",
       " 0.03301489161339184,\n",
       " 0.033533685828120136,\n",
       " 0.037876278983266114,\n",
       " 0.039688940012570145,\n",
       " 0.03054974427033509,\n",
       " 0.030868481932464616,\n",
       " 0.03726861388387868,\n",
       " 0.03502033724676501,\n",
       " 0.03376143887856566,\n",
       " 0.033701334539165,\n",
       " 0.03808985311909185,\n",
       " 0.03565918862585055,\n",
       " 0.03356692838034428,\n",
       " 0.03452482722970304,\n",
       " 0.032897770614138434,\n",
       " 0.035535887366943915,\n",
       " 0.03383854336906911,\n",
       " 0.03606680158550481,\n",
       " 0.03581967902509946,\n",
       " 0.03414746573307796,\n",
       " 0.03663586842801496,\n",
       " 0.03607093508727015,\n",
       " 0.03467615112618887,\n",
       " 0.03597660509994603,\n",
       " 0.03671947545312361,\n",
       " 0.03176761065114824,\n",
       " 0.03793851025302267,\n",
       " 0.03641489798936377,\n",
       " 0.03855394734109877,\n",
       " 0.03419068074694091,\n",
       " 0.032639722075695744,\n",
       " 0.033119858424481015,\n",
       " 0.035811463894927516,\n",
       " 0.03154283560137013,\n",
       " 0.03571043832927656,\n",
       " 0.03554782430131887,\n",
       " 0.03692758389312786,\n",
       " 0.03599488843320672,\n",
       " 0.03659616066117439,\n",
       " 0.03295977992565499,\n",
       " 0.031075487405432648,\n",
       " 0.03237544773904183,\n",
       " 0.03484873479248625,\n",
       " 0.03517176489748338,\n",
       " 0.04060865481093363,\n",
       " 0.030502899180538303,\n",
       " 0.03182773456571748,\n",
       " 0.03664735543416115,\n",
       " 0.03113964386423916,\n",
       " 0.03350233446160009,\n",
       " 0.03570774665485026,\n",
       " 0.033606889827426774,\n",
       " 0.03551717171365577,\n",
       " 0.031909849491295106,\n",
       " 0.037532543968761566,\n",
       " 0.03478889234073091,\n",
       " 0.03374848353474506,\n",
       " 0.03299622090371825,\n",
       " 0.03632985515362646,\n",
       " 0.035307097435172616,\n",
       " 0.03637990977854259,\n",
       " 0.031629057531222395,\n",
       " 0.0329012722843937,\n",
       " 0.03680240232683012,\n",
       " 0.034163814779250894,\n",
       " 0.03230601050600486,\n",
       " 0.03499782460585051,\n",
       " 0.03743459298259166,\n",
       " 0.03131465622650917,\n",
       " 0.036354269529096386,\n",
       " 0.03312679758398014,\n",
       " 0.03305028523701181,\n",
       " 0.03714380728790273,\n",
       " 0.038463956037418943,\n",
       " 0.030793497405346103,\n",
       " 0.03667536886701281,\n",
       " 0.031332257981371174,\n",
       " 0.032987032986606664,\n",
       " 0.03338538943282457,\n",
       " 0.03567302146243239,\n",
       " 0.03124605470986732,\n",
       " 0.029988874523383766,\n",
       " 0.034066565357504144,\n",
       " 0.03508527732486806,\n",
       " 0.027466150702246478,\n",
       " 0.03560135236171778,\n",
       " 0.03698032379857271,\n",
       " 0.03297752322631305,\n",
       " 0.03469497307500691,\n",
       " 0.0354541951321707,\n",
       " 0.032523724897153494,\n",
       " 0.027341142061533385,\n",
       " 0.03227241881137633,\n",
       " 0.03696956187592075,\n",
       " 0.040259704876016274,\n",
       " 0.038703831078664874,\n",
       " 0.03658541727934976,\n",
       " 0.03828446980078049,\n",
       " 0.034760166162450555,\n",
       " 0.03630535709897783,\n",
       " 0.03168374459244286,\n",
       " 0.03188868872941808,\n",
       " 0.03862161406297314,\n",
       " 0.036363898104784215,\n",
       " 0.03737949409811045,\n",
       " 0.03429336135739403,\n",
       " 0.03230613135525244,\n",
       " 0.034447468548686716,\n",
       " 0.03156699059656006,\n",
       " 0.035064253588463885,\n",
       " 0.03218608555168989,\n",
       " 0.0312574162671021,\n",
       " 0.03865218984084009,\n",
       " 0.03078551008974325,\n",
       " 0.027196776516384413,\n",
       " 0.03110642192239478,\n",
       " 0.03441899300003703,\n",
       " 0.035961018826062514,\n",
       " 0.032709804169977215,\n",
       " 0.030859556255368854,\n",
       " 0.03611038074522392,\n",
       " 0.03652722384431134,\n",
       " 0.03266133559051743,\n",
       " 0.030672662091695665,\n",
       " 0.03588422520121759,\n",
       " 0.03603836840513257,\n",
       " 0.028722555764857535,\n",
       " 0.0315057790925538,\n",
       " 0.029887923899932282,\n",
       " 0.038178317109719785,\n",
       " 0.034393657149084295,\n",
       " 0.03445416951734011,\n",
       " 0.03358485505604426,\n",
       " 0.0362022344693464,\n",
       " 0.031241653595821255,\n",
       " 0.02889310416635095,\n",
       " 0.029324496513455547,\n",
       " 0.03873678436415436,\n",
       " 0.029741209009421125,\n",
       " 0.03117597779311698,\n",
       " 0.03591785035117172,\n",
       " 0.029252010568653557,\n",
       " 0.029108894226517665,\n",
       " 0.03173707953806434,\n",
       " 0.03499850678332353,\n",
       " 0.03403090774286932,\n",
       " 0.035745952968758384,\n",
       " 0.03092718493771454,\n",
       " 0.03176067696646147,\n",
       " 0.031100035837545358,\n",
       " 0.03438318466264036,\n",
       " 0.03257710521002662,\n",
       " 0.03129774154768072,\n",
       " 0.03579841931306081,\n",
       " 0.02834417435003165,\n",
       " 0.034098894535060945,\n",
       " 0.03425735245442938,\n",
       " 0.03191617644606912,\n",
       " 0.033209341708583515,\n",
       " 0.03301182517224622,\n",
       " 0.03662429425773603,\n",
       " 0.035278653668089674,\n",
       " 0.03323633546782053,\n",
       " 0.03690008448129805,\n",
       " 0.03265877436423314,\n",
       " 0.038050692764146084,\n",
       " 0.03073843242214743,\n",
       " 0.03262201355989973,\n",
       " 0.032397010648377925,\n",
       " 0.03375862770816696,\n",
       " 0.03663744231433995,\n",
       " 0.031473917206549844,\n",
       " 0.03216030129331687,\n",
       " 0.033028768422700874,\n",
       " 0.03412871218458212,\n",
       " 0.033534480596970485,\n",
       " 0.03093565216537342,\n",
       " 0.034310417845401626,\n",
       " 0.03857438303378642,\n",
       " 0.0347299612929129,\n",
       " 0.034402503102797605,\n",
       " 0.03512913677339167,\n",
       " 0.034549755904056394,\n",
       " 0.030687661860619317,\n",
       " 0.033817020941087864,\n",
       " 0.03442164628098591,\n",
       " 0.03683962063294084,\n",
       " 0.02973851318449313,\n",
       " 0.035107079593324396,\n",
       " 0.03525234926613859,\n",
       " 0.03292563582242701,\n",
       " 0.035390020714724926,\n",
       " 0.036152299844320106,\n",
       " 0.030019112055194364,\n",
       " 0.033692708284239696,\n",
       " 0.031054217612585137,\n",
       " 0.03439257667521963,\n",
       " 0.03588697261383123,\n",
       " 0.030073708746633697,\n",
       " 0.03506661753182951,\n",
       " 0.03441402099388422,\n",
       " 0.03981423250581319,\n",
       " 0.03626795349921073,\n",
       " 0.03295771507420964,\n",
       " 0.03324733142051258,\n",
       " 0.03970536506938628,\n",
       " 0.033816468700411405,\n",
       " 0.03136388354243171,\n",
       " 0.03261124331775704,\n",
       " 0.03162312343813018,\n",
       " 0.034440266183603525,\n",
       " 0.037685095922399804,\n",
       " 0.031561890315004795,\n",
       " 0.02810302515256301,\n",
       " 0.03472788168674089,\n",
       " 0.029587156511172056,\n",
       " 0.037509261510379165,\n",
       " 0.030206832443551032,\n",
       " 0.0315412174145081,\n",
       " 0.03279509623823237,\n",
       " 0.03157816851747935,\n",
       " 0.03502053068557094,\n",
       " 0.0331497853513313,\n",
       " 0.0338297759347109,\n",
       " 0.032403281504079236,\n",
       " 0.03340622368465735,\n",
       " 0.03463567621211701,\n",
       " 0.03812350032480666,\n",
       " 0.03560787483355246,\n",
       " 0.033272901969644254,\n",
       " 0.029872663946875478,\n",
       " 0.032106951520982425,\n",
       " 0.027767261604695913,\n",
       " 0.03195651270302685,\n",
       " 0.037443115607454704,\n",
       " 0.033291104432658966,\n",
       " 0.0342777784099971,\n",
       " 0.031314416137746284,\n",
       " 0.03270122732640778,\n",
       " 0.027392315771516587,\n",
       " 0.03660775658957944,\n",
       " 0.03433973984970173,\n",
       " 0.03245924221100185,\n",
       " 0.0299139739899127,\n",
       " 0.03269310165855961,\n",
       " 0.03676663978354837,\n",
       " 0.03434394614466934,\n",
       " 0.03480362496358561,\n",
       " 0.032334777343691355,\n",
       " 0.026006474337884285,\n",
       " 0.03868176918795547,\n",
       " 0.036105105846032874,\n",
       " 0.029841560380417076,\n",
       " 0.032531055485833675,\n",
       " 0.032515005411036635,\n",
       " 0.03694702538492176,\n",
       " 0.037309033000572346,\n",
       " 0.03209194331740674,\n",
       " 0.03956793480487616,\n",
       " 0.03553220980837641,\n",
       " 0.034607595299290375,\n",
       " 0.038057576784616305,\n",
       " 0.03580463857733839,\n",
       " 0.03380445806275488,\n",
       " 0.03527202878635547,\n",
       " 0.030141403767813345,\n",
       " 0.03467229948052243,\n",
       " 0.0324617075374037,\n",
       " 0.03615454668065474,\n",
       " 0.03336403128729983,\n",
       " 0.03349397124516149,\n",
       " 0.03397776473327918,\n",
       " 0.033930798361661726,\n",
       " 0.030814859443761156,\n",
       " 0.03501852017547395,\n",
       " 0.031176153569031674,\n",
       " 0.030369467330026923,\n",
       " 0.03576979312952502,\n",
       " 0.03525889996782071,\n",
       " 0.03411831668900193,\n",
       " 0.032488935605499376,\n",
       " 0.03151799224830923,\n",
       " 0.03351487953726531,\n",
       " 0.03558948135789073,\n",
       " 0.03037205429908342,\n",
       " 0.027496708476009525,\n",
       " 0.030722876162838683,\n",
       " 0.03947203961706168,\n",
       " 0.0346186291221757,\n",
       " 0.03457676336040697,\n",
       " 0.03667196338546279,\n",
       " 0.03399712949277996,\n",
       " 0.03457912324537348,\n",
       " 0.03534676070425083,\n",
       " 0.03260268898251302,\n",
       " 0.032748059593757664,\n",
       " 0.03505005889573179,\n",
       " 0.03950114612192968,\n",
       " 0.03123650324546713,\n",
       " 0.033734163970115943,\n",
       " 0.035382358210741295,\n",
       " 0.03658437513966623,\n",
       " 0.029476042105733066,\n",
       " 0.030538022103135786,\n",
       " 0.03735528831573564,\n",
       " 0.034807273924501204,\n",
       " 0.031557646881275346,\n",
       " 0.03327770641808478,\n",
       " 0.03334650474841551,\n",
       " 0.03704065802288849,\n",
       " 0.033382701263295234,\n",
       " 0.027174288137324202,\n",
       " 0.0336338364253691,\n",
       " 0.0343461401863308,\n",
       " 0.03228314262917555,\n",
       " 0.03507204504811832,\n",
       " 0.03826599670122819,\n",
       " 0.03519653280162703,\n",
       " 0.03171343730702535,\n",
       " 0.032080389959112575,\n",
       " 0.03187913077203656,\n",
       " 0.03379392257184321,\n",
       " 0.03363256405532708,\n",
       " 0.03369021922746803,\n",
       " 0.03857397121698093,\n",
       " 0.03443411799322372,\n",
       " 0.03364085185328905,\n",
       " 0.03343253469455404,\n",
       " 0.034350876913577064,\n",
       " 0.037655600637523524,\n",
       " 0.03275447797726261,\n",
       " 0.0344410075605013,\n",
       " 0.03525593519064261,\n",
       " 0.036953342730049965,\n",
       " 0.03613921065050221,\n",
       " 0.034101504554329455,\n",
       " 0.03138534389381361,\n",
       " 0.031802003401029136,\n",
       " 0.03393068404504767,\n",
       " 0.03292175718028631,\n",
       " 0.03470063848614308,\n",
       " 0.03289788413030116,\n",
       " 0.031515505043648646,\n",
       " 0.032359346403146534,\n",
       " 0.03489891368291724,\n",
       " 0.03388753047972329,\n",
       " 0.0358501229063276,\n",
       " 0.034007259761796436,\n",
       " 0.031001062314268312,\n",
       " 0.035284757274997594,\n",
       " 0.0347368048694079,\n",
       " 0.03199935025684115,\n",
       " 0.036872224362028985,\n",
       " 0.03303184740117244,\n",
       " 0.03618301485795665,\n",
       " 0.030706153277623834,\n",
       " 0.03143042460192082,\n",
       " 0.03585497993533094,\n",
       " 0.0378150107930846,\n",
       " 0.03501254776404531,\n",
       " 0.03468572193630922,\n",
       " 0.030897897618251714,\n",
       " 0.031451694981052526,\n",
       " 0.034174098625313905,\n",
       " 0.03379794133586619,\n",
       " 0.03520121172738336,\n",
       " 0.029678573010464,\n",
       " 0.035786693482249075,\n",
       " 0.03300843914704413,\n",
       " 0.03177451299302971,\n",
       " 0.030538240823435932,\n",
       " 0.03489234432782226,\n",
       " 0.028710179552222968,\n",
       " 0.033172518901670764,\n",
       " 0.03199770639888187,\n",
       " 0.03299882704324055,\n",
       " 0.03221051516564418,\n",
       " 0.02952899845544657,\n",
       " 0.03467497434100158,\n",
       " 0.03132046170145804,\n",
       " 0.037805497939190656,\n",
       " 0.03610306617919556,\n",
       " 0.03266832133328647,\n",
       " 0.03578118826436395,\n",
       " 0.031236591126406737,\n",
       " 0.037519819499899236,\n",
       " 0.03227336346841948,\n",
       " 0.030073097090929726,\n",
       " 0.03353159330652509,\n",
       " 0.02901787970251591]"
      ]
     },
     "execution_count": 164,
     "metadata": {},
     "output_type": "execute_result"
    }
   ],
   "source": [
    "mae_list_rr"
   ]
  },
  {
   "cell_type": "code",
   "execution_count": 65,
   "metadata": {},
   "outputs": [],
   "source": [
    "t0 = time.time()\n",
    "y_svrl = svrl.predict(X_test)\n",
    "svrl_predict = time.time() - t0"
   ]
  },
  {
   "cell_type": "code",
   "execution_count": 66,
   "metadata": {},
   "outputs": [
    {
     "data": {
      "text/plain": [
       "0.03525022149291539"
      ]
     },
     "execution_count": 66,
     "metadata": {},
     "output_type": "execute_result"
    }
   ],
   "source": [
    "y_pred_inv = (y_svrl * std_y) + mean_y\n",
    "y_test_inv = (y_test * std_y) + mean_y\n",
    "mean_absolute_error(y_pred=y_pred_inv, y_true=y_test_inv)"
   ]
  },
  {
   "cell_type": "markdown",
   "metadata": {},
   "source": [
    "Gaussian SVR"
   ]
  },
  {
   "cell_type": "code",
   "execution_count": 16,
   "metadata": {},
   "outputs": [],
   "source": [
    "svrg = GridSearchCV(SVR(kernel='rbf', gamma=0.1, epsilon = 0.1, C=10), cv=3,\n",
    "                   param_grid={\"C\": [1e-4,1e-3,1e-2,1e-1,1e0, 1e1, 1e2, 1e3],\n",
    "                               \"gamma\": np.logspace(-5, 1, 10),\n",
    "                              \"epsilon\": [0.0001,0.001,0.01,0.1,1]})"
   ]
  },
  {
   "cell_type": "code",
   "execution_count": 17,
   "metadata": {},
   "outputs": [
    {
     "data": {
      "text/plain": [
       "GridSearchCV(cv=3, error_score='raise',\n",
       "       estimator=SVR(C=10, cache_size=200, coef0=0.0, degree=3, epsilon=0.1, gamma=0.1,\n",
       "  kernel='rbf', max_iter=-1, shrinking=True, tol=0.001, verbose=False),\n",
       "       fit_params={}, iid=True, n_jobs=1,\n",
       "       param_grid={'C': [0.0001, 0.001, 0.01, 0.1, 1.0, 10.0, 100.0, 1000.0], 'gamma': array([1.00000e-05, 4.64159e-05, 2.15443e-04, 1.00000e-03, 4.64159e-03,\n",
       "       2.15443e-02, 1.00000e-01, 4.64159e-01, 2.15443e+00, 1.00000e+01]), 'epsilon': [0.0001, 0.001, 0.01, 0.1, 1]},\n",
       "       pre_dispatch='2*n_jobs', refit=True, return_train_score=True,\n",
       "       scoring=None, verbose=0)"
      ]
     },
     "execution_count": 17,
     "metadata": {},
     "output_type": "execute_result"
    },
    {
     "name": "stdout",
     "output_type": "stream",
     "text": [
      "SVR complexity and bandwidth selected and model fitted in 7.608 s\n"
     ]
    }
   ],
   "source": [
    "t0 = time.time()\n",
    "svrg.fit(X_train, y_train)\n",
    "svrg_fit = time.time() - t0\n",
    "print(\"SVR complexity and bandwidth selected and model fitted in %.3f s\"\n",
    "      % svrg_fit)"
   ]
  },
  {
   "cell_type": "code",
   "execution_count": 18,
   "metadata": {},
   "outputs": [
    {
     "data": {
      "text/plain": [
       "{'C': 1.0, 'epsilon': 0.1, 'gamma': 0.46415888336127725}"
      ]
     },
     "execution_count": 18,
     "metadata": {},
     "output_type": "execute_result"
    }
   ],
   "source": [
    "svrg.best_params_"
   ]
  },
  {
   "cell_type": "code",
   "execution_count": 19,
   "metadata": {},
   "outputs": [],
   "source": [
    "t0 = time.time()\n",
    "y_svrg = svrg.predict(X_test)\n",
    "svrg_predict = time.time() - t0"
   ]
  },
  {
   "cell_type": "code",
   "execution_count": 20,
   "metadata": {},
   "outputs": [
    {
     "data": {
      "text/plain": [
       "0.03207841236342539"
      ]
     },
     "execution_count": 20,
     "metadata": {},
     "output_type": "execute_result"
    }
   ],
   "source": [
    "y_pred_inv = (y_svrg * std_y) + mean_y\n",
    "y_test_inv = (y_test * std_y) + mean_y\n",
    "mean_absolute_error(y_pred=y_pred_inv, y_true=y_test_inv)"
   ]
  },
  {
   "cell_type": "code",
   "execution_count": 12,
   "metadata": {},
   "outputs": [
    {
     "ename": "NameError",
     "evalue": "name 'SVR' is not defined",
     "output_type": "error",
     "traceback": [
      "\u001b[0;31m---------------------------------------------------------------------------\u001b[0m",
      "\u001b[0;31mNameError\u001b[0m                                 Traceback (most recent call last)",
      "\u001b[0;32m<ipython-input-12-07c521ec4781>\u001b[0m in \u001b[0;36m<module>\u001b[0;34m()\u001b[0m\n\u001b[1;32m     32\u001b[0m     \u001b[0my_test\u001b[0m \u001b[0;34m=\u001b[0m \u001b[0my_test\u001b[0m\u001b[0;34m.\u001b[0m\u001b[0mastype\u001b[0m\u001b[0;34m(\u001b[0m\u001b[0;34m'float32'\u001b[0m\u001b[0;34m)\u001b[0m\u001b[0;34m\u001b[0m\u001b[0m\n\u001b[1;32m     33\u001b[0m \u001b[0;34m\u001b[0m\u001b[0m\n\u001b[0;32m---> 34\u001b[0;31m     \u001b[0msvrg\u001b[0m \u001b[0;34m=\u001b[0m \u001b[0mSVR\u001b[0m\u001b[0;34m(\u001b[0m\u001b[0mkernel\u001b[0m\u001b[0;34m=\u001b[0m\u001b[0;34m'rbf'\u001b[0m\u001b[0;34m,\u001b[0m \u001b[0mgamma\u001b[0m\u001b[0;34m=\u001b[0m\u001b[0;36m0.46415888336127725\u001b[0m\u001b[0;34m,\u001b[0m \u001b[0mepsilon\u001b[0m \u001b[0;34m=\u001b[0m \u001b[0;36m0.1\u001b[0m\u001b[0;34m,\u001b[0m \u001b[0mC\u001b[0m\u001b[0;34m=\u001b[0m\u001b[0;36m1.0\u001b[0m\u001b[0;34m,\u001b[0m \u001b[0mverbose\u001b[0m\u001b[0;34m=\u001b[0m\u001b[0;32mFalse\u001b[0m\u001b[0;34m)\u001b[0m\u001b[0;34m\u001b[0m\u001b[0m\n\u001b[0m\u001b[1;32m     35\u001b[0m     \u001b[0msvrg\u001b[0m\u001b[0;34m.\u001b[0m\u001b[0mfit\u001b[0m\u001b[0;34m(\u001b[0m\u001b[0mX_train\u001b[0m\u001b[0;34m,\u001b[0m \u001b[0my_train\u001b[0m\u001b[0;34m)\u001b[0m\u001b[0;34m\u001b[0m\u001b[0m\n\u001b[1;32m     36\u001b[0m     \u001b[0my_svrg\u001b[0m \u001b[0;34m=\u001b[0m \u001b[0msvrg\u001b[0m\u001b[0;34m.\u001b[0m\u001b[0mpredict\u001b[0m\u001b[0;34m(\u001b[0m\u001b[0mX_test\u001b[0m\u001b[0;34m)\u001b[0m\u001b[0;34m\u001b[0m\u001b[0m\n",
      "\u001b[0;31mNameError\u001b[0m: name 'SVR' is not defined"
     ]
    }
   ],
   "source": [
    "mae_list_svrg = []\n",
    "\n",
    "for i in range(100):\n",
    "    dataset = ndre_data_lag_40_EXACT[keep_cols]\n",
    "\n",
    "    X = dataset.iloc[:,1:]\n",
    "    X = X.values\n",
    "\n",
    "    y = dataset.iloc[:,0]\n",
    "    y = y.values\n",
    "\n",
    "    # split data into train and test sets\n",
    "    test_size = 0.20\n",
    "    X_train, X_test, y_train, y_test = train_test_split(X, y, test_size=test_size)\n",
    "\n",
    "    mean_X = X_train.mean(axis=0)\n",
    "    std_X = X_train.std(axis=0)\n",
    "\n",
    "    X_train = (X_train - mean_X) / std_X\n",
    "    X_test = (X_test - mean_X) / std_X\n",
    "\n",
    "    X_train = X_train.astype('float32')\n",
    "    X_test = X_test.astype('float32')\n",
    "\n",
    "    mean_y = y_train.mean(axis=0)\n",
    "    std_y = y_train.std(axis=0)\n",
    "\n",
    "    y_train = (y_train - mean_y) / std_y\n",
    "    y_test = (y_test - mean_y) / std_y\n",
    "\n",
    "    y_train = y_train.astype('float32')\n",
    "    y_test = y_test.astype('float32')\n",
    "    \n",
    "    svrg = SVR(kernel='rbf', gamma=0.46415888336127725, epsilon = 0.1, C=1.0, verbose=False)\n",
    "    svrg.fit(X_train, y_train)\n",
    "    y_svrg = svrg.predict(X_test)\n",
    "    y_pred_inv = (y_svrg * std_y) + mean_y\n",
    "    y_test_inv = (y_test * std_y) + mean_y\n",
    "    mae_list_svrg.append(mean_absolute_error(y_pred=y_pred_inv, y_true=y_test_inv))"
   ]
  },
  {
   "cell_type": "code",
   "execution_count": 187,
   "metadata": {
    "scrolled": true
   },
   "outputs": [
    {
     "data": {
      "text/plain": [
       "[0.025767921771650146,\n",
       " 0.02594499662713414,\n",
       " 0.026220743531916786,\n",
       " 0.031148760655807125,\n",
       " 0.024870865663405618,\n",
       " 0.023797166304509447,\n",
       " 0.025241901192766383,\n",
       " 0.02797809621360102,\n",
       " 0.028460172015283412,\n",
       " 0.025741731362649928,\n",
       " 0.025270294697410513,\n",
       " 0.026787497008990944,\n",
       " 0.028270010926575124,\n",
       " 0.02450877047479165,\n",
       " 0.025274919199629008,\n",
       " 0.031461522159412184,\n",
       " 0.0282458865273246,\n",
       " 0.0261285174532825,\n",
       " 0.030570171109887904,\n",
       " 0.029389818358566425,\n",
       " 0.02588253177534667,\n",
       " 0.02814531243703278,\n",
       " 0.028387738020647243,\n",
       " 0.025560146492469477,\n",
       " 0.02648314416073228,\n",
       " 0.025849045420358405,\n",
       " 0.028532100464734273,\n",
       " 0.03153839555094229,\n",
       " 0.026199858317330016,\n",
       " 0.031436128202455685,\n",
       " 0.028625696113486025,\n",
       " 0.03150114993459762,\n",
       " 0.02965648984824113,\n",
       " 0.025007771079072563,\n",
       " 0.028120656000500864,\n",
       " 0.028461168503668078,\n",
       " 0.02928445731774536,\n",
       " 0.03132335702822851,\n",
       " 0.025201728616911986,\n",
       " 0.027317793585072348,\n",
       " 0.030135835438636734,\n",
       " 0.022005933759341127,\n",
       " 0.02893306264263675,\n",
       " 0.02850251472006202,\n",
       " 0.023494563752034403,\n",
       " 0.025118170179209226,\n",
       " 0.028792433091536118,\n",
       " 0.026146360708516524,\n",
       " 0.022734461552668603,\n",
       " 0.028708983060869334,\n",
       " 0.030360140452440395,\n",
       " 0.029634337464299543,\n",
       " 0.02315890332787541,\n",
       " 0.023612394868926825,\n",
       " 0.02822888541973061,\n",
       " 0.022707162640799965,\n",
       " 0.027040069779112313,\n",
       " 0.02700434176067943,\n",
       " 0.029854782928019935,\n",
       " 0.027040016265850227,\n",
       " 0.022853661537319266,\n",
       " 0.029632392083145456,\n",
       " 0.02506794609396908,\n",
       " 0.02791208483685567,\n",
       " 0.02636639453176962,\n",
       " 0.023415467201298678,\n",
       " 0.024532766722204412,\n",
       " 0.02432876653481175,\n",
       " 0.03215298722478753,\n",
       " 0.029800213450166365,\n",
       " 0.023694010794409345,\n",
       " 0.02436995345585695,\n",
       " 0.024578662126604433,\n",
       " 0.027731169856489195,\n",
       " 0.02802559028149248,\n",
       " 0.02461341265736824,\n",
       " 0.024914746388243026,\n",
       " 0.028445935838101195,\n",
       " 0.026276836332634213,\n",
       " 0.02619296585998656,\n",
       " 0.02746788218275319,\n",
       " 0.02832419247151744,\n",
       " 0.02933605548844392,\n",
       " 0.02797013261734205,\n",
       " 0.029101646952283133,\n",
       " 0.023365849824338886,\n",
       " 0.025238351440504632,\n",
       " 0.022497188679472653,\n",
       " 0.027473680469582085,\n",
       " 0.02999588312589224,\n",
       " 0.029967643088418545,\n",
       " 0.024545705243480778,\n",
       " 0.024961387135154035,\n",
       " 0.02764391317165501,\n",
       " 0.02713699787148577,\n",
       " 0.02145218903847782,\n",
       " 0.024464540292318322,\n",
       " 0.03164544665055812,\n",
       " 0.02896709341693063,\n",
       " 0.026622999703069927,\n",
       " 0.02910252987280708,\n",
       " 0.029510100028052974,\n",
       " 0.026481904149263578,\n",
       " 0.02914682847262093,\n",
       " 0.02842083295686207,\n",
       " 0.02337247232223554,\n",
       " 0.030870203087048596,\n",
       " 0.022929594113161103,\n",
       " 0.02531004951282437,\n",
       " 0.02840162757489095,\n",
       " 0.028496940786632573,\n",
       " 0.02853209255896544,\n",
       " 0.020944080716278138,\n",
       " 0.024363622832678188,\n",
       " 0.02834540540777912,\n",
       " 0.027887619660967526,\n",
       " 0.02784609160835581,\n",
       " 0.027627736525616956,\n",
       " 0.02621771336620631,\n",
       " 0.026156849387653204,\n",
       " 0.023572770189907225,\n",
       " 0.023667065110928923,\n",
       " 0.024508324461948387,\n",
       " 0.028472655099811773,\n",
       " 0.024775150397893776,\n",
       " 0.025507500164085047,\n",
       " 0.027398231741909054,\n",
       " 0.027666048053583966,\n",
       " 0.027280038153303956,\n",
       " 0.030732916071652204,\n",
       " 0.03176571326820146,\n",
       " 0.028108396021731423,\n",
       " 0.025399981827276794,\n",
       " 0.0305538203748403,\n",
       " 0.02746696855569835,\n",
       " 0.02643928330771721,\n",
       " 0.029953239620115094,\n",
       " 0.026632246559799913,\n",
       " 0.028620944328987107,\n",
       " 0.022309067364291158,\n",
       " 0.028684800560015624,\n",
       " 0.02846198761795705,\n",
       " 0.02518663379161474,\n",
       " 0.029062007686879554,\n",
       " 0.028311789885342744,\n",
       " 0.026009626112415366,\n",
       " 0.027060564604004373,\n",
       " 0.029124839618356293,\n",
       " 0.029097223444073853,\n",
       " 0.03241439023006478,\n",
       " 0.02775249068555198,\n",
       " 0.02575843511538333,\n",
       " 0.027675897026757622,\n",
       " 0.028103901855047794,\n",
       " 0.022611177308687377,\n",
       " 0.02689638369085427,\n",
       " 0.026969351047411945,\n",
       " 0.02733986940906601,\n",
       " 0.026866126411854374,\n",
       " 0.028172569285844322,\n",
       " 0.024610679457528865,\n",
       " 0.025646366478378986,\n",
       " 0.03096592172655755,\n",
       " 0.024738153455259447,\n",
       " 0.025717821630257393,\n",
       " 0.026646063772493303,\n",
       " 0.028614088545625964,\n",
       " 0.026514918596309684,\n",
       " 0.025739829703543556,\n",
       " 0.02607073125674748,\n",
       " 0.027756242937682238,\n",
       " 0.02962041561510965,\n",
       " 0.025239835461095497,\n",
       " 0.031438259653905405,\n",
       " 0.032723339857474144,\n",
       " 0.02897754482264094,\n",
       " 0.02760368789700608,\n",
       " 0.030167236538664214,\n",
       " 0.027395712181534228,\n",
       " 0.023061003650626674,\n",
       " 0.024401049261413135,\n",
       " 0.029753515021175736,\n",
       " 0.02821581161889844,\n",
       " 0.026851232507972618,\n",
       " 0.02589060794697744,\n",
       " 0.028130515242795764,\n",
       " 0.029311998213683223,\n",
       " 0.022131983574915727,\n",
       " 0.02688857250869272,\n",
       " 0.021649601229943208,\n",
       " 0.02615270147180037,\n",
       " 0.03016073956995299,\n",
       " 0.025913933361967203,\n",
       " 0.03281763496030401,\n",
       " 0.033007793704723176,\n",
       " 0.02841157868596131,\n",
       " 0.026641147604065454,\n",
       " 0.02762439139153946,\n",
       " 0.024882013864306173,\n",
       " 0.026154858535746027,\n",
       " 0.02845069173626053,\n",
       " 0.026013858598531517,\n",
       " 0.02634402464739081,\n",
       " 0.02616918851454962,\n",
       " 0.02451726914485861,\n",
       " 0.02773197803447209,\n",
       " 0.027681198947291343,\n",
       " 0.027360505785282416,\n",
       " 0.029039060967490357,\n",
       " 0.0263796993600137,\n",
       " 0.029734991496917745,\n",
       " 0.027951815015897406,\n",
       " 0.02464130647185937,\n",
       " 0.027868265641917786,\n",
       " 0.027080289602861664,\n",
       " 0.027159574197210448,\n",
       " 0.02474065590846595,\n",
       " 0.02982164487449803,\n",
       " 0.02727671490979957,\n",
       " 0.025607702898645238,\n",
       " 0.026356630133351888,\n",
       " 0.028415556778372084,\n",
       " 0.026978741245631686,\n",
       " 0.023789273617093862,\n",
       " 0.027518213683455202,\n",
       " 0.029614155139054653,\n",
       " 0.02992807505288738,\n",
       " 0.03213475649122952,\n",
       " 0.028854611238928834,\n",
       " 0.026967619896099925,\n",
       " 0.0303679785999733,\n",
       " 0.029332325430323304,\n",
       " 0.0272043718731536,\n",
       " 0.03474222523576073,\n",
       " 0.026602357426093282,\n",
       " 0.03360432186189321,\n",
       " 0.025692057254019667,\n",
       " 0.025931650692138514,\n",
       " 0.024811833883118188,\n",
       " 0.02801186407591708,\n",
       " 0.026508635602718655,\n",
       " 0.02696610547119347,\n",
       " 0.028070247868074567,\n",
       " 0.023329569251674877,\n",
       " 0.02823111471038774,\n",
       " 0.02568508754551707,\n",
       " 0.026731416586126683,\n",
       " 0.03176016215792869,\n",
       " 0.028982797615431797,\n",
       " 0.02597569146530813,\n",
       " 0.025613711596231502,\n",
       " 0.030376884249559866,\n",
       " 0.027279678705689675,\n",
       " 0.02714526039121622,\n",
       " 0.026008541332890957,\n",
       " 0.029662345696590677,\n",
       " 0.029811195775118583,\n",
       " 0.029188351368944893,\n",
       " 0.026867537642041407,\n",
       " 0.028882979413525144,\n",
       " 0.02923206016283731,\n",
       " 0.028387949436358688,\n",
       " 0.03143033644086012,\n",
       " 0.02803852979106022,\n",
       " 0.029718272019142677,\n",
       " 0.02661699966949076,\n",
       " 0.02319374968732527,\n",
       " 0.02767965330661508,\n",
       " 0.02872381779002243,\n",
       " 0.027743296915040083,\n",
       " 0.022236714707841863,\n",
       " 0.02399190941624096,\n",
       " 0.02501769934963664,\n",
       " 0.031541615275623436,\n",
       " 0.028429125245220385,\n",
       " 0.03184135186404144,\n",
       " 0.028283957018645296,\n",
       " 0.02673310099426093,\n",
       " 0.025489006787221182,\n",
       " 0.03010280090239192,\n",
       " 0.02890611683447071,\n",
       " 0.0299040521176704,\n",
       " 0.023186817949705972,\n",
       " 0.02736385021348654,\n",
       " 0.02260386903072484,\n",
       " 0.026810150015080386,\n",
       " 0.029332577167049935,\n",
       " 0.029898653159976092,\n",
       " 0.030468089439717752,\n",
       " 0.024819154316234895,\n",
       " 0.027466778672547463,\n",
       " 0.024177237886391804,\n",
       " 0.025184394548850537,\n",
       " 0.02774033327250905,\n",
       " 0.02679730841050891,\n",
       " 0.029892347647836458,\n",
       " 0.02398369726901051,\n",
       " 0.0240578062017263,\n",
       " 0.029960689279707995,\n",
       " 0.026876122962165887,\n",
       " 0.02750273624885108,\n",
       " 0.029583069342769348,\n",
       " 0.027420652429559295,\n",
       " 0.027179278733418962,\n",
       " 0.022439385247855666,\n",
       " 0.027873491047879787,\n",
       " 0.02984912596161474,\n",
       " 0.0330359086007461,\n",
       " 0.02948059829125435,\n",
       " 0.02725362409410745,\n",
       " 0.02876027606926448,\n",
       " 0.02368755804621557,\n",
       " 0.0256177807529255,\n",
       " 0.026953877755209965,\n",
       " 0.02820381753270096,\n",
       " 0.024839026038450958,\n",
       " 0.029150228923288495,\n",
       " 0.02620573790408843,\n",
       " 0.02693391553190159,\n",
       " 0.02833662171755248,\n",
       " 0.027541677633804818,\n",
       " 0.025608465949342508,\n",
       " 0.02529893128474452,\n",
       " 0.03347634599113956,\n",
       " 0.02442381433413114,\n",
       " 0.03229228597866415,\n",
       " 0.02274816266361439,\n",
       " 0.022265374769538805,\n",
       " 0.032291704631244963,\n",
       " 0.0286569570319578,\n",
       " 0.02810480258994625,\n",
       " 0.026988512381338793,\n",
       " 0.028623207198612437,\n",
       " 0.0231070736248524,\n",
       " 0.03065357711802682,\n",
       " 0.029345022579688896,\n",
       " 0.03161681632057301,\n",
       " 0.023856561847898985,\n",
       " 0.027759588188117246,\n",
       " 0.02633443782810449,\n",
       " 0.026390559347765404,\n",
       " 0.026168417719305406,\n",
       " 0.02737193701605244,\n",
       " 0.027589065732544674,\n",
       " 0.025719714813981727,\n",
       " 0.029111176174541425,\n",
       " 0.02799143545654263,\n",
       " 0.029547056479580752,\n",
       " 0.023425923433702676,\n",
       " 0.026427105429720873,\n",
       " 0.02389792256360242,\n",
       " 0.029356953917669598,\n",
       " 0.02657316738488519,\n",
       " 0.023006281987852498,\n",
       " 0.023013223868172797,\n",
       " 0.026381510328694246,\n",
       " 0.03188254354437182,\n",
       " 0.028824187270600064,\n",
       " 0.0282974791220856,\n",
       " 0.031049288230632625,\n",
       " 0.028088008461248808,\n",
       " 0.035350104146218086,\n",
       " 0.029227778344703522,\n",
       " 0.027045559474216947,\n",
       " 0.02934071540996672,\n",
       " 0.023869583659730378,\n",
       " 0.025895830744588115,\n",
       " 0.029343181291962513,\n",
       " 0.030574265955561664,\n",
       " 0.026778076356792357,\n",
       " 0.027013884301530584,\n",
       " 0.029884883912835343,\n",
       " 0.02434919685712048,\n",
       " 0.030919222950714042,\n",
       " 0.026884337910727734,\n",
       " 0.026758937071876446,\n",
       " 0.030170549413159675,\n",
       " 0.025433789729060068,\n",
       " 0.024895645968203674,\n",
       " 0.026283202921085734,\n",
       " 0.026886397171955845,\n",
       " 0.029553905534645413,\n",
       " 0.027193325136719886,\n",
       " 0.026530377144469777,\n",
       " 0.025871429052694957,\n",
       " 0.0253200350820184,\n",
       " 0.02632956174501323,\n",
       " 0.02869059756890922,\n",
       " 0.024778685283108295,\n",
       " 0.026530600593698828,\n",
       " 0.02303633622989887,\n",
       " 0.030952765106075936,\n",
       " 0.026176446547383717,\n",
       " 0.026463680075272274,\n",
       " 0.028209422759781947,\n",
       " 0.0256982658272129,\n",
       " 0.025467893748363224,\n",
       " 0.028330907658171506,\n",
       " 0.026773112195420872,\n",
       " 0.027010220289260728,\n",
       " 0.023861313184497544,\n",
       " 0.02956321624817839,\n",
       " 0.029419600675345426,\n",
       " 0.027478451747853207,\n",
       " 0.032451806638625055,\n",
       " 0.026925533076735283,\n",
       " 0.02638580992266989,\n",
       " 0.030156592983175336,\n",
       " 0.028085929143800346,\n",
       " 0.02306917301540804,\n",
       " 0.022893920386157767,\n",
       " 0.024139722778256635,\n",
       " 0.026197977636798764,\n",
       " 0.02715478903311275,\n",
       " 0.026967498160982744,\n",
       " 0.027664838445033795,\n",
       " 0.02659928137062706,\n",
       " 0.02913498398173192,\n",
       " 0.025963750791561914,\n",
       " 0.029780492506051887,\n",
       " 0.02939001876919086,\n",
       " 0.024706343007478804,\n",
       " 0.031205489755182825,\n",
       " 0.024866892092121045,\n",
       " 0.029672655251363197,\n",
       " 0.03018112739230365,\n",
       " 0.02121848296240434,\n",
       " 0.027495335142063433,\n",
       " 0.026865517837304072,\n",
       " 0.0240222547159711,\n",
       " 0.029045428757525228,\n",
       " 0.02544475314152136,\n",
       " 0.028100555721215212,\n",
       " 0.024406717289189774,\n",
       " 0.02579077954586329,\n",
       " 0.02621312453702485,\n",
       " 0.02506755465624059,\n",
       " 0.026435172531301305,\n",
       " 0.022214295085968835,\n",
       " 0.025144659384993114,\n",
       " 0.026504705243316197,\n",
       " 0.02792715336128055,\n",
       " 0.02712259824484735,\n",
       " 0.031180519914400313,\n",
       " 0.025112441204097915,\n",
       " 0.02609586231300522,\n",
       " 0.03086030047867516,\n",
       " 0.03321066546342496,\n",
       " 0.027094431722102404,\n",
       " 0.027042360933524634,\n",
       " 0.029044320243039684,\n",
       " 0.029632170000047472,\n",
       " 0.024164707411483233,\n",
       " 0.027868028928703385,\n",
       " 0.021556958860648182,\n",
       " 0.02695848110585942,\n",
       " 0.029361873719185548,\n",
       " 0.026481084574690998,\n",
       " 0.0294171243277183,\n",
       " 0.029445911355274208,\n",
       " 0.02891336387306282,\n",
       " 0.026186954329957744,\n",
       " 0.029917281345994362,\n",
       " 0.03390415366608296,\n",
       " 0.027339969299178434,\n",
       " 0.023957920238832545,\n",
       " 0.025574456872894457,\n",
       " 0.028185231974320407,\n",
       " 0.0307398247349259,\n",
       " 0.03279647603388165,\n",
       " 0.027467078381372852,\n",
       " 0.025569917336874505,\n",
       " 0.029638823466845234,\n",
       " 0.026879153295719195,\n",
       " 0.03137568085818459,\n",
       " 0.02466534143972269,\n",
       " 0.022663151447483855,\n",
       " 0.03300640276476326,\n",
       " 0.02605386513657436,\n",
       " 0.026622799292706764,\n",
       " 0.025698521803099367,\n",
       " 0.021923136885452516,\n",
       " 0.029317815505733147,\n",
       " 0.02533711385334154,\n",
       " 0.027380014785593154,\n",
       " 0.02707078132823431,\n",
       " 0.023500549435764316,\n",
       " 0.028362590328762878,\n",
       " 0.025897092814160992,\n",
       " 0.027348283649582895,\n",
       " 0.029083851495106193,\n",
       " 0.028157922220279907,\n",
       " 0.027989735102510717,\n",
       " 0.02088702868534069,\n",
       " 0.02559743392896484,\n",
       " 0.03299600821610897,\n",
       " 0.030740875573003035,\n",
       " 0.028192406942948067,\n",
       " 0.030465832308367743,\n",
       " 0.02368200698609264]"
      ]
     },
     "execution_count": 187,
     "metadata": {},
     "output_type": "execute_result"
    }
   ],
   "source": [
    "mae_list_svrg"
   ]
  },
  {
   "cell_type": "code",
   "execution_count": 188,
   "metadata": {},
   "outputs": [],
   "source": [
    "results_df_lin = pd.DataFrame({'rr_mae_l3': mae_list_rr, 'svrg_mae_l3': mae_list_svrg})"
   ]
  },
  {
   "cell_type": "code",
   "execution_count": 190,
   "metadata": {},
   "outputs": [],
   "source": [
    "results_df_lin.to_csv('../data/results_data/results_df_lin.csv')"
   ]
  },
  {
   "cell_type": "markdown",
   "metadata": {},
   "source": [
    "#### Kernel Ridge Regression"
   ]
  },
  {
   "cell_type": "code",
   "execution_count": 83,
   "metadata": {},
   "outputs": [],
   "source": [
    "from sklearn.kernel_ridge import KernelRidge\n",
    "import time"
   ]
  },
  {
   "cell_type": "markdown",
   "metadata": {},
   "source": [
    "Gaussian RBF w/ KRR"
   ]
  },
  {
   "cell_type": "code",
   "execution_count": 108,
   "metadata": {},
   "outputs": [],
   "source": [
    "kr = GridSearchCV(KernelRidge(kernel='rbf', gamma=0.1), cv=5,\n",
    "                  param_grid={\"alpha\": [1e-3, 1e-2, 1e-1, 1e0, 0.1, 1e-2, 1e-3],\n",
    "                              \"gamma\": np.logspace(-5, 2, 10)})"
   ]
  },
  {
   "cell_type": "code",
   "execution_count": 109,
   "metadata": {
    "scrolled": true
   },
   "outputs": [
    {
     "data": {
      "text/plain": [
       "GridSearchCV(cv=5, error_score='raise',\n",
       "       estimator=KernelRidge(alpha=1, coef0=1, degree=3, gamma=0.1, kernel='rbf',\n",
       "      kernel_params=None),\n",
       "       fit_params={}, iid=True, n_jobs=1,\n",
       "       param_grid={'alpha': [0.001, 0.01, 0.1, 1.0, 0.1, 0.01, 0.001], 'gamma': array([1.00000e-05, 5.99484e-05, 3.59381e-04, 2.15443e-03, 1.29155e-02,\n",
       "       7.74264e-02, 4.64159e-01, 2.78256e+00, 1.66810e+01, 1.00000e+02])},\n",
       "       pre_dispatch='2*n_jobs', refit=True, return_train_score=True,\n",
       "       scoring=None, verbose=0)"
      ]
     },
     "execution_count": 109,
     "metadata": {},
     "output_type": "execute_result"
    },
    {
     "name": "stdout",
     "output_type": "stream",
     "text": [
      "KRR complexity and bandwidth selected and model fitted in 1.976 s\n"
     ]
    }
   ],
   "source": [
    "t0 = time.time()\n",
    "kr.fit(X_train, y_train)\n",
    "kr_fit = time.time() - t0\n",
    "print(\"KRR complexity and bandwidth selected and model fitted in %.3f s\"\n",
    "      % kr_fit)"
   ]
  },
  {
   "cell_type": "code",
   "execution_count": 112,
   "metadata": {},
   "outputs": [
    {
     "data": {
      "text/plain": [
       "{'alpha': 0.01, 'gamma': 0.01291549665014884}"
      ]
     },
     "execution_count": 112,
     "metadata": {},
     "output_type": "execute_result"
    }
   ],
   "source": [
    "kr.best_params_"
   ]
  },
  {
   "cell_type": "code",
   "execution_count": null,
   "metadata": {},
   "outputs": [],
   "source": []
  },
  {
   "cell_type": "code",
   "execution_count": 110,
   "metadata": {},
   "outputs": [],
   "source": [
    "t0 = time.time()\n",
    "y_kr = kr.predict(X_test)\n",
    "kr_predict = time.time() - t0"
   ]
  },
  {
   "cell_type": "code",
   "execution_count": 111,
   "metadata": {},
   "outputs": [
    {
     "data": {
      "text/plain": [
       "0.028859219"
      ]
     },
     "execution_count": 111,
     "metadata": {},
     "output_type": "execute_result"
    }
   ],
   "source": [
    "y_pred_inv = (y_kr * std_y) + mean_y\n",
    "y_test_inv = (y_test * std_y) + mean_y\n",
    "mean_absolute_error(y_pred=y_pred_inv, y_true=y_test_inv)"
   ]
  },
  {
   "cell_type": "markdown",
   "metadata": {},
   "source": [
    "Linear KRR"
   ]
  },
  {
   "cell_type": "code",
   "execution_count": 66,
   "metadata": {},
   "outputs": [],
   "source": [
    "krl = GridSearchCV(KernelRidge(kernel='linear', gamma=0.1), cv=5,\n",
    "                  param_grid={\"alpha\": [1e0, 0.1, 1e-2, 1e-3],\n",
    "                              \"gamma\": np.logspace(-2, 2, 5)})"
   ]
  },
  {
   "cell_type": "code",
   "execution_count": 67,
   "metadata": {},
   "outputs": [
    {
     "data": {
      "text/plain": [
       "GridSearchCV(cv=5, error_score='raise',\n",
       "       estimator=KernelRidge(alpha=1, coef0=1, degree=3, gamma=0.1, kernel='linear',\n",
       "      kernel_params=None),\n",
       "       fit_params={}, iid=True, n_jobs=1,\n",
       "       param_grid={'alpha': [1.0, 0.1, 0.01, 0.001], 'gamma': array([  1.00000e-02,   1.00000e-01,   1.00000e+00,   1.00000e+01,\n",
       "         1.00000e+02])},\n",
       "       pre_dispatch='2*n_jobs', refit=True, return_train_score=True,\n",
       "       scoring=None, verbose=0)"
      ]
     },
     "execution_count": 67,
     "metadata": {},
     "output_type": "execute_result"
    },
    {
     "name": "stdout",
     "output_type": "stream",
     "text": [
      "KRR complexity and bandwidth selected and model fitted in 0.289 s\n"
     ]
    }
   ],
   "source": [
    "t0 = time.time()\n",
    "krl.fit(X_train, y_train)\n",
    "krl_fit = time.time() - t0\n",
    "print(\"KRR complexity and bandwidth selected and model fitted in %.3f s\"\n",
    "      % krl_fit)"
   ]
  },
  {
   "cell_type": "code",
   "execution_count": 68,
   "metadata": {},
   "outputs": [],
   "source": [
    "t0 = time.time()\n",
    "y_krl = krl.predict(X_test)\n",
    "krl_predict = time.time() - t0"
   ]
  },
  {
   "cell_type": "code",
   "execution_count": 69,
   "metadata": {},
   "outputs": [
    {
     "data": {
      "text/plain": [
       "0.036473174"
      ]
     },
     "execution_count": 69,
     "metadata": {},
     "output_type": "execute_result"
    }
   ],
   "source": [
    "y_pred_inv = (y_krl * std_y) + mean_y\n",
    "y_test_inv = (y_test * std_y) + mean_y\n",
    "mean_absolute_error(y_pred=y_pred_inv, y_true=y_test_inv)"
   ]
  },
  {
   "cell_type": "markdown",
   "metadata": {},
   "source": [
    "### Lasso model"
   ]
  },
  {
   "cell_type": "code",
   "execution_count": 92,
   "metadata": {},
   "outputs": [
    {
     "data": {
      "text/plain": [
       "Index(['avg_soilM', 'average_adjacent', 'precip.cm', 'tair.C', 'rh.pct',\n",
       "       'wind_sp.m_per_s', 'irradiance.w_per_m.2', 'avg_clay', 'avg_sand',\n",
       "       'avg_silt'],\n",
       "      dtype='object')"
      ]
     },
     "execution_count": 92,
     "metadata": {},
     "output_type": "execute_result"
    }
   ],
   "source": [
    "dataset.columns"
   ]
  },
  {
   "cell_type": "code",
   "execution_count": 93,
   "metadata": {},
   "outputs": [
    {
     "data": {
      "text/plain": [
       "LassoCV(alphas=(0.001, 0.01, 0.1, 1.0, 10.0, 100, 1000), copy_X=True, cv=None,\n",
       "    eps=0.001, fit_intercept=False, max_iter=1000, n_alphas=100, n_jobs=1,\n",
       "    normalize=False, positive=False, precompute='auto', random_state=None,\n",
       "    selection='cyclic', tol=0.0001, verbose=False)"
      ]
     },
     "execution_count": 93,
     "metadata": {},
     "output_type": "execute_result"
    },
    {
     "data": {
      "text/plain": [
       "array([-0.14743337, -0.16570306, -0.18301122,  0.27545294,  0.24043232,\n",
       "       -0.        ,  0.        ,  0.11334484, -0.05647194], dtype=float32)"
      ]
     },
     "execution_count": 93,
     "metadata": {},
     "output_type": "execute_result"
    }
   ],
   "source": [
    "from sklearn.linear_model import LassoCV\n",
    "\n",
    "lcv = LassoCV(alphas=(0.001, 0.01, 0.1, 1.0, 10.0, 100, 1000), fit_intercept = False)\n",
    "lcv.fit(X_train,y_train)\n",
    "beta_lcv = lcv.coef_\n",
    "beta_lcv"
   ]
  },
  {
   "cell_type": "code",
   "execution_count": 94,
   "metadata": {},
   "outputs": [],
   "source": [
    "y_pred_lcv = lcv.predict(X_test)"
   ]
  },
  {
   "cell_type": "code",
   "execution_count": 95,
   "metadata": {},
   "outputs": [
    {
     "data": {
      "text/html": [
       "<div>\n",
       "<table border=\"1\" class=\"dataframe\">\n",
       "  <thead>\n",
       "    <tr style=\"text-align: right;\">\n",
       "      <th></th>\n",
       "      <th>feature</th>\n",
       "      <th>lasso coef</th>\n",
       "      <th>ridge coef</th>\n",
       "    </tr>\n",
       "  </thead>\n",
       "  <tbody>\n",
       "    <tr>\n",
       "      <th>0</th>\n",
       "      <td>average_adjacent</td>\n",
       "      <td>-0.147433</td>\n",
       "      <td>-0.151583</td>\n",
       "    </tr>\n",
       "    <tr>\n",
       "      <th>1</th>\n",
       "      <td>precip.cm</td>\n",
       "      <td>-0.165703</td>\n",
       "      <td>-0.178700</td>\n",
       "    </tr>\n",
       "    <tr>\n",
       "      <th>2</th>\n",
       "      <td>tair.C</td>\n",
       "      <td>-0.183011</td>\n",
       "      <td>-0.188960</td>\n",
       "    </tr>\n",
       "    <tr>\n",
       "      <th>3</th>\n",
       "      <td>rh.pct</td>\n",
       "      <td>0.275453</td>\n",
       "      <td>0.278392</td>\n",
       "    </tr>\n",
       "    <tr>\n",
       "      <th>4</th>\n",
       "      <td>wind_sp.m_per_s</td>\n",
       "      <td>0.240432</td>\n",
       "      <td>0.239640</td>\n",
       "    </tr>\n",
       "    <tr>\n",
       "      <th>5</th>\n",
       "      <td>irradiance.w_per_m.2</td>\n",
       "      <td>-0.000000</td>\n",
       "      <td>-0.010548</td>\n",
       "    </tr>\n",
       "    <tr>\n",
       "      <th>6</th>\n",
       "      <td>avg_clay</td>\n",
       "      <td>0.000000</td>\n",
       "      <td>-0.013394</td>\n",
       "    </tr>\n",
       "    <tr>\n",
       "      <th>7</th>\n",
       "      <td>avg_sand</td>\n",
       "      <td>0.113345</td>\n",
       "      <td>0.121116</td>\n",
       "    </tr>\n",
       "    <tr>\n",
       "      <th>8</th>\n",
       "      <td>avg_silt</td>\n",
       "      <td>-0.056472</td>\n",
       "      <td>-0.078300</td>\n",
       "    </tr>\n",
       "  </tbody>\n",
       "</table>\n",
       "</div>"
      ],
      "text/plain": [
       "                feature  lasso coef  ridge coef\n",
       "0      average_adjacent   -0.147433   -0.151583\n",
       "1             precip.cm   -0.165703   -0.178700\n",
       "2                tair.C   -0.183011   -0.188960\n",
       "3                rh.pct    0.275453    0.278392\n",
       "4       wind_sp.m_per_s    0.240432    0.239640\n",
       "5  irradiance.w_per_m.2   -0.000000   -0.010548\n",
       "6              avg_clay    0.000000   -0.013394\n",
       "7              avg_sand    0.113345    0.121116\n",
       "8              avg_silt   -0.056472   -0.078300"
      ]
     },
     "execution_count": 95,
     "metadata": {},
     "output_type": "execute_result"
    }
   ],
   "source": [
    "lasso_coef = pd.DataFrame()\n",
    "lasso_coef['feature'] = dataset.columns[1:]\n",
    "lasso_coef['lasso coef'] = beta_lcv\n",
    "lasso_coef['ridge coef'] = beta_star\n",
    "lasso_coef"
   ]
  },
  {
   "cell_type": "markdown",
   "metadata": {},
   "source": [
    "MAE Lasso"
   ]
  },
  {
   "cell_type": "code",
   "execution_count": 74,
   "metadata": {},
   "outputs": [],
   "source": [
    "y_pred_inv = (y_pred_lcv * std_y) + mean_y\n",
    "y_test_inv = (y_test * std_y) + mean_y"
   ]
  },
  {
   "cell_type": "code",
   "execution_count": 75,
   "metadata": {},
   "outputs": [
    {
     "data": {
      "text/plain": [
       "0.03906586"
      ]
     },
     "execution_count": 75,
     "metadata": {},
     "output_type": "execute_result"
    }
   ],
   "source": [
    "mean_absolute_error(y_pred=y_pred_inv, y_true=y_test_inv)"
   ]
  },
  {
   "cell_type": "markdown",
   "metadata": {},
   "source": [
    "Subsetting data with features from Lasso"
   ]
  },
  {
   "cell_type": "code",
   "execution_count": 76,
   "metadata": {},
   "outputs": [],
   "source": [
    "X = dataset.iloc[:,[2,3,4,5,9,11]]\n",
    "X = X.values\n",
    "\n",
    "y = dataset.iloc[:,0]\n",
    "y = y.values"
   ]
  },
  {
   "cell_type": "code",
   "execution_count": 77,
   "metadata": {},
   "outputs": [],
   "source": [
    "# split data into train and test sets\n",
    "seed = 7\n",
    "test_size = 0.15\n",
    "X_train, X_test, y_train, y_test = train_test_split(X, y, test_size=test_size, random_state=seed)"
   ]
  },
  {
   "cell_type": "markdown",
   "metadata": {},
   "source": [
    "Normalization"
   ]
  },
  {
   "cell_type": "code",
   "execution_count": 78,
   "metadata": {},
   "outputs": [],
   "source": [
    "mean_X = X_train.mean(axis=0)\n",
    "std_X = X_train.std(axis=0)\n",
    "\n",
    "X_train = (X_train - mean_X) / std_X\n",
    "X_test = (X_test - mean_X) / std_X\n",
    "\n",
    "X_train = X_train.astype('float32')\n",
    "X_test = X_test.astype('float32')\n",
    "\n",
    "mean_y = y_train.mean(axis=0)\n",
    "std_y = y_train.std(axis=0)\n",
    "\n",
    "y_train = (y_train - mean_y) / std_y\n",
    "y_test = (y_test - mean_y) / std_y\n",
    "\n",
    "y_train = y_train.astype('float32')\n",
    "y_test = y_test.astype('float32')"
   ]
  },
  {
   "cell_type": "code",
   "execution_count": 79,
   "metadata": {},
   "outputs": [
    {
     "name": "stdout",
     "output_type": "stream",
     "text": [
      "(317, 6)\n",
      "(57, 6)\n",
      "\n",
      "(317,)\n",
      "(57,)\n"
     ]
    }
   ],
   "source": [
    "print(X_train.shape)\n",
    "print(X_test.shape)\n",
    "print('')\n",
    "print(y_train.shape)\n",
    "print(y_test.shape)"
   ]
  },
  {
   "cell_type": "markdown",
   "metadata": {},
   "source": [
    "Ridge model with reduced features (post Lasso)"
   ]
  },
  {
   "cell_type": "code",
   "execution_count": 80,
   "metadata": {},
   "outputs": [
    {
     "data": {
      "text/plain": [
       "RidgeCV(alphas=(0.1, 1.0, 10.0, 100, 1000), cv=None, fit_intercept=False,\n",
       "    gcv_mode=None, normalize=False, scoring=None, store_cv_values=False)"
      ]
     },
     "execution_count": 80,
     "metadata": {},
     "output_type": "execute_result"
    },
    {
     "data": {
      "text/plain": [
       "array([-0.11989806, -0.20862479,  0.23599008,  0.19058765,  0.18942144,\n",
       "       -0.11714893])"
      ]
     },
     "execution_count": 80,
     "metadata": {},
     "output_type": "execute_result"
    }
   ],
   "source": [
    "from sklearn.linear_model import RidgeCV\n",
    "\n",
    "rcv = RidgeCV(alphas=(0.1, 1.0, 10.0, 100, 1000), fit_intercept = False)\n",
    "rcv.fit(X_train,y_train)\n",
    "beta_star = rcv.coef_\n",
    "beta_star\n"
   ]
  },
  {
   "cell_type": "code",
   "execution_count": 81,
   "metadata": {},
   "outputs": [],
   "source": [
    "from sklearn import metrics"
   ]
  },
  {
   "cell_type": "code",
   "execution_count": 82,
   "metadata": {},
   "outputs": [],
   "source": [
    "y_pred_rcv = rcv.predict(X_test)"
   ]
  },
  {
   "cell_type": "markdown",
   "metadata": {},
   "source": [
    "MAE Ridge"
   ]
  },
  {
   "cell_type": "code",
   "execution_count": 83,
   "metadata": {},
   "outputs": [],
   "source": [
    "y_pred_inv = (y_pred_rcv * std_y) + mean_y\n",
    "y_test_inv = (y_test * std_y) + mean_y"
   ]
  },
  {
   "cell_type": "code",
   "execution_count": 84,
   "metadata": {},
   "outputs": [
    {
     "data": {
      "text/plain": [
       "0.037880783713376824"
      ]
     },
     "execution_count": 84,
     "metadata": {},
     "output_type": "execute_result"
    }
   ],
   "source": [
    "mean_absolute_error(y_pred=y_pred_inv, y_true=y_test_inv)"
   ]
  }
 ],
 "metadata": {
  "kernelspec": {
   "display_name": "Python 3",
   "language": "python",
   "name": "python3"
  },
  "language_info": {
   "codemirror_mode": {
    "name": "ipython",
    "version": 3
   },
   "file_extension": ".py",
   "mimetype": "text/x-python",
   "name": "python",
   "nbconvert_exporter": "python",
   "pygments_lexer": "ipython3",
   "version": "3.6.1"
  }
 },
 "nbformat": 4,
 "nbformat_minor": 2
}
