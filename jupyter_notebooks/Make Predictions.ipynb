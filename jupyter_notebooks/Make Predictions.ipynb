{
 "cells": [
  {
   "cell_type": "code",
   "execution_count": 1,
   "metadata": {},
   "outputs": [],
   "source": [
    "import xgboost\n",
    "from xgboost import XGBRegressor\n",
    "import pandas as pd\n",
    "import numpy as np\n",
    "from sklearn.model_selection import train_test_split\n",
    "from sklearn.metrics import mean_absolute_error, mean_squared_error\n",
    "from math import sqrt\n",
    "from matplotlib import pyplot\n",
    "from xgboost import plot_importance\n",
    "from pymlx import *\n",
    "from catboost import CatBoostRegressor\n",
    "import pickle\n",
    "\n",
    "from IPython.core.interactiveshell import InteractiveShell\n",
    "InteractiveShell.ast_node_interactivity = \"all\""
   ]
  },
  {
   "cell_type": "code",
   "execution_count": 3,
   "metadata": {},
   "outputs": [],
   "source": [
    "xgb_model = pickle.load(open('../data/results_data/models/xgBoost.bin', 'rb'))"
   ]
  },
  {
   "cell_type": "code",
   "execution_count": 4,
   "metadata": {},
   "outputs": [],
   "source": [
    "new_data = pd.read_csv('../data/data_for_XGB-prediction.csv')"
   ]
  },
  {
   "cell_type": "code",
   "execution_count": 6,
   "metadata": {},
   "outputs": [
    {
     "data": {
      "text/plain": [
       "Index(['x', 'y', 'field', 'date', 'ndre_val', 'avg_sand', 'avg_silt',\n",
       "       'avg_clay', 'precip.cm', 'tair.C', 'rh.pct', 'wind_sp.m_per_s',\n",
       "       'irradiance.w_per_m.2'],\n",
       "      dtype='object')"
      ]
     },
     "execution_count": 6,
     "metadata": {},
     "output_type": "execute_result"
    }
   ],
   "source": [
    "new_data.columns"
   ]
  },
  {
   "cell_type": "code",
   "execution_count": 8,
   "metadata": {},
   "outputs": [
    {
     "data": {
      "text/html": [
       "<div>\n",
       "<table border=\"1\" class=\"dataframe\">\n",
       "  <thead>\n",
       "    <tr style=\"text-align: right;\">\n",
       "      <th></th>\n",
       "      <th>x</th>\n",
       "      <th>y</th>\n",
       "      <th>field</th>\n",
       "      <th>date</th>\n",
       "      <th>ndre_val</th>\n",
       "      <th>avg_sand</th>\n",
       "      <th>avg_silt</th>\n",
       "      <th>avg_clay</th>\n",
       "      <th>precip.cm</th>\n",
       "      <th>tair.C</th>\n",
       "      <th>rh.pct</th>\n",
       "      <th>wind_sp.m_per_s</th>\n",
       "      <th>irradiance.w_per_m.2</th>\n",
       "    </tr>\n",
       "  </thead>\n",
       "  <tbody>\n",
       "    <tr>\n",
       "      <th>0</th>\n",
       "      <td>530702.5</td>\n",
       "      <td>5158557.5</td>\n",
       "      <td>W</td>\n",
       "      <td>2014-06-30</td>\n",
       "      <td>0.527599</td>\n",
       "      <td>9.273535</td>\n",
       "      <td>56.182369</td>\n",
       "      <td>34.544097</td>\n",
       "      <td>0.0</td>\n",
       "      <td>16.823333</td>\n",
       "      <td>63.1625</td>\n",
       "      <td>0.466667</td>\n",
       "      <td>337.595833</td>\n",
       "    </tr>\n",
       "    <tr>\n",
       "      <th>1</th>\n",
       "      <td>530707.5</td>\n",
       "      <td>5158557.5</td>\n",
       "      <td>W</td>\n",
       "      <td>2014-06-30</td>\n",
       "      <td>0.513371</td>\n",
       "      <td>9.273535</td>\n",
       "      <td>56.182369</td>\n",
       "      <td>34.544097</td>\n",
       "      <td>0.0</td>\n",
       "      <td>16.823333</td>\n",
       "      <td>63.1625</td>\n",
       "      <td>0.466667</td>\n",
       "      <td>337.595833</td>\n",
       "    </tr>\n",
       "    <tr>\n",
       "      <th>2</th>\n",
       "      <td>530712.5</td>\n",
       "      <td>5158557.5</td>\n",
       "      <td>W</td>\n",
       "      <td>2014-06-30</td>\n",
       "      <td>0.502703</td>\n",
       "      <td>9.273535</td>\n",
       "      <td>56.182369</td>\n",
       "      <td>34.544097</td>\n",
       "      <td>0.0</td>\n",
       "      <td>16.823333</td>\n",
       "      <td>63.1625</td>\n",
       "      <td>0.466667</td>\n",
       "      <td>337.595833</td>\n",
       "    </tr>\n",
       "    <tr>\n",
       "      <th>3</th>\n",
       "      <td>530717.5</td>\n",
       "      <td>5158557.5</td>\n",
       "      <td>W</td>\n",
       "      <td>2014-06-30</td>\n",
       "      <td>0.472289</td>\n",
       "      <td>9.273535</td>\n",
       "      <td>56.182369</td>\n",
       "      <td>34.544097</td>\n",
       "      <td>0.0</td>\n",
       "      <td>16.823333</td>\n",
       "      <td>63.1625</td>\n",
       "      <td>0.466667</td>\n",
       "      <td>337.595833</td>\n",
       "    </tr>\n",
       "    <tr>\n",
       "      <th>4</th>\n",
       "      <td>530722.5</td>\n",
       "      <td>5158557.5</td>\n",
       "      <td>W</td>\n",
       "      <td>2014-06-30</td>\n",
       "      <td>0.476290</td>\n",
       "      <td>9.273535</td>\n",
       "      <td>56.182369</td>\n",
       "      <td>34.544097</td>\n",
       "      <td>0.0</td>\n",
       "      <td>16.823333</td>\n",
       "      <td>63.1625</td>\n",
       "      <td>0.466667</td>\n",
       "      <td>337.595833</td>\n",
       "    </tr>\n",
       "  </tbody>\n",
       "</table>\n",
       "</div>"
      ],
      "text/plain": [
       "          x          y field        date  ndre_val  avg_sand   avg_silt  \\\n",
       "0  530702.5  5158557.5     W  2014-06-30  0.527599  9.273535  56.182369   \n",
       "1  530707.5  5158557.5     W  2014-06-30  0.513371  9.273535  56.182369   \n",
       "2  530712.5  5158557.5     W  2014-06-30  0.502703  9.273535  56.182369   \n",
       "3  530717.5  5158557.5     W  2014-06-30  0.472289  9.273535  56.182369   \n",
       "4  530722.5  5158557.5     W  2014-06-30  0.476290  9.273535  56.182369   \n",
       "\n",
       "    avg_clay  precip.cm     tair.C   rh.pct  wind_sp.m_per_s  \\\n",
       "0  34.544097        0.0  16.823333  63.1625         0.466667   \n",
       "1  34.544097        0.0  16.823333  63.1625         0.466667   \n",
       "2  34.544097        0.0  16.823333  63.1625         0.466667   \n",
       "3  34.544097        0.0  16.823333  63.1625         0.466667   \n",
       "4  34.544097        0.0  16.823333  63.1625         0.466667   \n",
       "\n",
       "   irradiance.w_per_m.2  \n",
       "0            337.595833  \n",
       "1            337.595833  \n",
       "2            337.595833  \n",
       "3            337.595833  \n",
       "4            337.595833  "
      ]
     },
     "execution_count": 8,
     "metadata": {},
     "output_type": "execute_result"
    }
   ],
   "source": [
    "new_data.head()"
   ]
  },
  {
   "cell_type": "code",
   "execution_count": 29,
   "metadata": {},
   "outputs": [],
   "source": [
    "keep_cols = ['ndre_val', 'precip.cm', 'tair.C', 'rh.pct', 'wind_sp.m_per_s', \n",
    "             'irradiance.w_per_m.2', 'avg_clay', 'avg_sand', 'avg_silt']\n",
    "test_X = new_data[keep_cols]"
   ]
  },
  {
   "cell_type": "code",
   "execution_count": 30,
   "metadata": {},
   "outputs": [],
   "source": [
    "X_test = test_X.values"
   ]
  },
  {
   "cell_type": "code",
   "execution_count": 10,
   "metadata": {},
   "outputs": [
    {
     "data": {
      "text/html": [
       "<div>\n",
       "<table border=\"1\" class=\"dataframe\">\n",
       "  <thead>\n",
       "    <tr style=\"text-align: right;\">\n",
       "      <th></th>\n",
       "      <th>ndre_val</th>\n",
       "      <th>precip.cm</th>\n",
       "      <th>tair.C</th>\n",
       "      <th>rh.pct</th>\n",
       "      <th>wind_sp.m_per_s</th>\n",
       "      <th>irradiance.w_per_m.2</th>\n",
       "      <th>avg_clay</th>\n",
       "      <th>avg_sand</th>\n",
       "      <th>avg_silt</th>\n",
       "    </tr>\n",
       "  </thead>\n",
       "  <tbody>\n",
       "    <tr>\n",
       "      <th>0</th>\n",
       "      <td>0.527599</td>\n",
       "      <td>0.0</td>\n",
       "      <td>16.823333</td>\n",
       "      <td>63.1625</td>\n",
       "      <td>0.466667</td>\n",
       "      <td>337.595833</td>\n",
       "      <td>34.544097</td>\n",
       "      <td>9.273535</td>\n",
       "      <td>56.182369</td>\n",
       "    </tr>\n",
       "    <tr>\n",
       "      <th>1</th>\n",
       "      <td>0.513371</td>\n",
       "      <td>0.0</td>\n",
       "      <td>16.823333</td>\n",
       "      <td>63.1625</td>\n",
       "      <td>0.466667</td>\n",
       "      <td>337.595833</td>\n",
       "      <td>34.544097</td>\n",
       "      <td>9.273535</td>\n",
       "      <td>56.182369</td>\n",
       "    </tr>\n",
       "    <tr>\n",
       "      <th>2</th>\n",
       "      <td>0.502703</td>\n",
       "      <td>0.0</td>\n",
       "      <td>16.823333</td>\n",
       "      <td>63.1625</td>\n",
       "      <td>0.466667</td>\n",
       "      <td>337.595833</td>\n",
       "      <td>34.544097</td>\n",
       "      <td>9.273535</td>\n",
       "      <td>56.182369</td>\n",
       "    </tr>\n",
       "    <tr>\n",
       "      <th>3</th>\n",
       "      <td>0.472289</td>\n",
       "      <td>0.0</td>\n",
       "      <td>16.823333</td>\n",
       "      <td>63.1625</td>\n",
       "      <td>0.466667</td>\n",
       "      <td>337.595833</td>\n",
       "      <td>34.544097</td>\n",
       "      <td>9.273535</td>\n",
       "      <td>56.182369</td>\n",
       "    </tr>\n",
       "    <tr>\n",
       "      <th>4</th>\n",
       "      <td>0.476290</td>\n",
       "      <td>0.0</td>\n",
       "      <td>16.823333</td>\n",
       "      <td>63.1625</td>\n",
       "      <td>0.466667</td>\n",
       "      <td>337.595833</td>\n",
       "      <td>34.544097</td>\n",
       "      <td>9.273535</td>\n",
       "      <td>56.182369</td>\n",
       "    </tr>\n",
       "  </tbody>\n",
       "</table>\n",
       "</div>"
      ],
      "text/plain": [
       "   ndre_val  precip.cm     tair.C   rh.pct  wind_sp.m_per_s  \\\n",
       "0  0.527599        0.0  16.823333  63.1625         0.466667   \n",
       "1  0.513371        0.0  16.823333  63.1625         0.466667   \n",
       "2  0.502703        0.0  16.823333  63.1625         0.466667   \n",
       "3  0.472289        0.0  16.823333  63.1625         0.466667   \n",
       "4  0.476290        0.0  16.823333  63.1625         0.466667   \n",
       "\n",
       "   irradiance.w_per_m.2   avg_clay  avg_sand   avg_silt  \n",
       "0            337.595833  34.544097  9.273535  56.182369  \n",
       "1            337.595833  34.544097  9.273535  56.182369  \n",
       "2            337.595833  34.544097  9.273535  56.182369  \n",
       "3            337.595833  34.544097  9.273535  56.182369  \n",
       "4            337.595833  34.544097  9.273535  56.182369  "
      ]
     },
     "execution_count": 10,
     "metadata": {},
     "output_type": "execute_result"
    }
   ],
   "source": [
    "# ['ndre_val', 'precip.cm', 'tair.C', 'rh.pct', 'wind_sp.m_per_s',\n",
    "#  'irradiance.w_per_m.2', 'avg_clay', 'avg_sand', 'avg_silt']"
   ]
  },
  {
   "cell_type": "code",
   "execution_count": 33,
   "metadata": {},
   "outputs": [],
   "source": [
    "mean_X = X_test.mean(axis=0)\n",
    "std_X = X_test.std(axis=0)\n",
    "\n",
    "X_test = (X_test - mean_X) / std_X\n",
    "X_test = X_test.astype('float32')\n",
    "\n",
    "mean_y = 0.22123822444691976\n",
    "std_y = 0.05354998924136244\n",
    "\n",
    "predictions = xgb_model.predict(X_test)\n",
    "predictions = predictions*std_y+mean_y"
   ]
  },
  {
   "cell_type": "code",
   "execution_count": 38,
   "metadata": {},
   "outputs": [],
   "source": [
    "predictions = predictions.tolist()"
   ]
  },
  {
   "cell_type": "code",
   "execution_count": 41,
   "metadata": {
    "scrolled": false
   },
   "outputs": [],
   "source": [
    "predictions = pd.DataFrame({'predictions': predictions})"
   ]
  },
  {
   "cell_type": "code",
   "execution_count": 42,
   "metadata": {},
   "outputs": [],
   "source": [
    "predictions.to_csv('../data/predictions.csv')"
   ]
  },
  {
   "cell_type": "code",
   "execution_count": null,
   "metadata": {},
   "outputs": [],
   "source": []
  }
 ],
 "metadata": {
  "kernelspec": {
   "display_name": "Python 3",
   "language": "python",
   "name": "python3"
  },
  "language_info": {
   "codemirror_mode": {
    "name": "ipython",
    "version": 3
   },
   "file_extension": ".py",
   "mimetype": "text/x-python",
   "name": "python",
   "nbconvert_exporter": "python",
   "pygments_lexer": "ipython3",
   "version": "3.6.1"
  }
 },
 "nbformat": 4,
 "nbformat_minor": 2
}
