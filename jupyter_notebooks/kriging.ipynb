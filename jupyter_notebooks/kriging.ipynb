{
 "cells": [
  {
   "cell_type": "code",
   "execution_count": 86,
   "metadata": {},
   "outputs": [],
   "source": [
    "# SETUP\n",
    "import numpy as np\n",
    "import pandas as pd\n",
    "from osgeo import gdal\n",
    "\n",
    "from pykrige.ok import OrdinaryKriging\n",
    "\n",
    "from pykrige.uk import UniversalKriging\n",
    "import numpy as np\n",
    "import pykrige.kriging_tools as kt\n",
    "\n",
    "import matplotlib.pyplot as plt\n",
    "\n",
    "from scipy.interpolate import interp2d\n",
    "\n",
    "from IPython.core.interactiveshell import InteractiveShell\n",
    "InteractiveShell.ast_node_interactivity = \"all\"\n",
    "\n",
    "# kriging from https://github.com/bsmurphy/PyKrige"
   ]
  },
  {
   "cell_type": "code",
   "execution_count": 36,
   "metadata": {},
   "outputs": [],
   "source": [
    "def rasterExtract(filename, x, y):\n",
    "    \n",
    "    def world2Pixel(gt, x, y):\n",
    "        ulX = gt[0]\n",
    "        ulY = gt[3]\n",
    "        xDist = gt[1]\n",
    "        yDist = gt[5]\n",
    "        rtnX = gt[2]\n",
    "        rtnY = gt[4]\n",
    "        pixel = int((x - ulX) / xDist)\n",
    "        line = int((ulY - y) / xDist)\n",
    "        return (pixel, line)\n",
    "\n",
    "    dataset = gdal.Open(filename)\n",
    "    gt = dataset.GetGeoTransform()\n",
    "\n",
    "    pixel, line = world2Pixel(gt, x, y)\n",
    "\n",
    "    band = dataset.GetRasterBand(1)\n",
    "    value = band.ReadAsArray(pixel, line, 1, 1)[0, 0]\n",
    "\n",
    "    return(value)"
   ]
  },
  {
   "cell_type": "code",
   "execution_count": 37,
   "metadata": {},
   "outputs": [
    {
     "data": {
      "text/plain": [
       "array([[  466411.1549,  5182376.04  ],\n",
       "       [  466497.8643,  5182423.841 ],\n",
       "       [  466371.5787,  5182249.827 ],\n",
       "       [  466239.5339,  5182218.854 ],\n",
       "       [  466275.0262,  5182150.807 ],\n",
       "       [  466365.6219,  5182132.08  ],\n",
       "       [  466397.3705,  5182063.394 ],\n",
       "       [  466420.3849,  5182163.321 ],\n",
       "       [  466460.1702,  5182182.995 ],\n",
       "       [  466491.1782,  5182257.467 ],\n",
       "       [  466491.8605,  5182283.413 ],\n",
       "       [  466558.3355,  5182171.521 ]])"
      ]
     },
     "execution_count": 37,
     "metadata": {},
     "output_type": "execute_result"
    }
   ],
   "source": [
    "# coordinates\n",
    "coords = pd.read_csv(\"/Users/Thompson/Desktop/HydroSatML/data/sensor_coords/SCF_TierII_site_coords.csv\")\n",
    "coords_aes = np.array(coords.iloc[0:12,0:2])\n",
    "coords_aes"
   ]
  },
  {
   "cell_type": "code",
   "execution_count": 38,
   "metadata": {
    "scrolled": true
   },
   "outputs": [
    {
     "data": {
      "text/plain": [
       "array([ 0.20970125,  0.21002887,  0.22090527,  0.21401602,  0.21900997,\n",
       "        0.21856149,  0.21986586,  0.20656858,  0.22804569,  0.21998592,\n",
       "        0.22340439,  0.21803991])"
      ]
     },
     "execution_count": 38,
     "metadata": {},
     "output_type": "execute_result"
    }
   ],
   "source": [
    "smr_vals = np.array([])\n",
    "for i in coords_aes:\n",
    "    smr_val = rasterExtract(\"/Users/Thompson/Desktop/HydroSatML/data/SMR/Aes/rz.mc_1592013.asc\", i[0], i[1])\n",
    "    smr_vals = np.append(smr_vals, smr_val)\n",
    "smr_vals"
   ]
  },
  {
   "cell_type": "code",
   "execution_count": 39,
   "metadata": {},
   "outputs": [
    {
     "data": {
      "text/plain": [
       "181    0.233400\n",
       "180    0.168745\n",
       "184    0.255447\n",
       "185    0.275018\n",
       "189    0.173099\n",
       "190    0.151764\n",
       "191    0.180831\n",
       "188         NaN\n",
       "186         NaN\n",
       "183    0.197050\n",
       "182    0.149060\n",
       "187    0.167377\n",
       "dtype: float64"
      ]
     },
     "execution_count": 39,
     "metadata": {},
     "output_type": "execute_result"
    }
   ],
   "source": [
    "# monitored data (from joined dataframe)\n",
    "joined_data = pd.read_csv(\"/Users/Thompson/Desktop/HydroSatML/data/data_for_models/final_join.csv\")\n",
    "\n",
    "# pull out AES data only\n",
    "aes_data = joined_data[joined_data.field == \"AES\"]\n",
    "\n",
    "# pull out a single date\n",
    "# aes_data.date.unique()\n",
    "aes_data = aes_data[aes_data.date == \"2013-07-27\"]\n",
    "# NOTE: some dates in original joined data have duplicate values...\n",
    "\n",
    "# get rid of unnecessary columns and sort on sensor\n",
    "aes_data = aes_data.iloc[:,0:11]\n",
    "aes_data = aes_data.sort_values(\"sensor\")\n",
    "# aes_data\n",
    "\n",
    "measured_vals = np.mean(aes_data[['depth_1','depth_2','depth_3','depth_4','depth_5']], axis=1)\n",
    "measured_vals = np.mean(aes_data[['depth_1','depth_2','depth_3']], axis=1)\n",
    "measured_vals"
   ]
  },
  {
   "cell_type": "code",
   "execution_count": 40,
   "metadata": {},
   "outputs": [
    {
     "data": {
      "text/html": [
       "<div>\n",
       "<style scoped>\n",
       "    .dataframe tbody tr th:only-of-type {\n",
       "        vertical-align: middle;\n",
       "    }\n",
       "\n",
       "    .dataframe tbody tr th {\n",
       "        vertical-align: top;\n",
       "    }\n",
       "\n",
       "    .dataframe thead th {\n",
       "        text-align: right;\n",
       "    }\n",
       "</style>\n",
       "<table border=\"1\" class=\"dataframe\">\n",
       "  <thead>\n",
       "    <tr style=\"text-align: right;\">\n",
       "      <th></th>\n",
       "      <th>measured_vals</th>\n",
       "      <th>smr_vals</th>\n",
       "    </tr>\n",
       "  </thead>\n",
       "  <tbody>\n",
       "    <tr>\n",
       "      <th>181</th>\n",
       "      <td>0.233400</td>\n",
       "      <td>0.209701</td>\n",
       "    </tr>\n",
       "    <tr>\n",
       "      <th>180</th>\n",
       "      <td>0.168745</td>\n",
       "      <td>0.210029</td>\n",
       "    </tr>\n",
       "    <tr>\n",
       "      <th>184</th>\n",
       "      <td>0.255447</td>\n",
       "      <td>0.220905</td>\n",
       "    </tr>\n",
       "    <tr>\n",
       "      <th>185</th>\n",
       "      <td>0.275018</td>\n",
       "      <td>0.214016</td>\n",
       "    </tr>\n",
       "    <tr>\n",
       "      <th>189</th>\n",
       "      <td>0.173099</td>\n",
       "      <td>0.219010</td>\n",
       "    </tr>\n",
       "    <tr>\n",
       "      <th>190</th>\n",
       "      <td>0.151764</td>\n",
       "      <td>0.218561</td>\n",
       "    </tr>\n",
       "    <tr>\n",
       "      <th>191</th>\n",
       "      <td>0.180831</td>\n",
       "      <td>0.219866</td>\n",
       "    </tr>\n",
       "    <tr>\n",
       "      <th>188</th>\n",
       "      <td>NaN</td>\n",
       "      <td>0.206569</td>\n",
       "    </tr>\n",
       "    <tr>\n",
       "      <th>186</th>\n",
       "      <td>NaN</td>\n",
       "      <td>0.228046</td>\n",
       "    </tr>\n",
       "    <tr>\n",
       "      <th>183</th>\n",
       "      <td>0.197050</td>\n",
       "      <td>0.219986</td>\n",
       "    </tr>\n",
       "    <tr>\n",
       "      <th>182</th>\n",
       "      <td>0.149060</td>\n",
       "      <td>0.223404</td>\n",
       "    </tr>\n",
       "    <tr>\n",
       "      <th>187</th>\n",
       "      <td>0.167377</td>\n",
       "      <td>0.218040</td>\n",
       "    </tr>\n",
       "  </tbody>\n",
       "</table>\n",
       "</div>"
      ],
      "text/plain": [
       "     measured_vals  smr_vals\n",
       "181       0.233400  0.209701\n",
       "180       0.168745  0.210029\n",
       "184       0.255447  0.220905\n",
       "185       0.275018  0.214016\n",
       "189       0.173099  0.219010\n",
       "190       0.151764  0.218561\n",
       "191       0.180831  0.219866\n",
       "188            NaN  0.206569\n",
       "186            NaN  0.228046\n",
       "183       0.197050  0.219986\n",
       "182       0.149060  0.223404\n",
       "187       0.167377  0.218040"
      ]
     },
     "execution_count": 40,
     "metadata": {},
     "output_type": "execute_result"
    }
   ],
   "source": [
    "dog = pd.DataFrame()\n",
    "dog['measured_vals'] = measured_vals\n",
    "dog['smr_vals'] = smr_vals\n",
    "dog"
   ]
  },
  {
   "cell_type": "code",
   "execution_count": 41,
   "metadata": {},
   "outputs": [
    {
     "data": {
      "text/plain": [
       "181    0.023698\n",
       "180   -0.041284\n",
       "184    0.034542\n",
       "185    0.061002\n",
       "189   -0.045911\n",
       "190   -0.066798\n",
       "191   -0.039035\n",
       "188         NaN\n",
       "186         NaN\n",
       "183   -0.022936\n",
       "182   -0.074345\n",
       "187   -0.050663\n",
       "dtype: float64"
      ]
     },
     "execution_count": 41,
     "metadata": {},
     "output_type": "execute_result"
    }
   ],
   "source": [
    "# get diff between SMR and measured values\n",
    "vals = measured_vals - smr_vals\n",
    "vals"
   ]
  },
  {
   "cell_type": "code",
   "execution_count": 42,
   "metadata": {},
   "outputs": [
    {
     "data": {
      "text/plain": [
       "array([[  4.66411155e+05,   5.18237604e+06,   2.36983380e+00],\n",
       "       [  4.66497864e+05,   5.18242384e+06,  -4.12835494e+00],\n",
       "       [  4.66371579e+05,   5.18224983e+06,   3.45415765e+00],\n",
       "       [  4.66239534e+05,   5.18221885e+06,   6.10020681e+00],\n",
       "       [  4.66275026e+05,   5.18215081e+06,  -4.59109071e+00],\n",
       "       [  4.66365622e+05,   5.18213208e+06,  -6.67977133e+00],\n",
       "       [  4.66397371e+05,   5.18206339e+06,  -3.90346196e+00],\n",
       "       [  4.66491178e+05,   5.18225747e+06,  -2.29356688e+00],\n",
       "       [  4.66491861e+05,   5.18228341e+06,  -7.43448095e+00],\n",
       "       [  4.66558335e+05,   5.18217152e+06,  -5.06633294e+00]])"
      ]
     },
     "execution_count": 42,
     "metadata": {},
     "output_type": "execute_result"
    }
   ],
   "source": [
    "# merge coordinates and values and drop rows with NaNs\n",
    "data = np.c_[coords_aes, vals*100]\n",
    "data = data[~np.isnan(data).any(axis=1)]\n",
    "data"
   ]
  },
  {
   "cell_type": "code",
   "execution_count": 43,
   "metadata": {},
   "outputs": [],
   "source": [
    "# grid for kriged surface\n",
    "\n",
    "# gridx = np.arange(0.0, 5.5, 0.5)\n",
    "# gridy = np.arange(0.0, 5.5, 0.5)\n",
    "\n",
    "ncols = 59\n",
    "nrows = 54\n",
    "xllcorner = 466090\n",
    "yllcorner = 5181980\n",
    "cellsize = 10\n",
    "\n",
    "gridx = np.arange(xllcorner+cellsize/2, xllcorner+ncols*cellsize, cellsize)\n",
    "gridy = np.arange(yllcorner+cellsize/2, yllcorner+nrows*cellsize, cellsize)\n",
    "\n",
    "# gridx\n",
    "# gridy"
   ]
  },
  {
   "cell_type": "code",
   "execution_count": 48,
   "metadata": {},
   "outputs": [
    {
     "data": {
      "image/png": "[encoded data removed]",
      "text/plain": [
       "<matplotlib.figure.Figure at 0x1524cefcf8>"
      ]
     },
     "metadata": {},
     "output_type": "display_data"
    }
   ],
   "source": [
    "# Create the ordinary kriging object. Required inputs are the X-coordinates of\n",
    "# the data points, the Y-coordinates of the data points, and the Z-values of the\n",
    "# data points. If no variogram model is specified, defaults to a linear variogram\n",
    "# model. If no variogram model parameters are specified, then the code automatically\n",
    "# calculates the parameters by fitting the variogram model to the binned\n",
    "# experimental semivariogram. The verbose kwarg controls code talk-back, and\n",
    "# the enable_plotting kwarg controls the display of the semivariogram.\n",
    "OK = OrdinaryKriging(data[:, 0], data[:, 1], data[:, 2], variogram_model='exponential',\n",
    "                     verbose=False, enable_plotting=True)\n",
    "\n",
    "# variogram_model = linear, power, gaussian, spherical, exponential.\n",
    "#                   Default is linear variogram model. To utilize as custom variogram\n",
    "#                   model, specify 'custom'; you must also provide variogram_parameters and\n",
    "#                   variogram_function.\n",
    "#                   variogram_parameters (list, optional): Parameters that define the\n",
    "#                   specified variogram model. If not provided, parameters will be automatically\n",
    "#                   calculated such that the root-mean-square error for the fit variogram\n",
    "#                   function is minimized.\n",
    "#                        linear - [slope, nugget]\n",
    "#                        power - [scale, exponent, nugget]\n",
    "#                        gaussian - [sill, range, nugget]\n",
    "#                        spherical - [sill, range, nugget]\n",
    "#                        exponential - [sill, range, nugget]\n",
    "\n",
    "# Creates the kriged grid and the variance grid. Allows for kriging on a rectangular\n",
    "# grid of points, on a masked rectangular grid of points, or with arbitrary points.\n",
    "# (See OrdinaryKriging.__doc__ for more information.)\n",
    "z, ss = OK.execute('grid', gridx, gridy)\n",
    "\n",
    "# Writes the kriged grid to an ASCII grid file.\n",
    "kt.write_asc_grid(gridx, gridy, z, filename=\"output.asc\", style=1)"
   ]
  },
  {
   "cell_type": "code",
   "execution_count": 67,
   "metadata": {},
   "outputs": [
    {
     "ename": "ValueError",
     "evalue": "Must specify the drift values for each data point when using the 'specified' drift capability.",
     "output_type": "error",
     "traceback": [
      "\u001b[0;31m---------------------------------------------------------------------------\u001b[0m",
      "\u001b[0;31mValueError\u001b[0m                                Traceback (most recent call last)",
      "\u001b[0;32m<ipython-input-67-5e195ea180e9>\u001b[0m in \u001b[0;36m<module>\u001b[0;34m()\u001b[0m\n\u001b[1;32m      9\u001b[0m \u001b[0;34m\u001b[0m\u001b[0m\n\u001b[1;32m     10\u001b[0m UK = UniversalKriging(data[:, 0], data[:, 1], data[:, 2], variogram_model='gaussian',\n\u001b[0;32m---> 11\u001b[0;31m                       drift_terms=['specified'], specified_drift=list(np.zeros(len(data))))\n\u001b[0m\u001b[1;32m     12\u001b[0m \u001b[0;34m\u001b[0m\u001b[0m\n\u001b[1;32m     13\u001b[0m \u001b[0;31m# Creates the kriged grid and the variance grid. Allows for kriging on a rectangular\u001b[0m\u001b[0;34m\u001b[0m\u001b[0;34m\u001b[0m\u001b[0m\n",
      "\u001b[0;32m~/Program_Files/anaconda3/lib/python3.6/site-packages/pykrige/uk.py\u001b[0m in \u001b[0;36m__init__\u001b[0;34m(self, x, y, z, variogram_model, variogram_parameters, variogram_function, nlags, weight, anisotropy_scaling, anisotropy_angle, drift_terms, point_drift, external_drift, external_drift_x, external_drift_y, specified_drift, functional_drift, verbose, enable_plotting)\u001b[0m\n\u001b[1;32m    386\u001b[0m                 \u001b[0mspecified\u001b[0m \u001b[0;34m=\u001b[0m \u001b[0mnp\u001b[0m\u001b[0;34m.\u001b[0m\u001b[0msqueeze\u001b[0m\u001b[0;34m(\u001b[0m\u001b[0mnp\u001b[0m\u001b[0;34m.\u001b[0m\u001b[0marray\u001b[0m\u001b[0;34m(\u001b[0m\u001b[0mterm\u001b[0m\u001b[0;34m,\u001b[0m \u001b[0mcopy\u001b[0m\u001b[0;34m=\u001b[0m\u001b[0;32mTrue\u001b[0m\u001b[0;34m)\u001b[0m\u001b[0;34m)\u001b[0m\u001b[0;34m\u001b[0m\u001b[0m\n\u001b[1;32m    387\u001b[0m                 \u001b[0;32mif\u001b[0m \u001b[0mspecified\u001b[0m\u001b[0;34m.\u001b[0m\u001b[0msize\u001b[0m \u001b[0;34m!=\u001b[0m \u001b[0mself\u001b[0m\u001b[0;34m.\u001b[0m\u001b[0mX_ORIG\u001b[0m\u001b[0;34m.\u001b[0m\u001b[0msize\u001b[0m\u001b[0;34m:\u001b[0m\u001b[0;34m\u001b[0m\u001b[0m\n\u001b[0;32m--> 388\u001b[0;31m                     raise ValueError(\"Must specify the drift values for each data point when using the \"\n\u001b[0m\u001b[1;32m    389\u001b[0m                                      \"'specified' drift capability.\")\n\u001b[1;32m    390\u001b[0m                 \u001b[0mself\u001b[0m\u001b[0;34m.\u001b[0m\u001b[0mspecified_drift_data_arrays\u001b[0m\u001b[0;34m.\u001b[0m\u001b[0mappend\u001b[0m\u001b[0;34m(\u001b[0m\u001b[0mspecified\u001b[0m\u001b[0;34m)\u001b[0m\u001b[0;34m\u001b[0m\u001b[0m\n",
      "\u001b[0;31mValueError\u001b[0m: Must specify the drift values for each data point when using the 'specified' drift capability."
     ]
    }
   ],
   "source": [
    "# Create the ordinary kriging object. Required inputs are the X-coordinates of\n",
    "# the data points, the Y-coordinates of the data points, and the Z-values of the\n",
    "# data points. Variogram is handled as in the ordinary kriging case.\n",
    "# drift_terms is a list of the drift terms to include; currently supported terms\n",
    "# are 'regional_linear', 'point_log', and 'external_Z'. Refer to\n",
    "# UniversalKriging.__doc__ for more information.\n",
    "UK = UniversalKriging(data[:, 0], data[:, 1], data[:, 2], variogram_model='gaussian',\n",
    "                      drift_terms=['regional_linear'], functional_drift=0)\n",
    "\n",
    "UK = UniversalKriging(data[:, 0], data[:, 1], data[:, 2], variogram_model='gaussian',\n",
    "                      drift_terms=['specified'], specified_drift=list(np.zeros(len(data))))\n",
    "\n",
    "# Creates the kriged grid and the variance grid. Allows for kriging on a rectangular\n",
    "# grid of points, on a masked rectangular grid of points, or with arbitrary points.\n",
    "# (See UniversalKriging.__doc__ for more information.)\n",
    "z, ss = UK.execute('grid', gridx, gridy)\n",
    "\n",
    "# Writes the kriged grid to an ASCII grid file.\n",
    "kt.write_asc_grid(gridx, gridy, z, filename=\"output.asc\", style=1)"
   ]
  },
  {
   "cell_type": "code",
   "execution_count": null,
   "metadata": {},
   "outputs": [],
   "source": []
  },
  {
   "cell_type": "markdown",
   "metadata": {},
   "source": [
    "# SPLINE"
   ]
  },
  {
   "cell_type": "code",
   "execution_count": 105,
   "metadata": {},
   "outputs": [
    {
     "data": {
      "text/plain": [
       "array([[  4.66411155e+05,   5.18237604e+06,   2.36983380e+00],\n",
       "       [  4.66497864e+05,   5.18242384e+06,  -4.12835494e+00],\n",
       "       [  4.66371579e+05,   5.18224983e+06,   3.45415765e+00],\n",
       "       [  4.66239534e+05,   5.18221885e+06,   6.10020681e+00],\n",
       "       [  4.66275026e+05,   5.18215081e+06,  -4.59109071e+00],\n",
       "       [  4.66365622e+05,   5.18213208e+06,  -6.67977133e+00],\n",
       "       [  4.66397371e+05,   5.18206339e+06,  -3.90346196e+00],\n",
       "       [  4.66491178e+05,   5.18225747e+06,  -2.29356688e+00],\n",
       "       [  4.66491861e+05,   5.18228341e+06,  -7.43448095e+00],\n",
       "       [  4.66558335e+05,   5.18217152e+06,  -5.06633294e+00]])"
      ]
     },
     "execution_count": 105,
     "metadata": {},
     "output_type": "execute_result"
    },
    {
     "data": {
      "text/plain": [
       "array([ 2.3698338 , -4.12835494,  3.45415765,  6.10020681, -4.59109071,\n",
       "       -6.67977133, -3.90346196, -2.29356688, -7.43448095, -5.06633294])"
      ]
     },
     "execution_count": 105,
     "metadata": {},
     "output_type": "execute_result"
    }
   ],
   "source": [
    "data[:,2]"
   ]
  },
  {
   "cell_type": "code",
   "execution_count": 155,
   "metadata": {
    "scrolled": false
   },
   "outputs": [],
   "source": [
    "spline = interp2d(data[:, 0], data[:, 1], data[:, 2], 'linear')"
   ]
  },
  {
   "cell_type": "code",
   "execution_count": 194,
   "metadata": {},
   "outputs": [
    {
     "name": "stdout",
     "output_type": "stream",
     "text": [
      "[ 2.3698338]\n",
      "[-4.12835494]\n",
      "[ 3.45415765]\n",
      "[ 6.10020681]\n",
      "[-4.59109071]\n",
      "[-6.67977133]\n",
      "[-3.90346196]\n",
      "[-2.29356688]\n",
      "[-7.43448095]\n",
      "[-5.06633294]\n"
     ]
    }
   ],
   "source": [
    "# shows that the function correctly interpolates at all monitored values\n",
    "for i in range(len(data)):\n",
    "    print(spline(data[i,0],data[i,1]))"
   ]
  },
  {
   "cell_type": "code",
   "execution_count": null,
   "metadata": {},
   "outputs": [],
   "source": []
  },
  {
   "cell_type": "code",
   "execution_count": 196,
   "metadata": {},
   "outputs": [
    {
     "data": {
      "text/plain": [
       "(54, 59)"
      ]
     },
     "execution_count": 196,
     "metadata": {},
     "output_type": "execute_result"
    }
   ],
   "source": [
    "znew = spline(gridx, gridy)\n",
    "znew.shape"
   ]
  },
  {
   "cell_type": "code",
   "execution_count": 192,
   "metadata": {},
   "outputs": [],
   "source": [
    "dog = (\"ncols          \" + str(ncols) +\n",
    "       \"\\nnrows          \" + str(nrows) +\n",
    "       \"\\nxllcorner      \" + str(xllcorner) +\n",
    "       \"\\nyllcorner      \" + str(yllcorner) +\n",
    "       \"\\ncellsize       \" + str(cellsize))\n",
    "\n",
    "np.savetxt(\"dog.txt\", znew, header=dog, comments=\"\")"
   ]
  },
  {
   "cell_type": "code",
   "execution_count": 197,
   "metadata": {},
   "outputs": [
    {
     "ename": "NameError",
     "evalue": "name 'smr' is not defined",
     "output_type": "error",
     "traceback": [
      "\u001b[0;31m---------------------------------------------------------------------------\u001b[0m",
      "\u001b[0;31mNameError\u001b[0m                                 Traceback (most recent call last)",
      "\u001b[0;32m<ipython-input-197-a8b9d5b9b733>\u001b[0m in \u001b[0;36m<module>\u001b[0;34m()\u001b[0m\n\u001b[0;32m----> 1\u001b[0;31m \u001b[0msmr\u001b[0m\u001b[0;34m.\u001b[0m\u001b[0mshape\u001b[0m\u001b[0;34m\u001b[0m\u001b[0m\n\u001b[0m",
      "\u001b[0;31mNameError\u001b[0m: name 'smr' is not defined"
     ]
    }
   ],
   "source": []
  },
  {
   "cell_type": "code",
   "execution_count": null,
   "metadata": {},
   "outputs": [],
   "source": []
  },
  {
   "cell_type": "code",
   "execution_count": 89,
   "metadata": {},
   "outputs": [
    {
     "data": {
      "text/plain": [
       "[<matplotlib.lines.Line2D at 0x1829016240>,\n",
       " <matplotlib.lines.Line2D at 0x18290163c8>]"
      ]
     },
     "execution_count": 89,
     "metadata": {},
     "output_type": "execute_result"
    },
    {
     "data": {
      "image/png": "[encoded data removed]",
      "text/plain": [
       "<matplotlib.figure.Figure at 0x11a068da0>"
      ]
     },
     "metadata": {},
     "output_type": "display_data"
    }
   ],
   "source": [
    "from scipy import interpolate\n",
    "x = np.arange(-5.01, 5.01, 0.25)\n",
    "y = np.arange(-5.01, 5.01, 0.25)\n",
    "xx, yy = np.meshgrid(x, y)\n",
    "z = np.sin(xx**2+yy**2)\n",
    "f = interpolate.interp2d(x, y, z, kind='cubic')\n",
    "\n",
    "# Now use the obtained interpolation function and plot the result:\n",
    "\n",
    "xnew = np.arange(-5.01, 5.01, 1e-2)\n",
    "ynew = np.arange(-5.01, 5.01, 1e-2)\n",
    "znew = f(xnew, ynew)\n",
    "plt.plot(x, z[0, :], 'ro-', xnew, znew[0, :], 'b-')\n",
    "plt.show()"
   ]
  },
  {
   "cell_type": "markdown",
   "metadata": {},
   "source": [
    "# SAMPLE"
   ]
  },
  {
   "cell_type": "code",
   "execution_count": null,
   "metadata": {},
   "outputs": [],
   "source": [
    "# EXAMPLE FROM https://github.com/bsmurphy/PyKrige\n",
    "from pykrige.ok import OrdinaryKriging\n",
    "import numpy as np\n",
    "import pykrige.kriging_tools as kt\n",
    "\n",
    "data = np.array([[0.3, 1.2, 0.47],\n",
    "                 [1.9, 0.6, 0.56],\n",
    "                 [1.1, 3.2, 0.74],\n",
    "                 [3.3, 4.4, 1.47],\n",
    "                 [4.7, 3.8, 1.74]])\n",
    "\n",
    "gridx = np.arange(0.0, 5.5, 0.5)\n",
    "gridy = np.arange(0.0, 5.5, 0.5)\n",
    "\n",
    "# Create the ordinary kriging object. Required inputs are the X-coordinates of\n",
    "# the data points, the Y-coordinates of the data points, and the Z-values of the\n",
    "# data points. If no variogram model is specified, defaults to a linear variogram\n",
    "# model. If no variogram model parameters are specified, then the code automatically\n",
    "# calculates the parameters by fitting the variogram model to the binned\n",
    "# experimental semivariogram. The verbose kwarg controls code talk-back, and\n",
    "# the enable_plotting kwarg controls the display of the semivariogram.\n",
    "OK = OrdinaryKriging(data[:, 0], data[:, 1], data[:, 2], variogram_model='linear',\n",
    "                     verbose=False, enable_plotting=False)\n",
    "\n",
    "# Creates the kriged grid and the variance grid. Allows for kriging on a rectangular\n",
    "# grid of points, on a masked rectangular grid of points, or with arbitrary points.\n",
    "# (See OrdinaryKriging.__doc__ for more information.)\n",
    "z, ss = OK.execute('grid', gridx, gridy)\n",
    "\n",
    "# Writes the kriged grid to an ASCII grid file.\n",
    "kt.write_asc_grid(gridx, gridy, z, filename=\"output.asc\")"
   ]
  }
 ],
 "metadata": {
  "kernelspec": {
   "display_name": "Python 3",
   "language": "python",
   "name": "python3"
  },
  "language_info": {
   "codemirror_mode": {
    "name": "ipython",
    "version": 3
   },
   "file_extension": ".py",
   "mimetype": "text/x-python",
   "name": "python",
   "nbconvert_exporter": "python",
   "pygments_lexer": "ipython3",
   "version": "3.6.3"
  }
 },
 "nbformat": 4,
 "nbformat_minor": 2
}
