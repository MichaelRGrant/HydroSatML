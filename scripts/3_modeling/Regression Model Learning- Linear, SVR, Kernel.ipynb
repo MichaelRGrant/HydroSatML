{
 "cells": [
  {
   "cell_type": "markdown",
   "metadata": {},
   "source": [
    "This notebook tests linear regression models on the merged data set to predict soil moisture.  \n",
    "\n",
    "Ridge, Lasso, SVR (RBF/Linear Kernels) and Kernel Ridge Regression (RBF/Linear) are test."
   ]
  },
  {
   "cell_type": "code",
   "execution_count": 1,
   "metadata": {
    "collapsed": true
   },
   "outputs": [],
   "source": [
    "import matplotlib.pyplot as plt\n",
    "import numpy as np\n",
    "import pandas as pd\n",
    "import sklearn.linear_model\n",
    "import sklearn.preprocessing\n",
    "import time\n",
    "\n",
    "from sklearn import metrics\n",
    "from sklearn.kernel_ridge import KernelRidge\n",
    "from sklearn.linear_model import LassoCV\n",
    "from sklearn.linear_model import RidgeCV\n",
    "from sklearn.model_selection import GridSearchCV\n",
    "from sklearn.model_selection import train_test_split\n",
    "from sklearn.metrics import mean_absolute_error\n",
    "from sklearn.svm import SVR\n",
    "\n",
    "# Tell the notebook to display all of the results.\n",
    "from IPython.core.interactiveshell import InteractiveShell\n",
    "InteractiveShell.ast_node_interactivity = \"all\"\n",
    "\n",
    "%matplotlib inline  "
   ]
  },
  {
   "cell_type": "markdown",
   "metadata": {},
   "source": [
    "Data Import"
   ]
  },
  {
   "cell_type": "code",
   "execution_count": 4,
   "metadata": {
    "collapsed": true
   },
   "outputs": [],
   "source": [
    "# load ndre data\n",
    "ndre_data = pd.read_csv('../data/final_join_subbed_missing_soilM.csv')\n",
    "ndre_data_sub = pd.read_csv('../data/final_join_subbed_bare_soil_40.csv')\n",
    "\n",
    "# choose which columns to keep\n",
    "keep_cols = ['avg_soilM', 'average_adjacent', 'precip.cm', 'tair.C', 'rh.pct', 'wind_sp.m_per_s', \n",
    "             'irradiance.w_per_m.2', 'sand_1', 'sand_2', 'sand_3', 'silt_1', 'silt_2', 'silt_3', 'clay_1', \n",
    "             'clay_2', 'clay_3']\n",
    "\n",
    "dataset = ndre_data_sub[keep_cols]\n",
    "\n",
    "# retrieve values for features and response\n",
    "X = dataset.iloc[:,1:]\n",
    "X = X.values\n",
    "y = dataset.iloc[:,0]\n",
    "y = y.values\n",
    "\n",
    "# split data into train and test sets\n",
    "seed = 7\n",
    "test_size = 0.15\n",
    "X_train, X_test, y_train, y_test = train_test_split(X, y, test_size=test_size, random_state=seed)"
   ]
  },
  {
   "cell_type": "markdown",
   "metadata": {},
   "source": [
    "Normalization"
   ]
  },
  {
   "cell_type": "code",
   "execution_count": 12,
   "metadata": {
    "collapsed": true
   },
   "outputs": [],
   "source": [
    "# calculate mean and standard deviation\n",
    "mean_X = X_train.mean(axis=0)\n",
    "std_X = X_train.std(axis=0)\n",
    "mean_y = y_train.mean(axis=0)\n",
    "std_y = y_train.std(axis=0)\n",
    "\n",
    "# normalize\n",
    "X_train = (X_train - mean_X) / std_X\n",
    "X_test = (X_test - mean_X) / std_X\n",
    "y_train = (y_train - mean_y) / std_y\n",
    "y_test = (y_test - mean_y) / std_y\n",
    "\n",
    "# use dtype float32 to reduce run time\n",
    "X_train = X_train.astype('float32')\n",
    "X_test = X_test.astype('float32')\n",
    "y_train = y_train.astype('float32')\n",
    "y_test = y_test.astype('float32')"
   ]
  },
  {
   "cell_type": "markdown",
   "metadata": {},
   "source": [
    "#### Ridge model"
   ]
  },
  {
   "cell_type": "code",
   "execution_count": 14,
   "metadata": {},
   "outputs": [
    {
     "data": {
      "text/plain": [
       "RidgeCV(alphas=(0.1, 1.0, 10.0, 100, 1000), cv=None, fit_intercept=False,\n",
       "    gcv_mode=None, normalize=False, scoring=None, store_cv_values=False)"
      ]
     },
     "execution_count": 14,
     "metadata": {},
     "output_type": "execute_result"
    },
    {
     "data": {
      "text/plain": [
       "array([-0.15774445, -0.17805534, -0.1978774 ,  0.28073458,  0.19540679,\n",
       "       -0.02521539,  0.00349261, -0.06454815,  0.22211722,  0.01454951,\n",
       "       -0.06173585, -0.02864329, -0.01193507,  0.08305963, -0.0574851 ])"
      ]
     },
     "execution_count": 14,
     "metadata": {},
     "output_type": "execute_result"
    }
   ],
   "source": [
    "# fit model and get coefficients\n",
    "rcv = RidgeCV(alphas=(0.1, 1.0, 10.0, 100, 1000), fit_intercept = False)\n",
    "rcv.fit(X_train,y_train)\n",
    "beta_star = rcv.coef_\n",
    "\n",
    "# predictions\n",
    "y_pred_rcv = rcv.predict(X_test)"
   ]
  },
  {
   "cell_type": "markdown",
   "metadata": {},
   "source": [
    "MAE Ridge"
   ]
  },
  {
   "cell_type": "code",
   "execution_count": 18,
   "metadata": {
    "scrolled": true
   },
   "outputs": [
    {
     "data": {
      "text/plain": [
       "0.036381323515726177"
      ]
     },
     "execution_count": 18,
     "metadata": {},
     "output_type": "execute_result"
    }
   ],
   "source": [
    "y_pred_inv = (y_pred_rcv * std_y) + mean_y\n",
    "y_test_inv = (y_test * std_y) + mean_y\n",
    "mean_absolute_error(y_pred=y_pred_inv, y_true=y_test_inv)"
   ]
  },
  {
   "cell_type": "markdown",
   "metadata": {},
   "source": [
    "#### Support Vector Machine for Regression\n",
    "Method 1  \n",
    "Linear Kernel  \n",
    "Linear SVR"
   ]
  },
  {
   "cell_type": "code",
   "execution_count": 29,
   "metadata": {},
   "outputs": [
    {
     "data": {
      "text/plain": [
       "GridSearchCV(cv=5, error_score='raise',\n",
       "       estimator=SVR(C=1.0, cache_size=200, coef0=0.0, degree=3, epsilon=0.1, gamma=0.1,\n",
       "  kernel='linear', max_iter=-1, shrinking=True, tol=0.001, verbose=False),\n",
       "       fit_params={}, iid=True, n_jobs=1,\n",
       "       param_grid={'C': [1.0, 10.0, 100.0, 1000.0], 'gamma': array([  1.00000e-02,   1.00000e-01,   1.00000e+00,   1.00000e+01,\n",
       "         1.00000e+02])},\n",
       "       pre_dispatch='2*n_jobs', refit=True, return_train_score=True,\n",
       "       scoring=None, verbose=0)"
      ]
     },
     "execution_count": 29,
     "metadata": {},
     "output_type": "execute_result"
    },
    {
     "name": "stdout",
     "output_type": "stream",
     "text": [
      "SVR complexity and bandwidth selected and model fitted in 168.538 s\n"
     ]
    }
   ],
   "source": [
    "# use GridSearchCV to cover model parameter tuning\n",
    "svrl = GridSearchCV(SVR(kernel='linear', gamma=0.1), cv=5,\n",
    "                    param_grid={\"C\": [1e0, 1e1, 1e2, 1e3],\n",
    "                                \"gamma\": np.logspace(-2, 2, 5)})\n",
    "\n",
    "# fit model and time\n",
    "t0 = time.time()\n",
    "svrl.fit(X_train, y_train)\n",
    "svrl_fit = time.time() - t0\n",
    "print(\"SVR complexity and bandwidth selected and model fitted in %.3f s\"\n",
    "      % svrl_fit)"
   ]
  },
  {
   "cell_type": "code",
   "execution_count": 31,
   "metadata": {},
   "outputs": [
    {
     "data": {
      "text/plain": [
       "0.037499005560150997"
      ]
     },
     "execution_count": 31,
     "metadata": {},
     "output_type": "execute_result"
    }
   ],
   "source": [
    "# predict and time\n",
    "t0 = time.time()\n",
    "y_svrl = svrl.predict(X_test)\n",
    "svrl_predict = time.time() - t0\n",
    "\n",
    "# calculate MAE\n",
    "y_pred_inv = (y_svrl * std_y) + mean_y\n",
    "y_test_inv = (y_test * std_y) + mean_y\n",
    "mean_absolute_error(y_pred=y_pred_inv, y_true=y_test_inv)"
   ]
  },
  {
   "cell_type": "markdown",
   "metadata": {},
   "source": [
    "Method 2  \n",
    "RBF Kernel  \n",
    "Gaussian SVR"
   ]
  },
  {
   "cell_type": "code",
   "execution_count": 33,
   "metadata": {},
   "outputs": [
    {
     "data": {
      "text/plain": [
       "GridSearchCV(cv=5, error_score='raise',\n",
       "       estimator=SVR(C=1.0, cache_size=200, coef0=0.0, degree=3, epsilon=0.1, gamma=0.1,\n",
       "  kernel='rbf', max_iter=-1, shrinking=True, tol=0.001, verbose=False),\n",
       "       fit_params={}, iid=True, n_jobs=1,\n",
       "       param_grid={'C': [1.0, 10.0, 100.0, 1000.0], 'gamma': array([  1.00000e-02,   1.00000e-01,   1.00000e+00,   1.00000e+01,\n",
       "         1.00000e+02])},\n",
       "       pre_dispatch='2*n_jobs', refit=True, return_train_score=True,\n",
       "       scoring=None, verbose=0)"
      ]
     },
     "execution_count": 33,
     "metadata": {},
     "output_type": "execute_result"
    },
    {
     "name": "stdout",
     "output_type": "stream",
     "text": [
      "SVR complexity and bandwidth selected and model fitted in 1.754 s\n"
     ]
    }
   ],
   "source": [
    "# use GridSearchSV to cover model parameter tuning\n",
    "svrg = GridSearchCV(SVR(kernel='rbf', gamma=0.1, epsilon = 0.1), cv=5,\n",
    "                    param_grid={\"C\": [1e0, 1e1, 1e2, 1e3],\n",
    "                                \"gamma\": np.logspace(-2, 2, 5)})\n",
    "\n",
    "# fit model and time\n",
    "t0 = time.time()\n",
    "svrg.fit(X_train, y_train)\n",
    "svrg_fit = time.time() - t0\n",
    "print(\"SVR complexity and bandwidth selected and model fitted in %.3f s\"\n",
    "      % svrg_fit)"
   ]
  },
  {
   "cell_type": "code",
   "execution_count": 34,
   "metadata": {
    "collapsed": true
   },
   "outputs": [],
   "source": [
    "# predict and time\n",
    "t0 = time.time()\n",
    "y_svrg = svrg.predict(X_test)\n",
    "svrg_predict = time.time() - t0"
   ]
  },
  {
   "cell_type": "code",
   "execution_count": 35,
   "metadata": {},
   "outputs": [
    {
     "data": {
      "text/plain": [
       "0.028481344069534505"
      ]
     },
     "execution_count": 35,
     "metadata": {},
     "output_type": "execute_result"
    }
   ],
   "source": [
    "# calculate MAE\n",
    "y_pred_inv = (y_svrg * std_y) + mean_y\n",
    "y_test_inv = (y_test * std_y) + mean_y\n",
    "mean_absolute_error(y_pred=y_pred_inv, y_true=y_test_inv)"
   ]
  },
  {
   "cell_type": "markdown",
   "metadata": {},
   "source": [
    "#### Kernel Ridge Regression  \n",
    "Gaussian RBF w/ KRR"
   ]
  },
  {
   "cell_type": "code",
   "execution_count": 63,
   "metadata": {},
   "outputs": [
    {
     "data": {
      "text/plain": [
       "GridSearchCV(cv=5, error_score='raise',\n",
       "       estimator=KernelRidge(alpha=1, coef0=1, degree=3, gamma=0.1, kernel='rbf',\n",
       "      kernel_params=None),\n",
       "       fit_params={}, iid=True, n_jobs=1,\n",
       "       param_grid={'alpha': [1.0, 0.1, 0.01, 0.001], 'gamma': array([  1.00000e-02,   1.00000e-01,   1.00000e+00,   1.00000e+01,\n",
       "         1.00000e+02])},\n",
       "       pre_dispatch='2*n_jobs', refit=True, return_train_score=True,\n",
       "       scoring=None, verbose=0)"
      ]
     },
     "execution_count": 63,
     "metadata": {},
     "output_type": "execute_result"
    },
    {
     "name": "stdout",
     "output_type": "stream",
     "text": [
      "KRR complexity and bandwidth selected and model fitted in 0.796 s\n"
     ]
    }
   ],
   "source": [
    "# use GridSearchSV to cover model parameter tuning\n",
    "kr = GridSearchCV(KernelRidge(kernel='rbf', gamma=0.1), cv=5,\n",
    "                  param_grid={\"alpha\": [1e0, 0.1, 1e-2, 1e-3],\n",
    "                              \"gamma\": np.logspace(-2, 2, 5)})\n",
    "\n",
    "# fit model and time\n",
    "t0 = time.time()\n",
    "kr.fit(X_train, y_train)\n",
    "kr_fit = time.time() - t0\n",
    "print(\"KRR complexity and bandwidth selected and model fitted in %.3f s\"\n",
    "      % kr_fit)"
   ]
  },
  {
   "cell_type": "code",
   "execution_count": 64,
   "metadata": {
    "collapsed": true
   },
   "outputs": [],
   "source": [
    "# predict and time\n",
    "t0 = time.time()\n",
    "y_kr = kr.predict(X_test)\n",
    "kr_predict = time.time() - t0"
   ]
  },
  {
   "cell_type": "code",
   "execution_count": 65,
   "metadata": {},
   "outputs": [
    {
     "data": {
      "text/plain": [
       "0.026006548"
      ]
     },
     "execution_count": 65,
     "metadata": {},
     "output_type": "execute_result"
    }
   ],
   "source": [
    "# calculate MAE\n",
    "y_pred_inv = (y_kr * std_y) + mean_y\n",
    "y_test_inv = (y_test * std_y) + mean_y\n",
    "mean_absolute_error(y_pred=y_pred_inv, y_true=y_test_inv)"
   ]
  },
  {
   "cell_type": "markdown",
   "metadata": {},
   "source": [
    "#### Linear KRR"
   ]
  },
  {
   "cell_type": "code",
   "execution_count": 67,
   "metadata": {},
   "outputs": [
    {
     "data": {
      "text/plain": [
       "GridSearchCV(cv=5, error_score='raise',\n",
       "       estimator=KernelRidge(alpha=1, coef0=1, degree=3, gamma=0.1, kernel='linear',\n",
       "      kernel_params=None),\n",
       "       fit_params={}, iid=True, n_jobs=1,\n",
       "       param_grid={'alpha': [1.0, 0.1, 0.01, 0.001], 'gamma': array([  1.00000e-02,   1.00000e-01,   1.00000e+00,   1.00000e+01,\n",
       "         1.00000e+02])},\n",
       "       pre_dispatch='2*n_jobs', refit=True, return_train_score=True,\n",
       "       scoring=None, verbose=0)"
      ]
     },
     "execution_count": 67,
     "metadata": {},
     "output_type": "execute_result"
    },
    {
     "name": "stdout",
     "output_type": "stream",
     "text": [
      "KRR complexity and bandwidth selected and model fitted in 0.289 s\n"
     ]
    }
   ],
   "source": [
    "# use GridSearchSV to cover model parameter tuning\n",
    "krl = GridSearchCV(KernelRidge(kernel='linear', gamma=0.1), cv=5,\n",
    "                   param_grid={\"alpha\": [1e0, 0.1, 1e-2, 1e-3],\n",
    "                               \"gamma\": np.logspace(-2, 2, 5)})\n",
    "\n",
    "# fit model and time\n",
    "t0 = time.time()\n",
    "krl.fit(X_train, y_train)\n",
    "krl_fit = time.time() - t0\n",
    "print(\"KRR complexity and bandwidth selected and model fitted in %.3f s\"\n",
    "      % krl_fit)"
   ]
  },
  {
   "cell_type": "code",
   "execution_count": 68,
   "metadata": {
    "collapsed": true
   },
   "outputs": [],
   "source": [
    "# predict and time\n",
    "t0 = time.time()\n",
    "y_krl = krl.predict(X_test)\n",
    "krl_predict = time.time() - t0"
   ]
  },
  {
   "cell_type": "code",
   "execution_count": 69,
   "metadata": {},
   "outputs": [
    {
     "data": {
      "text/plain": [
       "0.036473174"
      ]
     },
     "execution_count": 69,
     "metadata": {},
     "output_type": "execute_result"
    }
   ],
   "source": [
    "# calculate MAE\n",
    "y_pred_inv = (y_krl * std_y) + mean_y\n",
    "y_test_inv = (y_test * std_y) + mean_y\n",
    "mean_absolute_error(y_pred=y_pred_inv, y_true=y_test_inv)"
   ]
  },
  {
   "cell_type": "markdown",
   "metadata": {},
   "source": [
    "#### Lasso model"
   ]
  },
  {
   "cell_type": "code",
   "execution_count": 71,
   "metadata": {},
   "outputs": [
    {
     "data": {
      "text/plain": [
       "LassoCV(alphas=(0.1, 1.0, 10.0, 100, 1000), copy_X=True, cv=None, eps=0.001,\n",
       "    fit_intercept=False, max_iter=1000, n_alphas=100, n_jobs=1,\n",
       "    normalize=False, positive=False, precompute='auto', random_state=None,\n",
       "    selection='cyclic', tol=0.0001, verbose=False)"
      ]
     },
     "execution_count": 71,
     "metadata": {},
     "output_type": "execute_result"
    },
    {
     "data": {
      "text/plain": [
       "array([-0.        , -0.00462254, -0.13206047,  0.08615105,  0.16936393,\n",
       "        0.        ,  0.        ,  0.        ,  0.05607328, -0.        ,\n",
       "       -0.0105944 ,  0.        ,  0.        ,  0.        , -0.        ], dtype=float32)"
      ]
     },
     "execution_count": 71,
     "metadata": {},
     "output_type": "execute_result"
    }
   ],
   "source": [
    "# fit model\n",
    "lcv = LassoCV(alphas=(0.1, 1.0, 10.0, 100, 1000), fit_intercept = False)\n",
    "lcv.fit(X_train,y_train)\n",
    "beta_lcv = lcv.coef_\n",
    "\n",
    "# predictions\n",
    "y_pred_lcv = lcv.predict(X_test)"
   ]
  },
  {
   "cell_type": "code",
   "execution_count": 73,
   "metadata": {},
   "outputs": [
    {
     "data": {
      "text/html": [
       "<div>\n",
       "<table border=\"1\" class=\"dataframe\">\n",
       "  <thead>\n",
       "    <tr style=\"text-align: right;\">\n",
       "      <th></th>\n",
       "      <th>feature</th>\n",
       "      <th>lasso coef</th>\n",
       "      <th>ridge coef</th>\n",
       "    </tr>\n",
       "  </thead>\n",
       "  <tbody>\n",
       "    <tr>\n",
       "      <th>0</th>\n",
       "      <td>average_adjacent</td>\n",
       "      <td>-0.000000</td>\n",
       "      <td>-0.157744</td>\n",
       "    </tr>\n",
       "    <tr>\n",
       "      <th>1</th>\n",
       "      <td>precip.cm</td>\n",
       "      <td>-0.004623</td>\n",
       "      <td>-0.178055</td>\n",
       "    </tr>\n",
       "    <tr>\n",
       "      <th>2</th>\n",
       "      <td>tair.C</td>\n",
       "      <td>-0.132060</td>\n",
       "      <td>-0.197877</td>\n",
       "    </tr>\n",
       "    <tr>\n",
       "      <th>3</th>\n",
       "      <td>rh.pct</td>\n",
       "      <td>0.086151</td>\n",
       "      <td>0.280735</td>\n",
       "    </tr>\n",
       "    <tr>\n",
       "      <th>4</th>\n",
       "      <td>wind_sp.m_per_s</td>\n",
       "      <td>0.169364</td>\n",
       "      <td>0.195407</td>\n",
       "    </tr>\n",
       "    <tr>\n",
       "      <th>5</th>\n",
       "      <td>irradiance.w_per_m.2</td>\n",
       "      <td>0.000000</td>\n",
       "      <td>-0.025215</td>\n",
       "    </tr>\n",
       "    <tr>\n",
       "      <th>6</th>\n",
       "      <td>sand_1</td>\n",
       "      <td>0.000000</td>\n",
       "      <td>0.003493</td>\n",
       "    </tr>\n",
       "    <tr>\n",
       "      <th>7</th>\n",
       "      <td>sand_2</td>\n",
       "      <td>0.000000</td>\n",
       "      <td>-0.064548</td>\n",
       "    </tr>\n",
       "    <tr>\n",
       "      <th>8</th>\n",
       "      <td>sand_3</td>\n",
       "      <td>0.056073</td>\n",
       "      <td>0.222117</td>\n",
       "    </tr>\n",
       "    <tr>\n",
       "      <th>9</th>\n",
       "      <td>silt_1</td>\n",
       "      <td>-0.000000</td>\n",
       "      <td>0.014550</td>\n",
       "    </tr>\n",
       "    <tr>\n",
       "      <th>10</th>\n",
       "      <td>silt_2</td>\n",
       "      <td>-0.010594</td>\n",
       "      <td>-0.061736</td>\n",
       "    </tr>\n",
       "    <tr>\n",
       "      <th>11</th>\n",
       "      <td>silt_3</td>\n",
       "      <td>0.000000</td>\n",
       "      <td>-0.028643</td>\n",
       "    </tr>\n",
       "    <tr>\n",
       "      <th>12</th>\n",
       "      <td>clay_1</td>\n",
       "      <td>0.000000</td>\n",
       "      <td>-0.011935</td>\n",
       "    </tr>\n",
       "    <tr>\n",
       "      <th>13</th>\n",
       "      <td>clay_2</td>\n",
       "      <td>0.000000</td>\n",
       "      <td>0.083060</td>\n",
       "    </tr>\n",
       "    <tr>\n",
       "      <th>14</th>\n",
       "      <td>clay_3</td>\n",
       "      <td>-0.000000</td>\n",
       "      <td>-0.057485</td>\n",
       "    </tr>\n",
       "  </tbody>\n",
       "</table>\n",
       "</div>"
      ],
      "text/plain": [
       "                 feature  lasso coef  ridge coef\n",
       "0       average_adjacent   -0.000000   -0.157744\n",
       "1              precip.cm   -0.004623   -0.178055\n",
       "2                 tair.C   -0.132060   -0.197877\n",
       "3                 rh.pct    0.086151    0.280735\n",
       "4        wind_sp.m_per_s    0.169364    0.195407\n",
       "5   irradiance.w_per_m.2    0.000000   -0.025215\n",
       "6                 sand_1    0.000000    0.003493\n",
       "7                 sand_2    0.000000   -0.064548\n",
       "8                 sand_3    0.056073    0.222117\n",
       "9                 silt_1   -0.000000    0.014550\n",
       "10                silt_2   -0.010594   -0.061736\n",
       "11                silt_3    0.000000   -0.028643\n",
       "12                clay_1    0.000000   -0.011935\n",
       "13                clay_2    0.000000    0.083060\n",
       "14                clay_3   -0.000000   -0.057485"
      ]
     },
     "execution_count": 73,
     "metadata": {},
     "output_type": "execute_result"
    }
   ],
   "source": [
    "# display coefficients\n",
    "lasso_coef = pd.DataFrame()\n",
    "lasso_coef['feature'] = dataset.columns[1:]\n",
    "lasso_coef['lasso coef'] = beta_lcv\n",
    "lasso_coef['ridge coef'] = beta_star\n",
    "lasso_coef"
   ]
  },
  {
   "cell_type": "markdown",
   "metadata": {},
   "source": [
    "MAE Lasso"
   ]
  },
  {
   "cell_type": "code",
   "execution_count": 75,
   "metadata": {},
   "outputs": [
    {
     "data": {
      "text/plain": [
       "0.03906586"
      ]
     },
     "execution_count": 75,
     "metadata": {},
     "output_type": "execute_result"
    }
   ],
   "source": [
    "# calculate MAE\n",
    "y_pred_inv = (y_pred_lcv * std_y) + mean_y\n",
    "y_test_inv = (y_test * std_y) + mean_y\n",
    "mean_absolute_error(y_pred=y_pred_inv, y_true=y_test_inv)"
   ]
  },
  {
   "cell_type": "code",
   "execution_count": 76,
   "metadata": {
    "collapsed": true
   },
   "outputs": [],
   "source": [
    "# subsetting data with features from Lasso\n",
    "X = dataset.iloc[:,[2,3,4,5,9,11]]\n",
    "X = X.values\n",
    "y = dataset.iloc[:,0]\n",
    "y = y.values\n",
    "\n",
    "# split data into train and test sets\n",
    "seed = 7\n",
    "test_size = 0.15\n",
    "X_train, X_test, y_train, y_test = train_test_split(X, y, test_size=test_size, random_state=seed)"
   ]
  },
  {
   "cell_type": "markdown",
   "metadata": {},
   "source": [
    "Normalization"
   ]
  },
  {
   "cell_type": "code",
   "execution_count": 78,
   "metadata": {
    "collapsed": true
   },
   "outputs": [],
   "source": [
    "# calculate mean and standard deviation\n",
    "mean_X = X_train.mean(axis=0)\n",
    "std_X = X_train.std(axis=0)\n",
    "mean_y = y_train.mean(axis=0)\n",
    "std_y = y_train.std(axis=0)\n",
    "\n",
    "# normalize\n",
    "X_train = (X_train - mean_X) / std_X\n",
    "X_test = (X_test - mean_X) / std_X\n",
    "y_train = (y_train - mean_y) / std_y\n",
    "y_test = (y_test - mean_y) / std_y\n",
    "\n",
    "# use dtype float32 to reduce run time\n",
    "X_train = X_train.astype('float32')\n",
    "X_test = X_test.astype('float32')\n",
    "y_train = y_train.astype('float32')\n",
    "y_test = y_test.astype('float32')"
   ]
  },
  {
   "cell_type": "markdown",
   "metadata": {},
   "source": [
    "Ridge model with reduced features (post Lasso)"
   ]
  },
  {
   "cell_type": "code",
   "execution_count": 80,
   "metadata": {},
   "outputs": [
    {
     "data": {
      "text/plain": [
       "RidgeCV(alphas=(0.1, 1.0, 10.0, 100, 1000), cv=None, fit_intercept=False,\n",
       "    gcv_mode=None, normalize=False, scoring=None, store_cv_values=False)"
      ]
     },
     "execution_count": 80,
     "metadata": {},
     "output_type": "execute_result"
    },
    {
     "data": {
      "text/plain": [
       "array([-0.11989806, -0.20862479,  0.23599008,  0.19058765,  0.18942144,\n",
       "       -0.11714893])"
      ]
     },
     "execution_count": 80,
     "metadata": {},
     "output_type": "execute_result"
    }
   ],
   "source": [
    "# fit model\n",
    "rcv = RidgeCV(alphas=(0.1, 1.0, 10.0, 100, 1000), fit_intercept = False)\n",
    "rcv.fit(X_train,y_train)\n",
    "beta_star = rcv.coef_\n",
    "\n",
    "# predictions\n",
    "y_pred_rcv = rcv.predict(X_test)"
   ]
  },
  {
   "cell_type": "markdown",
   "metadata": {},
   "source": [
    "MAE Ridge"
   ]
  },
  {
   "cell_type": "code",
   "execution_count": 84,
   "metadata": {},
   "outputs": [
    {
     "data": {
      "text/plain": [
       "0.037880783713376824"
      ]
     },
     "execution_count": 84,
     "metadata": {},
     "output_type": "execute_result"
    }
   ],
   "source": [
    "# calculate MAE\n",
    "y_pred_inv = (y_pred_rcv * std_y) + mean_y\n",
    "y_test_inv = (y_test * std_y) + mean_y\n",
    "mean_absolute_error(y_pred=y_pred_inv, y_true=y_test_inv)"
   ]
  }
 ],
 "metadata": {
  "kernelspec": {
   "display_name": "Python 3",
   "language": "python",
   "name": "python3"
  },
  "language_info": {
   "codemirror_mode": {
    "name": "ipython",
    "version": 3
   },
   "file_extension": ".py",
   "mimetype": "text/x-python",
   "name": "python",
   "nbconvert_exporter": "python",
   "pygments_lexer": "ipython3",
   "version": "3.5.2"
  }
 },
 "nbformat": 4,
 "nbformat_minor": 2
}
