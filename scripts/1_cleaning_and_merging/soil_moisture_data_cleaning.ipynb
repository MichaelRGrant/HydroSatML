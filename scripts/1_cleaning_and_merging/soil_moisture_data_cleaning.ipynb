{
 "cells": [
  {
   "cell_type": "markdown",
   "metadata": {},
   "source": [
    "### Soil Moisture Data Cleaning\n",
    "\n",
    "Rev0\n",
    "\n",
    "Samir D. Patel\n",
    "\n",
    "1/2/2018"
   ]
  },
  {
   "cell_type": "markdown",
   "metadata": {},
   "source": [
    " "
   ]
  },
  {
   "cell_type": "markdown",
   "metadata": {},
   "source": [
    "This notebook takes the \"_Decagaon_Corrections\" Excel data for soil moisture across each of the four field sites (Aeschliman, Jones, OD and Wolff) and imports/cleans/exports the relevant moisture data in CSV format."
   ]
  },
  {
   "cell_type": "code",
   "execution_count": 1,
   "metadata": {},
   "outputs": [],
   "source": [
    "import pandas as pd"
   ]
  },
  {
   "cell_type": "markdown",
   "metadata": {},
   "source": [
    " "
   ]
  },
  {
   "cell_type": "markdown",
   "metadata": {},
   "source": [
    "#### Aeschliman"
   ]
  },
  {
   "cell_type": "markdown",
   "metadata": {},
   "source": [
    "Import of data from Excel sheet to Pandas.  Location of file currently set locally, will need change."
   ]
  },
  {
   "cell_type": "code",
   "execution_count": 2,
   "metadata": {},
   "outputs": [],
   "source": [
    "data_aes= pd.read_excel(\"./decagon-soilmoisture/Aeschliman_Decagon_corrections_FINAL.xlsx\", sheetname = 'Data', skiprows = 0, usecols=range(36), header = 1)"
   ]
  },
  {
   "cell_type": "code",
   "execution_count": 3,
   "metadata": {},
   "outputs": [],
   "source": [
    "#Renaming Date-Time column for consistency\n",
    "data_aes = data_aes.rename(columns = {'Date-Time':'Date'})"
   ]
  },
  {
   "cell_type": "code",
   "execution_count": 4,
   "metadata": {},
   "outputs": [],
   "source": [
    "#Creating Field value column\n",
    "data_aes[\"Field\"] = \"AES\""
   ]
  },
  {
   "cell_type": "code",
   "execution_count": 5,
   "metadata": {},
   "outputs": [],
   "source": [
    "#Taking sensor data and reshaping with wide-to-long\n",
    "data_aes = pd.melt(data_aes, id_vars=['Depth', 'Date', 'Field'], var_name='Sensor_Full_Name', value_name='Soil_Moisture')"
   ]
  },
  {
   "cell_type": "code",
   "execution_count": 6,
   "metadata": {},
   "outputs": [],
   "source": [
    "#Removing any blank spaces\n",
    "data_aes ['Sensor Number'] = data_aes['Sensor_Full_Name'].str.strip()"
   ]
  },
  {
   "cell_type": "code",
   "execution_count": 7,
   "metadata": {},
   "outputs": [
    {
     "name": "stderr",
     "output_type": "stream",
     "text": [
      "C:\\Users\\Samir\\Anaconda3\\lib\\site-packages\\ipykernel\\__main__.py:2: FutureWarning: currently extract(expand=None) means expand=False (return Index/Series/DataFrame) but in a future version of pandas this will be changed to expand=True (return DataFrame)\n",
      "  from ipykernel import kernelapp as app\n"
     ]
    }
   ],
   "source": [
    "#Extracting Sensor Number\n",
    "data_aes['Sensor Number'] = data_aes['Sensor Number'].str.extract('(\\d+)').astype(int)"
   ]
  },
  {
   "cell_type": "code",
   "execution_count": 8,
   "metadata": {},
   "outputs": [
    {
     "data": {
      "text/html": [
       "<div>\n",
       "<table border=\"1\" class=\"dataframe\">\n",
       "  <thead>\n",
       "    <tr style=\"text-align: right;\">\n",
       "      <th></th>\n",
       "      <th>Depth</th>\n",
       "      <th>Date</th>\n",
       "      <th>Field</th>\n",
       "      <th>Sensor_Full_Name</th>\n",
       "      <th>Soil_Moisture</th>\n",
       "      <th>Sensor Number</th>\n",
       "    </tr>\n",
       "  </thead>\n",
       "  <tbody>\n",
       "    <tr>\n",
       "      <th>305825</th>\n",
       "      <td>5</td>\n",
       "      <td>2016-09-26</td>\n",
       "      <td>AES</td>\n",
       "      <td>A12-C</td>\n",
       "      <td>NaN</td>\n",
       "      <td>12</td>\n",
       "    </tr>\n",
       "    <tr>\n",
       "      <th>305826</th>\n",
       "      <td>5</td>\n",
       "      <td>2016-09-27</td>\n",
       "      <td>AES</td>\n",
       "      <td>A12-C</td>\n",
       "      <td>NaN</td>\n",
       "      <td>12</td>\n",
       "    </tr>\n",
       "    <tr>\n",
       "      <th>305827</th>\n",
       "      <td>5</td>\n",
       "      <td>2016-09-28</td>\n",
       "      <td>AES</td>\n",
       "      <td>A12-C</td>\n",
       "      <td>NaN</td>\n",
       "      <td>12</td>\n",
       "    </tr>\n",
       "    <tr>\n",
       "      <th>305828</th>\n",
       "      <td>5</td>\n",
       "      <td>2016-09-29</td>\n",
       "      <td>AES</td>\n",
       "      <td>A12-C</td>\n",
       "      <td>NaN</td>\n",
       "      <td>12</td>\n",
       "    </tr>\n",
       "    <tr>\n",
       "      <th>305829</th>\n",
       "      <td>5</td>\n",
       "      <td>2016-09-30</td>\n",
       "      <td>AES</td>\n",
       "      <td>A12-C</td>\n",
       "      <td>NaN</td>\n",
       "      <td>12</td>\n",
       "    </tr>\n",
       "  </tbody>\n",
       "</table>\n",
       "</div>"
      ],
      "text/plain": [
       "        Depth       Date Field Sensor_Full_Name  Soil_Moisture  Sensor Number\n",
       "305825      5 2016-09-26   AES            A12-C            NaN             12\n",
       "305826      5 2016-09-27   AES            A12-C            NaN             12\n",
       "305827      5 2016-09-28   AES            A12-C            NaN             12\n",
       "305828      5 2016-09-29   AES            A12-C            NaN             12\n",
       "305829      5 2016-09-30   AES            A12-C            NaN             12"
      ]
     },
     "execution_count": 8,
     "metadata": {},
     "output_type": "execute_result"
    }
   ],
   "source": [
    "data_aes.tail(5)"
   ]
  },
  {
   "cell_type": "markdown",
   "metadata": {},
   "source": [
    " "
   ]
  },
  {
   "cell_type": "markdown",
   "metadata": {},
   "source": [
    "#### Jones"
   ]
  },
  {
   "cell_type": "code",
   "execution_count": 9,
   "metadata": {},
   "outputs": [],
   "source": [
    "data_j= pd.read_excel(\"./decagon-soilmoisture/Jones_Decagon_corrections_FINAL.xlsx\", sheetname = 'Data', usecols=range(76), skiprows = 0, header = 1)"
   ]
  },
  {
   "cell_type": "markdown",
   "metadata": {},
   "source": [
    "Note: Use of \"Date\" instead of \"Date-Time\""
   ]
  },
  {
   "cell_type": "code",
   "execution_count": 10,
   "metadata": {},
   "outputs": [],
   "source": [
    "data_j = data_j.drop(labels = [\"Week\", \"Year\"], axis = 1)"
   ]
  },
  {
   "cell_type": "markdown",
   "metadata": {},
   "source": [
    "Changing \"Date \" column name (removing space at the end) to \"Date\" to match other field sites"
   ]
  },
  {
   "cell_type": "code",
   "execution_count": 11,
   "metadata": {},
   "outputs": [],
   "source": [
    "data_j = data_j.rename(columns = {'Date ':'Date'})"
   ]
  },
  {
   "cell_type": "code",
   "execution_count": 12,
   "metadata": {},
   "outputs": [],
   "source": [
    "data_j[\"Field\"] = \"J\""
   ]
  },
  {
   "cell_type": "code",
   "execution_count": 13,
   "metadata": {},
   "outputs": [],
   "source": [
    "data_j = pd.melt(data_j, id_vars=['Depth', 'Date', 'Field'], var_name='Sensor_Full_Name', value_name='Soil_Moisture')"
   ]
  },
  {
   "cell_type": "code",
   "execution_count": 14,
   "metadata": {},
   "outputs": [],
   "source": [
    "data_j ['Sensor Number'] = data_j['Sensor_Full_Name'].str.strip()"
   ]
  },
  {
   "cell_type": "code",
   "execution_count": 15,
   "metadata": {},
   "outputs": [
    {
     "name": "stderr",
     "output_type": "stream",
     "text": [
      "C:\\Users\\Samir\\Anaconda3\\lib\\site-packages\\ipykernel\\__main__.py:1: FutureWarning: currently extract(expand=None) means expand=False (return Index/Series/DataFrame) but in a future version of pandas this will be changed to expand=True (return DataFrame)\n",
      "  if __name__ == '__main__':\n"
     ]
    }
   ],
   "source": [
    "data_j['Sensor Number'] = data_j['Sensor Number'].str.extract('(\\d+)').astype(int)"
   ]
  },
  {
   "cell_type": "code",
   "execution_count": 16,
   "metadata": {},
   "outputs": [
    {
     "data": {
      "text/html": [
       "<div>\n",
       "<table border=\"1\" class=\"dataframe\">\n",
       "  <thead>\n",
       "    <tr style=\"text-align: right;\">\n",
       "      <th></th>\n",
       "      <th>Depth</th>\n",
       "      <th>Date</th>\n",
       "      <th>Field</th>\n",
       "      <th>Sensor_Full_Name</th>\n",
       "      <th>Soil_Moisture</th>\n",
       "      <th>Sensor Number</th>\n",
       "    </tr>\n",
       "  </thead>\n",
       "  <tbody>\n",
       "    <tr>\n",
       "      <th>642595</th>\n",
       "      <td>5</td>\n",
       "      <td>2016-09-26</td>\n",
       "      <td>J</td>\n",
       "      <td>J12.obs_hand</td>\n",
       "      <td>NaN</td>\n",
       "      <td>12</td>\n",
       "    </tr>\n",
       "    <tr>\n",
       "      <th>642596</th>\n",
       "      <td>5</td>\n",
       "      <td>2016-09-27</td>\n",
       "      <td>J</td>\n",
       "      <td>J12.obs_hand</td>\n",
       "      <td>NaN</td>\n",
       "      <td>12</td>\n",
       "    </tr>\n",
       "    <tr>\n",
       "      <th>642597</th>\n",
       "      <td>5</td>\n",
       "      <td>2016-09-28</td>\n",
       "      <td>J</td>\n",
       "      <td>J12.obs_hand</td>\n",
       "      <td>NaN</td>\n",
       "      <td>12</td>\n",
       "    </tr>\n",
       "    <tr>\n",
       "      <th>642598</th>\n",
       "      <td>5</td>\n",
       "      <td>2016-09-29</td>\n",
       "      <td>J</td>\n",
       "      <td>J12.obs_hand</td>\n",
       "      <td>NaN</td>\n",
       "      <td>12</td>\n",
       "    </tr>\n",
       "    <tr>\n",
       "      <th>642599</th>\n",
       "      <td>5</td>\n",
       "      <td>2016-09-30</td>\n",
       "      <td>J</td>\n",
       "      <td>J12.obs_hand</td>\n",
       "      <td>NaN</td>\n",
       "      <td>12</td>\n",
       "    </tr>\n",
       "  </tbody>\n",
       "</table>\n",
       "</div>"
      ],
      "text/plain": [
       "        Depth       Date Field Sensor_Full_Name  Soil_Moisture  Sensor Number\n",
       "642595      5 2016-09-26     J     J12.obs_hand            NaN             12\n",
       "642596      5 2016-09-27     J     J12.obs_hand            NaN             12\n",
       "642597      5 2016-09-28     J     J12.obs_hand            NaN             12\n",
       "642598      5 2016-09-29     J     J12.obs_hand            NaN             12\n",
       "642599      5 2016-09-30     J     J12.obs_hand            NaN             12"
      ]
     },
     "execution_count": 16,
     "metadata": {},
     "output_type": "execute_result"
    }
   ],
   "source": [
    "data_j.tail(5)"
   ]
  },
  {
   "cell_type": "markdown",
   "metadata": {},
   "source": [
    "#### OD"
   ]
  },
  {
   "cell_type": "code",
   "execution_count": 17,
   "metadata": {},
   "outputs": [],
   "source": [
    "data_od = pd.read_excel(\"./decagon-soilmoisture/OD_Decagon_corrections_FINAL.xlsx\", sheetname = 'Data', skiprows = 0, header = 1, usecols = range(76))"
   ]
  },
  {
   "cell_type": "markdown",
   "metadata": {},
   "source": [
    "Note: Use of \"Date\" instead of \"Date-Time\""
   ]
  },
  {
   "cell_type": "code",
   "execution_count": 18,
   "metadata": {},
   "outputs": [],
   "source": [
    "data_od = data_od.drop(labels = [\"Week\", \"Year\"], axis = 1)"
   ]
  },
  {
   "cell_type": "code",
   "execution_count": 19,
   "metadata": {},
   "outputs": [],
   "source": [
    "data_od[\"Field\"] = \"OD\""
   ]
  },
  {
   "cell_type": "code",
   "execution_count": 20,
   "metadata": {},
   "outputs": [],
   "source": [
    "data_od = pd.melt(data_od, id_vars=['Depth', 'Date', 'Field'], var_name='Sensor_Full_Name', value_name='Soil_Moisture')"
   ]
  },
  {
   "cell_type": "code",
   "execution_count": 21,
   "metadata": {},
   "outputs": [],
   "source": [
    "data_od ['Sensor Number'] = data_od['Sensor_Full_Name'].str.strip()"
   ]
  },
  {
   "cell_type": "code",
   "execution_count": 22,
   "metadata": {},
   "outputs": [
    {
     "name": "stderr",
     "output_type": "stream",
     "text": [
      "C:\\Users\\Samir\\Anaconda3\\lib\\site-packages\\ipykernel\\__main__.py:1: FutureWarning: currently extract(expand=None) means expand=False (return Index/Series/DataFrame) but in a future version of pandas this will be changed to expand=True (return DataFrame)\n",
      "  if __name__ == '__main__':\n"
     ]
    }
   ],
   "source": [
    "data_od['Sensor Number'] = data_od['Sensor Number'].str.extract('(\\d+)').astype(int)"
   ]
  },
  {
   "cell_type": "code",
   "execution_count": 23,
   "metadata": {},
   "outputs": [
    {
     "data": {
      "text/html": [
       "<div>\n",
       "<table border=\"1\" class=\"dataframe\">\n",
       "  <thead>\n",
       "    <tr style=\"text-align: right;\">\n",
       "      <th></th>\n",
       "      <th>Depth</th>\n",
       "      <th>Date</th>\n",
       "      <th>Field</th>\n",
       "      <th>Sensor_Full_Name</th>\n",
       "      <th>Soil_Moisture</th>\n",
       "      <th>Sensor Number</th>\n",
       "    </tr>\n",
       "  </thead>\n",
       "  <tbody>\n",
       "    <tr>\n",
       "      <th>0</th>\n",
       "      <td>1</td>\n",
       "      <td>2011-12-04</td>\n",
       "      <td>OD</td>\n",
       "      <td>OD-1</td>\n",
       "      <td>0.185089</td>\n",
       "      <td>1</td>\n",
       "    </tr>\n",
       "    <tr>\n",
       "      <th>1</th>\n",
       "      <td>1</td>\n",
       "      <td>2011-12-05</td>\n",
       "      <td>OD</td>\n",
       "      <td>OD-1</td>\n",
       "      <td>0.184942</td>\n",
       "      <td>1</td>\n",
       "    </tr>\n",
       "    <tr>\n",
       "      <th>2</th>\n",
       "      <td>1</td>\n",
       "      <td>2011-12-06</td>\n",
       "      <td>OD</td>\n",
       "      <td>OD-1</td>\n",
       "      <td>0.184778</td>\n",
       "      <td>1</td>\n",
       "    </tr>\n",
       "    <tr>\n",
       "      <th>3</th>\n",
       "      <td>1</td>\n",
       "      <td>2011-12-07</td>\n",
       "      <td>OD</td>\n",
       "      <td>OD-1</td>\n",
       "      <td>0.184778</td>\n",
       "      <td>1</td>\n",
       "    </tr>\n",
       "    <tr>\n",
       "      <th>4</th>\n",
       "      <td>1</td>\n",
       "      <td>2011-12-08</td>\n",
       "      <td>OD</td>\n",
       "      <td>OD-1</td>\n",
       "      <td>0.184581</td>\n",
       "      <td>1</td>\n",
       "    </tr>\n",
       "  </tbody>\n",
       "</table>\n",
       "</div>"
      ],
      "text/plain": [
       "   Depth       Date Field Sensor_Full_Name  Soil_Moisture  Sensor Number\n",
       "0      1 2011-12-04    OD             OD-1       0.185089              1\n",
       "1      1 2011-12-05    OD             OD-1       0.184942              1\n",
       "2      1 2011-12-06    OD             OD-1       0.184778              1\n",
       "3      1 2011-12-07    OD             OD-1       0.184778              1\n",
       "4      1 2011-12-08    OD             OD-1       0.184581              1"
      ]
     },
     "execution_count": 23,
     "metadata": {},
     "output_type": "execute_result"
    }
   ],
   "source": [
    "data_od.head(5)"
   ]
  },
  {
   "cell_type": "markdown",
   "metadata": {},
   "source": [
    "#### Wolff"
   ]
  },
  {
   "cell_type": "code",
   "execution_count": 24,
   "metadata": {},
   "outputs": [],
   "source": [
    "data_w = pd.read_excel(\"./decagon-soilmoisture/Wolff_Decagon_Corrections_FINAL.xlsx\", sheetname = 'Data', skiprows = 0, header = 1, usecols = range(76))"
   ]
  },
  {
   "cell_type": "markdown",
   "metadata": {},
   "source": [
    "Note: Use of \"Date\" instead of \"Date-Time\""
   ]
  },
  {
   "cell_type": "code",
   "execution_count": 25,
   "metadata": {},
   "outputs": [],
   "source": [
    "data_w = data_w.drop(labels = [\"Week\", \"Year\"], axis = 1)"
   ]
  },
  {
   "cell_type": "code",
   "execution_count": 26,
   "metadata": {},
   "outputs": [],
   "source": [
    "data_w[\"Field\"] = \"W\""
   ]
  },
  {
   "cell_type": "code",
   "execution_count": 27,
   "metadata": {},
   "outputs": [],
   "source": [
    "data_w = pd.melt(data_w, id_vars=['Depth', 'Date', 'Field'], var_name='Sensor_Full_Name', value_name='Soil_Moisture')"
   ]
  },
  {
   "cell_type": "code",
   "execution_count": 28,
   "metadata": {},
   "outputs": [],
   "source": [
    "data_w['Sensor Number'] = data_w['Sensor_Full_Name'].str.strip()"
   ]
  },
  {
   "cell_type": "code",
   "execution_count": 29,
   "metadata": {},
   "outputs": [
    {
     "name": "stderr",
     "output_type": "stream",
     "text": [
      "C:\\Users\\Samir\\Anaconda3\\lib\\site-packages\\ipykernel\\__main__.py:1: FutureWarning: currently extract(expand=None) means expand=False (return Index/Series/DataFrame) but in a future version of pandas this will be changed to expand=True (return DataFrame)\n",
      "  if __name__ == '__main__':\n"
     ]
    }
   ],
   "source": [
    "data_w['Sensor Number'] = data_w['Sensor Number'].str.extract('(\\d+)').astype(int)"
   ]
  },
  {
   "cell_type": "code",
   "execution_count": 30,
   "metadata": {},
   "outputs": [
    {
     "data": {
      "text/html": [
       "<div>\n",
       "<table border=\"1\" class=\"dataframe\">\n",
       "  <thead>\n",
       "    <tr style=\"text-align: right;\">\n",
       "      <th></th>\n",
       "      <th>Depth</th>\n",
       "      <th>Date</th>\n",
       "      <th>Field</th>\n",
       "      <th>Sensor_Full_Name</th>\n",
       "      <th>Soil_Moisture</th>\n",
       "      <th>Sensor Number</th>\n",
       "    </tr>\n",
       "  </thead>\n",
       "  <tbody>\n",
       "    <tr>\n",
       "      <th>0</th>\n",
       "      <td>1</td>\n",
       "      <td>2011-11-22</td>\n",
       "      <td>W</td>\n",
       "      <td>W1</td>\n",
       "      <td>0.241346</td>\n",
       "      <td>1</td>\n",
       "    </tr>\n",
       "    <tr>\n",
       "      <th>1</th>\n",
       "      <td>1</td>\n",
       "      <td>2011-11-23</td>\n",
       "      <td>W</td>\n",
       "      <td>W1</td>\n",
       "      <td>0.232718</td>\n",
       "      <td>1</td>\n",
       "    </tr>\n",
       "    <tr>\n",
       "      <th>2</th>\n",
       "      <td>1</td>\n",
       "      <td>2011-11-24</td>\n",
       "      <td>W</td>\n",
       "      <td>W1</td>\n",
       "      <td>0.242795</td>\n",
       "      <td>1</td>\n",
       "    </tr>\n",
       "    <tr>\n",
       "      <th>3</th>\n",
       "      <td>1</td>\n",
       "      <td>2011-11-25</td>\n",
       "      <td>W</td>\n",
       "      <td>W1</td>\n",
       "      <td>0.247554</td>\n",
       "      <td>1</td>\n",
       "    </tr>\n",
       "    <tr>\n",
       "      <th>4</th>\n",
       "      <td>1</td>\n",
       "      <td>2011-11-26</td>\n",
       "      <td>W</td>\n",
       "      <td>W1</td>\n",
       "      <td>0.237257</td>\n",
       "      <td>1</td>\n",
       "    </tr>\n",
       "  </tbody>\n",
       "</table>\n",
       "</div>"
      ],
      "text/plain": [
       "   Depth       Date Field Sensor_Full_Name  Soil_Moisture  Sensor Number\n",
       "0      1 2011-11-22     W               W1       0.241346              1\n",
       "1      1 2011-11-23     W               W1       0.232718              1\n",
       "2      1 2011-11-24     W               W1       0.242795              1\n",
       "3      1 2011-11-25     W               W1       0.247554              1\n",
       "4      1 2011-11-26     W               W1       0.237257              1"
      ]
     },
     "execution_count": 30,
     "metadata": {},
     "output_type": "execute_result"
    }
   ],
   "source": [
    "data_w.head(5)"
   ]
  },
  {
   "cell_type": "code",
   "execution_count": null,
   "metadata": {},
   "outputs": [],
   "source": []
  },
  {
   "cell_type": "markdown",
   "metadata": {},
   "source": [
    "#### Concatenating Field Site DataFrames"
   ]
  },
  {
   "cell_type": "code",
   "execution_count": 31,
   "metadata": {},
   "outputs": [],
   "source": [
    "frames = [data_aes, data_j, data_od, data_w]"
   ]
  },
  {
   "cell_type": "code",
   "execution_count": 32,
   "metadata": {},
   "outputs": [],
   "source": [
    "data_all = pd.concat(frames)"
   ]
  },
  {
   "cell_type": "markdown",
   "metadata": {},
   "source": [
    "Renaming Columns"
   ]
  },
  {
   "cell_type": "code",
   "execution_count": 33,
   "metadata": {},
   "outputs": [],
   "source": [
    "data_all = data_all.rename(columns = {'Depth':'depth','Date':'date','Field':'field','Sensor_Full_Name':'sensor_full_name','Soil_Moisture':'soil moisture','Sensor Number':'sensor'})"
   ]
  },
  {
   "cell_type": "markdown",
   "metadata": {},
   "source": [
    "#### Pivoting Data by Depth (widening)"
   ]
  },
  {
   "cell_type": "code",
   "execution_count": 34,
   "metadata": {},
   "outputs": [
    {
     "data": {
      "text/html": [
       "<div>\n",
       "<table border=\"1\" class=\"dataframe\">\n",
       "  <thead>\n",
       "    <tr style=\"text-align: right;\">\n",
       "      <th></th>\n",
       "      <th>depth</th>\n",
       "      <th>date</th>\n",
       "      <th>field</th>\n",
       "      <th>sensor_full_name</th>\n",
       "      <th>soil moisture</th>\n",
       "      <th>sensor</th>\n",
       "    </tr>\n",
       "  </thead>\n",
       "  <tbody>\n",
       "    <tr>\n",
       "      <th>585499</th>\n",
       "      <td>5</td>\n",
       "      <td>2016-04-29</td>\n",
       "      <td>W</td>\n",
       "      <td>W.obs_12_new</td>\n",
       "      <td>NaN</td>\n",
       "      <td>12</td>\n",
       "    </tr>\n",
       "    <tr>\n",
       "      <th>585500</th>\n",
       "      <td>5</td>\n",
       "      <td>2016-04-30</td>\n",
       "      <td>W</td>\n",
       "      <td>W.obs_12_new</td>\n",
       "      <td>NaN</td>\n",
       "      <td>12</td>\n",
       "    </tr>\n",
       "    <tr>\n",
       "      <th>585501</th>\n",
       "      <td>5</td>\n",
       "      <td>2016-05-01</td>\n",
       "      <td>W</td>\n",
       "      <td>W.obs_12_new</td>\n",
       "      <td>NaN</td>\n",
       "      <td>12</td>\n",
       "    </tr>\n",
       "    <tr>\n",
       "      <th>585502</th>\n",
       "      <td>5</td>\n",
       "      <td>2016-05-02</td>\n",
       "      <td>W</td>\n",
       "      <td>W.obs_12_new</td>\n",
       "      <td>NaN</td>\n",
       "      <td>12</td>\n",
       "    </tr>\n",
       "    <tr>\n",
       "      <th>585503</th>\n",
       "      <td>5</td>\n",
       "      <td>2016-05-03</td>\n",
       "      <td>W</td>\n",
       "      <td>W.obs_12_new</td>\n",
       "      <td>NaN</td>\n",
       "      <td>12</td>\n",
       "    </tr>\n",
       "  </tbody>\n",
       "</table>\n",
       "</div>"
      ],
      "text/plain": [
       "        depth       date field sensor_full_name  soil moisture  sensor\n",
       "585499      5 2016-04-29     W     W.obs_12_new            NaN      12\n",
       "585500      5 2016-04-30     W     W.obs_12_new            NaN      12\n",
       "585501      5 2016-05-01     W     W.obs_12_new            NaN      12\n",
       "585502      5 2016-05-02     W     W.obs_12_new            NaN      12\n",
       "585503      5 2016-05-03     W     W.obs_12_new            NaN      12"
      ]
     },
     "execution_count": 34,
     "metadata": {},
     "output_type": "execute_result"
    }
   ],
   "source": [
    "data_all.tail(5)"
   ]
  },
  {
   "cell_type": "code",
   "execution_count": 35,
   "metadata": {},
   "outputs": [],
   "source": [
    "temp_pivot = pd.pivot_table(data_all, index = ['date', 'field', 'sensor_full_name', 'sensor'], columns = \"depth\", values = \"soil moisture\")"
   ]
  },
  {
   "cell_type": "code",
   "execution_count": 36,
   "metadata": {},
   "outputs": [],
   "source": [
    "#Remove hierarchical indexing and labels resulting from the pivot\n",
    "temp_pivot = temp_pivot.reset_index().rename_axis(None, axis=1)"
   ]
  },
  {
   "cell_type": "code",
   "execution_count": 37,
   "metadata": {
    "scrolled": true
   },
   "outputs": [
    {
     "data": {
      "text/html": [
       "<div>\n",
       "<table border=\"1\" class=\"dataframe\">\n",
       "  <thead>\n",
       "    <tr style=\"text-align: right;\">\n",
       "      <th></th>\n",
       "      <th>date</th>\n",
       "      <th>field</th>\n",
       "      <th>sensor_full_name</th>\n",
       "      <th>sensor</th>\n",
       "      <th>1</th>\n",
       "      <th>2</th>\n",
       "      <th>3</th>\n",
       "      <th>4</th>\n",
       "      <th>5</th>\n",
       "    </tr>\n",
       "  </thead>\n",
       "  <tbody>\n",
       "    <tr>\n",
       "      <th>0</th>\n",
       "      <td>2011-10-29</td>\n",
       "      <td>AES</td>\n",
       "      <td>A1</td>\n",
       "      <td>1</td>\n",
       "      <td>0.264665</td>\n",
       "      <td>0.292500</td>\n",
       "      <td>0.282253</td>\n",
       "      <td>NaN</td>\n",
       "      <td>0.260778</td>\n",
       "    </tr>\n",
       "    <tr>\n",
       "      <th>1</th>\n",
       "      <td>2011-10-29</td>\n",
       "      <td>AES</td>\n",
       "      <td>A1-C</td>\n",
       "      <td>1</td>\n",
       "      <td>0.377737</td>\n",
       "      <td>0.291173</td>\n",
       "      <td>0.309848</td>\n",
       "      <td>NaN</td>\n",
       "      <td>NaN</td>\n",
       "    </tr>\n",
       "    <tr>\n",
       "      <th>2</th>\n",
       "      <td>2011-10-29</td>\n",
       "      <td>AES</td>\n",
       "      <td>A10</td>\n",
       "      <td>10</td>\n",
       "      <td>0.206626</td>\n",
       "      <td>0.177253</td>\n",
       "      <td>0.165528</td>\n",
       "      <td>0.230247</td>\n",
       "      <td>0.216602</td>\n",
       "    </tr>\n",
       "    <tr>\n",
       "      <th>3</th>\n",
       "      <td>2011-10-29</td>\n",
       "      <td>AES</td>\n",
       "      <td>A10-C</td>\n",
       "      <td>10</td>\n",
       "      <td>0.210262</td>\n",
       "      <td>0.228600</td>\n",
       "      <td>0.258326</td>\n",
       "      <td>0.280794</td>\n",
       "      <td>NaN</td>\n",
       "    </tr>\n",
       "    <tr>\n",
       "      <th>4</th>\n",
       "      <td>2011-10-29</td>\n",
       "      <td>AES</td>\n",
       "      <td>A11</td>\n",
       "      <td>11</td>\n",
       "      <td>0.140764</td>\n",
       "      <td>0.196794</td>\n",
       "      <td>0.239321</td>\n",
       "      <td>0.282253</td>\n",
       "      <td>NaN</td>\n",
       "    </tr>\n",
       "  </tbody>\n",
       "</table>\n",
       "</div>"
      ],
      "text/plain": [
       "        date field sensor_full_name  sensor         1         2         3  \\\n",
       "0 2011-10-29   AES               A1       1  0.264665  0.292500  0.282253   \n",
       "1 2011-10-29   AES             A1-C       1  0.377737  0.291173  0.309848   \n",
       "2 2011-10-29   AES              A10      10  0.206626  0.177253  0.165528   \n",
       "3 2011-10-29   AES            A10-C      10  0.210262  0.228600  0.258326   \n",
       "4 2011-10-29   AES              A11      11  0.140764  0.196794  0.239321   \n",
       "\n",
       "          4         5  \n",
       "0       NaN  0.260778  \n",
       "1       NaN       NaN  \n",
       "2  0.230247  0.216602  \n",
       "3  0.280794       NaN  \n",
       "4  0.282253       NaN  "
      ]
     },
     "execution_count": 37,
     "metadata": {},
     "output_type": "execute_result"
    }
   ],
   "source": [
    "temp_pivot.head(5)"
   ]
  },
  {
   "cell_type": "code",
   "execution_count": 38,
   "metadata": {},
   "outputs": [],
   "source": [
    "#renaming the columns for soil moisture by depth\n",
    "temp_pivot = temp_pivot.rename(columns = {1:'depth_1', \n",
    "                                        2:'depth_2',\n",
    "                                        3:'depth_3',\n",
    "                                        4:'depth_4',\n",
    "                                        5:'depth_5'})"
   ]
  },
  {
   "cell_type": "code",
   "execution_count": 39,
   "metadata": {},
   "outputs": [
    {
     "data": {
      "text/html": [
       "<div>\n",
       "<table border=\"1\" class=\"dataframe\">\n",
       "  <thead>\n",
       "    <tr style=\"text-align: right;\">\n",
       "      <th></th>\n",
       "      <th>date</th>\n",
       "      <th>field</th>\n",
       "      <th>sensor_full_name</th>\n",
       "      <th>sensor</th>\n",
       "      <th>depth_1</th>\n",
       "      <th>depth_2</th>\n",
       "      <th>depth_3</th>\n",
       "      <th>depth_4</th>\n",
       "      <th>depth_5</th>\n",
       "    </tr>\n",
       "  </thead>\n",
       "  <tbody>\n",
       "    <tr>\n",
       "      <th>0</th>\n",
       "      <td>2011-10-29</td>\n",
       "      <td>AES</td>\n",
       "      <td>A1</td>\n",
       "      <td>1</td>\n",
       "      <td>0.264665</td>\n",
       "      <td>0.292500</td>\n",
       "      <td>0.282253</td>\n",
       "      <td>NaN</td>\n",
       "      <td>0.260778</td>\n",
       "    </tr>\n",
       "    <tr>\n",
       "      <th>1</th>\n",
       "      <td>2011-10-29</td>\n",
       "      <td>AES</td>\n",
       "      <td>A1-C</td>\n",
       "      <td>1</td>\n",
       "      <td>0.377737</td>\n",
       "      <td>0.291173</td>\n",
       "      <td>0.309848</td>\n",
       "      <td>NaN</td>\n",
       "      <td>NaN</td>\n",
       "    </tr>\n",
       "    <tr>\n",
       "      <th>2</th>\n",
       "      <td>2011-10-29</td>\n",
       "      <td>AES</td>\n",
       "      <td>A10</td>\n",
       "      <td>10</td>\n",
       "      <td>0.206626</td>\n",
       "      <td>0.177253</td>\n",
       "      <td>0.165528</td>\n",
       "      <td>0.230247</td>\n",
       "      <td>0.216602</td>\n",
       "    </tr>\n",
       "    <tr>\n",
       "      <th>3</th>\n",
       "      <td>2011-10-29</td>\n",
       "      <td>AES</td>\n",
       "      <td>A10-C</td>\n",
       "      <td>10</td>\n",
       "      <td>0.210262</td>\n",
       "      <td>0.228600</td>\n",
       "      <td>0.258326</td>\n",
       "      <td>0.280794</td>\n",
       "      <td>NaN</td>\n",
       "    </tr>\n",
       "    <tr>\n",
       "      <th>4</th>\n",
       "      <td>2011-10-29</td>\n",
       "      <td>AES</td>\n",
       "      <td>A11</td>\n",
       "      <td>11</td>\n",
       "      <td>0.140764</td>\n",
       "      <td>0.196794</td>\n",
       "      <td>0.239321</td>\n",
       "      <td>0.282253</td>\n",
       "      <td>NaN</td>\n",
       "    </tr>\n",
       "  </tbody>\n",
       "</table>\n",
       "</div>"
      ],
      "text/plain": [
       "        date field sensor_full_name  sensor   depth_1   depth_2   depth_3  \\\n",
       "0 2011-10-29   AES               A1       1  0.264665  0.292500  0.282253   \n",
       "1 2011-10-29   AES             A1-C       1  0.377737  0.291173  0.309848   \n",
       "2 2011-10-29   AES              A10      10  0.206626  0.177253  0.165528   \n",
       "3 2011-10-29   AES            A10-C      10  0.210262  0.228600  0.258326   \n",
       "4 2011-10-29   AES              A11      11  0.140764  0.196794  0.239321   \n",
       "\n",
       "    depth_4   depth_5  \n",
       "0       NaN  0.260778  \n",
       "1       NaN       NaN  \n",
       "2  0.230247  0.216602  \n",
       "3  0.280794       NaN  \n",
       "4  0.282253       NaN  "
      ]
     },
     "execution_count": 39,
     "metadata": {},
     "output_type": "execute_result"
    }
   ],
   "source": [
    "temp_pivot.head(5)"
   ]
  },
  {
   "cell_type": "markdown",
   "metadata": {},
   "source": [
    "#### Subsetting by sensor data type (\"sensor_full_name\" column)"
   ]
  },
  {
   "cell_type": "code",
   "execution_count": 40,
   "metadata": {
    "scrolled": true
   },
   "outputs": [],
   "source": [
    "#Use the str.contains function to subset.  In the example below, we subset for \"C_hand\" values and values ending in \"C\"\n",
    "\n",
    "final_data = temp_pivot[temp_pivot['sensor_full_name'].str.contains(\"C_hand\") | temp_pivot['sensor_full_name'].str.endswith(\"C\")]"
   ]
  },
  {
   "cell_type": "code",
   "execution_count": 41,
   "metadata": {},
   "outputs": [
    {
     "data": {
      "text/plain": [
       "array([' A1-C', ' A10-C', ' A11-C', ' A12-C', ' A2-C', ' A3-C', ' A4-C',\n",
       "       ' A5-C', ' A6-C', ' A7-C', 'J1-C_hand', 'J10-C_hand', 'J11-C_hand',\n",
       "       'J12-C_hand', 'J2-C_hand', 'J3-C_hand', 'J4-C_hand', 'J5-C_hand',\n",
       "       'J6-C_hand', 'J7-C_hand', 'J8-C_hand', 'J9-C_hand', 'W1-C_hand',\n",
       "       'W10-C_hand', 'W11-C_hand', 'W12-C_hand', 'W2-C_hand', 'W3-C_hand',\n",
       "       'W4-C_hand', 'W5-C_hand', 'W6-C_hand', 'W7-C_hand', 'W8-C_hand',\n",
       "       'W9-C_hand', 'OD-10_C', 'OD-11_C', 'OD-12_C', 'OD-1_C', 'OD-2_C',\n",
       "       'OD-3_C', 'OD-4_C', 'OD-5_C', 'OD-6_C', 'OD-7_C', 'OD-8_C', 'OD-9_C'], dtype=object)"
      ]
     },
     "execution_count": 41,
     "metadata": {},
     "output_type": "execute_result"
    }
   ],
   "source": [
    "#Viewing Sensor Data Types after subset\n",
    "final_data['sensor_full_name'].unique()"
   ]
  },
  {
   "cell_type": "markdown",
   "metadata": {},
   "source": [
    "#### Saving Output Data for each to CSV"
   ]
  },
  {
   "cell_type": "code",
   "execution_count": 42,
   "metadata": {},
   "outputs": [],
   "source": [
    "final_data.to_csv('./output_data/soil_moisture.csv', index=False)"
   ]
  },
  {
   "cell_type": "code",
   "execution_count": 43,
   "metadata": {},
   "outputs": [
    {
     "data": {
      "text/html": [
       "<div>\n",
       "<table border=\"1\" class=\"dataframe\">\n",
       "  <thead>\n",
       "    <tr style=\"text-align: right;\">\n",
       "      <th></th>\n",
       "      <th>date</th>\n",
       "      <th>field</th>\n",
       "      <th>sensor_full_name</th>\n",
       "      <th>sensor</th>\n",
       "      <th>depth_1</th>\n",
       "      <th>depth_2</th>\n",
       "      <th>depth_3</th>\n",
       "      <th>depth_4</th>\n",
       "      <th>depth_5</th>\n",
       "    </tr>\n",
       "  </thead>\n",
       "  <tbody>\n",
       "    <tr>\n",
       "      <th>1</th>\n",
       "      <td>2011-10-29</td>\n",
       "      <td>AES</td>\n",
       "      <td>A1-C</td>\n",
       "      <td>1</td>\n",
       "      <td>0.377737</td>\n",
       "      <td>0.291173</td>\n",
       "      <td>0.309848</td>\n",
       "      <td>NaN</td>\n",
       "      <td>NaN</td>\n",
       "    </tr>\n",
       "    <tr>\n",
       "      <th>3</th>\n",
       "      <td>2011-10-29</td>\n",
       "      <td>AES</td>\n",
       "      <td>A10-C</td>\n",
       "      <td>10</td>\n",
       "      <td>0.210262</td>\n",
       "      <td>0.228600</td>\n",
       "      <td>0.258326</td>\n",
       "      <td>0.280794</td>\n",
       "      <td>NaN</td>\n",
       "    </tr>\n",
       "    <tr>\n",
       "      <th>5</th>\n",
       "      <td>2011-10-29</td>\n",
       "      <td>AES</td>\n",
       "      <td>A11-C</td>\n",
       "      <td>11</td>\n",
       "      <td>0.069194</td>\n",
       "      <td>0.172116</td>\n",
       "      <td>0.248614</td>\n",
       "      <td>NaN</td>\n",
       "      <td>NaN</td>\n",
       "    </tr>\n",
       "    <tr>\n",
       "      <th>7</th>\n",
       "      <td>2011-10-29</td>\n",
       "      <td>AES</td>\n",
       "      <td>A12-C</td>\n",
       "      <td>12</td>\n",
       "      <td>0.211317</td>\n",
       "      <td>0.161496</td>\n",
       "      <td>0.245646</td>\n",
       "      <td>NaN</td>\n",
       "      <td>NaN</td>\n",
       "    </tr>\n",
       "    <tr>\n",
       "      <th>9</th>\n",
       "      <td>2011-10-29</td>\n",
       "      <td>AES</td>\n",
       "      <td>A2-C</td>\n",
       "      <td>2</td>\n",
       "      <td>0.260053</td>\n",
       "      <td>0.300614</td>\n",
       "      <td>0.287644</td>\n",
       "      <td>0.310365</td>\n",
       "      <td>0.222584</td>\n",
       "    </tr>\n",
       "  </tbody>\n",
       "</table>\n",
       "</div>"
      ],
      "text/plain": [
       "        date field sensor_full_name  sensor   depth_1   depth_2   depth_3  \\\n",
       "1 2011-10-29   AES             A1-C       1  0.377737  0.291173  0.309848   \n",
       "3 2011-10-29   AES            A10-C      10  0.210262  0.228600  0.258326   \n",
       "5 2011-10-29   AES            A11-C      11  0.069194  0.172116  0.248614   \n",
       "7 2011-10-29   AES            A12-C      12  0.211317  0.161496  0.245646   \n",
       "9 2011-10-29   AES             A2-C       2  0.260053  0.300614  0.287644   \n",
       "\n",
       "    depth_4   depth_5  \n",
       "1       NaN       NaN  \n",
       "3  0.280794       NaN  \n",
       "5       NaN       NaN  \n",
       "7       NaN       NaN  \n",
       "9  0.310365  0.222584  "
      ]
     },
     "execution_count": 43,
     "metadata": {},
     "output_type": "execute_result"
    }
   ],
   "source": [
    "final_data.head(5)"
   ]
  },
  {
   "cell_type": "code",
   "execution_count": null,
   "metadata": {},
   "outputs": [],
   "source": []
  }
 ],
 "metadata": {
  "kernelspec": {
   "display_name": "Python 3",
   "language": "python",
   "name": "python3"
  },
  "language_info": {
   "codemirror_mode": {
    "name": "ipython",
    "version": 3
   },
   "file_extension": ".py",
   "mimetype": "text/x-python",
   "name": "python",
   "nbconvert_exporter": "python",
   "pygments_lexer": "ipython3",
   "version": "3.6.0"
  }
 },
 "nbformat": 4,
 "nbformat_minor": 2
}
