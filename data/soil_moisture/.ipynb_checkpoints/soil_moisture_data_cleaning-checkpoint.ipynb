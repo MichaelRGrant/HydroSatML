{
 "cells": [
  {
   "cell_type": "markdown",
   "metadata": {},
   "source": [
    "### Soil Moisture Data Cleaning\n",
    "\n",
    "Rev0\n",
    "\n",
    "Samir D. Patel\n",
    "\n",
    "1/2/2018"
   ]
  },
  {
   "cell_type": "markdown",
   "metadata": {},
   "source": [
    " "
   ]
  },
  {
   "cell_type": "markdown",
   "metadata": {},
   "source": [
    "This notebook takes the \"_Decagaon_Corrections\" Excel data for soil moisture across each of the four field sites (Aeschliman, Jones, OD and Wolff) and imports/cleans/exports the relevant moisture data in CSV format."
   ]
  },
  {
   "cell_type": "code",
   "execution_count": 1,
   "metadata": {},
   "outputs": [],
   "source": [
    "import pandas as pd"
   ]
  },
  {
   "cell_type": "markdown",
   "metadata": {},
   "source": [
    " "
   ]
  },
  {
   "cell_type": "markdown",
   "metadata": {},
   "source": [
    "#### Aeschliman"
   ]
  },
  {
   "cell_type": "markdown",
   "metadata": {},
   "source": [
    "Import of data from Excel sheet to Pandas.  Location of file currently set locally, will need change."
   ]
  },
  {
   "cell_type": "code",
   "execution_count": 2,
   "metadata": {},
   "outputs": [],
   "source": [
    "data_aes= pd.read_excel(\"./decagon-soilmoisture/Aeschliman_Decagon_corrections_FINAL.xlsx\", sheetname = 'Data', skiprows = 0, usecols=range(36), header = 1)"
   ]
  },
  {
   "cell_type": "markdown",
   "metadata": {},
   "source": [
    "Pivoting data to widen data set, splitting each sensor/location's moisture data by various sensor depths"
   ]
  },
  {
   "cell_type": "code",
   "execution_count": 3,
   "metadata": {},
   "outputs": [],
   "source": [
    "data_aes = data_aes.pivot(\"Date-Time\", \"Depth\")"
   ]
  },
  {
   "cell_type": "markdown",
   "metadata": {},
   "source": [
    "https://stackoverflow.com/questions/22113668/convert-list-of-tuples-of-mixed-data-types-into-all-string"
   ]
  },
  {
   "cell_type": "markdown",
   "metadata": {},
   "source": [
    "Tuples require full conversion to strings to flatten the column headers."
   ]
  },
  {
   "cell_type": "code",
   "execution_count": 4,
   "metadata": {},
   "outputs": [],
   "source": [
    "tuples = [tuple(map(str, val2)) for val2 in data_aes]"
   ]
  },
  {
   "cell_type": "code",
   "execution_count": 5,
   "metadata": {},
   "outputs": [],
   "source": [
    "flat_col_names = ['_'.join(col_tuple) for col_tuple in tuples]"
   ]
  },
  {
   "cell_type": "code",
   "execution_count": 6,
   "metadata": {},
   "outputs": [],
   "source": [
    "data_aes.columns = flat_col_names"
   ]
  },
  {
   "cell_type": "code",
   "execution_count": 7,
   "metadata": {},
   "outputs": [],
   "source": [
    "data_aes = data_aes.reset_index()"
   ]
  },
  {
   "cell_type": "markdown",
   "metadata": {},
   "source": [
    "Changing \"Date-Time\" column name to \"Date\" to match other field sites"
   ]
  },
  {
   "cell_type": "code",
   "execution_count": 8,
   "metadata": {},
   "outputs": [],
   "source": [
    "data_aes = data_aes.rename(columns = {'Date-Time':'Date'})"
   ]
  },
  {
   "cell_type": "code",
   "execution_count": 9,
   "metadata": {},
   "outputs": [
    {
     "data": {
      "text/html": [
       "<div>\n",
       "<table border=\"1\" class=\"dataframe\">\n",
       "  <thead>\n",
       "    <tr style=\"text-align: right;\">\n",
       "      <th></th>\n",
       "      <th>Date</th>\n",
       "      <th>A1_1</th>\n",
       "      <th>A1_2</th>\n",
       "      <th>A1_3</th>\n",
       "      <th>A1_4</th>\n",
       "      <th>A1_5</th>\n",
       "      <th>A2_1</th>\n",
       "      <th>A2_2</th>\n",
       "      <th>A2_3</th>\n",
       "      <th>A2_4</th>\n",
       "      <th>...</th>\n",
       "      <th>A11-C_1</th>\n",
       "      <th>A11-C_2</th>\n",
       "      <th>A11-C_3</th>\n",
       "      <th>A11-C_4</th>\n",
       "      <th>A11-C_5</th>\n",
       "      <th>A12-C_1</th>\n",
       "      <th>A12-C_2</th>\n",
       "      <th>A12-C_3</th>\n",
       "      <th>A12-C_4</th>\n",
       "      <th>A12-C_5</th>\n",
       "    </tr>\n",
       "  </thead>\n",
       "  <tbody>\n",
       "    <tr>\n",
       "      <th>0</th>\n",
       "      <td>2011-10-29</td>\n",
       "      <td>0.264665</td>\n",
       "      <td>0.292500</td>\n",
       "      <td>0.282253</td>\n",
       "      <td>NaN</td>\n",
       "      <td>0.260778</td>\n",
       "      <td>0.245481</td>\n",
       "      <td>0.250873</td>\n",
       "      <td>0.248524</td>\n",
       "      <td>0.208491</td>\n",
       "      <td>...</td>\n",
       "      <td>0.069194</td>\n",
       "      <td>0.172116</td>\n",
       "      <td>0.248614</td>\n",
       "      <td>NaN</td>\n",
       "      <td>NaN</td>\n",
       "      <td>0.211317</td>\n",
       "      <td>0.161496</td>\n",
       "      <td>0.245646</td>\n",
       "      <td>NaN</td>\n",
       "      <td>NaN</td>\n",
       "    </tr>\n",
       "    <tr>\n",
       "      <th>1</th>\n",
       "      <td>2011-10-30</td>\n",
       "      <td>0.264987</td>\n",
       "      <td>0.291608</td>\n",
       "      <td>0.281947</td>\n",
       "      <td>NaN</td>\n",
       "      <td>0.260126</td>\n",
       "      <td>0.246836</td>\n",
       "      <td>0.249533</td>\n",
       "      <td>0.247850</td>\n",
       "      <td>0.208864</td>\n",
       "      <td>...</td>\n",
       "      <td>0.070121</td>\n",
       "      <td>0.163867</td>\n",
       "      <td>0.238980</td>\n",
       "      <td>NaN</td>\n",
       "      <td>NaN</td>\n",
       "      <td>0.217598</td>\n",
       "      <td>0.167845</td>\n",
       "      <td>0.236705</td>\n",
       "      <td>NaN</td>\n",
       "      <td>NaN</td>\n",
       "    </tr>\n",
       "    <tr>\n",
       "      <th>2</th>\n",
       "      <td>2011-10-31</td>\n",
       "      <td>0.264665</td>\n",
       "      <td>0.291013</td>\n",
       "      <td>0.281640</td>\n",
       "      <td>NaN</td>\n",
       "      <td>0.259799</td>\n",
       "      <td>0.246836</td>\n",
       "      <td>0.249533</td>\n",
       "      <td>0.247512</td>\n",
       "      <td>0.208864</td>\n",
       "      <td>...</td>\n",
       "      <td>0.070121</td>\n",
       "      <td>0.160181</td>\n",
       "      <td>0.235352</td>\n",
       "      <td>NaN</td>\n",
       "      <td>NaN</td>\n",
       "      <td>0.209858</td>\n",
       "      <td>0.169812</td>\n",
       "      <td>0.231497</td>\n",
       "      <td>NaN</td>\n",
       "      <td>NaN</td>\n",
       "    </tr>\n",
       "    <tr>\n",
       "      <th>3</th>\n",
       "      <td>2011-11-01</td>\n",
       "      <td>0.264987</td>\n",
       "      <td>0.290416</td>\n",
       "      <td>0.281026</td>\n",
       "      <td>NaN</td>\n",
       "      <td>0.259799</td>\n",
       "      <td>0.246836</td>\n",
       "      <td>0.249533</td>\n",
       "      <td>0.247512</td>\n",
       "      <td>0.208864</td>\n",
       "      <td>...</td>\n",
       "      <td>0.071045</td>\n",
       "      <td>0.157406</td>\n",
       "      <td>0.233159</td>\n",
       "      <td>NaN</td>\n",
       "      <td>NaN</td>\n",
       "      <td>0.216637</td>\n",
       "      <td>0.170597</td>\n",
       "      <td>0.228205</td>\n",
       "      <td>NaN</td>\n",
       "      <td>NaN</td>\n",
       "    </tr>\n",
       "    <tr>\n",
       "      <th>4</th>\n",
       "      <td>2011-11-02</td>\n",
       "      <td>0.264342</td>\n",
       "      <td>0.290117</td>\n",
       "      <td>0.281026</td>\n",
       "      <td>NaN</td>\n",
       "      <td>0.259472</td>\n",
       "      <td>0.246159</td>\n",
       "      <td>0.249533</td>\n",
       "      <td>0.247174</td>\n",
       "      <td>0.208864</td>\n",
       "      <td>...</td>\n",
       "      <td>0.069194</td>\n",
       "      <td>0.156480</td>\n",
       "      <td>0.231324</td>\n",
       "      <td>NaN</td>\n",
       "      <td>NaN</td>\n",
       "      <td>0.202010</td>\n",
       "      <td>0.170989</td>\n",
       "      <td>0.225551</td>\n",
       "      <td>NaN</td>\n",
       "      <td>NaN</td>\n",
       "    </tr>\n",
       "  </tbody>\n",
       "</table>\n",
       "<p>5 rows × 171 columns</p>\n",
       "</div>"
      ],
      "text/plain": [
       "        Date      A1_1      A1_2      A1_3   A1_4      A1_5      A2_1  \\\n",
       "0 2011-10-29  0.264665  0.292500  0.282253    NaN  0.260778  0.245481   \n",
       "1 2011-10-30  0.264987  0.291608  0.281947    NaN  0.260126  0.246836   \n",
       "2 2011-10-31  0.264665  0.291013  0.281640    NaN  0.259799  0.246836   \n",
       "3 2011-11-01  0.264987  0.290416  0.281026    NaN  0.259799  0.246836   \n",
       "4 2011-11-02  0.264342  0.290117  0.281026    NaN  0.259472  0.246159   \n",
       "\n",
       "       A2_2      A2_3      A2_4    ...      A11-C_1   A11-C_2   A11-C_3  \\\n",
       "0  0.250873  0.248524  0.208491    ...     0.069194  0.172116  0.248614   \n",
       "1  0.249533  0.247850  0.208864    ...     0.070121  0.163867  0.238980   \n",
       "2  0.249533  0.247512  0.208864    ...     0.070121  0.160181  0.235352   \n",
       "3  0.249533  0.247512  0.208864    ...     0.071045  0.157406  0.233159   \n",
       "4  0.249533  0.247174  0.208864    ...     0.069194  0.156480  0.231324   \n",
       "\n",
       "    A11-C_4   A11-C_5   A12-C_1   A12-C_2   A12-C_3   A12-C_4   A12-C_5  \n",
       "0       NaN       NaN  0.211317  0.161496  0.245646       NaN       NaN  \n",
       "1       NaN       NaN  0.217598  0.167845  0.236705       NaN       NaN  \n",
       "2       NaN       NaN  0.209858  0.169812  0.231497       NaN       NaN  \n",
       "3       NaN       NaN  0.216637  0.170597  0.228205       NaN       NaN  \n",
       "4       NaN       NaN  0.202010  0.170989  0.225551       NaN       NaN  \n",
       "\n",
       "[5 rows x 171 columns]"
      ]
     },
     "execution_count": 9,
     "metadata": {},
     "output_type": "execute_result"
    }
   ],
   "source": [
    "data_aes.head(5)"
   ]
  },
  {
   "cell_type": "markdown",
   "metadata": {},
   "source": [
    " "
   ]
  },
  {
   "cell_type": "markdown",
   "metadata": {},
   "source": [
    "#### Jones"
   ]
  },
  {
   "cell_type": "code",
   "execution_count": 10,
   "metadata": {},
   "outputs": [],
   "source": [
    "data_j= pd.read_excel(\"./decagon-soilmoisture/Jones_Decagon_corrections_FINAL.xlsx\", sheetname = 'Data', usecols=range(76), skiprows = 0, header = 1)"
   ]
  },
  {
   "cell_type": "markdown",
   "metadata": {},
   "source": [
    "Note: Use of \"Date\" instead of \"Date-Time\""
   ]
  },
  {
   "cell_type": "code",
   "execution_count": 11,
   "metadata": {},
   "outputs": [],
   "source": [
    "data_j = data_j.drop(labels = [\"Week\", \"Year\"], axis = 1)"
   ]
  },
  {
   "cell_type": "code",
   "execution_count": 12,
   "metadata": {},
   "outputs": [],
   "source": [
    "data_j = data_j.pivot(\"Date \", \"Depth\")"
   ]
  },
  {
   "cell_type": "markdown",
   "metadata": {},
   "source": [
    "https://stackoverflow.com/questions/22113668/convert-list-of-tuples-of-mixed-data-types-into-all-string"
   ]
  },
  {
   "cell_type": "code",
   "execution_count": 13,
   "metadata": {},
   "outputs": [],
   "source": [
    "tuples = [tuple(map(str, val2)) for val2 in data_j]"
   ]
  },
  {
   "cell_type": "code",
   "execution_count": 14,
   "metadata": {},
   "outputs": [],
   "source": [
    "flat_col_names = ['_'.join(col_tuple) for col_tuple in tuples]"
   ]
  },
  {
   "cell_type": "code",
   "execution_count": 15,
   "metadata": {},
   "outputs": [],
   "source": [
    "data_j.columns = flat_col_names"
   ]
  },
  {
   "cell_type": "code",
   "execution_count": 16,
   "metadata": {},
   "outputs": [],
   "source": [
    "data_j = data_j.reset_index()"
   ]
  },
  {
   "cell_type": "markdown",
   "metadata": {},
   "source": [
    "Changing \"Date \" column name (removing space at the end) to \"Date\" to match other field sites"
   ]
  },
  {
   "cell_type": "code",
   "execution_count": 17,
   "metadata": {},
   "outputs": [],
   "source": [
    "data_j = data_j.rename(columns = {'Date ':'Date'})"
   ]
  },
  {
   "cell_type": "code",
   "execution_count": 18,
   "metadata": {},
   "outputs": [
    {
     "data": {
      "text/html": [
       "<div>\n",
       "<table border=\"1\" class=\"dataframe\">\n",
       "  <thead>\n",
       "    <tr style=\"text-align: right;\">\n",
       "      <th></th>\n",
       "      <th>Date</th>\n",
       "      <th>J1_1</th>\n",
       "      <th>J1_2</th>\n",
       "      <th>J1_3</th>\n",
       "      <th>J1_4</th>\n",
       "      <th>J1_5</th>\n",
       "      <th>J2_1</th>\n",
       "      <th>J2_2</th>\n",
       "      <th>J2_3</th>\n",
       "      <th>J2_4</th>\n",
       "      <th>...</th>\n",
       "      <th>J11.obs_hand_1</th>\n",
       "      <th>J11.obs_hand_2</th>\n",
       "      <th>J11.obs_hand_3</th>\n",
       "      <th>J11.obs_hand_4</th>\n",
       "      <th>J11.obs_hand_5</th>\n",
       "      <th>J12.obs_hand_1</th>\n",
       "      <th>J12.obs_hand_2</th>\n",
       "      <th>J12.obs_hand_3</th>\n",
       "      <th>J12.obs_hand_4</th>\n",
       "      <th>J12.obs_hand_5</th>\n",
       "    </tr>\n",
       "  </thead>\n",
       "  <tbody>\n",
       "    <tr>\n",
       "      <th>0</th>\n",
       "      <td>2011-11-12</td>\n",
       "      <td>0.121137</td>\n",
       "      <td>0.242148</td>\n",
       "      <td>0.205070</td>\n",
       "      <td>0.299400</td>\n",
       "      <td>0.280056</td>\n",
       "      <td>NaN</td>\n",
       "      <td>NaN</td>\n",
       "      <td>NaN</td>\n",
       "      <td>NaN</td>\n",
       "      <td>...</td>\n",
       "      <td>NaN</td>\n",
       "      <td>NaN</td>\n",
       "      <td>NaN</td>\n",
       "      <td>NaN</td>\n",
       "      <td>NaN</td>\n",
       "      <td>NaN</td>\n",
       "      <td>NaN</td>\n",
       "      <td>NaN</td>\n",
       "      <td>NaN</td>\n",
       "      <td>NaN</td>\n",
       "    </tr>\n",
       "    <tr>\n",
       "      <th>1</th>\n",
       "      <td>2011-11-13</td>\n",
       "      <td>0.129111</td>\n",
       "      <td>0.236851</td>\n",
       "      <td>0.202477</td>\n",
       "      <td>0.290752</td>\n",
       "      <td>0.278430</td>\n",
       "      <td>0.126477</td>\n",
       "      <td>NaN</td>\n",
       "      <td>0.295852</td>\n",
       "      <td>0.255225</td>\n",
       "      <td>...</td>\n",
       "      <td>NaN</td>\n",
       "      <td>NaN</td>\n",
       "      <td>NaN</td>\n",
       "      <td>NaN</td>\n",
       "      <td>NaN</td>\n",
       "      <td>NaN</td>\n",
       "      <td>NaN</td>\n",
       "      <td>NaN</td>\n",
       "      <td>NaN</td>\n",
       "      <td>NaN</td>\n",
       "    </tr>\n",
       "    <tr>\n",
       "      <th>2</th>\n",
       "      <td>2011-11-14</td>\n",
       "      <td>0.154589</td>\n",
       "      <td>0.231111</td>\n",
       "      <td>0.199288</td>\n",
       "      <td>0.280979</td>\n",
       "      <td>0.276956</td>\n",
       "      <td>0.124410</td>\n",
       "      <td>NaN</td>\n",
       "      <td>0.290487</td>\n",
       "      <td>0.255446</td>\n",
       "      <td>...</td>\n",
       "      <td>NaN</td>\n",
       "      <td>NaN</td>\n",
       "      <td>NaN</td>\n",
       "      <td>NaN</td>\n",
       "      <td>NaN</td>\n",
       "      <td>NaN</td>\n",
       "      <td>NaN</td>\n",
       "      <td>NaN</td>\n",
       "      <td>NaN</td>\n",
       "      <td>NaN</td>\n",
       "    </tr>\n",
       "    <tr>\n",
       "      <th>3</th>\n",
       "      <td>2011-11-15</td>\n",
       "      <td>0.156646</td>\n",
       "      <td>0.226416</td>\n",
       "      <td>0.196443</td>\n",
       "      <td>0.273185</td>\n",
       "      <td>0.275528</td>\n",
       "      <td>0.122798</td>\n",
       "      <td>NaN</td>\n",
       "      <td>0.283174</td>\n",
       "      <td>0.254936</td>\n",
       "      <td>...</td>\n",
       "      <td>NaN</td>\n",
       "      <td>NaN</td>\n",
       "      <td>NaN</td>\n",
       "      <td>NaN</td>\n",
       "      <td>NaN</td>\n",
       "      <td>NaN</td>\n",
       "      <td>NaN</td>\n",
       "      <td>NaN</td>\n",
       "      <td>NaN</td>\n",
       "      <td>NaN</td>\n",
       "    </tr>\n",
       "    <tr>\n",
       "      <th>4</th>\n",
       "      <td>2011-11-16</td>\n",
       "      <td>0.155028</td>\n",
       "      <td>0.222312</td>\n",
       "      <td>0.193868</td>\n",
       "      <td>0.266936</td>\n",
       "      <td>0.274225</td>\n",
       "      <td>0.121387</td>\n",
       "      <td>NaN</td>\n",
       "      <td>0.278055</td>\n",
       "      <td>0.254329</td>\n",
       "      <td>...</td>\n",
       "      <td>NaN</td>\n",
       "      <td>NaN</td>\n",
       "      <td>NaN</td>\n",
       "      <td>NaN</td>\n",
       "      <td>NaN</td>\n",
       "      <td>NaN</td>\n",
       "      <td>NaN</td>\n",
       "      <td>NaN</td>\n",
       "      <td>NaN</td>\n",
       "      <td>NaN</td>\n",
       "    </tr>\n",
       "  </tbody>\n",
       "</table>\n",
       "<p>5 rows × 361 columns</p>\n",
       "</div>"
      ],
      "text/plain": [
       "        Date      J1_1      J1_2      J1_3      J1_4      J1_5      J2_1  \\\n",
       "0 2011-11-12  0.121137  0.242148  0.205070  0.299400  0.280056       NaN   \n",
       "1 2011-11-13  0.129111  0.236851  0.202477  0.290752  0.278430  0.126477   \n",
       "2 2011-11-14  0.154589  0.231111  0.199288  0.280979  0.276956  0.124410   \n",
       "3 2011-11-15  0.156646  0.226416  0.196443  0.273185  0.275528  0.122798   \n",
       "4 2011-11-16  0.155028  0.222312  0.193868  0.266936  0.274225  0.121387   \n",
       "\n",
       "   J2_2      J2_3      J2_4       ...        J11.obs_hand_1  J11.obs_hand_2  \\\n",
       "0   NaN       NaN       NaN       ...                   NaN             NaN   \n",
       "1   NaN  0.295852  0.255225       ...                   NaN             NaN   \n",
       "2   NaN  0.290487  0.255446       ...                   NaN             NaN   \n",
       "3   NaN  0.283174  0.254936       ...                   NaN             NaN   \n",
       "4   NaN  0.278055  0.254329       ...                   NaN             NaN   \n",
       "\n",
       "   J11.obs_hand_3  J11.obs_hand_4  J11.obs_hand_5  J12.obs_hand_1  \\\n",
       "0             NaN             NaN             NaN             NaN   \n",
       "1             NaN             NaN             NaN             NaN   \n",
       "2             NaN             NaN             NaN             NaN   \n",
       "3             NaN             NaN             NaN             NaN   \n",
       "4             NaN             NaN             NaN             NaN   \n",
       "\n",
       "   J12.obs_hand_2  J12.obs_hand_3  J12.obs_hand_4  J12.obs_hand_5  \n",
       "0             NaN             NaN             NaN             NaN  \n",
       "1             NaN             NaN             NaN             NaN  \n",
       "2             NaN             NaN             NaN             NaN  \n",
       "3             NaN             NaN             NaN             NaN  \n",
       "4             NaN             NaN             NaN             NaN  \n",
       "\n",
       "[5 rows x 361 columns]"
      ]
     },
     "execution_count": 18,
     "metadata": {},
     "output_type": "execute_result"
    }
   ],
   "source": [
    "data_j.head(5)"
   ]
  },
  {
   "cell_type": "markdown",
   "metadata": {},
   "source": [
    "#### OD"
   ]
  },
  {
   "cell_type": "code",
   "execution_count": 19,
   "metadata": {},
   "outputs": [],
   "source": [
    "data_od = pd.read_excel(\"./decagon-soilmoisture/OD_Decagon_corrections_FINAL.xlsx\", sheetname = 'Data', skiprows = 0, header = 1, usecols = range(76))"
   ]
  },
  {
   "cell_type": "markdown",
   "metadata": {},
   "source": [
    "Note: Use of \"Date\" instead of \"Date-Time\""
   ]
  },
  {
   "cell_type": "code",
   "execution_count": 20,
   "metadata": {},
   "outputs": [],
   "source": [
    "data_od = data_od.drop(labels = [\"Week\", \"Year\"], axis = 1)"
   ]
  },
  {
   "cell_type": "code",
   "execution_count": 21,
   "metadata": {},
   "outputs": [],
   "source": [
    "data_od = data_od.pivot(\"Date\", \"Depth\")"
   ]
  },
  {
   "cell_type": "markdown",
   "metadata": {},
   "source": [
    "https://stackoverflow.com/questions/22113668/convert-list-of-tuples-of-mixed-data-types-into-all-string"
   ]
  },
  {
   "cell_type": "code",
   "execution_count": 22,
   "metadata": {},
   "outputs": [],
   "source": [
    "tuples = [tuple(map(str, val2)) for val2 in data_od]"
   ]
  },
  {
   "cell_type": "code",
   "execution_count": 23,
   "metadata": {},
   "outputs": [],
   "source": [
    "flat_col_names = ['_'.join(col_tuple) for col_tuple in tuples]"
   ]
  },
  {
   "cell_type": "code",
   "execution_count": 24,
   "metadata": {},
   "outputs": [],
   "source": [
    "data_od.columns = flat_col_names"
   ]
  },
  {
   "cell_type": "code",
   "execution_count": 25,
   "metadata": {},
   "outputs": [],
   "source": [
    "data_od = data_od.reset_index()"
   ]
  },
  {
   "cell_type": "code",
   "execution_count": 26,
   "metadata": {},
   "outputs": [
    {
     "data": {
      "text/html": [
       "<div>\n",
       "<table border=\"1\" class=\"dataframe\">\n",
       "  <thead>\n",
       "    <tr style=\"text-align: right;\">\n",
       "      <th></th>\n",
       "      <th>Date</th>\n",
       "      <th>OD-1_1</th>\n",
       "      <th>OD-1_2</th>\n",
       "      <th>OD-1_3</th>\n",
       "      <th>OD-1_4</th>\n",
       "      <th>OD-1_5</th>\n",
       "      <th>OD-2_1</th>\n",
       "      <th>OD-2_2</th>\n",
       "      <th>OD-2_3</th>\n",
       "      <th>OD-2_4</th>\n",
       "      <th>...</th>\n",
       "      <th>OD-11.obs_new_1</th>\n",
       "      <th>OD-11.obs_new_2</th>\n",
       "      <th>OD-11.obs_new_3</th>\n",
       "      <th>OD-11.obs_new_4</th>\n",
       "      <th>OD-11.obs_new_5</th>\n",
       "      <th>OD-12.obs_new_1</th>\n",
       "      <th>OD-12.obs_new_2</th>\n",
       "      <th>OD-12.obs_new_3</th>\n",
       "      <th>OD-12.obs_new_4</th>\n",
       "      <th>OD-12.obs_new_5</th>\n",
       "    </tr>\n",
       "  </thead>\n",
       "  <tbody>\n",
       "    <tr>\n",
       "      <th>0</th>\n",
       "      <td>2011-12-04</td>\n",
       "      <td>0.185089</td>\n",
       "      <td>0.245197</td>\n",
       "      <td>0.288532</td>\n",
       "      <td>0.380638</td>\n",
       "      <td>0.393566</td>\n",
       "      <td>0.198131</td>\n",
       "      <td>0.353326</td>\n",
       "      <td>0.334477</td>\n",
       "      <td>0.272076</td>\n",
       "      <td>...</td>\n",
       "      <td>NaN</td>\n",
       "      <td>NaN</td>\n",
       "      <td>NaN</td>\n",
       "      <td>NaN</td>\n",
       "      <td>NaN</td>\n",
       "      <td>NaN</td>\n",
       "      <td>NaN</td>\n",
       "      <td>NaN</td>\n",
       "      <td>NaN</td>\n",
       "      <td>NaN</td>\n",
       "    </tr>\n",
       "    <tr>\n",
       "      <th>1</th>\n",
       "      <td>2011-12-05</td>\n",
       "      <td>0.184942</td>\n",
       "      <td>0.243595</td>\n",
       "      <td>0.287064</td>\n",
       "      <td>0.380433</td>\n",
       "      <td>0.394028</td>\n",
       "      <td>0.197940</td>\n",
       "      <td>0.344783</td>\n",
       "      <td>0.327793</td>\n",
       "      <td>0.270786</td>\n",
       "      <td>...</td>\n",
       "      <td>NaN</td>\n",
       "      <td>NaN</td>\n",
       "      <td>NaN</td>\n",
       "      <td>NaN</td>\n",
       "      <td>NaN</td>\n",
       "      <td>NaN</td>\n",
       "      <td>NaN</td>\n",
       "      <td>NaN</td>\n",
       "      <td>NaN</td>\n",
       "      <td>NaN</td>\n",
       "    </tr>\n",
       "    <tr>\n",
       "      <th>2</th>\n",
       "      <td>2011-12-06</td>\n",
       "      <td>0.184778</td>\n",
       "      <td>0.242270</td>\n",
       "      <td>0.285843</td>\n",
       "      <td>0.380173</td>\n",
       "      <td>0.394564</td>\n",
       "      <td>0.197797</td>\n",
       "      <td>0.337872</td>\n",
       "      <td>0.322693</td>\n",
       "      <td>0.269239</td>\n",
       "      <td>...</td>\n",
       "      <td>NaN</td>\n",
       "      <td>NaN</td>\n",
       "      <td>NaN</td>\n",
       "      <td>NaN</td>\n",
       "      <td>NaN</td>\n",
       "      <td>NaN</td>\n",
       "      <td>NaN</td>\n",
       "      <td>NaN</td>\n",
       "      <td>NaN</td>\n",
       "      <td>NaN</td>\n",
       "    </tr>\n",
       "    <tr>\n",
       "      <th>3</th>\n",
       "      <td>2011-12-07</td>\n",
       "      <td>0.184778</td>\n",
       "      <td>0.241142</td>\n",
       "      <td>0.284820</td>\n",
       "      <td>0.379834</td>\n",
       "      <td>0.394932</td>\n",
       "      <td>0.197718</td>\n",
       "      <td>0.332383</td>\n",
       "      <td>0.318751</td>\n",
       "      <td>0.267632</td>\n",
       "      <td>...</td>\n",
       "      <td>NaN</td>\n",
       "      <td>NaN</td>\n",
       "      <td>NaN</td>\n",
       "      <td>NaN</td>\n",
       "      <td>NaN</td>\n",
       "      <td>NaN</td>\n",
       "      <td>NaN</td>\n",
       "      <td>NaN</td>\n",
       "      <td>NaN</td>\n",
       "      <td>NaN</td>\n",
       "    </tr>\n",
       "    <tr>\n",
       "      <th>4</th>\n",
       "      <td>2011-12-08</td>\n",
       "      <td>0.184581</td>\n",
       "      <td>0.240268</td>\n",
       "      <td>0.283932</td>\n",
       "      <td>0.379512</td>\n",
       "      <td>0.395199</td>\n",
       "      <td>0.197463</td>\n",
       "      <td>0.328092</td>\n",
       "      <td>0.315557</td>\n",
       "      <td>0.266058</td>\n",
       "      <td>...</td>\n",
       "      <td>NaN</td>\n",
       "      <td>NaN</td>\n",
       "      <td>NaN</td>\n",
       "      <td>NaN</td>\n",
       "      <td>NaN</td>\n",
       "      <td>NaN</td>\n",
       "      <td>NaN</td>\n",
       "      <td>NaN</td>\n",
       "      <td>NaN</td>\n",
       "      <td>NaN</td>\n",
       "    </tr>\n",
       "  </tbody>\n",
       "</table>\n",
       "<p>5 rows × 361 columns</p>\n",
       "</div>"
      ],
      "text/plain": [
       "        Date    OD-1_1    OD-1_2    OD-1_3    OD-1_4    OD-1_5    OD-2_1  \\\n",
       "0 2011-12-04  0.185089  0.245197  0.288532  0.380638  0.393566  0.198131   \n",
       "1 2011-12-05  0.184942  0.243595  0.287064  0.380433  0.394028  0.197940   \n",
       "2 2011-12-06  0.184778  0.242270  0.285843  0.380173  0.394564  0.197797   \n",
       "3 2011-12-07  0.184778  0.241142  0.284820  0.379834  0.394932  0.197718   \n",
       "4 2011-12-08  0.184581  0.240268  0.283932  0.379512  0.395199  0.197463   \n",
       "\n",
       "     OD-2_2    OD-2_3    OD-2_4       ...         OD-11.obs_new_1  \\\n",
       "0  0.353326  0.334477  0.272076       ...                     NaN   \n",
       "1  0.344783  0.327793  0.270786       ...                     NaN   \n",
       "2  0.337872  0.322693  0.269239       ...                     NaN   \n",
       "3  0.332383  0.318751  0.267632       ...                     NaN   \n",
       "4  0.328092  0.315557  0.266058       ...                     NaN   \n",
       "\n",
       "   OD-11.obs_new_2  OD-11.obs_new_3  OD-11.obs_new_4  OD-11.obs_new_5  \\\n",
       "0              NaN              NaN              NaN              NaN   \n",
       "1              NaN              NaN              NaN              NaN   \n",
       "2              NaN              NaN              NaN              NaN   \n",
       "3              NaN              NaN              NaN              NaN   \n",
       "4              NaN              NaN              NaN              NaN   \n",
       "\n",
       "   OD-12.obs_new_1  OD-12.obs_new_2  OD-12.obs_new_3  OD-12.obs_new_4  \\\n",
       "0              NaN              NaN              NaN              NaN   \n",
       "1              NaN              NaN              NaN              NaN   \n",
       "2              NaN              NaN              NaN              NaN   \n",
       "3              NaN              NaN              NaN              NaN   \n",
       "4              NaN              NaN              NaN              NaN   \n",
       "\n",
       "   OD-12.obs_new_5  \n",
       "0              NaN  \n",
       "1              NaN  \n",
       "2              NaN  \n",
       "3              NaN  \n",
       "4              NaN  \n",
       "\n",
       "[5 rows x 361 columns]"
      ]
     },
     "execution_count": 26,
     "metadata": {},
     "output_type": "execute_result"
    }
   ],
   "source": [
    "data_od.head(5)"
   ]
  },
  {
   "cell_type": "code",
   "execution_count": null,
   "metadata": {},
   "outputs": [],
   "source": []
  },
  {
   "cell_type": "markdown",
   "metadata": {},
   "source": [
    "#### Wolff"
   ]
  },
  {
   "cell_type": "code",
   "execution_count": 27,
   "metadata": {},
   "outputs": [],
   "source": [
    "data_w = pd.read_excel(\"./decagon-soilmoisture/Wolff_Decagon_Corrections_FINAL.xlsx\", sheetname = 'Data', skiprows = 0, header = 1, usecols = range(76))"
   ]
  },
  {
   "cell_type": "markdown",
   "metadata": {},
   "source": [
    "Note: Use of \"Date\" instead of \"Date-Time\""
   ]
  },
  {
   "cell_type": "code",
   "execution_count": 28,
   "metadata": {},
   "outputs": [],
   "source": [
    "data_w = data_w.drop(labels = [\"Week\", \"Year\"], axis = 1)"
   ]
  },
  {
   "cell_type": "code",
   "execution_count": 29,
   "metadata": {},
   "outputs": [],
   "source": [
    "data_w = data_w.pivot(\"Date\", \"Depth\")"
   ]
  },
  {
   "cell_type": "markdown",
   "metadata": {},
   "source": [
    "https://stackoverflow.com/questions/22113668/convert-list-of-tuples-of-mixed-data-types-into-all-string"
   ]
  },
  {
   "cell_type": "code",
   "execution_count": 30,
   "metadata": {},
   "outputs": [],
   "source": [
    "tuples = [tuple(map(str, val2)) for val2 in data_w]"
   ]
  },
  {
   "cell_type": "code",
   "execution_count": 31,
   "metadata": {},
   "outputs": [],
   "source": [
    "flat_col_names = ['_'.join(col_tuple) for col_tuple in tuples]"
   ]
  },
  {
   "cell_type": "code",
   "execution_count": 32,
   "metadata": {},
   "outputs": [],
   "source": [
    "data_w.columns = flat_col_names"
   ]
  },
  {
   "cell_type": "code",
   "execution_count": 33,
   "metadata": {},
   "outputs": [],
   "source": [
    "data_w = data_w.reset_index()"
   ]
  },
  {
   "cell_type": "code",
   "execution_count": 34,
   "metadata": {},
   "outputs": [
    {
     "data": {
      "text/html": [
       "<div>\n",
       "<table border=\"1\" class=\"dataframe\">\n",
       "  <thead>\n",
       "    <tr style=\"text-align: right;\">\n",
       "      <th></th>\n",
       "      <th>Date</th>\n",
       "      <th>W1_1</th>\n",
       "      <th>W1_2</th>\n",
       "      <th>W1_3</th>\n",
       "      <th>W1_4</th>\n",
       "      <th>W1_5</th>\n",
       "      <th>W2_1</th>\n",
       "      <th>W2_2</th>\n",
       "      <th>W2_3</th>\n",
       "      <th>W2_4</th>\n",
       "      <th>...</th>\n",
       "      <th>W.obs_11_new_1</th>\n",
       "      <th>W.obs_11_new_2</th>\n",
       "      <th>W.obs_11_new_3</th>\n",
       "      <th>W.obs_11_new_4</th>\n",
       "      <th>W.obs_11_new_5</th>\n",
       "      <th>W.obs_12_new_1</th>\n",
       "      <th>W.obs_12_new_2</th>\n",
       "      <th>W.obs_12_new_3</th>\n",
       "      <th>W.obs_12_new_4</th>\n",
       "      <th>W.obs_12_new_5</th>\n",
       "    </tr>\n",
       "  </thead>\n",
       "  <tbody>\n",
       "    <tr>\n",
       "      <th>0</th>\n",
       "      <td>2011-11-22</td>\n",
       "      <td>0.241346</td>\n",
       "      <td>0.200636</td>\n",
       "      <td>0.220599</td>\n",
       "      <td>0.255078</td>\n",
       "      <td>0.202288</td>\n",
       "      <td>0.199415</td>\n",
       "      <td>0.155185</td>\n",
       "      <td>0.165937</td>\n",
       "      <td>0.163477</td>\n",
       "      <td>...</td>\n",
       "      <td>NaN</td>\n",
       "      <td>NaN</td>\n",
       "      <td>NaN</td>\n",
       "      <td>NaN</td>\n",
       "      <td>NaN</td>\n",
       "      <td>NaN</td>\n",
       "      <td>NaN</td>\n",
       "      <td>NaN</td>\n",
       "      <td>NaN</td>\n",
       "      <td>NaN</td>\n",
       "    </tr>\n",
       "    <tr>\n",
       "      <th>1</th>\n",
       "      <td>2011-11-23</td>\n",
       "      <td>0.232718</td>\n",
       "      <td>0.200586</td>\n",
       "      <td>0.220705</td>\n",
       "      <td>0.255364</td>\n",
       "      <td>0.202698</td>\n",
       "      <td>0.205393</td>\n",
       "      <td>0.155185</td>\n",
       "      <td>0.165937</td>\n",
       "      <td>0.163820</td>\n",
       "      <td>...</td>\n",
       "      <td>NaN</td>\n",
       "      <td>NaN</td>\n",
       "      <td>NaN</td>\n",
       "      <td>NaN</td>\n",
       "      <td>NaN</td>\n",
       "      <td>NaN</td>\n",
       "      <td>NaN</td>\n",
       "      <td>NaN</td>\n",
       "      <td>NaN</td>\n",
       "      <td>NaN</td>\n",
       "    </tr>\n",
       "    <tr>\n",
       "      <th>2</th>\n",
       "      <td>2011-11-24</td>\n",
       "      <td>0.242795</td>\n",
       "      <td>0.200791</td>\n",
       "      <td>0.221472</td>\n",
       "      <td>0.256038</td>\n",
       "      <td>0.203028</td>\n",
       "      <td>0.207029</td>\n",
       "      <td>0.155115</td>\n",
       "      <td>0.165750</td>\n",
       "      <td>0.164401</td>\n",
       "      <td>...</td>\n",
       "      <td>NaN</td>\n",
       "      <td>NaN</td>\n",
       "      <td>NaN</td>\n",
       "      <td>NaN</td>\n",
       "      <td>NaN</td>\n",
       "      <td>NaN</td>\n",
       "      <td>NaN</td>\n",
       "      <td>NaN</td>\n",
       "      <td>NaN</td>\n",
       "      <td>NaN</td>\n",
       "    </tr>\n",
       "    <tr>\n",
       "      <th>3</th>\n",
       "      <td>2011-11-25</td>\n",
       "      <td>0.247554</td>\n",
       "      <td>0.200823</td>\n",
       "      <td>0.222043</td>\n",
       "      <td>0.256670</td>\n",
       "      <td>0.203295</td>\n",
       "      <td>0.223914</td>\n",
       "      <td>0.155185</td>\n",
       "      <td>0.165255</td>\n",
       "      <td>0.165016</td>\n",
       "      <td>...</td>\n",
       "      <td>NaN</td>\n",
       "      <td>NaN</td>\n",
       "      <td>NaN</td>\n",
       "      <td>NaN</td>\n",
       "      <td>NaN</td>\n",
       "      <td>NaN</td>\n",
       "      <td>NaN</td>\n",
       "      <td>NaN</td>\n",
       "      <td>NaN</td>\n",
       "      <td>NaN</td>\n",
       "    </tr>\n",
       "    <tr>\n",
       "      <th>4</th>\n",
       "      <td>2011-11-26</td>\n",
       "      <td>0.237257</td>\n",
       "      <td>0.200223</td>\n",
       "      <td>0.222043</td>\n",
       "      <td>0.257177</td>\n",
       "      <td>0.203625</td>\n",
       "      <td>0.219615</td>\n",
       "      <td>0.154959</td>\n",
       "      <td>0.165238</td>\n",
       "      <td>0.165221</td>\n",
       "      <td>...</td>\n",
       "      <td>NaN</td>\n",
       "      <td>NaN</td>\n",
       "      <td>NaN</td>\n",
       "      <td>NaN</td>\n",
       "      <td>NaN</td>\n",
       "      <td>NaN</td>\n",
       "      <td>NaN</td>\n",
       "      <td>NaN</td>\n",
       "      <td>NaN</td>\n",
       "      <td>NaN</td>\n",
       "    </tr>\n",
       "  </tbody>\n",
       "</table>\n",
       "<p>5 rows × 361 columns</p>\n",
       "</div>"
      ],
      "text/plain": [
       "        Date      W1_1      W1_2      W1_3      W1_4      W1_5      W2_1  \\\n",
       "0 2011-11-22  0.241346  0.200636  0.220599  0.255078  0.202288  0.199415   \n",
       "1 2011-11-23  0.232718  0.200586  0.220705  0.255364  0.202698  0.205393   \n",
       "2 2011-11-24  0.242795  0.200791  0.221472  0.256038  0.203028  0.207029   \n",
       "3 2011-11-25  0.247554  0.200823  0.222043  0.256670  0.203295  0.223914   \n",
       "4 2011-11-26  0.237257  0.200223  0.222043  0.257177  0.203625  0.219615   \n",
       "\n",
       "       W2_2      W2_3      W2_4       ...        W.obs_11_new_1  \\\n",
       "0  0.155185  0.165937  0.163477       ...                   NaN   \n",
       "1  0.155185  0.165937  0.163820       ...                   NaN   \n",
       "2  0.155115  0.165750  0.164401       ...                   NaN   \n",
       "3  0.155185  0.165255  0.165016       ...                   NaN   \n",
       "4  0.154959  0.165238  0.165221       ...                   NaN   \n",
       "\n",
       "   W.obs_11_new_2  W.obs_11_new_3  W.obs_11_new_4  W.obs_11_new_5  \\\n",
       "0             NaN             NaN             NaN             NaN   \n",
       "1             NaN             NaN             NaN             NaN   \n",
       "2             NaN             NaN             NaN             NaN   \n",
       "3             NaN             NaN             NaN             NaN   \n",
       "4             NaN             NaN             NaN             NaN   \n",
       "\n",
       "   W.obs_12_new_1  W.obs_12_new_2  W.obs_12_new_3  W.obs_12_new_4  \\\n",
       "0             NaN             NaN             NaN             NaN   \n",
       "1             NaN             NaN             NaN             NaN   \n",
       "2             NaN             NaN             NaN             NaN   \n",
       "3             NaN             NaN             NaN             NaN   \n",
       "4             NaN             NaN             NaN             NaN   \n",
       "\n",
       "   W.obs_12_new_5  \n",
       "0             NaN  \n",
       "1             NaN  \n",
       "2             NaN  \n",
       "3             NaN  \n",
       "4             NaN  \n",
       "\n",
       "[5 rows x 361 columns]"
      ]
     },
     "execution_count": 34,
     "metadata": {},
     "output_type": "execute_result"
    }
   ],
   "source": [
    "data_w.head(5)"
   ]
  },
  {
   "cell_type": "markdown",
   "metadata": {},
   "source": [
    "Saving Output Data for each to CSV"
   ]
  },
  {
   "cell_type": "code",
   "execution_count": 35,
   "metadata": {},
   "outputs": [],
   "source": [
    "data_aes.to_csv('./output_data/soil_moisture_AES.csv', index=False)"
   ]
  },
  {
   "cell_type": "code",
   "execution_count": 36,
   "metadata": {},
   "outputs": [],
   "source": [
    "data_j.to_csv('./output_data/soil_moisture_J.csv', index=False)"
   ]
  },
  {
   "cell_type": "code",
   "execution_count": 37,
   "metadata": {},
   "outputs": [],
   "source": [
    "data_od.to_csv('./output_data/soil_moisture_OD.csv', index=False)"
   ]
  },
  {
   "cell_type": "code",
   "execution_count": 38,
   "metadata": {},
   "outputs": [],
   "source": [
    "data_w.to_csv('./output_data/soil_moisture_W.csv', index=False)"
   ]
  },
  {
   "cell_type": "code",
   "execution_count": null,
   "metadata": {},
   "outputs": [],
   "source": []
  }
 ],
 "metadata": {
  "kernelspec": {
   "display_name": "Python 3",
   "language": "python",
   "name": "python3"
  },
  "language_info": {
   "codemirror_mode": {
    "name": "ipython",
    "version": 3
   },
   "file_extension": ".py",
   "mimetype": "text/x-python",
   "name": "python",
   "nbconvert_exporter": "python",
   "pygments_lexer": "ipython3",
   "version": "3.6.0"
  }
 },
 "nbformat": 4,
 "nbformat_minor": 2
}
