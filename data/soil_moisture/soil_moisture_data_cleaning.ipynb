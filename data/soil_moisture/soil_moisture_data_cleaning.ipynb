{
 "cells": [
  {
   "cell_type": "markdown",
   "metadata": {},
   "source": [
    "### Soil Moisture Data Cleaning\n",
    "\n",
    "Rev0\n",
    "\n",
    "Samir D. Patel\n",
    "\n",
    "1/2/2018"
   ]
  },
  {
   "cell_type": "markdown",
   "metadata": {},
   "source": [
    " "
   ]
  },
  {
   "cell_type": "markdown",
   "metadata": {},
   "source": [
    "This notebook takes the \"_Decagaon_Corrections\" Excel data for soil moisture across each of the four field sites (Aeschliman, Jones, OD and Wolff) and imports/cleans/exports the relevant moisture data in CSV format."
   ]
  },
  {
   "cell_type": "code",
   "execution_count": 1,
   "metadata": {},
   "outputs": [],
   "source": [
    "import pandas as pd"
   ]
  },
  {
   "cell_type": "markdown",
   "metadata": {},
   "source": [
    " "
   ]
  },
  {
   "cell_type": "markdown",
   "metadata": {},
   "source": [
    "#### Aeschliman"
   ]
  },
  {
   "cell_type": "markdown",
   "metadata": {},
   "source": [
    "Import of data from Excel sheet to Pandas.  Location of file currently set locally, will need change."
   ]
  },
  {
   "cell_type": "code",
   "execution_count": 55,
   "metadata": {},
   "outputs": [],
   "source": [
    "data_aes= pd.read_excel(\"./decagon-soilmoisture/Aeschliman_Decagon_corrections_FINAL.xlsx\", sheetname = 'Data', skiprows = 0, usecols=range(36), header = 1)"
   ]
  },
  {
   "cell_type": "code",
   "execution_count": 56,
   "metadata": {},
   "outputs": [],
   "source": [
    "data_aes = data_aes.rename(columns = {'Date-Time':'Date'})"
   ]
  },
  {
   "cell_type": "code",
   "execution_count": 57,
   "metadata": {},
   "outputs": [],
   "source": [
    "data_aes[\"Field\"] = \"AES\""
   ]
  },
  {
   "cell_type": "code",
   "execution_count": 58,
   "metadata": {},
   "outputs": [],
   "source": [
    "data_aes = pd.melt(data_aes, id_vars=['Depth', 'Date', 'Field'], var_name='Sensor_Full_Name', value_name='Soil_Moisture')"
   ]
  },
  {
   "cell_type": "code",
   "execution_count": 59,
   "metadata": {},
   "outputs": [],
   "source": [
    "data_aes ['Sensor Number'] = data_aes['Sensor_Full_Name'].str.strip()"
   ]
  },
  {
   "cell_type": "code",
   "execution_count": 60,
   "metadata": {},
   "outputs": [
    {
     "name": "stderr",
     "output_type": "stream",
     "text": [
      "C:\\Users\\Samir\\Anaconda3\\lib\\site-packages\\ipykernel\\__main__.py:1: FutureWarning: currently extract(expand=None) means expand=False (return Index/Series/DataFrame) but in a future version of pandas this will be changed to expand=True (return DataFrame)\n",
      "  if __name__ == '__main__':\n"
     ]
    }
   ],
   "source": [
    "data_aes['Sensor Number'] = data_aes['Sensor Number'].str.extract('(\\d+)').astype(int)"
   ]
  },
  {
   "cell_type": "code",
   "execution_count": 61,
   "metadata": {},
   "outputs": [
    {
     "data": {
      "text/html": [
       "<div>\n",
       "<table border=\"1\" class=\"dataframe\">\n",
       "  <thead>\n",
       "    <tr style=\"text-align: right;\">\n",
       "      <th></th>\n",
       "      <th>Depth</th>\n",
       "      <th>Date</th>\n",
       "      <th>Field</th>\n",
       "      <th>Sensor_Full_Name</th>\n",
       "      <th>Soil_Moisture</th>\n",
       "      <th>Sensor Number</th>\n",
       "    </tr>\n",
       "  </thead>\n",
       "  <tbody>\n",
       "    <tr>\n",
       "      <th>305825</th>\n",
       "      <td>5</td>\n",
       "      <td>2016-09-26</td>\n",
       "      <td>AES</td>\n",
       "      <td>A12-C</td>\n",
       "      <td>NaN</td>\n",
       "      <td>12</td>\n",
       "    </tr>\n",
       "    <tr>\n",
       "      <th>305826</th>\n",
       "      <td>5</td>\n",
       "      <td>2016-09-27</td>\n",
       "      <td>AES</td>\n",
       "      <td>A12-C</td>\n",
       "      <td>NaN</td>\n",
       "      <td>12</td>\n",
       "    </tr>\n",
       "    <tr>\n",
       "      <th>305827</th>\n",
       "      <td>5</td>\n",
       "      <td>2016-09-28</td>\n",
       "      <td>AES</td>\n",
       "      <td>A12-C</td>\n",
       "      <td>NaN</td>\n",
       "      <td>12</td>\n",
       "    </tr>\n",
       "    <tr>\n",
       "      <th>305828</th>\n",
       "      <td>5</td>\n",
       "      <td>2016-09-29</td>\n",
       "      <td>AES</td>\n",
       "      <td>A12-C</td>\n",
       "      <td>NaN</td>\n",
       "      <td>12</td>\n",
       "    </tr>\n",
       "    <tr>\n",
       "      <th>305829</th>\n",
       "      <td>5</td>\n",
       "      <td>2016-09-30</td>\n",
       "      <td>AES</td>\n",
       "      <td>A12-C</td>\n",
       "      <td>NaN</td>\n",
       "      <td>12</td>\n",
       "    </tr>\n",
       "  </tbody>\n",
       "</table>\n",
       "</div>"
      ],
      "text/plain": [
       "        Depth       Date Field Sensor_Full_Name  Soil_Moisture  Sensor Number\n",
       "305825      5 2016-09-26   AES            A12-C            NaN             12\n",
       "305826      5 2016-09-27   AES            A12-C            NaN             12\n",
       "305827      5 2016-09-28   AES            A12-C            NaN             12\n",
       "305828      5 2016-09-29   AES            A12-C            NaN             12\n",
       "305829      5 2016-09-30   AES            A12-C            NaN             12"
      ]
     },
     "execution_count": 61,
     "metadata": {},
     "output_type": "execute_result"
    }
   ],
   "source": [
    "data_aes.tail(5)"
   ]
  },
  {
   "cell_type": "markdown",
   "metadata": {},
   "source": [
    " "
   ]
  },
  {
   "cell_type": "markdown",
   "metadata": {},
   "source": [
    "#### Jones"
   ]
  },
  {
   "cell_type": "code",
   "execution_count": 9,
   "metadata": {},
   "outputs": [],
   "source": [
    "data_j= pd.read_excel(\"./decagon-soilmoisture/Jones_Decagon_corrections_FINAL.xlsx\", sheetname = 'Data', usecols=range(76), skiprows = 0, header = 1)"
   ]
  },
  {
   "cell_type": "markdown",
   "metadata": {},
   "source": [
    "Note: Use of \"Date\" instead of \"Date-Time\""
   ]
  },
  {
   "cell_type": "code",
   "execution_count": 10,
   "metadata": {},
   "outputs": [],
   "source": [
    "data_j = data_j.drop(labels = [\"Week\", \"Year\"], axis = 1)"
   ]
  },
  {
   "cell_type": "markdown",
   "metadata": {},
   "source": [
    "Changing \"Date \" column name (removing space at the end) to \"Date\" to match other field sites"
   ]
  },
  {
   "cell_type": "code",
   "execution_count": 11,
   "metadata": {},
   "outputs": [],
   "source": [
    "data_j = data_j.rename(columns = {'Date ':'Date'})"
   ]
  },
  {
   "cell_type": "code",
   "execution_count": 12,
   "metadata": {},
   "outputs": [],
   "source": [
    "data_j[\"Field\"] = \"J\""
   ]
  },
  {
   "cell_type": "code",
   "execution_count": 13,
   "metadata": {},
   "outputs": [],
   "source": [
    "data_j = pd.melt(data_j, id_vars=['Depth', 'Date', 'Field'], var_name='Sensor_Full_Name', value_name='Soil_Moisture')"
   ]
  },
  {
   "cell_type": "code",
   "execution_count": 14,
   "metadata": {},
   "outputs": [],
   "source": [
    "data_j ['Sensor Number'] = data_j['Sensor_Full_Name'].str.strip()"
   ]
  },
  {
   "cell_type": "code",
   "execution_count": 15,
   "metadata": {},
   "outputs": [
    {
     "name": "stderr",
     "output_type": "stream",
     "text": [
      "C:\\Users\\Samir\\Anaconda3\\lib\\site-packages\\ipykernel\\__main__.py:1: FutureWarning: currently extract(expand=None) means expand=False (return Index/Series/DataFrame) but in a future version of pandas this will be changed to expand=True (return DataFrame)\n",
      "  if __name__ == '__main__':\n"
     ]
    }
   ],
   "source": [
    "data_j['Sensor Number'] = data_j['Sensor Number'].str.extract('(\\d+)').astype(int)"
   ]
  },
  {
   "cell_type": "code",
   "execution_count": 16,
   "metadata": {},
   "outputs": [
    {
     "data": {
      "text/html": [
       "<div>\n",
       "<table border=\"1\" class=\"dataframe\">\n",
       "  <thead>\n",
       "    <tr style=\"text-align: right;\">\n",
       "      <th></th>\n",
       "      <th>Depth</th>\n",
       "      <th>Date</th>\n",
       "      <th>Field</th>\n",
       "      <th>Sensor_Full_Name</th>\n",
       "      <th>Soil_Moisture</th>\n",
       "      <th>Sensor Number</th>\n",
       "    </tr>\n",
       "  </thead>\n",
       "  <tbody>\n",
       "    <tr>\n",
       "      <th>642595</th>\n",
       "      <td>5</td>\n",
       "      <td>2016-09-26</td>\n",
       "      <td>J</td>\n",
       "      <td>J12.obs_hand</td>\n",
       "      <td>NaN</td>\n",
       "      <td>12</td>\n",
       "    </tr>\n",
       "    <tr>\n",
       "      <th>642596</th>\n",
       "      <td>5</td>\n",
       "      <td>2016-09-27</td>\n",
       "      <td>J</td>\n",
       "      <td>J12.obs_hand</td>\n",
       "      <td>NaN</td>\n",
       "      <td>12</td>\n",
       "    </tr>\n",
       "    <tr>\n",
       "      <th>642597</th>\n",
       "      <td>5</td>\n",
       "      <td>2016-09-28</td>\n",
       "      <td>J</td>\n",
       "      <td>J12.obs_hand</td>\n",
       "      <td>NaN</td>\n",
       "      <td>12</td>\n",
       "    </tr>\n",
       "    <tr>\n",
       "      <th>642598</th>\n",
       "      <td>5</td>\n",
       "      <td>2016-09-29</td>\n",
       "      <td>J</td>\n",
       "      <td>J12.obs_hand</td>\n",
       "      <td>NaN</td>\n",
       "      <td>12</td>\n",
       "    </tr>\n",
       "    <tr>\n",
       "      <th>642599</th>\n",
       "      <td>5</td>\n",
       "      <td>2016-09-30</td>\n",
       "      <td>J</td>\n",
       "      <td>J12.obs_hand</td>\n",
       "      <td>NaN</td>\n",
       "      <td>12</td>\n",
       "    </tr>\n",
       "  </tbody>\n",
       "</table>\n",
       "</div>"
      ],
      "text/plain": [
       "        Depth       Date Field Sensor_Full_Name  Soil_Moisture  Sensor Number\n",
       "642595      5 2016-09-26     J     J12.obs_hand            NaN             12\n",
       "642596      5 2016-09-27     J     J12.obs_hand            NaN             12\n",
       "642597      5 2016-09-28     J     J12.obs_hand            NaN             12\n",
       "642598      5 2016-09-29     J     J12.obs_hand            NaN             12\n",
       "642599      5 2016-09-30     J     J12.obs_hand            NaN             12"
      ]
     },
     "execution_count": 16,
     "metadata": {},
     "output_type": "execute_result"
    }
   ],
   "source": [
    "data_j.tail(5)"
   ]
  },
  {
   "cell_type": "markdown",
   "metadata": {},
   "source": [
    "#### OD"
   ]
  },
  {
   "cell_type": "code",
   "execution_count": 17,
   "metadata": {},
   "outputs": [],
   "source": [
    "data_od = pd.read_excel(\"./decagon-soilmoisture/OD_Decagon_corrections_FINAL.xlsx\", sheetname = 'Data', skiprows = 0, header = 1, usecols = range(76))"
   ]
  },
  {
   "cell_type": "markdown",
   "metadata": {},
   "source": [
    "Note: Use of \"Date\" instead of \"Date-Time\""
   ]
  },
  {
   "cell_type": "code",
   "execution_count": 18,
   "metadata": {},
   "outputs": [],
   "source": [
    "data_od = data_od.drop(labels = [\"Week\", \"Year\"], axis = 1)"
   ]
  },
  {
   "cell_type": "code",
   "execution_count": 19,
   "metadata": {},
   "outputs": [],
   "source": [
    "data_od[\"Field\"] = \"OD\""
   ]
  },
  {
   "cell_type": "code",
   "execution_count": 20,
   "metadata": {},
   "outputs": [],
   "source": [
    "data_od = pd.melt(data_od, id_vars=['Depth', 'Date', 'Field'], var_name='Sensor_Full_Name', value_name='Soil_Moisture')"
   ]
  },
  {
   "cell_type": "code",
   "execution_count": 21,
   "metadata": {},
   "outputs": [],
   "source": [
    "data_od ['Sensor Number'] = data_od['Sensor_Full_Name'].str.strip()"
   ]
  },
  {
   "cell_type": "code",
   "execution_count": 22,
   "metadata": {},
   "outputs": [
    {
     "name": "stderr",
     "output_type": "stream",
     "text": [
      "C:\\Users\\Samir\\Anaconda3\\lib\\site-packages\\ipykernel\\__main__.py:1: FutureWarning: currently extract(expand=None) means expand=False (return Index/Series/DataFrame) but in a future version of pandas this will be changed to expand=True (return DataFrame)\n",
      "  if __name__ == '__main__':\n"
     ]
    }
   ],
   "source": [
    "data_od['Sensor Number'] = data_od['Sensor Number'].str.extract('(\\d+)').astype(int)"
   ]
  },
  {
   "cell_type": "code",
   "execution_count": 23,
   "metadata": {},
   "outputs": [
    {
     "data": {
      "text/html": [
       "<div>\n",
       "<table border=\"1\" class=\"dataframe\">\n",
       "  <thead>\n",
       "    <tr style=\"text-align: right;\">\n",
       "      <th></th>\n",
       "      <th>Depth</th>\n",
       "      <th>Date</th>\n",
       "      <th>Field</th>\n",
       "      <th>Sensor_Full_Name</th>\n",
       "      <th>Soil_Moisture</th>\n",
       "      <th>Sensor Number</th>\n",
       "    </tr>\n",
       "  </thead>\n",
       "  <tbody>\n",
       "    <tr>\n",
       "      <th>0</th>\n",
       "      <td>1</td>\n",
       "      <td>2011-12-04</td>\n",
       "      <td>OD</td>\n",
       "      <td>OD-1</td>\n",
       "      <td>0.185089</td>\n",
       "      <td>1</td>\n",
       "    </tr>\n",
       "    <tr>\n",
       "      <th>1</th>\n",
       "      <td>1</td>\n",
       "      <td>2011-12-05</td>\n",
       "      <td>OD</td>\n",
       "      <td>OD-1</td>\n",
       "      <td>0.184942</td>\n",
       "      <td>1</td>\n",
       "    </tr>\n",
       "    <tr>\n",
       "      <th>2</th>\n",
       "      <td>1</td>\n",
       "      <td>2011-12-06</td>\n",
       "      <td>OD</td>\n",
       "      <td>OD-1</td>\n",
       "      <td>0.184778</td>\n",
       "      <td>1</td>\n",
       "    </tr>\n",
       "    <tr>\n",
       "      <th>3</th>\n",
       "      <td>1</td>\n",
       "      <td>2011-12-07</td>\n",
       "      <td>OD</td>\n",
       "      <td>OD-1</td>\n",
       "      <td>0.184778</td>\n",
       "      <td>1</td>\n",
       "    </tr>\n",
       "    <tr>\n",
       "      <th>4</th>\n",
       "      <td>1</td>\n",
       "      <td>2011-12-08</td>\n",
       "      <td>OD</td>\n",
       "      <td>OD-1</td>\n",
       "      <td>0.184581</td>\n",
       "      <td>1</td>\n",
       "    </tr>\n",
       "  </tbody>\n",
       "</table>\n",
       "</div>"
      ],
      "text/plain": [
       "   Depth       Date Field Sensor_Full_Name  Soil_Moisture  Sensor Number\n",
       "0      1 2011-12-04    OD             OD-1       0.185089              1\n",
       "1      1 2011-12-05    OD             OD-1       0.184942              1\n",
       "2      1 2011-12-06    OD             OD-1       0.184778              1\n",
       "3      1 2011-12-07    OD             OD-1       0.184778              1\n",
       "4      1 2011-12-08    OD             OD-1       0.184581              1"
      ]
     },
     "execution_count": 23,
     "metadata": {},
     "output_type": "execute_result"
    }
   ],
   "source": [
    "data_od.head(5)"
   ]
  },
  {
   "cell_type": "code",
   "execution_count": 50,
   "metadata": {},
   "outputs": [
    {
     "data": {
      "text/html": [
       "<div>\n",
       "<table border=\"1\" class=\"dataframe\">\n",
       "  <thead>\n",
       "    <tr style=\"text-align: right;\">\n",
       "      <th></th>\n",
       "      <th>Depth</th>\n",
       "      <th>Date</th>\n",
       "      <th>Field</th>\n",
       "      <th>Sensor_Full_Name</th>\n",
       "      <th>Soil_Moisture</th>\n",
       "      <th>Sensor Number</th>\n",
       "    </tr>\n",
       "  </thead>\n",
       "  <tbody>\n",
       "    <tr>\n",
       "      <th>0</th>\n",
       "      <td>1</td>\n",
       "      <td>2011-10-29</td>\n",
       "      <td>AES</td>\n",
       "      <td>A1</td>\n",
       "      <td>0.264665</td>\n",
       "      <td>1</td>\n",
       "    </tr>\n",
       "    <tr>\n",
       "      <th>1</th>\n",
       "      <td>1</td>\n",
       "      <td>2011-10-30</td>\n",
       "      <td>AES</td>\n",
       "      <td>A1</td>\n",
       "      <td>0.264987</td>\n",
       "      <td>1</td>\n",
       "    </tr>\n",
       "    <tr>\n",
       "      <th>2</th>\n",
       "      <td>1</td>\n",
       "      <td>2011-10-31</td>\n",
       "      <td>AES</td>\n",
       "      <td>A1</td>\n",
       "      <td>0.264665</td>\n",
       "      <td>1</td>\n",
       "    </tr>\n",
       "    <tr>\n",
       "      <th>3</th>\n",
       "      <td>1</td>\n",
       "      <td>2011-11-01</td>\n",
       "      <td>AES</td>\n",
       "      <td>A1</td>\n",
       "      <td>0.264987</td>\n",
       "      <td>1</td>\n",
       "    </tr>\n",
       "    <tr>\n",
       "      <th>4</th>\n",
       "      <td>1</td>\n",
       "      <td>2011-11-02</td>\n",
       "      <td>AES</td>\n",
       "      <td>A1</td>\n",
       "      <td>0.264342</td>\n",
       "      <td>1</td>\n",
       "    </tr>\n",
       "    <tr>\n",
       "      <th>5</th>\n",
       "      <td>1</td>\n",
       "      <td>2011-11-03</td>\n",
       "      <td>AES</td>\n",
       "      <td>A1</td>\n",
       "      <td>0.263050</td>\n",
       "      <td>1</td>\n",
       "    </tr>\n",
       "    <tr>\n",
       "      <th>6</th>\n",
       "      <td>1</td>\n",
       "      <td>2011-11-04</td>\n",
       "      <td>AES</td>\n",
       "      <td>A1</td>\n",
       "      <td>0.262402</td>\n",
       "      <td>1</td>\n",
       "    </tr>\n",
       "    <tr>\n",
       "      <th>7</th>\n",
       "      <td>1</td>\n",
       "      <td>2011-11-05</td>\n",
       "      <td>AES</td>\n",
       "      <td>A1</td>\n",
       "      <td>0.261753</td>\n",
       "      <td>1</td>\n",
       "    </tr>\n",
       "    <tr>\n",
       "      <th>8</th>\n",
       "      <td>1</td>\n",
       "      <td>2011-11-06</td>\n",
       "      <td>AES</td>\n",
       "      <td>A1</td>\n",
       "      <td>0.260778</td>\n",
       "      <td>1</td>\n",
       "    </tr>\n",
       "    <tr>\n",
       "      <th>9</th>\n",
       "      <td>1</td>\n",
       "      <td>2011-11-07</td>\n",
       "      <td>AES</td>\n",
       "      <td>A1</td>\n",
       "      <td>0.260126</td>\n",
       "      <td>1</td>\n",
       "    </tr>\n",
       "    <tr>\n",
       "      <th>10</th>\n",
       "      <td>1</td>\n",
       "      <td>2011-11-08</td>\n",
       "      <td>AES</td>\n",
       "      <td>A1</td>\n",
       "      <td>0.259145</td>\n",
       "      <td>1</td>\n",
       "    </tr>\n",
       "    <tr>\n",
       "      <th>11</th>\n",
       "      <td>1</td>\n",
       "      <td>2011-11-09</td>\n",
       "      <td>AES</td>\n",
       "      <td>A1</td>\n",
       "      <td>0.259472</td>\n",
       "      <td>1</td>\n",
       "    </tr>\n",
       "    <tr>\n",
       "      <th>12</th>\n",
       "      <td>1</td>\n",
       "      <td>2011-11-10</td>\n",
       "      <td>AES</td>\n",
       "      <td>A1</td>\n",
       "      <td>0.259145</td>\n",
       "      <td>1</td>\n",
       "    </tr>\n",
       "    <tr>\n",
       "      <th>13</th>\n",
       "      <td>1</td>\n",
       "      <td>2011-11-11</td>\n",
       "      <td>AES</td>\n",
       "      <td>A1</td>\n",
       "      <td>0.259145</td>\n",
       "      <td>1</td>\n",
       "    </tr>\n",
       "    <tr>\n",
       "      <th>14</th>\n",
       "      <td>1</td>\n",
       "      <td>2011-11-12</td>\n",
       "      <td>AES</td>\n",
       "      <td>A1</td>\n",
       "      <td>0.259145</td>\n",
       "      <td>1</td>\n",
       "    </tr>\n",
       "    <tr>\n",
       "      <th>15</th>\n",
       "      <td>1</td>\n",
       "      <td>2011-11-13</td>\n",
       "      <td>AES</td>\n",
       "      <td>A1</td>\n",
       "      <td>0.258163</td>\n",
       "      <td>1</td>\n",
       "    </tr>\n",
       "    <tr>\n",
       "      <th>16</th>\n",
       "      <td>1</td>\n",
       "      <td>2011-11-14</td>\n",
       "      <td>AES</td>\n",
       "      <td>A1</td>\n",
       "      <td>0.257506</td>\n",
       "      <td>1</td>\n",
       "    </tr>\n",
       "    <tr>\n",
       "      <th>17</th>\n",
       "      <td>1</td>\n",
       "      <td>2011-11-15</td>\n",
       "      <td>AES</td>\n",
       "      <td>A1</td>\n",
       "      <td>0.257506</td>\n",
       "      <td>1</td>\n",
       "    </tr>\n",
       "    <tr>\n",
       "      <th>18</th>\n",
       "      <td>1</td>\n",
       "      <td>2011-11-16</td>\n",
       "      <td>AES</td>\n",
       "      <td>A1</td>\n",
       "      <td>0.255859</td>\n",
       "      <td>1</td>\n",
       "    </tr>\n",
       "    <tr>\n",
       "      <th>19</th>\n",
       "      <td>1</td>\n",
       "      <td>2011-11-17</td>\n",
       "      <td>AES</td>\n",
       "      <td>A1</td>\n",
       "      <td>0.254867</td>\n",
       "      <td>1</td>\n",
       "    </tr>\n",
       "    <tr>\n",
       "      <th>20</th>\n",
       "      <td>1</td>\n",
       "      <td>2011-11-18</td>\n",
       "      <td>AES</td>\n",
       "      <td>A1</td>\n",
       "      <td>0.254867</td>\n",
       "      <td>1</td>\n",
       "    </tr>\n",
       "    <tr>\n",
       "      <th>21</th>\n",
       "      <td>1</td>\n",
       "      <td>2011-11-19</td>\n",
       "      <td>AES</td>\n",
       "      <td>A1</td>\n",
       "      <td>0.254536</td>\n",
       "      <td>1</td>\n",
       "    </tr>\n",
       "    <tr>\n",
       "      <th>22</th>\n",
       "      <td>1</td>\n",
       "      <td>2011-11-20</td>\n",
       "      <td>AES</td>\n",
       "      <td>A1</td>\n",
       "      <td>0.253873</td>\n",
       "      <td>1</td>\n",
       "    </tr>\n",
       "    <tr>\n",
       "      <th>23</th>\n",
       "      <td>1</td>\n",
       "      <td>2011-11-21</td>\n",
       "      <td>AES</td>\n",
       "      <td>A1</td>\n",
       "      <td>0.253873</td>\n",
       "      <td>1</td>\n",
       "    </tr>\n",
       "    <tr>\n",
       "      <th>24</th>\n",
       "      <td>1</td>\n",
       "      <td>2011-11-22</td>\n",
       "      <td>AES</td>\n",
       "      <td>A1</td>\n",
       "      <td>0.253541</td>\n",
       "      <td>1</td>\n",
       "    </tr>\n",
       "    <tr>\n",
       "      <th>25</th>\n",
       "      <td>1</td>\n",
       "      <td>2011-11-23</td>\n",
       "      <td>AES</td>\n",
       "      <td>A1</td>\n",
       "      <td>0.275450</td>\n",
       "      <td>1</td>\n",
       "    </tr>\n",
       "    <tr>\n",
       "      <th>26</th>\n",
       "      <td>1</td>\n",
       "      <td>2011-11-24</td>\n",
       "      <td>AES</td>\n",
       "      <td>A1</td>\n",
       "      <td>0.276074</td>\n",
       "      <td>1</td>\n",
       "    </tr>\n",
       "    <tr>\n",
       "      <th>27</th>\n",
       "      <td>1</td>\n",
       "      <td>2011-11-25</td>\n",
       "      <td>AES</td>\n",
       "      <td>A1</td>\n",
       "      <td>0.275138</td>\n",
       "      <td>1</td>\n",
       "    </tr>\n",
       "    <tr>\n",
       "      <th>28</th>\n",
       "      <td>1</td>\n",
       "      <td>2011-11-26</td>\n",
       "      <td>AES</td>\n",
       "      <td>A1</td>\n",
       "      <td>0.275762</td>\n",
       "      <td>1</td>\n",
       "    </tr>\n",
       "    <tr>\n",
       "      <th>29</th>\n",
       "      <td>1</td>\n",
       "      <td>2011-11-27</td>\n",
       "      <td>AES</td>\n",
       "      <td>A1</td>\n",
       "      <td>0.274199</td>\n",
       "      <td>1</td>\n",
       "    </tr>\n",
       "    <tr>\n",
       "      <th>...</th>\n",
       "      <td>...</td>\n",
       "      <td>...</td>\n",
       "      <td>...</td>\n",
       "      <td>...</td>\n",
       "      <td>...</td>\n",
       "      <td>...</td>\n",
       "    </tr>\n",
       "    <tr>\n",
       "      <th>585474</th>\n",
       "      <td>5</td>\n",
       "      <td>2016-04-04</td>\n",
       "      <td>W</td>\n",
       "      <td>W.obs_12_new</td>\n",
       "      <td>NaN</td>\n",
       "      <td>12</td>\n",
       "    </tr>\n",
       "    <tr>\n",
       "      <th>585475</th>\n",
       "      <td>5</td>\n",
       "      <td>2016-04-05</td>\n",
       "      <td>W</td>\n",
       "      <td>W.obs_12_new</td>\n",
       "      <td>NaN</td>\n",
       "      <td>12</td>\n",
       "    </tr>\n",
       "    <tr>\n",
       "      <th>585476</th>\n",
       "      <td>5</td>\n",
       "      <td>2016-04-06</td>\n",
       "      <td>W</td>\n",
       "      <td>W.obs_12_new</td>\n",
       "      <td>NaN</td>\n",
       "      <td>12</td>\n",
       "    </tr>\n",
       "    <tr>\n",
       "      <th>585477</th>\n",
       "      <td>5</td>\n",
       "      <td>2016-04-07</td>\n",
       "      <td>W</td>\n",
       "      <td>W.obs_12_new</td>\n",
       "      <td>NaN</td>\n",
       "      <td>12</td>\n",
       "    </tr>\n",
       "    <tr>\n",
       "      <th>585478</th>\n",
       "      <td>5</td>\n",
       "      <td>2016-04-08</td>\n",
       "      <td>W</td>\n",
       "      <td>W.obs_12_new</td>\n",
       "      <td>NaN</td>\n",
       "      <td>12</td>\n",
       "    </tr>\n",
       "    <tr>\n",
       "      <th>585479</th>\n",
       "      <td>5</td>\n",
       "      <td>2016-04-09</td>\n",
       "      <td>W</td>\n",
       "      <td>W.obs_12_new</td>\n",
       "      <td>NaN</td>\n",
       "      <td>12</td>\n",
       "    </tr>\n",
       "    <tr>\n",
       "      <th>585480</th>\n",
       "      <td>5</td>\n",
       "      <td>2016-04-10</td>\n",
       "      <td>W</td>\n",
       "      <td>W.obs_12_new</td>\n",
       "      <td>NaN</td>\n",
       "      <td>12</td>\n",
       "    </tr>\n",
       "    <tr>\n",
       "      <th>585481</th>\n",
       "      <td>5</td>\n",
       "      <td>2016-04-11</td>\n",
       "      <td>W</td>\n",
       "      <td>W.obs_12_new</td>\n",
       "      <td>NaN</td>\n",
       "      <td>12</td>\n",
       "    </tr>\n",
       "    <tr>\n",
       "      <th>585482</th>\n",
       "      <td>5</td>\n",
       "      <td>2016-04-12</td>\n",
       "      <td>W</td>\n",
       "      <td>W.obs_12_new</td>\n",
       "      <td>NaN</td>\n",
       "      <td>12</td>\n",
       "    </tr>\n",
       "    <tr>\n",
       "      <th>585483</th>\n",
       "      <td>5</td>\n",
       "      <td>2016-04-13</td>\n",
       "      <td>W</td>\n",
       "      <td>W.obs_12_new</td>\n",
       "      <td>NaN</td>\n",
       "      <td>12</td>\n",
       "    </tr>\n",
       "    <tr>\n",
       "      <th>585484</th>\n",
       "      <td>5</td>\n",
       "      <td>2016-04-14</td>\n",
       "      <td>W</td>\n",
       "      <td>W.obs_12_new</td>\n",
       "      <td>NaN</td>\n",
       "      <td>12</td>\n",
       "    </tr>\n",
       "    <tr>\n",
       "      <th>585485</th>\n",
       "      <td>5</td>\n",
       "      <td>2016-04-15</td>\n",
       "      <td>W</td>\n",
       "      <td>W.obs_12_new</td>\n",
       "      <td>NaN</td>\n",
       "      <td>12</td>\n",
       "    </tr>\n",
       "    <tr>\n",
       "      <th>585486</th>\n",
       "      <td>5</td>\n",
       "      <td>2016-04-16</td>\n",
       "      <td>W</td>\n",
       "      <td>W.obs_12_new</td>\n",
       "      <td>NaN</td>\n",
       "      <td>12</td>\n",
       "    </tr>\n",
       "    <tr>\n",
       "      <th>585487</th>\n",
       "      <td>5</td>\n",
       "      <td>2016-04-17</td>\n",
       "      <td>W</td>\n",
       "      <td>W.obs_12_new</td>\n",
       "      <td>NaN</td>\n",
       "      <td>12</td>\n",
       "    </tr>\n",
       "    <tr>\n",
       "      <th>585488</th>\n",
       "      <td>5</td>\n",
       "      <td>2016-04-18</td>\n",
       "      <td>W</td>\n",
       "      <td>W.obs_12_new</td>\n",
       "      <td>NaN</td>\n",
       "      <td>12</td>\n",
       "    </tr>\n",
       "    <tr>\n",
       "      <th>585489</th>\n",
       "      <td>5</td>\n",
       "      <td>2016-04-19</td>\n",
       "      <td>W</td>\n",
       "      <td>W.obs_12_new</td>\n",
       "      <td>NaN</td>\n",
       "      <td>12</td>\n",
       "    </tr>\n",
       "    <tr>\n",
       "      <th>585490</th>\n",
       "      <td>5</td>\n",
       "      <td>2016-04-20</td>\n",
       "      <td>W</td>\n",
       "      <td>W.obs_12_new</td>\n",
       "      <td>NaN</td>\n",
       "      <td>12</td>\n",
       "    </tr>\n",
       "    <tr>\n",
       "      <th>585491</th>\n",
       "      <td>5</td>\n",
       "      <td>2016-04-21</td>\n",
       "      <td>W</td>\n",
       "      <td>W.obs_12_new</td>\n",
       "      <td>NaN</td>\n",
       "      <td>12</td>\n",
       "    </tr>\n",
       "    <tr>\n",
       "      <th>585492</th>\n",
       "      <td>5</td>\n",
       "      <td>2016-04-22</td>\n",
       "      <td>W</td>\n",
       "      <td>W.obs_12_new</td>\n",
       "      <td>NaN</td>\n",
       "      <td>12</td>\n",
       "    </tr>\n",
       "    <tr>\n",
       "      <th>585493</th>\n",
       "      <td>5</td>\n",
       "      <td>2016-04-23</td>\n",
       "      <td>W</td>\n",
       "      <td>W.obs_12_new</td>\n",
       "      <td>NaN</td>\n",
       "      <td>12</td>\n",
       "    </tr>\n",
       "    <tr>\n",
       "      <th>585494</th>\n",
       "      <td>5</td>\n",
       "      <td>2016-04-24</td>\n",
       "      <td>W</td>\n",
       "      <td>W.obs_12_new</td>\n",
       "      <td>NaN</td>\n",
       "      <td>12</td>\n",
       "    </tr>\n",
       "    <tr>\n",
       "      <th>585495</th>\n",
       "      <td>5</td>\n",
       "      <td>2016-04-25</td>\n",
       "      <td>W</td>\n",
       "      <td>W.obs_12_new</td>\n",
       "      <td>NaN</td>\n",
       "      <td>12</td>\n",
       "    </tr>\n",
       "    <tr>\n",
       "      <th>585496</th>\n",
       "      <td>5</td>\n",
       "      <td>2016-04-26</td>\n",
       "      <td>W</td>\n",
       "      <td>W.obs_12_new</td>\n",
       "      <td>NaN</td>\n",
       "      <td>12</td>\n",
       "    </tr>\n",
       "    <tr>\n",
       "      <th>585497</th>\n",
       "      <td>5</td>\n",
       "      <td>2016-04-27</td>\n",
       "      <td>W</td>\n",
       "      <td>W.obs_12_new</td>\n",
       "      <td>NaN</td>\n",
       "      <td>12</td>\n",
       "    </tr>\n",
       "    <tr>\n",
       "      <th>585498</th>\n",
       "      <td>5</td>\n",
       "      <td>2016-04-28</td>\n",
       "      <td>W</td>\n",
       "      <td>W.obs_12_new</td>\n",
       "      <td>NaN</td>\n",
       "      <td>12</td>\n",
       "    </tr>\n",
       "    <tr>\n",
       "      <th>585499</th>\n",
       "      <td>5</td>\n",
       "      <td>2016-04-29</td>\n",
       "      <td>W</td>\n",
       "      <td>W.obs_12_new</td>\n",
       "      <td>NaN</td>\n",
       "      <td>12</td>\n",
       "    </tr>\n",
       "    <tr>\n",
       "      <th>585500</th>\n",
       "      <td>5</td>\n",
       "      <td>2016-04-30</td>\n",
       "      <td>W</td>\n",
       "      <td>W.obs_12_new</td>\n",
       "      <td>NaN</td>\n",
       "      <td>12</td>\n",
       "    </tr>\n",
       "    <tr>\n",
       "      <th>585501</th>\n",
       "      <td>5</td>\n",
       "      <td>2016-05-01</td>\n",
       "      <td>W</td>\n",
       "      <td>W.obs_12_new</td>\n",
       "      <td>NaN</td>\n",
       "      <td>12</td>\n",
       "    </tr>\n",
       "    <tr>\n",
       "      <th>585502</th>\n",
       "      <td>5</td>\n",
       "      <td>2016-05-02</td>\n",
       "      <td>W</td>\n",
       "      <td>W.obs_12_new</td>\n",
       "      <td>NaN</td>\n",
       "      <td>12</td>\n",
       "    </tr>\n",
       "    <tr>\n",
       "      <th>585503</th>\n",
       "      <td>5</td>\n",
       "      <td>2016-05-03</td>\n",
       "      <td>W</td>\n",
       "      <td>W.obs_12_new</td>\n",
       "      <td>NaN</td>\n",
       "      <td>12</td>\n",
       "    </tr>\n",
       "  </tbody>\n",
       "</table>\n",
       "<p>2168614 rows × 6 columns</p>\n",
       "</div>"
      ],
      "text/plain": [
       "        Depth       Date Field Sensor_Full_Name  Soil_Moisture  Sensor Number\n",
       "0           1 2011-10-29   AES               A1       0.264665              1\n",
       "1           1 2011-10-30   AES               A1       0.264987              1\n",
       "2           1 2011-10-31   AES               A1       0.264665              1\n",
       "3           1 2011-11-01   AES               A1       0.264987              1\n",
       "4           1 2011-11-02   AES               A1       0.264342              1\n",
       "5           1 2011-11-03   AES               A1       0.263050              1\n",
       "6           1 2011-11-04   AES               A1       0.262402              1\n",
       "7           1 2011-11-05   AES               A1       0.261753              1\n",
       "8           1 2011-11-06   AES               A1       0.260778              1\n",
       "9           1 2011-11-07   AES               A1       0.260126              1\n",
       "10          1 2011-11-08   AES               A1       0.259145              1\n",
       "11          1 2011-11-09   AES               A1       0.259472              1\n",
       "12          1 2011-11-10   AES               A1       0.259145              1\n",
       "13          1 2011-11-11   AES               A1       0.259145              1\n",
       "14          1 2011-11-12   AES               A1       0.259145              1\n",
       "15          1 2011-11-13   AES               A1       0.258163              1\n",
       "16          1 2011-11-14   AES               A1       0.257506              1\n",
       "17          1 2011-11-15   AES               A1       0.257506              1\n",
       "18          1 2011-11-16   AES               A1       0.255859              1\n",
       "19          1 2011-11-17   AES               A1       0.254867              1\n",
       "20          1 2011-11-18   AES               A1       0.254867              1\n",
       "21          1 2011-11-19   AES               A1       0.254536              1\n",
       "22          1 2011-11-20   AES               A1       0.253873              1\n",
       "23          1 2011-11-21   AES               A1       0.253873              1\n",
       "24          1 2011-11-22   AES               A1       0.253541              1\n",
       "25          1 2011-11-23   AES               A1       0.275450              1\n",
       "26          1 2011-11-24   AES               A1       0.276074              1\n",
       "27          1 2011-11-25   AES               A1       0.275138              1\n",
       "28          1 2011-11-26   AES               A1       0.275762              1\n",
       "29          1 2011-11-27   AES               A1       0.274199              1\n",
       "...       ...        ...   ...              ...            ...            ...\n",
       "585474      5 2016-04-04     W     W.obs_12_new            NaN             12\n",
       "585475      5 2016-04-05     W     W.obs_12_new            NaN             12\n",
       "585476      5 2016-04-06     W     W.obs_12_new            NaN             12\n",
       "585477      5 2016-04-07     W     W.obs_12_new            NaN             12\n",
       "585478      5 2016-04-08     W     W.obs_12_new            NaN             12\n",
       "585479      5 2016-04-09     W     W.obs_12_new            NaN             12\n",
       "585480      5 2016-04-10     W     W.obs_12_new            NaN             12\n",
       "585481      5 2016-04-11     W     W.obs_12_new            NaN             12\n",
       "585482      5 2016-04-12     W     W.obs_12_new            NaN             12\n",
       "585483      5 2016-04-13     W     W.obs_12_new            NaN             12\n",
       "585484      5 2016-04-14     W     W.obs_12_new            NaN             12\n",
       "585485      5 2016-04-15     W     W.obs_12_new            NaN             12\n",
       "585486      5 2016-04-16     W     W.obs_12_new            NaN             12\n",
       "585487      5 2016-04-17     W     W.obs_12_new            NaN             12\n",
       "585488      5 2016-04-18     W     W.obs_12_new            NaN             12\n",
       "585489      5 2016-04-19     W     W.obs_12_new            NaN             12\n",
       "585490      5 2016-04-20     W     W.obs_12_new            NaN             12\n",
       "585491      5 2016-04-21     W     W.obs_12_new            NaN             12\n",
       "585492      5 2016-04-22     W     W.obs_12_new            NaN             12\n",
       "585493      5 2016-04-23     W     W.obs_12_new            NaN             12\n",
       "585494      5 2016-04-24     W     W.obs_12_new            NaN             12\n",
       "585495      5 2016-04-25     W     W.obs_12_new            NaN             12\n",
       "585496      5 2016-04-26     W     W.obs_12_new            NaN             12\n",
       "585497      5 2016-04-27     W     W.obs_12_new            NaN             12\n",
       "585498      5 2016-04-28     W     W.obs_12_new            NaN             12\n",
       "585499      5 2016-04-29     W     W.obs_12_new            NaN             12\n",
       "585500      5 2016-04-30     W     W.obs_12_new            NaN             12\n",
       "585501      5 2016-05-01     W     W.obs_12_new            NaN             12\n",
       "585502      5 2016-05-02     W     W.obs_12_new            NaN             12\n",
       "585503      5 2016-05-03     W     W.obs_12_new            NaN             12\n",
       "\n",
       "[2168614 rows x 6 columns]"
      ]
     },
     "execution_count": 50,
     "metadata": {},
     "output_type": "execute_result"
    }
   ],
   "source": [
    "data_all"
   ]
  },
  {
   "cell_type": "code",
   "execution_count": null,
   "metadata": {},
   "outputs": [],
   "source": []
  },
  {
   "cell_type": "code",
   "execution_count": null,
   "metadata": {},
   "outputs": [],
   "source": []
  },
  {
   "cell_type": "code",
   "execution_count": null,
   "metadata": {},
   "outputs": [],
   "source": []
  },
  {
   "cell_type": "code",
   "execution_count": null,
   "metadata": {},
   "outputs": [],
   "source": []
  },
  {
   "cell_type": "code",
   "execution_count": null,
   "metadata": {},
   "outputs": [],
   "source": []
  },
  {
   "cell_type": "markdown",
   "metadata": {},
   "source": [
    "#### Wolff"
   ]
  },
  {
   "cell_type": "code",
   "execution_count": 24,
   "metadata": {},
   "outputs": [],
   "source": [
    "data_w = pd.read_excel(\"./decagon-soilmoisture/Wolff_Decagon_Corrections_FINAL.xlsx\", sheetname = 'Data', skiprows = 0, header = 1, usecols = range(76))"
   ]
  },
  {
   "cell_type": "markdown",
   "metadata": {},
   "source": [
    "Note: Use of \"Date\" instead of \"Date-Time\""
   ]
  },
  {
   "cell_type": "code",
   "execution_count": 25,
   "metadata": {},
   "outputs": [],
   "source": [
    "data_w = data_w.drop(labels = [\"Week\", \"Year\"], axis = 1)"
   ]
  },
  {
   "cell_type": "code",
   "execution_count": 26,
   "metadata": {},
   "outputs": [],
   "source": [
    "data_w[\"Field\"] = \"W\""
   ]
  },
  {
   "cell_type": "code",
   "execution_count": 27,
   "metadata": {},
   "outputs": [],
   "source": [
    "data_w = pd.melt(data_w, id_vars=['Depth', 'Date', 'Field'], var_name='Sensor_Full_Name', value_name='Soil_Moisture')"
   ]
  },
  {
   "cell_type": "code",
   "execution_count": 28,
   "metadata": {},
   "outputs": [],
   "source": [
    "data_w['Sensor Number'] = data_w['Sensor_Full_Name'].str.strip()"
   ]
  },
  {
   "cell_type": "code",
   "execution_count": 29,
   "metadata": {},
   "outputs": [
    {
     "name": "stderr",
     "output_type": "stream",
     "text": [
      "C:\\Users\\Samir\\Anaconda3\\lib\\site-packages\\ipykernel\\__main__.py:1: FutureWarning: currently extract(expand=None) means expand=False (return Index/Series/DataFrame) but in a future version of pandas this will be changed to expand=True (return DataFrame)\n",
      "  if __name__ == '__main__':\n"
     ]
    }
   ],
   "source": [
    "data_w['Sensor Number'] = data_w['Sensor Number'].str.extract('(\\d+)').astype(int)"
   ]
  },
  {
   "cell_type": "code",
   "execution_count": 30,
   "metadata": {},
   "outputs": [
    {
     "data": {
      "text/html": [
       "<div>\n",
       "<table border=\"1\" class=\"dataframe\">\n",
       "  <thead>\n",
       "    <tr style=\"text-align: right;\">\n",
       "      <th></th>\n",
       "      <th>Depth</th>\n",
       "      <th>Date</th>\n",
       "      <th>Field</th>\n",
       "      <th>Sensor_Full_Name</th>\n",
       "      <th>Soil_Moisture</th>\n",
       "      <th>Sensor Number</th>\n",
       "    </tr>\n",
       "  </thead>\n",
       "  <tbody>\n",
       "    <tr>\n",
       "      <th>0</th>\n",
       "      <td>1</td>\n",
       "      <td>2011-11-22</td>\n",
       "      <td>W</td>\n",
       "      <td>W1</td>\n",
       "      <td>0.241346</td>\n",
       "      <td>1</td>\n",
       "    </tr>\n",
       "    <tr>\n",
       "      <th>1</th>\n",
       "      <td>1</td>\n",
       "      <td>2011-11-23</td>\n",
       "      <td>W</td>\n",
       "      <td>W1</td>\n",
       "      <td>0.232718</td>\n",
       "      <td>1</td>\n",
       "    </tr>\n",
       "    <tr>\n",
       "      <th>2</th>\n",
       "      <td>1</td>\n",
       "      <td>2011-11-24</td>\n",
       "      <td>W</td>\n",
       "      <td>W1</td>\n",
       "      <td>0.242795</td>\n",
       "      <td>1</td>\n",
       "    </tr>\n",
       "    <tr>\n",
       "      <th>3</th>\n",
       "      <td>1</td>\n",
       "      <td>2011-11-25</td>\n",
       "      <td>W</td>\n",
       "      <td>W1</td>\n",
       "      <td>0.247554</td>\n",
       "      <td>1</td>\n",
       "    </tr>\n",
       "    <tr>\n",
       "      <th>4</th>\n",
       "      <td>1</td>\n",
       "      <td>2011-11-26</td>\n",
       "      <td>W</td>\n",
       "      <td>W1</td>\n",
       "      <td>0.237257</td>\n",
       "      <td>1</td>\n",
       "    </tr>\n",
       "  </tbody>\n",
       "</table>\n",
       "</div>"
      ],
      "text/plain": [
       "   Depth       Date Field Sensor_Full_Name  Soil_Moisture  Sensor Number\n",
       "0      1 2011-11-22     W               W1       0.241346              1\n",
       "1      1 2011-11-23     W               W1       0.232718              1\n",
       "2      1 2011-11-24     W               W1       0.242795              1\n",
       "3      1 2011-11-25     W               W1       0.247554              1\n",
       "4      1 2011-11-26     W               W1       0.237257              1"
      ]
     },
     "execution_count": 30,
     "metadata": {},
     "output_type": "execute_result"
    }
   ],
   "source": [
    "data_w.head(5)"
   ]
  },
  {
   "cell_type": "code",
   "execution_count": null,
   "metadata": {},
   "outputs": [],
   "source": []
  },
  {
   "cell_type": "markdown",
   "metadata": {},
   "source": [
    "#### Concatenating Field Site DataFrames"
   ]
  },
  {
   "cell_type": "code",
   "execution_count": 31,
   "metadata": {},
   "outputs": [],
   "source": [
    "frames = [data_aes, data_j, data_od, data_w]"
   ]
  },
  {
   "cell_type": "code",
   "execution_count": 129,
   "metadata": {},
   "outputs": [],
   "source": [
    "data_all = pd.concat(frames)"
   ]
  },
  {
   "cell_type": "markdown",
   "metadata": {},
   "source": [
    "Renaming Columns"
   ]
  },
  {
   "cell_type": "code",
   "execution_count": 133,
   "metadata": {},
   "outputs": [],
   "source": [
    "data_all = data_all.rename(columns = {'Depth':'depth','Date':'date','Field':'field','Sensor_Full_Name':'sensor_full_name','Soil_Moisture':'soil moisture','Sensor Number':'sensor number'})"
   ]
  },
  {
   "cell_type": "markdown",
   "metadata": {},
   "source": [
    "#### Pivoting Data by Depth (widening)"
   ]
  },
  {
   "cell_type": "code",
   "execution_count": 134,
   "metadata": {
    "scrolled": false
   },
   "outputs": [],
   "source": [
    "data_all = data_all.reset_index()"
   ]
  },
  {
   "cell_type": "code",
   "execution_count": 135,
   "metadata": {},
   "outputs": [
    {
     "data": {
      "text/html": [
       "<div>\n",
       "<table border=\"1\" class=\"dataframe\">\n",
       "  <thead>\n",
       "    <tr style=\"text-align: right;\">\n",
       "      <th></th>\n",
       "      <th>index</th>\n",
       "      <th>depth</th>\n",
       "      <th>date</th>\n",
       "      <th>field</th>\n",
       "      <th>sensor_full_name</th>\n",
       "      <th>soil moisture</th>\n",
       "      <th>sensor number</th>\n",
       "    </tr>\n",
       "  </thead>\n",
       "  <tbody>\n",
       "    <tr>\n",
       "      <th>2168609</th>\n",
       "      <td>585499</td>\n",
       "      <td>5</td>\n",
       "      <td>2016-04-29</td>\n",
       "      <td>W</td>\n",
       "      <td>W.obs_12_new</td>\n",
       "      <td>NaN</td>\n",
       "      <td>12</td>\n",
       "    </tr>\n",
       "    <tr>\n",
       "      <th>2168610</th>\n",
       "      <td>585500</td>\n",
       "      <td>5</td>\n",
       "      <td>2016-04-30</td>\n",
       "      <td>W</td>\n",
       "      <td>W.obs_12_new</td>\n",
       "      <td>NaN</td>\n",
       "      <td>12</td>\n",
       "    </tr>\n",
       "    <tr>\n",
       "      <th>2168611</th>\n",
       "      <td>585501</td>\n",
       "      <td>5</td>\n",
       "      <td>2016-05-01</td>\n",
       "      <td>W</td>\n",
       "      <td>W.obs_12_new</td>\n",
       "      <td>NaN</td>\n",
       "      <td>12</td>\n",
       "    </tr>\n",
       "    <tr>\n",
       "      <th>2168612</th>\n",
       "      <td>585502</td>\n",
       "      <td>5</td>\n",
       "      <td>2016-05-02</td>\n",
       "      <td>W</td>\n",
       "      <td>W.obs_12_new</td>\n",
       "      <td>NaN</td>\n",
       "      <td>12</td>\n",
       "    </tr>\n",
       "    <tr>\n",
       "      <th>2168613</th>\n",
       "      <td>585503</td>\n",
       "      <td>5</td>\n",
       "      <td>2016-05-03</td>\n",
       "      <td>W</td>\n",
       "      <td>W.obs_12_new</td>\n",
       "      <td>NaN</td>\n",
       "      <td>12</td>\n",
       "    </tr>\n",
       "  </tbody>\n",
       "</table>\n",
       "</div>"
      ],
      "text/plain": [
       "          index  depth       date field sensor_full_name  soil moisture  \\\n",
       "2168609  585499      5 2016-04-29     W     W.obs_12_new            NaN   \n",
       "2168610  585500      5 2016-04-30     W     W.obs_12_new            NaN   \n",
       "2168611  585501      5 2016-05-01     W     W.obs_12_new            NaN   \n",
       "2168612  585502      5 2016-05-02     W     W.obs_12_new            NaN   \n",
       "2168613  585503      5 2016-05-03     W     W.obs_12_new            NaN   \n",
       "\n",
       "         sensor number  \n",
       "2168609             12  \n",
       "2168610             12  \n",
       "2168611             12  \n",
       "2168612             12  \n",
       "2168613             12  "
      ]
     },
     "execution_count": 135,
     "metadata": {},
     "output_type": "execute_result"
    }
   ],
   "source": [
    "data_all.tail(5)"
   ]
  },
  {
   "cell_type": "code",
   "execution_count": 136,
   "metadata": {},
   "outputs": [],
   "source": [
    "temp_pivot = data_all.pivot(columns = \"depth\", values = \"soil moisture\")"
   ]
  },
  {
   "cell_type": "code",
   "execution_count": 137,
   "metadata": {},
   "outputs": [],
   "source": [
    "data_all2 = data_all.join(temp_pivot)"
   ]
  },
  {
   "cell_type": "code",
   "execution_count": 138,
   "metadata": {},
   "outputs": [],
   "source": [
    "data_all2 = data_all2.drop(labels = [\"depth\", \"soil moisture\", \"index\"], axis = 1)"
   ]
  },
  {
   "cell_type": "code",
   "execution_count": 139,
   "metadata": {},
   "outputs": [],
   "source": [
    "data_all2 = data_all2.rename(columns = {1:'depth_1', \n",
    "                                        2:'depth_2',\n",
    "                                        3:'depth_3',\n",
    "                                        4:'depth_4',\n",
    "                                        5:'depth_5'})"
   ]
  },
  {
   "cell_type": "code",
   "execution_count": 140,
   "metadata": {},
   "outputs": [
    {
     "data": {
      "text/html": [
       "<div>\n",
       "<table border=\"1\" class=\"dataframe\">\n",
       "  <thead>\n",
       "    <tr style=\"text-align: right;\">\n",
       "      <th></th>\n",
       "      <th>date</th>\n",
       "      <th>field</th>\n",
       "      <th>sensor_full_name</th>\n",
       "      <th>sensor number</th>\n",
       "      <th>depth_1</th>\n",
       "      <th>depth_2</th>\n",
       "      <th>depth_3</th>\n",
       "      <th>depth_4</th>\n",
       "      <th>depth_5</th>\n",
       "    </tr>\n",
       "  </thead>\n",
       "  <tbody>\n",
       "    <tr>\n",
       "      <th>0</th>\n",
       "      <td>2011-10-29</td>\n",
       "      <td>AES</td>\n",
       "      <td>A1</td>\n",
       "      <td>1</td>\n",
       "      <td>0.264665</td>\n",
       "      <td>NaN</td>\n",
       "      <td>NaN</td>\n",
       "      <td>NaN</td>\n",
       "      <td>NaN</td>\n",
       "    </tr>\n",
       "    <tr>\n",
       "      <th>1</th>\n",
       "      <td>2011-10-30</td>\n",
       "      <td>AES</td>\n",
       "      <td>A1</td>\n",
       "      <td>1</td>\n",
       "      <td>0.264987</td>\n",
       "      <td>NaN</td>\n",
       "      <td>NaN</td>\n",
       "      <td>NaN</td>\n",
       "      <td>NaN</td>\n",
       "    </tr>\n",
       "    <tr>\n",
       "      <th>2</th>\n",
       "      <td>2011-10-31</td>\n",
       "      <td>AES</td>\n",
       "      <td>A1</td>\n",
       "      <td>1</td>\n",
       "      <td>0.264665</td>\n",
       "      <td>NaN</td>\n",
       "      <td>NaN</td>\n",
       "      <td>NaN</td>\n",
       "      <td>NaN</td>\n",
       "    </tr>\n",
       "    <tr>\n",
       "      <th>3</th>\n",
       "      <td>2011-11-01</td>\n",
       "      <td>AES</td>\n",
       "      <td>A1</td>\n",
       "      <td>1</td>\n",
       "      <td>0.264987</td>\n",
       "      <td>NaN</td>\n",
       "      <td>NaN</td>\n",
       "      <td>NaN</td>\n",
       "      <td>NaN</td>\n",
       "    </tr>\n",
       "    <tr>\n",
       "      <th>4</th>\n",
       "      <td>2011-11-02</td>\n",
       "      <td>AES</td>\n",
       "      <td>A1</td>\n",
       "      <td>1</td>\n",
       "      <td>0.264342</td>\n",
       "      <td>NaN</td>\n",
       "      <td>NaN</td>\n",
       "      <td>NaN</td>\n",
       "      <td>NaN</td>\n",
       "    </tr>\n",
       "  </tbody>\n",
       "</table>\n",
       "</div>"
      ],
      "text/plain": [
       "        date field sensor_full_name  sensor number   depth_1  depth_2  \\\n",
       "0 2011-10-29   AES               A1              1  0.264665      NaN   \n",
       "1 2011-10-30   AES               A1              1  0.264987      NaN   \n",
       "2 2011-10-31   AES               A1              1  0.264665      NaN   \n",
       "3 2011-11-01   AES               A1              1  0.264987      NaN   \n",
       "4 2011-11-02   AES               A1              1  0.264342      NaN   \n",
       "\n",
       "   depth_3  depth_4  depth_5  \n",
       "0      NaN      NaN      NaN  \n",
       "1      NaN      NaN      NaN  \n",
       "2      NaN      NaN      NaN  \n",
       "3      NaN      NaN      NaN  \n",
       "4      NaN      NaN      NaN  "
      ]
     },
     "execution_count": 140,
     "metadata": {},
     "output_type": "execute_result"
    }
   ],
   "source": [
    "data_all2.head(5)"
   ]
  },
  {
   "cell_type": "code",
   "execution_count": null,
   "metadata": {},
   "outputs": [],
   "source": []
  },
  {
   "cell_type": "markdown",
   "metadata": {},
   "source": [
    "#### Saving Output Data for each to CSV"
   ]
  },
  {
   "cell_type": "code",
   "execution_count": 145,
   "metadata": {},
   "outputs": [],
   "source": [
    "data_all2.to_csv('./output_data/soil_moisture.csv', index=False)"
   ]
  }
 ],
 "metadata": {
  "kernelspec": {
   "display_name": "Python 3",
   "language": "python",
   "name": "python3"
  },
  "language_info": {
   "codemirror_mode": {
    "name": "ipython",
    "version": 3
   },
   "file_extension": ".py",
   "mimetype": "text/x-python",
   "name": "python",
   "nbconvert_exporter": "python",
   "pygments_lexer": "ipython3",
   "version": "3.6.0"
  }
 },
 "nbformat": 4,
 "nbformat_minor": 2
}
