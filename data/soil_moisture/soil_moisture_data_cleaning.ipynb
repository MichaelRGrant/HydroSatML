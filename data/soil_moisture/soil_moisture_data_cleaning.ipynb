{
 "cells": [
  {
   "cell_type": "markdown",
   "metadata": {},
   "source": [
    "### Soil Moisture Data Cleaning\n",
    "\n",
    "Rev0\n",
    "\n",
    "Samir D. Patel\n",
    "\n",
    "1/2/2018"
   ]
  },
  {
   "cell_type": "markdown",
   "metadata": {},
   "source": [
    " "
   ]
  },
  {
   "cell_type": "markdown",
   "metadata": {},
   "source": [
    "This notebook takes the \"_Decagaon_Corrections\" Excel data for soil moisture across each of the four field sites (Aeschliman, Jones, OD and Wolff) and imports/cleans/exports the relevant moisture data in CSV format."
   ]
  },
  {
   "cell_type": "code",
   "execution_count": 1,
   "metadata": {},
   "outputs": [],
   "source": [
    "import pandas as pd"
   ]
  },
  {
   "cell_type": "markdown",
   "metadata": {},
   "source": [
    " "
   ]
  },
  {
   "cell_type": "markdown",
   "metadata": {},
   "source": [
    "#### Aeschliman"
   ]
  },
  {
   "cell_type": "markdown",
   "metadata": {},
   "source": [
    "Import of data from Excel sheet to Pandas.  Location of file currently set locally, will need change."
   ]
  },
  {
   "cell_type": "code",
   "execution_count": 47,
   "metadata": {},
   "outputs": [],
   "source": [
    "data_aes= pd.read_excel(\"./decagon-soilmoisture/Aeschliman_Decagon_corrections_FINAL.xlsx\", sheetname = 'Data', skiprows = 0, usecols=range(36), header = 1)"
   ]
  },
  {
   "cell_type": "code",
   "execution_count": 48,
   "metadata": {},
   "outputs": [],
   "source": [
    "data_aes = data_aes.rename(columns = {'Date-Time':'Date'})"
   ]
  },
  {
   "cell_type": "code",
   "execution_count": 49,
   "metadata": {},
   "outputs": [],
   "source": [
    "data_aes[\"Field\"] = \"AES\""
   ]
  },
  {
   "cell_type": "code",
   "execution_count": 50,
   "metadata": {},
   "outputs": [],
   "source": [
    "data_aes = pd.melt(data_aes, id_vars=['Depth', 'Date', 'Field'], var_name='Sensor_Full_Name', value_name='Soil_Moisture')"
   ]
  },
  {
   "cell_type": "code",
   "execution_count": 52,
   "metadata": {},
   "outputs": [],
   "source": [
    "data_aes ['Sensor Number'] = data_aes['Sensor_Full_Name'].str.strip()"
   ]
  },
  {
   "cell_type": "code",
   "execution_count": 53,
   "metadata": {},
   "outputs": [
    {
     "name": "stderr",
     "output_type": "stream",
     "text": [
      "C:\\Users\\Samir\\Anaconda3\\lib\\site-packages\\ipykernel\\__main__.py:1: FutureWarning: currently extract(expand=None) means expand=False (return Index/Series/DataFrame) but in a future version of pandas this will be changed to expand=True (return DataFrame)\n",
      "  if __name__ == '__main__':\n"
     ]
    }
   ],
   "source": [
    "data_aes['Sensor Number'] = data_aes['Sensor Number'].str.extract('(\\d+)').astype(int)"
   ]
  },
  {
   "cell_type": "code",
   "execution_count": 55,
   "metadata": {},
   "outputs": [
    {
     "data": {
      "text/html": [
       "<div>\n",
       "<table border=\"1\" class=\"dataframe\">\n",
       "  <thead>\n",
       "    <tr style=\"text-align: right;\">\n",
       "      <th></th>\n",
       "      <th>Depth</th>\n",
       "      <th>Date</th>\n",
       "      <th>Field</th>\n",
       "      <th>Sensor_Full_Name</th>\n",
       "      <th>Soil_Moisture</th>\n",
       "      <th>Sensor Number</th>\n",
       "    </tr>\n",
       "  </thead>\n",
       "  <tbody>\n",
       "    <tr>\n",
       "      <th>305825</th>\n",
       "      <td>5</td>\n",
       "      <td>2016-09-26</td>\n",
       "      <td>AES</td>\n",
       "      <td>A12-C</td>\n",
       "      <td>NaN</td>\n",
       "      <td>12</td>\n",
       "    </tr>\n",
       "    <tr>\n",
       "      <th>305826</th>\n",
       "      <td>5</td>\n",
       "      <td>2016-09-27</td>\n",
       "      <td>AES</td>\n",
       "      <td>A12-C</td>\n",
       "      <td>NaN</td>\n",
       "      <td>12</td>\n",
       "    </tr>\n",
       "    <tr>\n",
       "      <th>305827</th>\n",
       "      <td>5</td>\n",
       "      <td>2016-09-28</td>\n",
       "      <td>AES</td>\n",
       "      <td>A12-C</td>\n",
       "      <td>NaN</td>\n",
       "      <td>12</td>\n",
       "    </tr>\n",
       "    <tr>\n",
       "      <th>305828</th>\n",
       "      <td>5</td>\n",
       "      <td>2016-09-29</td>\n",
       "      <td>AES</td>\n",
       "      <td>A12-C</td>\n",
       "      <td>NaN</td>\n",
       "      <td>12</td>\n",
       "    </tr>\n",
       "    <tr>\n",
       "      <th>305829</th>\n",
       "      <td>5</td>\n",
       "      <td>2016-09-30</td>\n",
       "      <td>AES</td>\n",
       "      <td>A12-C</td>\n",
       "      <td>NaN</td>\n",
       "      <td>12</td>\n",
       "    </tr>\n",
       "  </tbody>\n",
       "</table>\n",
       "</div>"
      ],
      "text/plain": [
       "        Depth       Date Field Sensor_Full_Name  Soil_Moisture  Sensor Number\n",
       "305825      5 2016-09-26   AES            A12-C            NaN             12\n",
       "305826      5 2016-09-27   AES            A12-C            NaN             12\n",
       "305827      5 2016-09-28   AES            A12-C            NaN             12\n",
       "305828      5 2016-09-29   AES            A12-C            NaN             12\n",
       "305829      5 2016-09-30   AES            A12-C            NaN             12"
      ]
     },
     "execution_count": 55,
     "metadata": {},
     "output_type": "execute_result"
    }
   ],
   "source": [
    "data_aes.tail(5)"
   ]
  },
  {
   "cell_type": "markdown",
   "metadata": {},
   "source": [
    " "
   ]
  },
  {
   "cell_type": "markdown",
   "metadata": {},
   "source": [
    "#### Jones"
   ]
  },
  {
   "cell_type": "code",
   "execution_count": 57,
   "metadata": {},
   "outputs": [],
   "source": [
    "data_j= pd.read_excel(\"./decagon-soilmoisture/Jones_Decagon_corrections_FINAL.xlsx\", sheetname = 'Data', usecols=range(76), skiprows = 0, header = 1)"
   ]
  },
  {
   "cell_type": "markdown",
   "metadata": {},
   "source": [
    "Note: Use of \"Date\" instead of \"Date-Time\""
   ]
  },
  {
   "cell_type": "code",
   "execution_count": 58,
   "metadata": {},
   "outputs": [],
   "source": [
    "data_j = data_j.drop(labels = [\"Week\", \"Year\"], axis = 1)"
   ]
  },
  {
   "cell_type": "markdown",
   "metadata": {},
   "source": [
    "Changing \"Date \" column name (removing space at the end) to \"Date\" to match other field sites"
   ]
  },
  {
   "cell_type": "code",
   "execution_count": 59,
   "metadata": {},
   "outputs": [],
   "source": [
    "data_j = data_j.rename(columns = {'Date ':'Date'})"
   ]
  },
  {
   "cell_type": "code",
   "execution_count": 61,
   "metadata": {},
   "outputs": [],
   "source": [
    "data_j[\"Field\"] = \"J\""
   ]
  },
  {
   "cell_type": "code",
   "execution_count": 63,
   "metadata": {},
   "outputs": [],
   "source": [
    "data_j = pd.melt(data_j, id_vars=['Depth', 'Date', 'Field'], var_name='Sensor_Full_Name', value_name='Soil_Moisture')"
   ]
  },
  {
   "cell_type": "code",
   "execution_count": 65,
   "metadata": {},
   "outputs": [],
   "source": [
    "data_j ['Sensor Number'] = data_j['Sensor_Full_Name'].str.strip()"
   ]
  },
  {
   "cell_type": "code",
   "execution_count": 66,
   "metadata": {},
   "outputs": [
    {
     "name": "stderr",
     "output_type": "stream",
     "text": [
      "C:\\Users\\Samir\\Anaconda3\\lib\\site-packages\\ipykernel\\__main__.py:1: FutureWarning: currently extract(expand=None) means expand=False (return Index/Series/DataFrame) but in a future version of pandas this will be changed to expand=True (return DataFrame)\n",
      "  if __name__ == '__main__':\n"
     ]
    }
   ],
   "source": [
    "data_j['Sensor Number'] = data_j['Sensor Number'].str.extract('(\\d+)').astype(int)"
   ]
  },
  {
   "cell_type": "code",
   "execution_count": 68,
   "metadata": {},
   "outputs": [
    {
     "data": {
      "text/html": [
       "<div>\n",
       "<table border=\"1\" class=\"dataframe\">\n",
       "  <thead>\n",
       "    <tr style=\"text-align: right;\">\n",
       "      <th></th>\n",
       "      <th>Depth</th>\n",
       "      <th>Date</th>\n",
       "      <th>Field</th>\n",
       "      <th>Sensor_Full_Name</th>\n",
       "      <th>Soil_Moisture</th>\n",
       "      <th>Sensor Number</th>\n",
       "    </tr>\n",
       "  </thead>\n",
       "  <tbody>\n",
       "    <tr>\n",
       "      <th>642595</th>\n",
       "      <td>5</td>\n",
       "      <td>2016-09-26</td>\n",
       "      <td>J</td>\n",
       "      <td>J12.obs_hand</td>\n",
       "      <td>NaN</td>\n",
       "      <td>12</td>\n",
       "    </tr>\n",
       "    <tr>\n",
       "      <th>642596</th>\n",
       "      <td>5</td>\n",
       "      <td>2016-09-27</td>\n",
       "      <td>J</td>\n",
       "      <td>J12.obs_hand</td>\n",
       "      <td>NaN</td>\n",
       "      <td>12</td>\n",
       "    </tr>\n",
       "    <tr>\n",
       "      <th>642597</th>\n",
       "      <td>5</td>\n",
       "      <td>2016-09-28</td>\n",
       "      <td>J</td>\n",
       "      <td>J12.obs_hand</td>\n",
       "      <td>NaN</td>\n",
       "      <td>12</td>\n",
       "    </tr>\n",
       "    <tr>\n",
       "      <th>642598</th>\n",
       "      <td>5</td>\n",
       "      <td>2016-09-29</td>\n",
       "      <td>J</td>\n",
       "      <td>J12.obs_hand</td>\n",
       "      <td>NaN</td>\n",
       "      <td>12</td>\n",
       "    </tr>\n",
       "    <tr>\n",
       "      <th>642599</th>\n",
       "      <td>5</td>\n",
       "      <td>2016-09-30</td>\n",
       "      <td>J</td>\n",
       "      <td>J12.obs_hand</td>\n",
       "      <td>NaN</td>\n",
       "      <td>12</td>\n",
       "    </tr>\n",
       "  </tbody>\n",
       "</table>\n",
       "</div>"
      ],
      "text/plain": [
       "        Depth       Date Field Sensor_Full_Name  Soil_Moisture  Sensor Number\n",
       "642595      5 2016-09-26     J     J12.obs_hand            NaN             12\n",
       "642596      5 2016-09-27     J     J12.obs_hand            NaN             12\n",
       "642597      5 2016-09-28     J     J12.obs_hand            NaN             12\n",
       "642598      5 2016-09-29     J     J12.obs_hand            NaN             12\n",
       "642599      5 2016-09-30     J     J12.obs_hand            NaN             12"
      ]
     },
     "execution_count": 68,
     "metadata": {},
     "output_type": "execute_result"
    }
   ],
   "source": [
    "data_j.tail(5)"
   ]
  },
  {
   "cell_type": "markdown",
   "metadata": {},
   "source": [
    "#### OD"
   ]
  },
  {
   "cell_type": "code",
   "execution_count": 69,
   "metadata": {},
   "outputs": [],
   "source": [
    "data_od = pd.read_excel(\"./decagon-soilmoisture/OD_Decagon_corrections_FINAL.xlsx\", sheetname = 'Data', skiprows = 0, header = 1, usecols = range(76))"
   ]
  },
  {
   "cell_type": "markdown",
   "metadata": {},
   "source": [
    "Note: Use of \"Date\" instead of \"Date-Time\""
   ]
  },
  {
   "cell_type": "code",
   "execution_count": 70,
   "metadata": {},
   "outputs": [],
   "source": [
    "data_od = data_od.drop(labels = [\"Week\", \"Year\"], axis = 1)"
   ]
  },
  {
   "cell_type": "code",
   "execution_count": 71,
   "metadata": {},
   "outputs": [],
   "source": [
    "data_od[\"Field\"] = \"OD\""
   ]
  },
  {
   "cell_type": "code",
   "execution_count": 72,
   "metadata": {},
   "outputs": [],
   "source": [
    "data_od = pd.melt(data_od, id_vars=['Depth', 'Date', 'Field'], var_name='Sensor_Full_Name', value_name='Soil_Moisture')"
   ]
  },
  {
   "cell_type": "code",
   "execution_count": 74,
   "metadata": {},
   "outputs": [],
   "source": [
    "data_od ['Sensor Number'] = data_od['Sensor_Full_Name'].str.strip()"
   ]
  },
  {
   "cell_type": "code",
   "execution_count": 75,
   "metadata": {},
   "outputs": [
    {
     "name": "stderr",
     "output_type": "stream",
     "text": [
      "C:\\Users\\Samir\\Anaconda3\\lib\\site-packages\\ipykernel\\__main__.py:1: FutureWarning: currently extract(expand=None) means expand=False (return Index/Series/DataFrame) but in a future version of pandas this will be changed to expand=True (return DataFrame)\n",
      "  if __name__ == '__main__':\n"
     ]
    }
   ],
   "source": [
    "data_od['Sensor Number'] = data_od['Sensor Number'].str.extract('(\\d+)').astype(int)"
   ]
  },
  {
   "cell_type": "code",
   "execution_count": 76,
   "metadata": {},
   "outputs": [
    {
     "data": {
      "text/html": [
       "<div>\n",
       "<table border=\"1\" class=\"dataframe\">\n",
       "  <thead>\n",
       "    <tr style=\"text-align: right;\">\n",
       "      <th></th>\n",
       "      <th>Depth</th>\n",
       "      <th>Date</th>\n",
       "      <th>Field</th>\n",
       "      <th>Sensor_Full_Name</th>\n",
       "      <th>Soil_Moisture</th>\n",
       "      <th>Sensor Number</th>\n",
       "    </tr>\n",
       "  </thead>\n",
       "  <tbody>\n",
       "    <tr>\n",
       "      <th>0</th>\n",
       "      <td>1</td>\n",
       "      <td>2011-12-04</td>\n",
       "      <td>OD</td>\n",
       "      <td>OD-1</td>\n",
       "      <td>0.185089</td>\n",
       "      <td>1</td>\n",
       "    </tr>\n",
       "    <tr>\n",
       "      <th>1</th>\n",
       "      <td>1</td>\n",
       "      <td>2011-12-05</td>\n",
       "      <td>OD</td>\n",
       "      <td>OD-1</td>\n",
       "      <td>0.184942</td>\n",
       "      <td>1</td>\n",
       "    </tr>\n",
       "    <tr>\n",
       "      <th>2</th>\n",
       "      <td>1</td>\n",
       "      <td>2011-12-06</td>\n",
       "      <td>OD</td>\n",
       "      <td>OD-1</td>\n",
       "      <td>0.184778</td>\n",
       "      <td>1</td>\n",
       "    </tr>\n",
       "    <tr>\n",
       "      <th>3</th>\n",
       "      <td>1</td>\n",
       "      <td>2011-12-07</td>\n",
       "      <td>OD</td>\n",
       "      <td>OD-1</td>\n",
       "      <td>0.184778</td>\n",
       "      <td>1</td>\n",
       "    </tr>\n",
       "    <tr>\n",
       "      <th>4</th>\n",
       "      <td>1</td>\n",
       "      <td>2011-12-08</td>\n",
       "      <td>OD</td>\n",
       "      <td>OD-1</td>\n",
       "      <td>0.184581</td>\n",
       "      <td>1</td>\n",
       "    </tr>\n",
       "  </tbody>\n",
       "</table>\n",
       "</div>"
      ],
      "text/plain": [
       "   Depth       Date Field Sensor_Full_Name  Soil_Moisture  Sensor Number\n",
       "0      1 2011-12-04    OD             OD-1       0.185089              1\n",
       "1      1 2011-12-05    OD             OD-1       0.184942              1\n",
       "2      1 2011-12-06    OD             OD-1       0.184778              1\n",
       "3      1 2011-12-07    OD             OD-1       0.184778              1\n",
       "4      1 2011-12-08    OD             OD-1       0.184581              1"
      ]
     },
     "execution_count": 76,
     "metadata": {},
     "output_type": "execute_result"
    }
   ],
   "source": [
    "data_od.head(5)"
   ]
  },
  {
   "cell_type": "code",
   "execution_count": null,
   "metadata": {},
   "outputs": [],
   "source": []
  },
  {
   "cell_type": "markdown",
   "metadata": {},
   "source": [
    "#### Wolff"
   ]
  },
  {
   "cell_type": "code",
   "execution_count": 78,
   "metadata": {},
   "outputs": [],
   "source": [
    "data_w = pd.read_excel(\"./decagon-soilmoisture/Wolff_Decagon_Corrections_FINAL.xlsx\", sheetname = 'Data', skiprows = 0, header = 1, usecols = range(76))"
   ]
  },
  {
   "cell_type": "markdown",
   "metadata": {},
   "source": [
    "Note: Use of \"Date\" instead of \"Date-Time\""
   ]
  },
  {
   "cell_type": "code",
   "execution_count": 79,
   "metadata": {},
   "outputs": [],
   "source": [
    "data_w = data_w.drop(labels = [\"Week\", \"Year\"], axis = 1)"
   ]
  },
  {
   "cell_type": "code",
   "execution_count": 80,
   "metadata": {},
   "outputs": [],
   "source": [
    "data_w[\"Field\"] = \"W\""
   ]
  },
  {
   "cell_type": "code",
   "execution_count": 81,
   "metadata": {},
   "outputs": [],
   "source": [
    "data_w = pd.melt(data_w, id_vars=['Depth', 'Date', 'Field'], var_name='Sensor_Full_Name', value_name='Soil_Moisture')"
   ]
  },
  {
   "cell_type": "code",
   "execution_count": 83,
   "metadata": {},
   "outputs": [],
   "source": [
    "data_w['Sensor Number'] = data_w['Sensor_Full_Name'].str.strip()"
   ]
  },
  {
   "cell_type": "code",
   "execution_count": 84,
   "metadata": {},
   "outputs": [
    {
     "name": "stderr",
     "output_type": "stream",
     "text": [
      "C:\\Users\\Samir\\Anaconda3\\lib\\site-packages\\ipykernel\\__main__.py:1: FutureWarning: currently extract(expand=None) means expand=False (return Index/Series/DataFrame) but in a future version of pandas this will be changed to expand=True (return DataFrame)\n",
      "  if __name__ == '__main__':\n"
     ]
    }
   ],
   "source": [
    "data_w['Sensor Number'] = data_w['Sensor Number'].str.extract('(\\d+)').astype(int)"
   ]
  },
  {
   "cell_type": "code",
   "execution_count": 85,
   "metadata": {},
   "outputs": [
    {
     "data": {
      "text/html": [
       "<div>\n",
       "<table border=\"1\" class=\"dataframe\">\n",
       "  <thead>\n",
       "    <tr style=\"text-align: right;\">\n",
       "      <th></th>\n",
       "      <th>Depth</th>\n",
       "      <th>Date</th>\n",
       "      <th>Field</th>\n",
       "      <th>Sensor_Full_Name</th>\n",
       "      <th>Soil_Moisture</th>\n",
       "      <th>Sensor Number</th>\n",
       "    </tr>\n",
       "  </thead>\n",
       "  <tbody>\n",
       "    <tr>\n",
       "      <th>0</th>\n",
       "      <td>1</td>\n",
       "      <td>2011-11-22</td>\n",
       "      <td>W</td>\n",
       "      <td>W1</td>\n",
       "      <td>0.241346</td>\n",
       "      <td>1</td>\n",
       "    </tr>\n",
       "    <tr>\n",
       "      <th>1</th>\n",
       "      <td>1</td>\n",
       "      <td>2011-11-23</td>\n",
       "      <td>W</td>\n",
       "      <td>W1</td>\n",
       "      <td>0.232718</td>\n",
       "      <td>1</td>\n",
       "    </tr>\n",
       "    <tr>\n",
       "      <th>2</th>\n",
       "      <td>1</td>\n",
       "      <td>2011-11-24</td>\n",
       "      <td>W</td>\n",
       "      <td>W1</td>\n",
       "      <td>0.242795</td>\n",
       "      <td>1</td>\n",
       "    </tr>\n",
       "    <tr>\n",
       "      <th>3</th>\n",
       "      <td>1</td>\n",
       "      <td>2011-11-25</td>\n",
       "      <td>W</td>\n",
       "      <td>W1</td>\n",
       "      <td>0.247554</td>\n",
       "      <td>1</td>\n",
       "    </tr>\n",
       "    <tr>\n",
       "      <th>4</th>\n",
       "      <td>1</td>\n",
       "      <td>2011-11-26</td>\n",
       "      <td>W</td>\n",
       "      <td>W1</td>\n",
       "      <td>0.237257</td>\n",
       "      <td>1</td>\n",
       "    </tr>\n",
       "  </tbody>\n",
       "</table>\n",
       "</div>"
      ],
      "text/plain": [
       "   Depth       Date Field Sensor_Full_Name  Soil_Moisture  Sensor Number\n",
       "0      1 2011-11-22     W               W1       0.241346              1\n",
       "1      1 2011-11-23     W               W1       0.232718              1\n",
       "2      1 2011-11-24     W               W1       0.242795              1\n",
       "3      1 2011-11-25     W               W1       0.247554              1\n",
       "4      1 2011-11-26     W               W1       0.237257              1"
      ]
     },
     "execution_count": 85,
     "metadata": {},
     "output_type": "execute_result"
    }
   ],
   "source": [
    "data_w.head(5)"
   ]
  },
  {
   "cell_type": "code",
   "execution_count": 90,
   "metadata": {},
   "outputs": [],
   "source": [
    "frames = [data_aes, data_j, data_od, data_w]"
   ]
  },
  {
   "cell_type": "code",
   "execution_count": 93,
   "metadata": {},
   "outputs": [],
   "source": [
    "data_all = pd.concat(frames)"
   ]
  },
  {
   "cell_type": "markdown",
   "metadata": {},
   "source": [
    "Saving Output Data for each to CSV"
   ]
  },
  {
   "cell_type": "code",
   "execution_count": 86,
   "metadata": {},
   "outputs": [
    {
     "data": {
      "text/plain": [
       "(305830, 6)"
      ]
     },
     "execution_count": 86,
     "metadata": {},
     "output_type": "execute_result"
    }
   ],
   "source": [
    "data_aes.shape"
   ]
  },
  {
   "cell_type": "code",
   "execution_count": 87,
   "metadata": {},
   "outputs": [
    {
     "data": {
      "text/plain": [
       "(642600, 6)"
      ]
     },
     "execution_count": 87,
     "metadata": {},
     "output_type": "execute_result"
    }
   ],
   "source": [
    "data_j.shape"
   ]
  },
  {
   "cell_type": "code",
   "execution_count": 88,
   "metadata": {},
   "outputs": [
    {
     "data": {
      "text/plain": [
       "(634680, 6)"
      ]
     },
     "execution_count": 88,
     "metadata": {},
     "output_type": "execute_result"
    }
   ],
   "source": [
    "data_od.shape"
   ]
  },
  {
   "cell_type": "code",
   "execution_count": 89,
   "metadata": {},
   "outputs": [
    {
     "data": {
      "text/plain": [
       "(585504, 6)"
      ]
     },
     "execution_count": 89,
     "metadata": {},
     "output_type": "execute_result"
    }
   ],
   "source": [
    "data_w.shape"
   ]
  },
  {
   "cell_type": "code",
   "execution_count": 94,
   "metadata": {},
   "outputs": [
    {
     "data": {
      "text/plain": [
       "(2168614, 6)"
      ]
     },
     "execution_count": 94,
     "metadata": {},
     "output_type": "execute_result"
    }
   ],
   "source": [
    "data_all.shape"
   ]
  },
  {
   "cell_type": "code",
   "execution_count": 96,
   "metadata": {},
   "outputs": [],
   "source": [
    "data_all.to_csv('./output_data/soil_moisture.csv', index=False)"
   ]
  },
  {
   "cell_type": "code",
   "execution_count": null,
   "metadata": {},
   "outputs": [],
   "source": []
  },
  {
   "cell_type": "code",
   "execution_count": null,
   "metadata": {},
   "outputs": [],
   "source": []
  },
  {
   "cell_type": "code",
   "execution_count": null,
   "metadata": {},
   "outputs": [],
   "source": []
  },
  {
   "cell_type": "code",
   "execution_count": null,
   "metadata": {},
   "outputs": [],
   "source": []
  }
 ],
 "metadata": {
  "kernelspec": {
   "display_name": "Python 3",
   "language": "python",
   "name": "python3"
  },
  "language_info": {
   "codemirror_mode": {
    "name": "ipython",
    "version": 3
   },
   "file_extension": ".py",
   "mimetype": "text/x-python",
   "name": "python",
   "nbconvert_exporter": "python",
   "pygments_lexer": "ipython3",
   "version": "3.6.0"
  }
 },
 "nbformat": 4,
 "nbformat_minor": 2
}
